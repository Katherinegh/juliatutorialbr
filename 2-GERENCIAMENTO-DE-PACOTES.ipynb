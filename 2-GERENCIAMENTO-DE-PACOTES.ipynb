{
 "cells": [
  {
   "cell_type": "markdown",
   "metadata": {},
   "source": [
    "# GERENCIAMENTO DE PACOTES"
   ]
  },
  {
   "cell_type": "markdown",
   "metadata": {},
   "source": [
    "### LISTANTO PACOTES INSTALADOS"
   ]
  },
  {
   "cell_type": "code",
   "execution_count": 26,
   "metadata": {
    "collapsed": false,
    "scrolled": true
   },
   "outputs": [
    {
     "data": {
      "text/plain": [
       "Dict{ASCIIString,VersionNumber} with 69 entries:\n",
       "  \"Interact\"          => v\"0.3.1\"\n",
       "  \"ForwardDiff\"       => v\"0.1.6\"\n",
       "  \"AxisAlgorithms\"    => v\"0.1.4\"\n",
       "  \"Tk\"                => v\"0.3.7\"\n",
       "  \"GtkInteract\"       => v\"0.0.0-\"\n",
       "  \"ZMQ\"               => v\"0.3.1\"\n",
       "  \"ArrayViews\"        => v\"0.6.4\"\n",
       "  \"SymPy\"             => v\"0.2.40\"\n",
       "  \"DataStructures\"    => v\"0.4.3\"\n",
       "  \"Compat\"            => v\"0.7.13\"\n",
       "  \"Calculus\"          => v\"0.1.14\"\n",
       "  \"GZip\"              => v\"0.2.18\"\n",
       "  \"Measures\"          => v\"0.0.2\"\n",
       "  \"StatsFuns\"         => v\"0.2.0\"\n",
       "  \"Cairo\"             => v\"0.2.31\"\n",
       "  \"DataFrames\"        => v\"0.7.0\"\n",
       "  \"Requires\"          => v\"0.2.2\"\n",
       "  \"Showoff\"           => v\"0.0.6\"\n",
       "  \"Distributions\"     => v\"0.8.10\"\n",
       "  \"FixedPointNumbers\" => v\"0.1.2\"\n",
       "  \"SHA\"               => v\"0.1.2\"\n",
       "  \"DualNumbers\"       => v\"0.2.2\"\n",
       "  \"NumericalMath\"     => v\"0.0.0-\"\n",
       "  \"Switch\"            => v\"0.0.1\"\n",
       "  \"KernelDensity\"     => v\"0.1.2\"\n",
       "  ⋮                   => ⋮"
      ]
     },
     "execution_count": 26,
     "metadata": {},
     "output_type": "execute_result"
    }
   ],
   "source": [
    "# Retorna o nomes dos pacotes e a versão instalada de cada pacote\n",
    "\n",
    "Pkg.installed()"
   ]
  },
  {
   "cell_type": "code",
   "execution_count": 27,
   "metadata": {
    "collapsed": false,
    "scrolled": true
   },
   "outputs": [
    {
     "name": "stdout",
     "output_type": "stream",
     "text": [
      "19 required packages:\n",
      " - Cairo                         0.2.31\n",
      " - Compat                        0.7.13\n",
      " - Dates                         0.4.4\n",
      " - Gadfly                        0.4.2\n",
      " - Grid                          0.4.0\n",
      " - IJulia                        1.1.9\n",
      " - Immerse                       0.0.11\n",
      " - Interact                      0.3.1\n",
      " - Interpolations                0.3.5\n",
      " - JSON                          0.5.0\n",
      " - Plots                         0.5.4\n",
      " - PyCall                        1.4.0\n",
      " - PyPlot                        2.1.1\n",
      " - Reactive                      0.3.2\n",
      " - Roots                         0.1.26\n",
      " - Switch                        0.0.1\n",
      " - SymPy                         0.2.40\n",
      " - Winston                       0.11.13\n",
      " - ZMQ                           0.3.1\n",
      "50 additional packages:\n",
      " - ArrayViews                    0.6.4\n",
      " - AxisAlgorithms                0.1.4\n",
      " - BinDeps                       0.3.21\n",
      " - Calculus                      0.1.14\n",
      " - Codecs                        0.1.5\n",
      " - ColorTypes                    0.2.2\n",
      " - Colors                        0.6.3\n",
      " - Compose                       0.4.2\n",
      " - Conda                         0.1.9\n",
      " - Contour                       0.1.0\n",
      " - DataArrays                    0.2.20\n",
      " - DataFrames                    0.7.0\n",
      " - DataStructures                0.4.3\n",
      " - Distances                     0.3.0\n",
      " - Distributions                 0.8.10\n",
      " - Docile                        0.5.23\n",
      " - DualNumbers                   0.2.2\n",
      " - FixedPointNumbers             0.1.2\n",
      " - FixedSizeArrays               0.1.0\n",
      " - ForwardDiff                   0.1.6\n",
      " - GZip                          0.2.18\n",
      " - Graphics                      0.1.3\n",
      " - Gtk                           0.9.3\n",
      " - GtkInteract                   0.0.0-             master (unregistered)\n",
      " - GtkUtilities                  0.0.8\n",
      " - Hexagons                      0.0.4\n",
      " - IniFile                       0.2.5\n",
      " - Iterators                     0.1.9\n",
      " - KernelDensity                 0.1.2\n",
      " - LaTeXStrings                  0.1.6\n",
      " - Loess                         0.0.6\n",
      " - MacroTools                    0.3.0\n",
      " - Measures                      0.0.2\n",
      " - NaNMath                       0.2.1\n",
      " - Nettle                        0.2.3\n",
      " - NumericalMath                 0.0.0-             master (unregistered)\n",
      " - Optim                         0.4.4\n",
      " - PDMats                        0.4.1\n",
      " - Polynomials                   0.0.5\n",
      " - Ratios                        0.0.4\n",
      " - Reexport                      0.0.3\n",
      " - Requires                      0.2.2\n",
      " - SHA                           0.1.2\n",
      " - Showoff                       0.0.6\n",
      " - SortingAlgorithms             0.0.6\n",
      " - StatsBase                     0.8.0\n",
      " - StatsFuns                     0.2.0\n",
      " - Tk                            0.3.7\n",
      " - URIParser                     0.1.3\n",
      " - WoodburyMatrices              0.1.5\n"
     ]
    }
   ],
   "source": [
    "# veifica o status do(s) pacote(s) instalados \n",
    "\n",
    "Pkg.status()"
   ]
  },
  {
   "cell_type": "markdown",
   "metadata": {},
   "source": [
    "**Pkg.status()** Imprime um resumo do que pacotes estão instalados e a versão, dividindo entro os essenciais(required) e os adicionais(additional) Para saber sobre um pacote individual, use **Pkg.status(\"nome do pacote\")**"
   ]
  },
  {
   "cell_type": "code",
   "execution_count": 28,
   "metadata": {
    "collapsed": false
   },
   "outputs": [
    {
     "name": "stdout",
     "output_type": "stream",
     "text": [
      " - Winston                       0.11.13\n"
     ]
    }
   ],
   "source": [
    "Pkg.status(\"Winston\")"
   ]
  },
  {
   "cell_type": "markdown",
   "metadata": {},
   "source": [
    "### LISTA DE PACOTES DISPONÍVEIS NO REPOSITORIO OFICIAL"
   ]
  },
  {
   "cell_type": "code",
   "execution_count": 29,
   "metadata": {
    "collapsed": false,
    "scrolled": true
   },
   "outputs": [
    {
     "data": {
      "text/plain": [
       "922-element Array{AbstractString,1}:\n",
       " \"AbstractDomains\"       \n",
       " \"Accumulo\"              \n",
       " \"ACME\"                  \n",
       " \"ActiveAppearanceModels\"\n",
       " \"Actors\"                \n",
       " \"AffineTransforms\"      \n",
       " \"AmplNLWriter\"          \n",
       " \"Anasol\"                \n",
       " \"AndorSIF\"              \n",
       " \"AnsiColor\"             \n",
       " \"AppConf\"               \n",
       " \"AppleAccelerate\"       \n",
       " \"ApproxFun\"             \n",
       " ⋮                       \n",
       " \"XMLDict\"               \n",
       " \"XSim\"                  \n",
       " \"XSV\"                   \n",
       " \"YAML\"                  \n",
       " \"Yelp\"                  \n",
       " \"Yeppp\"                 \n",
       " \"YT\"                    \n",
       " \"ZChop\"                 \n",
       " \"ZipFile\"               \n",
       " \"Zlib\"                  \n",
       " \"ZMQ\"                   \n",
       " \"ZVSimulator\"           "
      ]
     },
     "execution_count": 29,
     "metadata": {},
     "output_type": "execute_result"
    }
   ],
   "source": [
    "Pkg.available()"
   ]
  },
  {
   "cell_type": "markdown",
   "metadata": {},
   "source": [
    "### TESTES DOS PACOTES INSTALADOS"
   ]
  },
  {
   "cell_type": "markdown",
   "metadata": {},
   "source": [
    "**Pkg.test()** Executa os testes para todos os pacotes instalados, garantindo que as dependências de teste de cada pacote são instalados para a duração do teste. **Pkg.test(\"nome do pacote\")** Execute os testes para cada pacote em pkgs garantindo que as dependências de teste de cada pacote são instalados para a duração do teste."
   ]
  },
  {
   "cell_type": "code",
   "execution_count": 2,
   "metadata": {
    "collapsed": false,
    "scrolled": true
   },
   "outputs": [
    {
     "name": "stderr",
     "output_type": "stream",
     "text": [
      "INFO: Testing Winston\n",
      "\n",
      "WARNING: deprecated syntax \"AbstractVecOrMat{T} (\" at /home/juser/.julia/v0.4/Winston/src/Winston.jl:96.\n",
      "Use \"AbstractVecOrMat{T}(\" instead.\n",
      "WARNING: requiring \"Dates\" in module \"Winston\" did not define a corresponding module.\n",
      "WARNING: module Winston should explicitly import * from Base\n",
      "ERROR: LoadError: LoadError: LoadError: LoadError: LoadError: LoadError: Tk.TclError(\"error initializing Tk: no display name and no \\$DISPLAY environment variable\")\n",
      " in init at /home/juser/.julia/v0.4/Tk/src/tkwidget.jl:61\n",
      " in include at ./boot.jl:261\n",
      " in include_from_node1 at ./loading.jl:320\n",
      " in include at ./boot.jl:261\n",
      " in include_from_node1 at ./loading.jl:320\n",
      " in require at ./loading.jl:259\n",
      " in include at ./boot.jl:261\n",
      " in include_from_node1 at ./loading.jl:320\n",
      " in include at ./boot.jl:261\n",
      " in include_from_node1 at ./loading.jl:320\n",
      " in require at ./loading.jl:259\n",
      " in include at ./boot.jl:261\n",
      " in include_from_node1 at ./loading.jl:320\n",
      " in include at ./boot.jl:261\n",
      " in include_from_node1 at ./loading.jl:320\n",
      " in process_options at ./client.jl:280\n",
      " in _start at ./client.jl:378\n",
      "while loading /home/juser/.julia/v0.4/Tk/src/tkwidget.jl, in expression starting on line 454\n",
      "while loading /home/juser/.julia/v0.4/Tk/src/Tk.jl, in expression starting on line 37\n",
      "while loading /home/juser/.julia/v0.4/Winston/src/tk.jl, in expression starting on line 1\n",
      "while loading /home/juser/.julia/v0.4/Winston/src/Winston.jl, in expression starting on line 2843\n",
      "while loading /home/juser/.julia/v0.4/Winston/test/canvas.jl, in expression starting on line 1\n",
      "while loading /home/juser/.julia/v0.4/Winston/test/runtests.jl, in expression starting on line 1\n"
     ]
    },
    {
     "ename": "LoadError",
     "evalue": "LoadError: Winston had test errors\nwhile loading In[2], in expression starting on line 1",
     "output_type": "error",
     "traceback": [
      "LoadError: Winston had test errors\nwhile loading In[2], in expression starting on line 1",
      "",
      " in error at ./error.jl:21",
      " in test at pkg/entry.jl:803",
      " in anonymous at pkg/dir.jl:31",
      " in cd at file.jl:22",
      " in cd at pkg/dir.jl:31",
      " in test at pkg.jl:71"
     ]
    },
    {
     "name": "stderr",
     "output_type": "stream",
     "text": [
      "===============================[ ERROR: Winston ]===============================\n",
      "\n",
      "failed process: Process(`/opt/julia-0.4.5/bin/julia --check-bounds=yes --code-coverage=none --color=no /home/juser/.julia/v0.4/Winston/test/runtests.jl`, ProcessExited(1)) [1]\n",
      "\n",
      "================================================================================\n"
     ]
    }
   ],
   "source": [
    "Pkg.test(\"Winston\")"
   ]
  },
  {
   "cell_type": "markdown",
   "metadata": {},
   "source": [
    "### INSTALAÇÃO, ATUALIZAÇÃO E REMOÇÃO DE PACOTES"
   ]
  },
  {
   "cell_type": "markdown",
   "metadata": {},
   "source": [
    "**Atualiza a base de dados de pacotes ja instalados**"
   ]
  },
  {
   "cell_type": "code",
   "execution_count": 2,
   "metadata": {
    "collapsed": false,
    "scrolled": true
   },
   "outputs": [
    {
     "name": "stderr",
     "output_type": "stream",
     "text": [
      "INFO: Updating METADATA...\n",
      "fatal: 'PyCall' does not appear to be a git repository\n",
      "fatal: Could not read from remote repository.\n",
      "\n",
      "Please make sure you have the correct access rights\n",
      "and the repository exists.\n"
     ]
    },
    {
     "ename": "LoadError",
     "evalue": "LoadError: failed process: Process(`git pull --rebase -q`, ProcessExited(1)) [1]\nwhile loading In[2], in expression starting on line 1",
     "output_type": "error",
     "traceback": [
      "LoadError: failed process: Process(`git pull --rebase -q`, ProcessExited(1)) [1]\nwhile loading In[2], in expression starting on line 1",
      "",
      " in pipeline_error at process.jl:555",
      " in run at process.jl:531",
      " in anonymous at pkg/entry.jl:283",
      " in withenv at env.jl:160",
      " in anonymous at pkg/entry.jl:282",
      " in cd at ./file.jl:22",
      " in update at ./pkg/entry.jl:272",
      " in anonymous at pkg/dir.jl:31",
      " in cd at file.jl:22",
      " in cd at pkg/dir.jl:31",
      " in update at ./pkg.jl:45"
     ]
    }
   ],
   "source": [
    "Pkg.update()"
   ]
  },
  {
   "cell_type": "markdown",
   "metadata": {},
   "source": [
    "**Instalado um novo pagote: Pkg.add(\"Nome do pacote\")**"
   ]
  },
  {
   "cell_type": "code",
   "execution_count": 7,
   "metadata": {
    "collapsed": false
   },
   "outputs": [],
   "source": [
    "# Para instala, retire o # e execute\n",
    "\n",
    "#Pkg.add(\"SymPy\")\n",
    "#Pkg.add(\"Winston\")\n",
    "#Pkg.add(\"Gadfly\")\n",
    "#Pkg.add(\"Dates\")\n",
    "#Pkg.add(\"Roots\")\n",
    "#Pkg.add(\"PyPlot\")\n",
    "#Pkg.add(\"Plots\")\n",
    "#Pkg.add(\"DataFrames\")\n",
    "#Pkg.add(\"Calculus\")\n",
    "#Pkg.add(\"PyPlot\")\n",
    "#Pkg.add(\"Interpolations\")\n",
    "#Pkg.add(\"Grid\")\n",
    "#Pkg.add(\"CurveFit\")\n",
    "#Pkg.add(\"LsqFit\")\n",
    "#Pkg.add(\"Interact\")\n",
    "#Pkg.add(\"Reactive\")\n",
    "#Pkg.add(\"Compat\")\n",
    "#Pkg.add(\"JSON\")\n",
    "#Pkg.add(\"Switch\")"
   ]
  },
  {
   "cell_type": "markdown",
   "metadata": {},
   "source": [
    "**Removendo um pacote**"
   ]
  },
  {
   "cell_type": "code",
   "execution_count": 2,
   "metadata": {
    "collapsed": false
   },
   "outputs": [
    {
     "name": "stderr",
     "output_type": "stream",
     "text": [
      "INFO: Nothing to be done\n"
     ]
    }
   ],
   "source": [
    "Pkg.rm(\"Nome do pacote\")"
   ]
  },
  {
   "cell_type": "markdown",
   "metadata": {},
   "source": [
    "### INSTALAÇÃO DE PACOTES NÃO OFICIAIS \n",
    "\n",
    "Para instalar um pacote não oficial, basta usar o link do Github na forma: **Pkg.clone(\"url/pacote.jl\")**. Para instalar o NumericalMath, retire a # e execute"
   ]
  },
  {
   "cell_type": "code",
   "execution_count": 34,
   "metadata": {
    "collapsed": false,
    "scrolled": true
   },
   "outputs": [],
   "source": [
    "Pkg.clone(\"https://github.com/hwborchers/NumericalMath.jl\")"
   ]
  },
  {
   "cell_type": "markdown",
   "metadata": {},
   "source": [
    "Sempre Depois de instalar uma nova versão Julia, execute **Pkg.build (\"IJulia\")**, a fim de reconstruir o pacote iJulia com esta nova versão."
   ]
  },
  {
   "cell_type": "code",
   "execution_count": 35,
   "metadata": {
    "collapsed": false
   },
   "outputs": [],
   "source": [
    "Pkg.build(\"IJulia\")"
   ]
  },
  {
   "cell_type": "markdown",
   "metadata": {},
   "source": [
    "### UTILIZANDO UM PACOTE INSTALADO###"
   ]
  },
  {
   "cell_type": "code",
   "execution_count": 1,
   "metadata": {
    "collapsed": false,
    "scrolled": true
   },
   "outputs": [],
   "source": [
    "# using \"nome_do_pacote\" sem aspas e com letra inicial maiúscula\n",
    "\n",
    "using Calculus\n",
    "using SymPy"
   ]
  },
  {
   "cell_type": "markdown",
   "metadata": {
    "collapsed": false
   },
   "source": []
  },
  {
   "cell_type": "code",
   "execution_count": null,
   "metadata": {
    "collapsed": true
   },
   "outputs": [],
   "source": []
  }
 ],
 "metadata": {
  "kernelspec": {
   "display_name": "Julia 0.4.5",
   "language": "julia",
   "name": "julia-0.4"
  },
  "language_info": {
   "file_extension": ".jl",
   "mimetype": "application/julia",
   "name": "julia",
   "version": "0.4.5"
  }
 },
 "nbformat": 4,
 "nbformat_minor": 0
}
