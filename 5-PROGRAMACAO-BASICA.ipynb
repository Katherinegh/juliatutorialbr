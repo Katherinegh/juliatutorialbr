{
 "cells": [
  {
   "cell_type": "markdown",
   "metadata": {},
   "source": [
    "# PROGRAMAÇÃO BÁSICA#"
   ]
  },
  {
   "cell_type": "markdown",
   "metadata": {
    "collapsed": true
   },
   "source": []
  },
  {
   "cell_type": "markdown",
   "metadata": {
    "collapsed": true
   },
   "source": [
    "## OPERADORES LÓGIGOS E BOLEANOS ##"
   ]
  },
  {
   "cell_type": "markdown",
   "metadata": {
    "collapsed": true
   },
   "source": [
    "Operadores de comparação para determinar, por exemplo, se são iguais. Todos os operadores de comparação da JULIA retornam TRUE como verdade e FALSE como falso.\n",
    "Resumo:\n",
    "\n",
    "    * x < y     verdade se x é menor que y.\n",
    "\n",
    "    * x <= y   verdade se x é menor ou igual a y.\n",
    "\n",
    "    * x >= y   verdade se x é maior ou igual a y.\n",
    "\n",
    "    * x > y    verdade se x é maior que y.\n",
    "\n",
    "    * x == y   verdade se x é igual a y.\n",
    "\n",
    "    * x != y   verdade se x diferente de y\n",
    "\n",
    "    * x ~= y   verdade se x é diferente de y."
   ]
  },
  {
   "cell_type": "markdown",
   "metadata": {
    "collapsed": true
   },
   "source": [
    "Uma expressão booleana elemento por elemento, é uma combinação de comparação de expressões usando os operadores:\n",
    "\n",
    "    * ||, operador “ou”\n",
    "\n",
    "    * &&, operador “e”\n",
    "\n",
    "    * ~ ou !, operador “não”\n",
    "\n",
    "Uma expressão booleana é verdadeira se o resultado do cálculo das combinações lógicas das expressões booleanas for verdadeira. O valor será considerado falso se for zero, e verdadeiro de outra forma.\n"
   ]
  },
  {
   "cell_type": "markdown",
   "metadata": {},
   "source": [
    "## ESTRUTURAS DE CONTROLE ##"
   ]
  },
  {
   "cell_type": "markdown",
   "metadata": {},
   "source": [
    "Laços ocupam um lugar relevante no controle e núcleos de repetição. Os comandos de controle\n",
    "de laço são: while, for, do, if, switch"
   ]
  },
  {
   "cell_type": "markdown",
   "metadata": {},
   "source": [
    "### CONDICIONAL \"SE\" (IF) ###"
   ]
  },
  {
   "cell_type": "markdown",
   "metadata": {},
   "source": [
    "<p style=\"text-align: justify;\"><strong>Condicional IF</strong></p>\n",
    "<p style=\"text-align: justify;\"><strong></strong></p>\n",
    "<table style=\"text-align: left; width: 359px; height: 186px; margin-left: 0px; margin-right: 0px;\" border=\"1\" cellpadding=\"2\" cellspacing=\"1\">\n",
    "<tbody>\n",
    "<tr>\n",
    "<td style=\"vertical-align: top; text-align: left;\"><span style=\"font-weight: bold;\">if</span> condição<br>\n",
    "&nbsp;&nbsp;&nbsp;\n",
    "instruções<br>\n",
    "&nbsp;<span style=\"font-weight: bold;\">end</span></td>\n",
    "<td style=\"vertical-align: top;\">&nbsp;<span style=\"font-weight: bold;\">if </span>condição<br>\n",
    "\n",
    "&nbsp;&nbsp;&nbsp;\n",
    "instruções<span style=\"font-weight: bold;\"></span><br>\n",
    "&nbsp;<span style=\"font-weight: bold;\">else</span><br>\n",
    "&nbsp;&nbsp;&nbsp;\n",
    "instruções<br>\n",
    "&nbsp;<span style=\"font-weight: bold;\">end</span></td>\n",
    "<td style=\"vertical-align: top;\">&nbsp;<span style=\"font-weight: bold;\">if</span> condição<br>\n",
    "&nbsp;&nbsp;&nbsp;&nbsp;&nbsp; instruções<span style=\"font-weight: bold;\"></span><br>\n",
    "\n",
    "&nbsp;<strong>elseif</strong> outra_condição<br>\n",
    "&nbsp;&nbsp;&nbsp;&nbsp;&nbsp; instruções<span style=\"font-weight: bold;\"></span><br>\n",
    "&nbsp;<span style=\"font-weight: bold;\">else</span><br>\n",
    "&nbsp;&nbsp;&nbsp;&nbsp;&nbsp; outro_bloco_ainda<span style=\"font-weight: bold;\"></span><br>\n",
    "&nbsp;<span style=\"font-weight: bold;\">end</span> \n",
    "</td>\n",
    "</tr>\n",
    "\n",
    "</tbody>\n",
    "</table>"
   ]
  },
  {
   "cell_type": "code",
   "execution_count": 4,
   "metadata": {
    "collapsed": false
   },
   "outputs": [
    {
     "data": {
      "text/plain": [
       "(6,10)"
      ]
     },
     "execution_count": 4,
     "metadata": {},
     "output_type": "execute_result"
    }
   ],
   "source": [
    "x=rand(0:10)\n",
    "\n",
    "y=rand(0:10)\n",
    "\n",
    "x,y"
   ]
  },
  {
   "cell_type": "code",
   "execution_count": 5,
   "metadata": {
    "collapsed": false
   },
   "outputs": [
    {
     "name": "stdout",
     "output_type": "stream",
     "text": [
      "x é menor que y\n"
     ]
    }
   ],
   "source": [
    "# se x< 15 será impresso a mensagem, se x>y não será feito nada\n",
    "\n",
    "if x < y\n",
    "    println(\"x é menor que y\")\n",
    "end"
   ]
  },
  {
   "cell_type": "markdown",
   "metadata": {},
   "source": [
    "Melhorando...."
   ]
  },
  {
   "cell_type": "code",
   "execution_count": 165,
   "metadata": {
    "collapsed": false
   },
   "outputs": [
    {
     "name": "stdout",
     "output_type": "stream",
     "text": [
      "x é menor que y .Valor de x: 6 Valor de y: 9\n"
     ]
    }
   ],
   "source": [
    "if x < y\n",
    "    println(\"x é menor que y .\",\"Valor de x: \",x,\" Valor de y: \",y)\n",
    "else\n",
    "    println(\"x é maior que y .\",\"Valor de x: \",x,\" Valor de y: \",y)\n",
    "end"
   ]
  },
  {
   "cell_type": "markdown",
   "metadata": {},
   "source": [
    "Melhorando mais...."
   ]
  },
  {
   "cell_type": "code",
   "execution_count": 166,
   "metadata": {
    "collapsed": false
   },
   "outputs": [
    {
     "name": "stdout",
     "output_type": "stream",
     "text": [
      "x é menor que y .Valor de x: 6 Valor de y: 9\n"
     ]
    }
   ],
   "source": [
    "if x < y\n",
    "  println(\"x é menor que y .\",\"Valor de x: \",x,\" Valor de y: \",y)\n",
    "    \n",
    "elseif x > y\n",
    "  println(\"x é maior que y .\",\"Valor de x: \",x,\" Valor de y: \",y)\n",
    "    \n",
    "else\n",
    "    println(\"x é igual a y .\",\"Valor de x: \",x,\" Valor de y: \",y)\n",
    "end"
   ]
  },
  {
   "cell_type": "markdown",
   "metadata": {
    "collapsed": true
   },
   "source": [
    " Definindo funções do tipo: $~\n",
    "f(x) = \\begin{cases}\n",
    "\\cos(x) & x \\geq 0\\\\\n",
    "1 - e^{-1/x^2} & \\text{x < 0}.\n",
    "\\end{cases}\n",
    "~$"
   ]
  },
  {
   "cell_type": "code",
   "execution_count": 167,
   "metadata": {
    "collapsed": false
   },
   "outputs": [
    {
     "name": "stdout",
     "output_type": "stream",
     "text": [
      "f = exp(-1/x^2) = 0.36787944117144233"
     ]
    }
   ],
   "source": [
    "x  = rand(-1:1)\n",
    "\n",
    "if x>=0\n",
    "    print(\"f = cos(x) = \",cos(x))\n",
    "    \n",
    "elseif x<0\n",
    "    print(\"f = exp(-1/x^2) = \",exp(-1/x^2))\n",
    "    \n",
    "end"
   ]
  },
  {
   "cell_type": "markdown",
   "metadata": {},
   "source": [
    "** OPERADOR TERNÁTIO (“ternary operator\")  **\n",
    "\n",
    "O chamado \"operador ternário\",(:?), Está relacionado com a sintaxe if-elseif-else, recebe este nome em função de ser o único operador na maioria dos idiomas que tomam três operandos:\n",
    "**(condição ? expressão1 : expressão2)**\n",
    "\n",
    "A operação ternária efeturá a **\"expressão1\"** antes do \":\" se a **\"condição\"** é verdadeira ou a **\"expressão2\"** depois do \":\" se \"condição\" for falsa"
   ]
  },
  {
   "cell_type": "code",
   "execution_count": 5,
   "metadata": {
    "collapsed": false
   },
   "outputs": [
    {
     "data": {
      "text/plain": [
       "ot (generic function with 1 method)"
      ]
     },
     "execution_count": 5,
     "metadata": {},
     "output_type": "execute_result"
    }
   ],
   "source": [
    "ot(x) = ( x >= 0 ? sqrt(x) : \"Raiz de numero negativo\")"
   ]
  },
  {
   "cell_type": "code",
   "execution_count": 6,
   "metadata": {
    "collapsed": false
   },
   "outputs": [
    {
     "data": {
      "text/plain": [
       "(2.8284271247461903,\"Raiz de numero negativo\")"
      ]
     },
     "execution_count": 6,
     "metadata": {},
     "output_type": "execute_result"
    }
   ],
   "source": [
    "ot(8) , ot(-2)"
   ]
  },
  {
   "cell_type": "markdown",
   "metadata": {},
   "source": [
    "### CONDICIONAL \"TROCAR\" (SWITCH) ###\n",
    "\n",
    "Não existe um comando nativo para \"case\" ou \"swith\". Pode ser utilizado uma sequencia de \"if..elseif..else\" ou instalar o \"case\" do pacote \"Switch\""
   ]
  },
  {
   "cell_type": "markdown",
   "metadata": {},
   "source": [
    "<p style=\"text-align: justify;\"><strong>Condicional \"SWITCH\"</strong></p>\n",
    "<p style=\"text-align: justify;\"><strong></strong></p>\n",
    "<table style=\"text-align: left; width: 440px; height: 335px; margin-left: 0px; margin-right: 0px;\" border=\"1\" cellpadding=\"2\" cellspacing=\"1\">\n",
    "<tbody>\n",
    "<tr>\n",
    "<td colspan=\"1\" rowspan=\"1\" style=\"vertical-align: top; text-align: left;\"><span style=\"font-weight: bold;\">if </span>variável<span style=\"font-weight: bold;\">&nbsp;</span> condição <br>&nbsp;&nbsp;&nbsp;&nbsp;&nbsp;&nbsp; instruções<br>&nbsp;&nbsp;&nbsp; <span style=\"font-weight: bold;\">elseif </span>variável<span style=\"font-weight: bold;\">&nbsp;</span> condição<br>&nbsp;&nbsp;&nbsp;&nbsp;&nbsp;&nbsp;&nbsp; instruções<br>&nbsp;&nbsp;&nbsp; <span style=\"font-weight: bold;\">elseif</span> variável<span style=\"font-weight: bold;\">&nbsp;</span> condição<br>&nbsp;&nbsp;&nbsp;&nbsp;&nbsp;&nbsp; instruções<br><span style=\"font-weight: bold;\">end</span> \n",
    "\n",
    "</td><td style=\"vertical-align: top;\"><span style=\"font-weight: bold;\">using Switch</span><br>variável condição<br>&nbsp;&nbsp;&nbsp; <span style=\"font-weight: bold;\">@switch</span> variável begin<br>&nbsp;&nbsp;&nbsp;&nbsp;&nbsp;&nbsp;&nbsp; <span style=\"font-weight: bold;\">@case</span> valor variável<br>&nbsp;&nbsp;&nbsp;&nbsp;&nbsp;&nbsp;&nbsp;&nbsp;&nbsp;&nbsp;&nbsp; instruções<br>&nbsp;&nbsp;&nbsp;&nbsp;&nbsp;&nbsp;&nbsp;&nbsp;&nbsp;&nbsp;&nbsp; <span style=\"font-weight: bold;\">break</span><br><br>&nbsp;&nbsp;&nbsp;&nbsp;&nbsp;&nbsp;&nbsp; <span style=\"font-weight: bold;\">@case</span> valor variável<br>&nbsp;&nbsp;&nbsp;&nbsp;&nbsp;&nbsp;&nbsp;&nbsp;&nbsp;&nbsp; instruções<br>&nbsp;&nbsp;&nbsp;&nbsp;&nbsp;&nbsp;&nbsp;&nbsp;&nbsp;&nbsp;&nbsp; <span style=\"font-weight: bold;\">break</span><br><br>&nbsp;&nbsp;&nbsp;&nbsp;&nbsp;&nbsp; <span style=\"font-weight: bold;\">@default</span><br>&nbsp;&nbsp;&nbsp;&nbsp;&nbsp;&nbsp;&nbsp;&nbsp;&nbsp;&nbsp;&nbsp; println(\"Não encontrado\")<span style=\"font-weight: bold;\"></span><br><span style=\"font-weight: bold;\">end</span></td>\n",
    "\n",
    "</tr>\n",
    "</tbody>\n",
    "</table>"
   ]
  },
  {
   "cell_type": "code",
   "execution_count": 2,
   "metadata": {
    "collapsed": false,
    "scrolled": true
   },
   "outputs": [
    {
     "name": "stdout",
     "output_type": "stream",
     "text": [
      "Valor positivo: 0.1411200080598672. valor de x: 3"
     ]
    }
   ],
   "source": [
    "x = rand(-10:10)\n",
    "y = sin(x)\n",
    "\n",
    "if  y == 0\n",
    "    print(\"Raiz: \",x) \n",
    "    \n",
    "elseif y > 0\n",
    "    print(\"Valor positivo: \",y,\". valor de x: \",x)\n",
    "    \n",
    "elseif y < 0 \n",
    "    print(\"Valor negativo: \",y,\". valor de x: \",x)    \n",
    "\n",
    "end\n"
   ]
  },
  {
   "cell_type": "markdown",
   "metadata": {},
   "source": []
  },
  {
   "cell_type": "code",
   "execution_count": 6,
   "metadata": {
    "collapsed": false,
    "scrolled": false
   },
   "outputs": [
    {
     "name": "stdout",
     "output_type": "stream",
     "text": [
      "y vale Zero"
     ]
    }
   ],
   "source": [
    "using Switch\n",
    "\n",
    "y = rand(0:4)\n",
    "\n",
    "@switch y begin\n",
    "    @case 0\n",
    "    print( \"y vale Zero\")\n",
    "    break\n",
    "\n",
    "    @case 1\n",
    "    println(\"y vale Um\")\n",
    "    break\n",
    "\n",
    "    @case 2\n",
    "    println(\"y vale Dois\")\n",
    "    break\n",
    "\n",
    "    @default\n",
    "    println(\"Não encontrado.numero acima de 2\")\n",
    "end"
   ]
  },
  {
   "cell_type": "markdown",
   "metadata": {},
   "source": []
  },
  {
   "cell_type": "markdown",
   "metadata": {},
   "source": [
    "### REPETIÇÃO \"PARA\" (FOR) ###"
   ]
  },
  {
   "cell_type": "markdown",
   "metadata": {},
   "source": [
    "<strong>Repeti&ccedil;&atilde;o \"FOR\" </strong>\n",
    "\n",
    "<table style=\"text-align: left; width: 417px; height: 156px; margin-left: 0px; margin-right: 0px;\" border=\"1\" cellspacing=\"1\" cellpadding=\"2\">\n",
    "<tbody>\n",
    "<tr>\n",
    "<td style=\"vertical-align: top; text-align: left;\" colspan=\"1\" rowspan=\"1\">&nbsp;<span style=\"font-weight: bold;\">for</span> vari&aacute;vel = inicio : fim<br /> &nbsp;&nbsp;&nbsp;&nbsp; instru&ccedil;&otilde;es<span style=\"font-weight: bold;\">;</span><br /> &nbsp;<span style=\"font-weight: bold;\">end</span><br /> &nbsp;</td>\n",
    "<td style=\"vertical-align: top;\"><span style=\"font-weight: bold;\">for</span> vari&aacute;vel <span style=\"font-weight: bold;\">in = range</span><br /> &nbsp;&nbsp;&nbsp;&nbsp; instru&ccedil;&otilde;es<span style=\"font-weight: bold;\">;</span><br /> &nbsp;<span style=\"font-weight: bold;\">end</span><br />&nbsp; &nbsp; &nbsp; &nbsp; &nbsp; &nbsp; &nbsp; &nbsp; &nbsp; &nbsp; &nbsp; &nbsp; &nbsp; &nbsp; &nbsp; &nbsp; &nbsp; &nbsp; &nbsp; &nbsp; &nbsp; &nbsp; &nbsp; &nbsp; &nbsp; &nbsp;&nbsp;</td>\n",
    "</tr>\n",
    "<tr>\n",
    "<td style=\"vertical-align: top; text-align: left;\"><strong>for</strong> vari&aacute;vel = inicio : length(vetor)<br /> &nbsp;&nbsp;&nbsp;&nbsp; instru&ccedil;&otilde;es;<br /><strong>end</strong></td>\n",
    "<td style=\"vertical-align: top;\">&nbsp;<strong>for</strong> vari&aacute;vel = inicio : fim<br /> &nbsp;&nbsp;&nbsp;&nbsp; instru&ccedil;&otilde;es;<br /> &nbsp;&nbsp;&nbsp;&nbsp; <strong>if</strong> condi&ccedil;&atilde;o<br /> &nbsp;&nbsp;&nbsp;&nbsp;&nbsp;&nbsp;&nbsp; <strong>continue ou break</strong><br /> &nbsp;&nbsp;&nbsp;&nbsp; <strong>end</strong><br /> &nbsp;<strong>end</strong></td>\n",
    "</tr>\n",
    "</tbody>\n",
    "</table>"
   ]
  },
  {
   "cell_type": "code",
   "execution_count": 1,
   "metadata": {
    "collapsed": false,
    "scrolled": true
   },
   "outputs": [
    {
     "name": "stdout",
     "output_type": "stream",
     "text": [
      "Valor da função sin(x)*cos(x/2)+x: \n",
      "\n",
      "1.7384602626041288 Para x = 1\n",
      "2.491295496433882 Para x = 2\n",
      "3.0099824344694786 Para x = 3\n",
      "4.314940964313378 Para x = 4\n",
      "5.768236060439348 Para x = 5\n"
     ]
    }
   ],
   "source": [
    "print(\"Valor da função sin(x)*cos(x/2)+x: \\n\\n\")\n",
    "\n",
    "for x = [1 2 3 4 5] # pode ser também x in vetor\n",
    "    \n",
    "    println(sin(x)*cos(x/2)+x,\" Para x = \",x)\n",
    "    \n",
    "end"
   ]
  },
  {
   "cell_type": "code",
   "execution_count": 2,
   "metadata": {
    "collapsed": false
   },
   "outputs": [
    {
     "name": "stdout",
     "output_type": "stream",
     "text": [
      "Valor da função sin(x)*cos(x/2)+x:\n",
      "\n",
      "1.7384602626041288 Para x = 1\n",
      "2.491295496433882 Para x = 2\n",
      "3.0099824344694786 Para x = 3\n",
      "4.314940964313378 Para x = 4\n",
      "5.768236060439348 Para x = 5\n"
     ]
    }
   ],
   "source": [
    "vetor = 1:5\n",
    "\n",
    "print(\"Valor da função sin(x)*cos(x/2)+x:\\n\\n\")\n",
    "\n",
    "for x = vetor # pode ser usando também x = 1:length(vetor) ou x in vetor\n",
    "    \n",
    "    println(sin(x)*cos(x/2)+x,\" Para x = \",x)\n",
    "    \n",
    "end\n",
    "    "
   ]
  },
  {
   "cell_type": "markdown",
   "metadata": {},
   "source": [
    "** Break e Continue **"
   ]
  },
  {
   "cell_type": "code",
   "execution_count": 172,
   "metadata": {
    "collapsed": false
   },
   "outputs": [
    {
     "name": "stdout",
     "output_type": "stream",
     "text": [
      "3\n",
      "6\n",
      "9\n"
     ]
    }
   ],
   "source": [
    "# para i de 1 até 10,\n",
    "# se o resto da divisão i por 3 for diferente de zero, \n",
    "# então o loop é parado e retorna para o inicio do FOR\n",
    "# e o loop será continuado até o final se o resto for 0\n",
    "\n",
    "for i = 1:10\n",
    "    if i % 3 != 0\n",
    "        continue\n",
    "    end\n",
    "    println(i)\n",
    "end\n"
   ]
  },
  {
   "cell_type": "code",
   "execution_count": 173,
   "metadata": {
    "collapsed": false,
    "scrolled": true
   },
   "outputs": [
    {
     "name": "stdout",
     "output_type": "stream",
     "text": [
      "1\n",
      "2\n"
     ]
    }
   ],
   "source": [
    "# para i de 1 até 10,\n",
    "# se o resto da divisão i por 3 for igual a zero,então o loop é encerrado\n",
    "\n",
    "for i = 1:10\n",
    "    if i % 3 == 0\n",
    "        break\n",
    "    end\n",
    "    println(i)\n",
    "bend\n"
   ]
  },
  {
   "cell_type": "markdown",
   "metadata": {},
   "source": [
    "** Controlando o laço For com sleep**\n",
    "\n",
    "Importe o pacote PyPlot e use o comando **sleep(tempo_segundos)**"
   ]
  },
  {
   "cell_type": "code",
   "execution_count": 17,
   "metadata": {
    "collapsed": false
   },
   "outputs": [
    {
     "name": "stdout",
     "output_type": "stream",
     "text": [
      "Valor da função sin(x)*cos(x/2)+x:\n",
      "\n",
      "1.7384602626041288 Para x = 1\n",
      "2.491295496433882 Para x = 2\n",
      "3.0099824344694786 Para x = 3\n",
      "4.314940964313378 Para x = 4\n",
      "5.768236060439348 Para x = 5\n"
     ]
    }
   ],
   "source": [
    "vetor = 1:5\n",
    "\n",
    "print(\"Valor da função sin(x)*cos(x/2)+x:\\n\\n\")\n",
    "\n",
    "for x = vetor # pode ser usando também x = 1:length(vetor) ou x in vetor\n",
    "    sleep(1)\n",
    "    println(sin(x)*cos(x/2)+x,\" Para x = \",x)\n",
    "    \n",
    "    \n",
    "end"
   ]
  },
  {
   "cell_type": "markdown",
   "metadata": {},
   "source": [
    "** Percorrendo Uma Matrix ou vetor usando o FOR **"
   ]
  },
  {
   "cell_type": "code",
   "execution_count": 19,
   "metadata": {
    "collapsed": false
   },
   "outputs": [
    {
     "data": {
      "text/plain": [
       "2x2 Array{Int64,2}:\n",
       " 2  4\n",
       " 8  9"
      ]
     },
     "execution_count": 19,
     "metadata": {},
     "output_type": "execute_result"
    }
   ],
   "source": [
    "mnum = [2 4;8 9]"
   ]
  },
  {
   "cell_type": "code",
   "execution_count": 20,
   "metadata": {
    "collapsed": false,
    "scrolled": true
   },
   "outputs": [
    {
     "name": "stdout",
     "output_type": "stream",
     "text": [
      "elemento da linha 1 coluna 1 é :2\n",
      "elemento da linha 1 coluna 2 é :4\n",
      "elemento da linha 2 coluna 1 é :8\n",
      "elemento da linha 2 coluna 2 é :9\n"
     ]
    }
   ],
   "source": [
    "linhas,colunas = size(mnum)\n",
    "\n",
    "for i = 1:linhas\n",
    "    \n",
    "    for j = 1:colunas\n",
    "        \n",
    "        println(\"elemento da linha $i coluna $j é :\",mnum[i,j])\n",
    "    end\n",
    "end"
   ]
  },
  {
   "cell_type": "markdown",
   "metadata": {},
   "source": [
    "Melhorando...."
   ]
  },
  {
   "cell_type": "code",
   "execution_count": 21,
   "metadata": {
    "collapsed": false
   },
   "outputs": [
    {
     "name": "stdout",
     "output_type": "stream",
     "text": [
      "elemento da linha 1 coluna 1 é :2\n",
      "elemento da linha 1 coluna 2 é :4\n",
      "elemento da linha 2 coluna 1 é :8\n",
      "elemento da linha 2 coluna 2 é :9\n"
     ]
    }
   ],
   "source": [
    "linhas,colunas = size(mnum)\n",
    "\n",
    "for i = 1:linhas, j = 1:colunas\n",
    "    println(\"elemento da linha $i coluna $j é :\",mnum[i,j])\n",
    "end "
   ]
  },
  {
   "cell_type": "markdown",
   "metadata": {},
   "source": [
    "Agora ficou like Python...."
   ]
  },
  {
   "cell_type": "code",
   "execution_count": 32,
   "metadata": {
    "collapsed": false
   },
   "outputs": [
    {
     "name": "stdout",
     "output_type": "stream",
     "text": [
      "elemento  2\n",
      "elemento  8\n",
      "elemento  4\n",
      "elemento  9\n"
     ]
    }
   ],
   "source": [
    "# lendo os elementos colunas por colunas \n",
    "\n",
    "for i in mnum\n",
    "    println(\"elemento  $i\")\n",
    "end"
   ]
  },
  {
   "cell_type": "code",
   "execution_count": 34,
   "metadata": {
    "collapsed": false
   },
   "outputs": [
    {
     "name": "stdout",
     "output_type": "stream",
     "text": [
      "elemento  2\n",
      "elemento  4\n",
      "elemento  8\n",
      "elemento  9\n"
     ]
    }
   ],
   "source": [
    "# lendo os elementos linhas por linhas  (coloque aspas simples para inverter a matriz)\n",
    "\n",
    "for i in mnum'\n",
    "    println(\"elemento  $i\")\n",
    "end"
   ]
  },
  {
   "cell_type": "markdown",
   "metadata": {},
   "source": [
    "**Formas elegantes do laço for**"
   ]
  },
  {
   "cell_type": "code",
   "execution_count": 6,
   "metadata": {
    "collapsed": false,
    "scrolled": true
   },
   "outputs": [
    {
     "name": "stdout",
     "output_type": "stream",
     "text": [
      "1 * 1 = 1\n",
      "1 * 2 = 2\n",
      "2 * 1 = 2\n",
      "2 * 2 = 4\n"
     ]
    }
   ],
   "source": [
    "for n = 1:2\n",
    "    for m = 1:2\n",
    "        println(\"$n * $m = $(n * m)\")\n",
    "    end\n",
    "end "
   ]
  },
  {
   "cell_type": "code",
   "execution_count": 36,
   "metadata": {
    "collapsed": false,
    "scrolled": true
   },
   "outputs": [
    {
     "name": "stdout",
     "output_type": "stream",
     "text": [
      "1 * 1 = 1\n",
      "1 * 2 = 2\n",
      "2 * 1 = 2\n",
      "2 * 2 = 4\n"
     ]
    }
   ],
   "source": [
    "for n = 1:2, m = 1:2\n",
    "    println(\"$n * $m = $(n * m)\")\n",
    "end "
   ]
  },
  {
   "cell_type": "code",
   "execution_count": 2,
   "metadata": {
    "collapsed": false,
    "scrolled": false
   },
   "outputs": [
    {
     "name": "stdout",
     "output_type": "stream",
     "text": [
      "1 julia\n",
      "2 python\n",
      "3 sagemath\n",
      "4 maxima\n",
      "5 octave\n"
     ]
    }
   ],
   "source": [
    "lista = [\"julia\",\"python\",\"sagemath\",\"maxima\",\"octave\"]\n",
    "\n",
    "for (index, value) in enumerate(lista)\n",
    "           println(\"$index $value\")\n",
    "end"
   ]
  },
  {
   "cell_type": "code",
   "execution_count": 38,
   "metadata": {
    "collapsed": false
   },
   "outputs": [
    {
     "name": "stdout",
     "output_type": "stream",
     "text": [
      "A capital do Japan é Tokyo\n",
      "A capital do Korea é Seoul\n",
      "A capital do China é Pequim\n"
     ]
    }
   ],
   "source": [
    "pais = (\"Japan\", \"Korea\", \"China\")\n",
    "cidade = (\"Tokyo\", \"Seoul\", \"Pequim\")\n",
    "\n",
    "for (pais, cidade) in zip(pais, cidade)\n",
    "    println(\"A capital do $pais é $cidade\")\n",
    "end"
   ]
  },
  {
   "cell_type": "markdown",
   "metadata": {},
   "source": [
    "**List Comprehensions**\n",
    "\n",
    "Uma compreensão de lista é uma construção sintática disponível em algumas linguagens de programação para criação de uma lista baseada em listas existentes. Ela segue a forma da notação de definição de conjunto matemática (compreensão de conjunto) como forma distinta para uso de funções de mapa e filtro.\n",
    "***Fonte: wikipedia***"
   ]
  },
  {
   "cell_type": "code",
   "execution_count": 27,
   "metadata": {
    "collapsed": false
   },
   "outputs": [
    {
     "data": {
      "text/plain": [
       "5-element Array{Int64,1}:\n",
       "  1\n",
       "  4\n",
       "  9\n",
       " 16\n",
       " 25"
      ]
     },
     "execution_count": 27,
     "metadata": {},
     "output_type": "execute_result"
    }
   ],
   "source": [
    "[x^2 for x in 1:5]"
   ]
  },
  {
   "cell_type": "code",
   "execution_count": 5,
   "metadata": {
    "collapsed": false
   },
   "outputs": [
    {
     "data": {
      "text/plain": [
       "3x4 Array{Int64,2}:\n",
       " 3   4   5   6\n",
       " 6   8  10  12\n",
       " 9  12  15  18"
      ]
     },
     "execution_count": 5,
     "metadata": {},
     "output_type": "execute_result"
    }
   ],
   "source": [
    "[x * y for x in 1:3, y in 3:6]"
   ]
  },
  {
   "cell_type": "code",
   "execution_count": 26,
   "metadata": {
    "collapsed": false
   },
   "outputs": [
    {
     "data": {
      "text/plain": [
       "6-element Array{Any,1}:\n",
       "   5\n",
       "   9\n",
       "  25\n",
       "  32\n",
       "  55\n",
       " 510"
      ]
     },
     "execution_count": 26,
     "metadata": {},
     "output_type": "execute_result"
    }
   ],
   "source": [
    "# a instrução \".>\" é necessária para comparar elemento por elemento\n",
    "\n",
    "x=[1 2 3 4 5 9 25 32 55 510]\n",
    "\n",
    "[y for y in x[x .> 4]]"
   ]
  },
  {
   "cell_type": "code",
   "execution_count": 31,
   "metadata": {
    "collapsed": false
   },
   "outputs": [
    {
     "data": {
      "text/plain": [
       "3x3 Array{Int64,2}:\n",
       " 0  -1  -2\n",
       " 1   0  -1\n",
       " 2   1   0"
      ]
     },
     "execution_count": 31,
     "metadata": {},
     "output_type": "execute_result"
    }
   ],
   "source": [
    "# x = vetor; y = vetor\n",
    "\n",
    "g(x,y) = x - y\n",
    "\n",
    "A1 = [ g(x,y) for x in [1 2 3], y = [1 2 3]]"
   ]
  },
  {
   "cell_type": "code",
   "execution_count": 62,
   "metadata": {
    "collapsed": false
   },
   "outputs": [
    {
     "data": {
      "text/plain": [
       "-2"
      ]
     },
     "execution_count": 62,
     "metadata": {},
     "output_type": "execute_result"
    }
   ],
   "source": [
    "# Acessar o elemento da primeira linha e terceira coluna\n",
    "\n",
    "A[1,3]"
   ]
  },
  {
   "cell_type": "code",
   "execution_count": 7,
   "metadata": {
    "collapsed": false
   },
   "outputs": [
    {
     "data": {
      "text/plain": [
       "3x3 Array{Int64,2}:\n",
       " 0  -1  -2\n",
       " 1   0  -1\n",
       " 2   1   0"
      ]
     },
     "execution_count": 7,
     "metadata": {},
     "output_type": "execute_result"
    }
   ],
   "source": [
    "# x in ; y in\n",
    "\n",
    "A2 = [g(x,y) for x in [1 2 3], y in [1 2 3]]"
   ]
  },
  {
   "cell_type": "code",
   "execution_count": 4,
   "metadata": {
    "collapsed": false,
    "scrolled": true
   },
   "outputs": [
    {
     "data": {
      "text/plain": [
       "7-element Array{Any,1}:\n",
       " 21\n",
       " 23\n",
       " 25\n",
       " 27\n",
       " 29\n",
       " 31\n",
       " 33"
      ]
     },
     "execution_count": 4,
     "metadata": {},
     "output_type": "execute_result"
    }
   ],
   "source": [
    "x = [10 11 12 13 14 15 16 17]\n",
    "\n",
    "[ x[i] + x[i-1] for i=2:length(x) ]"
   ]
  },
  {
   "cell_type": "code",
   "execution_count": 58,
   "metadata": {
    "collapsed": false
   },
   "outputs": [
    {
     "data": {
      "text/plain": [
       "5-element Array{Any,1}:\n",
       "   4\n",
       "  16\n",
       "  36\n",
       "  64\n",
       " 100"
      ]
     },
     "execution_count": 58,
     "metadata": {},
     "output_type": "execute_result"
    }
   ],
   "source": [
    "sq = [x*x for x in filter(x -> x % 2 == 0, 1:10)]"
   ]
  },
  {
   "cell_type": "code",
   "execution_count": 40,
   "metadata": {
    "collapsed": false
   },
   "outputs": [
    {
     "data": {
      "text/plain": [
       "2x3 Array{Any,2}:\n",
       " 3  4  6\n",
       " 4  5  7"
      ]
     },
     "execution_count": 40,
     "metadata": {},
     "output_type": "execute_result"
    }
   ],
   "source": [
    "[ x + y for x = filter(x -> x <= 2, 1:5), y = filter(isprime,1:5) ]"
   ]
  },
  {
   "cell_type": "markdown",
   "metadata": {},
   "source": [
    "** Aplicações**"
   ]
  },
  {
   "cell_type": "markdown",
   "metadata": {},
   "source": [
    "* **Teste de Benchmark - Método bruto de encontrar raízes de uma função **"
   ]
  },
  {
   "cell_type": "code",
   "execution_count": 8,
   "metadata": {
    "collapsed": false
   },
   "outputs": [
    {
     "name": "stdout",
     "output_type": "stream",
     "text": [
      "elapsed time: 40.733054699 seconds\n"
     ]
    }
   ],
   "source": [
    "# Método bruto de encontrar raízes de uma função\n",
    "\n",
    "tic()\n",
    "\n",
    "x = 1.0:0.0000001:5.0;\n",
    "\n",
    "for k = 1:length(x)\n",
    "    \n",
    "    if abs(sin(x[k]).*x[k].^2 + cos(x[k]).*x[k].^2 + x[k] + cos(sin(x[k])).^2) < 0.0000001\n",
    "        \n",
    "        println(\"Valor(y):\",sin(x[k]).*x[k].^2+cos(x[k]).*x[k].^2+x[k]+cos(sin(x[k])).^2,\" . Raiz(x): \",x[k])\n",
    "        \n",
    "    end\n",
    "end\n",
    "\n",
    "toc();"
   ]
  },
  {
   "cell_type": "markdown",
   "metadata": {},
   "source": [
    "Foi encontrda 3 raízes: 2.70499, 5.35325 e 8.726468"
   ]
  },
  {
   "cell_type": "markdown",
   "metadata": {},
   "source": [
    "* **Método de Gauss**"
   ]
  },
  {
   "cell_type": "code",
   "execution_count": 17,
   "metadata": {
    "collapsed": false,
    "scrolled": false
   },
   "outputs": [
    {
     "name": "stdout",
     "output_type": "stream",
     "text": [
      "[-0.5552084480553038,-0.5786297325460229,0.022316776658561962]\n"
     ]
    }
   ],
   "source": [
    "#********** PROGRAMA ELIMINAÇÃO PELO MÉTODO DE GAUSS ************* \n",
    "\n",
    "A = [4.1 -5.4 6.8;7.8 -8 -9;-17 4 1] # use numeros decimais mesmo que sejam inteiros\n",
    "b = [1.0,2.0,3.0]                    # use numeros decimais mesmo que sejam inteiros\n",
    "\n",
    "x = zeros(3) # pré alocação da matrix x\n",
    "m = 0\n",
    "al,ac = size(A)\n",
    "\n",
    "#********** ESCALONAMENTO ************* \n",
    "\n",
    "# Aqui é escolhido o pivo e a matriz é escalonada\n",
    "\n",
    "for k= 1:(al-1)\n",
    "    \n",
    "    for i = (k+1):al\n",
    "       \n",
    "        m = A[i,k]/(A[k,k])\n",
    "        A[i,k] = 0\n",
    "        for j=(k+1):al\n",
    "            \n",
    "            A[i,j] = A[i,j] - m*A[k,j]\n",
    "            b[i]= b[i] - m*b[k]\n",
    "        end\n",
    "    end\n",
    "end\n",
    "\n",
    "# aqui os valores do vetor solução X são calculados\n",
    "\n",
    "x[al] = b[al]/(A[al,al])\n",
    "\n",
    "for k = (al-1):-1:1\n",
    "    begin\n",
    "        s = 0\n",
    "        for j = (k+1):al\n",
    "            s = s+A[k,j]*x[j]\n",
    "        end\n",
    "        x[k]=(b[k]-s)/A[k,k]\n",
    "    end\n",
    "end\n",
    "\n",
    "println(x)"
   ]
  },
  {
   "cell_type": "markdown",
   "metadata": {},
   "source": []
  },
  {
   "cell_type": "markdown",
   "metadata": {},
   "source": [
    "<strong>Repetição \"ENQUANTO\" (WHILE) </strong>"
   ]
  },
  {
   "cell_type": "markdown",
   "metadata": {},
   "source": [
    "<p style=\"text-align: justify;\"><strong>Repetição \"WHILE\"<br>\n",
    "</strong></p>\n",
    "<p style=\"text-align: justify;\"><strong></strong></p>\n",
    "<table\n",
    "style=\"text-align: left; width: 284px; height: 146px; margin-left: 0px; margin-right: 0px;\"\n",
    "border=\"1\" cellpadding=\"2\" cellspacing=\"1\">\n",
    "<tbody>\n",
    "<tr>\n",
    "<td colspan=\"1\" rowspan=\"1\"\n",
    "style=\"vertical-align: top; text-align: left;\">&nbsp;<span\n",
    "style=\"font-weight: bold;\">while</span> condicao<br>\n",
    "&nbsp;&nbsp;&nbsp;&nbsp; instruções;<br>\n",
    "&nbsp;<span style=\"font-weight: bold;\">end</span><span\n",
    "style=\"font-weight: bold;\"></span><span style=\"font-weight: bold;\"><br>\n",
    "</span></td>\n",
    "<td style=\"vertical-align: top;\"><span style=\"font-weight: bold;\">while</span>\n",
    "condicao<br>\n",
    "&nbsp;&nbsp;&nbsp;&nbsp; instruções;<br>\n",
    "&nbsp;&nbsp;&nbsp;&nbsp; <span style=\"font-weight: bold;\">if</span>\n",
    "condição<br>\n",
    "&nbsp;&nbsp;&nbsp;&nbsp;&nbsp;&nbsp;&nbsp; <span\n",
    "style=\"font-weight: bold;\">continue ou break;</span><br>\n",
    "&nbsp;&nbsp;&nbsp;&nbsp; <span style=\"font-weight: bold;\">end<br>\n",
    "end</span><span style=\"font-weight: bold;\"></span><span style=\"font-weight: bold;\">\n",
    "</span></td>\n",
    "</tr>\n",
    "</tbody>\n",
    "</table>"
   ]
  },
  {
   "cell_type": "code",
   "execution_count": 41,
   "metadata": {
    "collapsed": false
   },
   "outputs": [
    {
     "name": "stdout",
     "output_type": "stream",
     "text": [
      "0\n",
      "1\n",
      "2\n",
      "3\n",
      "4\n",
      "5\n"
     ]
    }
   ],
   "source": [
    "# conta enquanto \"a\" menor ou igual a 5.\n",
    "a = 0\n",
    "\n",
    "while a <= 5\n",
    "    \n",
    "    println(a)\n",
    "    a = a+1\n",
    "    \n",
    "end"
   ]
  },
  {
   "cell_type": "code",
   "execution_count": 42,
   "metadata": {
    "collapsed": false,
    "scrolled": false
   },
   "outputs": [
    {
     "name": "stdout",
     "output_type": "stream",
     "text": [
      "0\n",
      "1\n",
      "2\n"
     ]
    }
   ],
   "source": [
    "# conta enquanto \"a\" menor ou igual a 5. \n",
    "# se \"a\" dividido por 3 for diferente de 0 para!\n",
    "\n",
    "a = 0\n",
    "\n",
    "while a <= 10\n",
    "    \n",
    "    println(a)\n",
    "    a = a + 1\n",
    "    \n",
    "    if a % 3 == 0\n",
    "        break\n",
    "    end\n",
    "    \n",
    "end"
   ]
  },
  {
   "cell_type": "markdown",
   "metadata": {},
   "source": [
    "** Aplicações **"
   ]
  },
  {
   "cell_type": "markdown",
   "metadata": {},
   "source": [
    "* Método da Bisseção"
   ]
  },
  {
   "cell_type": "code",
   "execution_count": null,
   "metadata": {
    "collapsed": false
   },
   "outputs": [],
   "source": [
    "tic()\n",
    "\"\"\"\n",
    "Metodo da Bisseccao\n",
    "\n",
    "Calcula uma aproximação para uma raiz da função de f(x)\n",
    "\n",
    "Entre os intervalo [ao,bo] e a tolerencia de erro daddo por tol.\n",
    "\n",
    "adaptado de http://goo.gl/pQNh6z \n",
    "\"\"\"\n",
    "f(x) = x^2 - 4*x\n",
    "a = 1\n",
    "b = 3\n",
    "tol = 0.00000001\n",
    "iteracao = 0\n",
    "    \n",
    "    while b - a >= tol\n",
    "        \n",
    "    x_medio = (a + b)/2.0\n",
    "        \n",
    "    println(\"interação: \", iteracao , \" : \", x_medio, \", valor função: \",x_medio^2 - 2*x_medio)\n",
    "        \n",
    "    if (x_medio^2 - 2*x_medio)*(a^2 - 2*a) > 0.0\n",
    "            a = x_medio            \n",
    "        else\n",
    "            b = x_medio            \n",
    "        end\n",
    "        iteracao = iteracao + 1\n",
    "end\n",
    "    x_medio = (a + b)/2.0\n",
    "    \n",
    "println(\"interação: \", iteracao , \" : \", x_medio, \", valor função: \",x_medio^2 - 2*x_medio)\n",
    "    \n",
    "toc();"
   ]
  },
  {
   "cell_type": "markdown",
   "metadata": {},
   "source": []
  },
  {
   "cell_type": "markdown",
   "metadata": {},
   "source": [
    "### REPETIÇÃO \"FAÇA ATÉ QUE\" (DO...UNTIL) ###"
   ]
  },
  {
   "cell_type": "markdown",
   "metadata": {},
   "source": [
    "<strong>Repetição \"DO... UNTIL\"<br>\n",
    "</strong></p>\n",
    "<p style=\"text-align: justify;\"><strong></strong></p>\n",
    "<table\n",
    "style=\"text-align: left; width: 329px; height: 130px; margin-left: 0px; margin-right: 0px;\"\n",
    "border=\"1\" cellpadding=\"2\" cellspacing=\"1\">\n",
    "<tbody>\n",
    "<tr>\n",
    "<td colspan=\"1\" rowspan=\"1\"\n",
    "style=\"vertical-align: top; text-align: left;\">&nbsp;<span\n",
    "style=\"font-weight: bold;\"></span><span style=\"font-weight: bold;\">do<br>\n",
    "&nbsp;&nbsp;&nbsp;&nbsp;&nbsp; </span>instruções<span\n",
    "style=\"font-weight: bold;\">;<br>\n",
    "&nbsp;until (</span>condicao<span style=\"font-weight: bold;\">)<br>\n",
    "</span></td>\n",
    "<td style=\"vertical-align: top;\"><span style=\"font-weight: bold;\">do<br>\n",
    "&nbsp;&nbsp;&nbsp;&nbsp;&nbsp; </span>instruções<span\n",
    "style=\"font-weight: bold;\">;<br>\n",
    "&nbsp;&nbsp;&nbsp;&nbsp;&nbsp; if </span>condição<br>\n",
    "&nbsp;&nbsp;&nbsp;&nbsp;&nbsp;&nbsp;&nbsp;&nbsp; <span\n",
    "style=\"font-weight: bold;\">continue ou break;</span><br>\n",
    "<span style=\"font-weight: bold;\">&nbsp; &nbsp; &nbsp; end <br>\n",
    "until (</span>condicao<span style=\"font-weight: bold;\">)</span></td>\n",
    "</tr>\n",
    "</tbody>\n",
    "</table>"
   ]
  },
  {
   "cell_type": "code",
   "execution_count": null,
   "metadata": {
    "collapsed": false
   },
   "outputs": [],
   "source": [
    "numeros = 1:0.1:20\n",
    "\n",
    "find(numeros) do valor\n",
    "    valor == 12.4\n",
    "end"
   ]
  },
  {
   "cell_type": "markdown",
   "metadata": {},
   "source": [
    "### FUNÇÕES ( function( ) ) ###"
   ]
  },
  {
   "cell_type": "markdown",
   "metadata": {},
   "source": [
    "A"
   ]
  },
  {
   "cell_type": "markdown",
   "metadata": {},
   "source": [
    "* **FUNÇÃO DIMENSÃO DE UMA MATRIX **"
   ]
  },
  {
   "cell_type": "code",
   "execution_count": 9,
   "metadata": {
    "collapsed": false,
    "scrolled": false
   },
   "outputs": [
    {
     "data": {
      "text/plain": [
       "fmatrixD (generic function with 1 method)"
      ]
     },
     "execution_count": 9,
     "metadata": {},
     "output_type": "execute_result"
    }
   ],
   "source": [
    "function fmatrixD(M)\n",
    "    println(\"------------ inicio funcao -----------\")\n",
    "    \n",
    "    display(M)    \n",
    "        \n",
    "    println(\"a dimensão da matriz é :\",size(M))\n",
    "    \n",
    "    println(\"--------------- fim -----------------\")\n",
    "    \n",
    "end"
   ]
  },
  {
   "cell_type": "code",
   "execution_count": 10,
   "metadata": {
    "collapsed": false,
    "scrolled": true
   },
   "outputs": [
    {
     "name": "stdout",
     "output_type": "stream",
     "text": [
      "------------ inicio funcao -----------\n"
     ]
    },
    {
     "data": {
      "text/plain": [
       "2x3 Array{Int64,2}:\n",
       " 1  1  2\n",
       " 4  8  9"
      ]
     },
     "metadata": {},
     "output_type": "display_data"
    },
    {
     "name": "stdout",
     "output_type": "stream",
     "text": [
      "a dimensão da matriz é :(2,3)\n",
      "--------------- fim -----------------\n"
     ]
    }
   ],
   "source": [
    "fmatrixD([1 1 2 ; 4 8 9])"
   ]
  },
  {
   "cell_type": "markdown",
   "metadata": {},
   "source": [
    "* ** FUNÇÃO CÁLCULO DA ÁREA DE UM CÍRCULO **"
   ]
  },
  {
   "cell_type": "code",
   "execution_count": 11,
   "metadata": {
    "collapsed": false
   },
   "outputs": [
    {
     "data": {
      "text/plain": [
       "area (generic function with 1 method)"
      ]
     },
     "execution_count": 11,
     "metadata": {},
     "output_type": "execute_result"
    }
   ],
   "source": [
    "function area(raio)\n",
    "  areaCirc = pi * raio^2\n",
    "    println(\"A área vale: \", round(areaCirc,5),\"m²\" )\n",
    "end"
   ]
  },
  {
   "cell_type": "code",
   "execution_count": 12,
   "metadata": {
    "collapsed": false
   },
   "outputs": [
    {
     "name": "stdout",
     "output_type": "stream",
     "text": [
      "A área vale: 12.56637m²\n"
     ]
    }
   ],
   "source": [
    "area(2)"
   ]
  },
  {
   "cell_type": "markdown",
   "metadata": {},
   "source": [
    "* ** FUNÇÃO RAIZES DE UMA FUNÇÃO DO SEGUNDO GRAU**"
   ]
  },
  {
   "cell_type": "code",
   "execution_count": 43,
   "metadata": {
    "collapsed": false
   },
   "outputs": [
    {
     "data": {
      "text/plain": [
       "fraiz (generic function with 1 method)"
      ]
     },
     "execution_count": 43,
     "metadata": {},
     "output_type": "execute_result"
    }
   ],
   "source": [
    "function fraiz(a,b,c)\n",
    "    \n",
    "    d = (b^2) - (4*a*c)\n",
    "    \n",
    "    if d < 0\n",
    "        print(\"Delta negativo, raiz real impossivel de ser extraida.\")\n",
    "        \n",
    "    else\n",
    "        println(\"Delta: \",d)\n",
    "        \n",
    "        x1 = (-b + sqrt(d)) / (2*a)\n",
    "        x2 = (-b - sqrt(d)) / (2*a)\n",
    "        \n",
    "        println(\"Raiz X1 = \", x1)\n",
    "        println(\"Raiz X2 = \", x2)\n",
    "    end\n",
    "end"
   ]
  },
  {
   "cell_type": "code",
   "execution_count": 45,
   "metadata": {
    "collapsed": false,
    "scrolled": true
   },
   "outputs": [
    {
     "name": "stdout",
     "output_type": "stream",
     "text": [
      "Delta: 25\n",
      "Raiz X1 = 1.0\n",
      "Raiz X2 = -1.5\n"
     ]
    }
   ],
   "source": [
    "# entre com os coeficientes da função do segundo grau\n",
    "\n",
    "fraiz(2,1,-3)"
   ]
  },
  {
   "cell_type": "markdown",
   "metadata": {},
   "source": [
    "* ** FUNÇÃO MET BISSEÇÃO **\n",
    "\n",
    "Função Método da Bisseção"
   ]
  },
  {
   "cell_type": "code",
   "execution_count": 7,
   "metadata": {
    "collapsed": false
   },
   "outputs": [
    {
     "data": {
      "text/plain": [
       "fmetbissec (generic function with 1 method)"
      ]
     },
     "execution_count": 7,
     "metadata": {},
     "output_type": "execute_result"
    }
   ],
   "source": [
    "\"\"\"\n",
    "Metodo da Bisseccao\n",
    "\n",
    "Calcula uma aproximação para uma raiz da função de f(x)\n",
    "\n",
    "Entre os intervalo [ao,bo] e a tolerencia de erro daddo por tol.\n",
    "\n",
    "\"\"\"\n",
    "\n",
    "function fmetbissec(a,b,tol)\n",
    "\n",
    "f(x) = x^2-4*x\n",
    "\n",
    "iteracao = 0\n",
    "    \n",
    "    while b - a >= tol\n",
    "        \n",
    "    x_medio = (a + b)/2.0\n",
    "        \n",
    "    println(\"interação: \", iteracao , \" : \", x_medio, \", valor função: \",x_medio^2 - 2*x_medio)\n",
    "        \n",
    "    if (x_medio^2 - 2*x_medio)*(a^2 - 2*a) > 0.0\n",
    "            a = x_medio            \n",
    "        else\n",
    "            b = x_medio            \n",
    "        end\n",
    "        iteracao = iteracao + 1\n",
    "end\n",
    "    x_medio = (a + b)/2.0\n",
    "    \n",
    "println(\"interação: \", iteracao , \" : \", x_medio, \", valor função: \",x_medio^2 - 2*x_medio)\n",
    "       \n",
    "end"
   ]
  },
  {
   "cell_type": "code",
   "execution_count": 9,
   "metadata": {
    "collapsed": false
   },
   "outputs": [
    {
     "name": "stdout",
     "output_type": "stream",
     "text": [
      "interação: 0 : 2.0, valor função: 0.0\n",
      "interação: 1 : 1.75, valor função: -0.4375\n",
      "interação: 2 : 1.875, valor função: -0.234375\n",
      "interação: 3 : 1.9375, valor função: -0.12109375\n",
      "interação: 4 : 1.96875, valor função: -0.0615234375\n",
      "interação: 5 : 1.984375, valor função: -0.031005859375\n",
      "interação: 6 : 1.9921875, valor função: -0.01556396484375\n",
      "interação: 7 : 1.99609375, valor função: -0.0077972412109375\n",
      "interação: 8 : 1.998046875, valor função: -0.003902435302734375\n",
      "interação: 9 : 1.9990234375, valor função: -0.0019521713256835938\n",
      "interação: 10 : 1.99951171875, valor função: -0.0009763240814208984\n",
      "interação: 11 : 1.999755859375, valor função: -0.0004882216453552246\n",
      "interação: 12 : 1.9998779296875, valor função: -0.00024412572383880615\n",
      "interação: 13 : 1.99993896484375, valor função: -0.00012206658720970154\n",
      "interação: 14 : 1.999969482421875, valor função: -6.1034224927425385e-5\n",
      "interação: 15 : 1.9999847412109375, valor função: -3.0517345294356346e-5\n",
      "interação: 16 : 1.9999923706054688, valor função: -1.5258730854839087e-5\n",
      "interação: 17 : 1.9999961853027344, valor função: -7.629379979334772e-6\n"
     ]
    }
   ],
   "source": [
    "fmetbissec(1.5,2.5,0.00001)"
   ]
  },
  {
   "cell_type": "markdown",
   "metadata": {},
   "source": [
    "Para ler o cabeçalho da função use: ? metbissec"
   ]
  },
  {
   "cell_type": "code",
   "execution_count": 13,
   "metadata": {
    "collapsed": false
   },
   "outputs": [
    {
     "name": "stdout",
     "output_type": "stream",
     "text": [
      "search: fmetbissec\n",
      "\n"
     ]
    },
    {
     "data": {
      "text/latex": [
       "Metodo da Bisseccao\n",
       "Calcula uma aproximação para uma raiz da função de f(x)\n",
       "Entre os intervalo [ao,bo] e a tolerencia de erro daddo por tol.\n"
      ],
      "text/markdown": [
       "Metodo da Bisseccao\n",
       "\n",
       "Calcula uma aproximação para uma raiz da função de f(x)\n",
       "\n",
       "Entre os intervalo [ao,bo] e a tolerencia de erro daddo por tol.\n"
      ],
      "text/plain": [
       "Metodo da Bisseccao\n",
       "\n",
       "Calcula uma aproximação para uma raiz da função de f(x)\n",
       "\n",
       "Entre os intervalo [ao,bo] e a tolerencia de erro daddo por tol.\n"
      ]
     },
     "execution_count": 13,
     "metadata": {},
     "output_type": "execute_result"
    }
   ],
   "source": [
    "? fmetbissec"
   ]
  },
  {
   "cell_type": "markdown",
   "metadata": {},
   "source": [
    "* **Função série de Fibonacci ** "
   ]
  },
  {
   "cell_type": "code",
   "execution_count": 45,
   "metadata": {
    "collapsed": false
   },
   "outputs": [
    {
     "data": {
      "text/plain": [
       "fiboR (generic function with 1 method)"
      ]
     },
     "execution_count": 45,
     "metadata": {},
     "output_type": "execute_result"
    }
   ],
   "source": [
    "function fiboR(n) \n",
    "    if n < 2 \n",
    "        return n\n",
    "    else\n",
    "        fiboR(n-1) + fiboR(n-2)\n",
    "    end\n",
    "end"
   ]
  },
  {
   "cell_type": "code",
   "execution_count": 46,
   "metadata": {
    "collapsed": false,
    "scrolled": true
   },
   "outputs": [
    {
     "name": "stdout",
     "output_type": "stream",
     "text": [
      "  0.099072 seconds (697 allocations: 37.531 KB)\n"
     ]
    },
    {
     "data": {
      "text/plain": [
       "9227465"
      ]
     },
     "execution_count": 46,
     "metadata": {},
     "output_type": "execute_result"
    }
   ],
   "source": [
    "@time fiboR(35)"
   ]
  },
  {
   "cell_type": "markdown",
   "metadata": {},
   "source": [
    "#### IMPORTANDO FUNÇÕES \".jl  ####\n",
    "\n",
    "O código deve ser escrito em um arquivo com a extensão \".jl\" e importado usando a função ** include(\"arquivo.jl\") **"
   ]
  },
  {
   "cell_type": "code",
   "execution_count": 43,
   "metadata": {
    "collapsed": false
   },
   "outputs": [
    {
     "data": {
      "text/plain": [
       "ffiboR_JL (generic function with 1 method)"
      ]
     },
     "execution_count": 43,
     "metadata": {},
     "output_type": "execute_result"
    }
   ],
   "source": [
    "include(\"ffiboR_JL.jl\")"
   ]
  },
  {
   "cell_type": "code",
   "execution_count": 44,
   "metadata": {
    "collapsed": false,
    "scrolled": true
   },
   "outputs": [
    {
     "name": "stdout",
     "output_type": "stream",
     "text": [
      "  1.077163 seconds (753 allocations: 41.139 KB)\n"
     ]
    },
    {
     "data": {
      "text/plain": [
       "102334155"
      ]
     },
     "execution_count": 44,
     "metadata": {},
     "output_type": "execute_result"
    }
   ],
   "source": [
    "@time ffiboR_JL(40)"
   ]
  },
  {
   "cell_type": "markdown",
   "metadata": {},
   "source": [
    "** % FIM PROGRAMAÇÃO BÁSICA % **"
   ]
  },
  {
   "cell_type": "code",
   "execution_count": null,
   "metadata": {
    "collapsed": true
   },
   "outputs": [],
   "source": []
  }
 ],
 "metadata": {
  "kernelspec": {
   "display_name": "Julia 0.4.5",
   "language": "julia",
   "name": "julia-0.4"
  },
  "language_info": {
   "file_extension": ".jl",
   "mimetype": "application/julia",
   "name": "julia",
   "version": "0.4.5"
  }
 },
 "nbformat": 4,
 "nbformat_minor": 0
}
