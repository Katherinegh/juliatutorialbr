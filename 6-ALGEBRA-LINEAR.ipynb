{
 "cells": [
  {
   "cell_type": "markdown",
   "metadata": {},
   "source": [
    "# ALGEBRA LINEAR#"
   ]
  },
  {
   "cell_type": "markdown",
   "metadata": {
    "collapsed": true
   },
   "source": [
    "## VETORES ##"
   ]
  },
  {
   "cell_type": "markdown",
   "metadata": {},
   "source": [
    "### CRIAÇÃO DE VETORES E ACESSO A ELEMENTOS"
   ]
  },
  {
   "cell_type": "markdown",
   "metadata": {},
   "source": [
    "* ** Vetor Linha **\n",
    "\n",
    "Vetores Linhas são vetores Bidimensionais, **Array{Tipo_dado,2}**, ou seja são...."
   ]
  },
  {
   "cell_type": "code",
   "execution_count": 17,
   "metadata": {
    "collapsed": false,
    "scrolled": true
   },
   "outputs": [
    {
     "data": {
      "text/plain": [
       "1x5 Array{Int64,2}:\n",
       " 1  2  3  4  5"
      ]
     },
     "execution_count": 17,
     "metadata": {},
     "output_type": "execute_result"
    }
   ],
   "source": [
    "v_linha = [1 2 3 4 5] \n",
    "\n",
    "v_linha"
   ]
  },
  {
   "cell_type": "markdown",
   "metadata": {},
   "source": [
    "* ** Vetor Coluna **\n",
    "\n",
    "Vetores Linhas são vetores Unidimensionais, **Array{Tipo_dado,1}**, ou seja são...."
   ]
  },
  {
   "cell_type": "code",
   "execution_count": 2,
   "metadata": {
    "collapsed": false,
    "scrolled": true
   },
   "outputs": [
    {
     "data": {
      "text/plain": [
       "5-element Array{Int64,1}:\n",
       " 1\n",
       " 2\n",
       " 3\n",
       " 4\n",
       " 5"
      ]
     },
     "execution_count": 2,
     "metadata": {},
     "output_type": "execute_result"
    }
   ],
   "source": [
    "v_coluna1 = [1;2;3;4;5]\n",
    "\n",
    "v_coluna1"
   ]
  },
  {
   "cell_type": "code",
   "execution_count": 3,
   "metadata": {
    "collapsed": false,
    "scrolled": false
   },
   "outputs": [
    {
     "data": {
      "text/plain": [
       "5-element Array{Int64,1}:\n",
       " 1\n",
       " 2\n",
       " 3\n",
       " 4\n",
       " 5"
      ]
     },
     "execution_count": 3,
     "metadata": {},
     "output_type": "execute_result"
    }
   ],
   "source": [
    "v_coluna2 = [1,2,3,4,5]\n",
    "\n",
    "v_coluna2"
   ]
  },
  {
   "cell_type": "code",
   "execution_count": 4,
   "metadata": {
    "collapsed": false,
    "scrolled": true
   },
   "outputs": [
    {
     "data": {
      "text/plain": [
       "6-element Array{Int64,1}:\n",
       "  0\n",
       "  2\n",
       "  4\n",
       "  6\n",
       "  8\n",
       " 10"
      ]
     },
     "execution_count": 4,
     "metadata": {},
     "output_type": "execute_result"
    }
   ],
   "source": [
    "# collect(inicio,passo, fim)\n",
    "\n",
    "collect(0:2:10)"
   ]
  },
  {
   "cell_type": "code",
   "execution_count": 5,
   "metadata": {
    "collapsed": false
   },
   "outputs": [
    {
     "data": {
      "text/plain": [
       "6-element Array{Int64,1}:\n",
       " 10\n",
       "  8\n",
       "  6\n",
       "  4\n",
       "  2\n",
       "  0"
      ]
     },
     "execution_count": 5,
     "metadata": {},
     "output_type": "execute_result"
    }
   ],
   "source": [
    "collect(10:-2:0)"
   ]
  },
  {
   "cell_type": "markdown",
   "metadata": {},
   "source": [
    "* ** Acessar elementos do vetor **"
   ]
  },
  {
   "cell_type": "code",
   "execution_count": 6,
   "metadata": {
    "collapsed": false,
    "scrolled": false
   },
   "outputs": [
    {
     "data": {
      "text/plain": [
       "2"
      ]
     },
     "execution_count": 6,
     "metadata": {},
     "output_type": "execute_result"
    }
   ],
   "source": [
    "v_linha[2]"
   ]
  },
  {
   "cell_type": "code",
   "execution_count": 7,
   "metadata": {
    "collapsed": false
   },
   "outputs": [
    {
     "data": {
      "text/plain": [
       "2"
      ]
     },
     "execution_count": 7,
     "metadata": {},
     "output_type": "execute_result"
    }
   ],
   "source": [
    "v_coluna1[2]"
   ]
  },
  {
   "cell_type": "code",
   "execution_count": 8,
   "metadata": {
    "collapsed": false
   },
   "outputs": [
    {
     "data": {
      "text/plain": [
       "3-element Array{Int64,1}:\n",
       " 3\n",
       " 4\n",
       " 5"
      ]
     },
     "execution_count": 8,
     "metadata": {},
     "output_type": "execute_result"
    }
   ],
   "source": [
    "# listar a partir do terceiro elemento até o fim\n",
    "\n",
    "v_linha[3:end]"
   ]
  },
  {
   "cell_type": "markdown",
   "metadata": {},
   "source": [
    "### OPERAÇÕES COM VETORES###"
   ]
  },
  {
   "cell_type": "markdown",
   "metadata": {},
   "source": [
    "* ** Soma de vetores **"
   ]
  },
  {
   "cell_type": "code",
   "execution_count": 7,
   "metadata": {
    "collapsed": false
   },
   "outputs": [
    {
     "data": {
      "text/plain": [
       "3-element Array{Int64,1}:\n",
       " 5\n",
       " 7\n",
       " 9"
      ]
     },
     "execution_count": 7,
     "metadata": {},
     "output_type": "execute_result"
    }
   ],
   "source": [
    "v = [1, 2, 3]\n",
    "u = [4, 5, 6]\n",
    "\n",
    "u+v"
   ]
  },
  {
   "cell_type": "markdown",
   "metadata": {},
   "source": [
    "* **Subtração **\n",
    "\n",
    "$[4-1 ~~ 5-2 ~~  6-3]$ e $[1-3 ~~  2-5 ~~  3-6]$"
   ]
  },
  {
   "cell_type": "code",
   "execution_count": 8,
   "metadata": {
    "collapsed": false,
    "scrolled": true
   },
   "outputs": [
    {
     "data": {
      "text/plain": [
       "3-element Array{Int64,1}:\n",
       " 3\n",
       " 3\n",
       " 3"
      ]
     },
     "metadata": {},
     "output_type": "display_data"
    },
    {
     "data": {
      "text/plain": [
       "3-element Array{Int64,1}:\n",
       " -3\n",
       " -3\n",
       " -3"
      ]
     },
     "metadata": {},
     "output_type": "display_data"
    }
   ],
   "source": [
    "v = [1, 2, 3]\n",
    "u = [4, 5, 6]\n",
    "\n",
    "display(u-v)\n",
    "\n",
    "display(v-u)"
   ]
  },
  {
   "cell_type": "markdown",
   "metadata": {},
   "source": [
    "### OPERAÇÕES COM NUMEROS ESCALARES###"
   ]
  },
  {
   "cell_type": "markdown",
   "metadata": {},
   "source": [
    "* ** Multiplicação por escalar ** \n",
    "\n",
    "$[1x2 ~~ 2x2 ~~ 3x2]$"
   ]
  },
  {
   "cell_type": "code",
   "execution_count": 9,
   "metadata": {
    "collapsed": false
   },
   "outputs": [
    {
     "data": {
      "text/plain": [
       "3-element Array{Int64,1}:\n",
       " 2\n",
       " 4\n",
       " 6"
      ]
     },
     "execution_count": 9,
     "metadata": {},
     "output_type": "execute_result"
    }
   ],
   "source": [
    "v = [1, 2, 3]\n",
    "\n",
    "2*v"
   ]
  },
  {
   "cell_type": "markdown",
   "metadata": {},
   "source": [
    "* ** Multiplicação elemento por elemento entre vetores** \n",
    "\n",
    "$[1x4 ~~ 2x5 ~~ 3x6]$"
   ]
  },
  {
   "cell_type": "code",
   "execution_count": 10,
   "metadata": {
    "collapsed": false
   },
   "outputs": [
    {
     "data": {
      "text/plain": [
       "3-element Array{Int64,1}:\n",
       "  4\n",
       " 10\n",
       " 18"
      ]
     },
     "execution_count": 10,
     "metadata": {},
     "output_type": "execute_result"
    }
   ],
   "source": [
    "v = [1, 2, 3]\n",
    "u = [4, 5, 6]\n",
    "\n",
    "v.*u"
   ]
  },
  {
   "cell_type": "markdown",
   "metadata": {},
   "source": [
    "* **Multiplicação elemento por elemento entre vetores**\n",
    "\n",
    "$[1x4 ~~ 2x5 ~~ 3x6]$ pelo map()\n"
   ]
  },
  {
   "cell_type": "code",
   "execution_count": 11,
   "metadata": {
    "collapsed": false
   },
   "outputs": [
    {
     "data": {
      "text/plain": [
       "3-element Array{Int64,1}:\n",
       "  4\n",
       " 10\n",
       " 18"
      ]
     },
     "execution_count": 11,
     "metadata": {},
     "output_type": "execute_result"
    }
   ],
   "source": [
    "map(*, v, u)"
   ]
  },
  {
   "cell_type": "markdown",
   "metadata": {},
   "source": [
    "* **Divisão por escalar**"
   ]
  },
  {
   "cell_type": "code",
   "execution_count": 21,
   "metadata": {
    "collapsed": false
   },
   "outputs": [
    {
     "data": {
      "text/plain": [
       "3-element Array{Float64,1}:\n",
       " 0.5\n",
       " 1.0\n",
       " 1.5"
      ]
     },
     "execution_count": 21,
     "metadata": {},
     "output_type": "execute_result"
    }
   ],
   "source": [
    "# [1/2, 2/2, 3/2]\n",
    "\n",
    "v = [1, 2, 3]\n",
    "\n",
    "v/2"
   ]
  },
  {
   "cell_type": "code",
   "execution_count": 13,
   "metadata": {
    "collapsed": false,
    "scrolled": true
   },
   "outputs": [
    {
     "data": {
      "text/plain": [
       "3-element Array{Float64,1}:\n",
       " 0.25\n",
       " 0.4 \n",
       " 0.5 "
      ]
     },
     "execution_count": 13,
     "metadata": {},
     "output_type": "execute_result"
    }
   ],
   "source": [
    "# Divisão elemento por elemento entre vetores [1/4, 2/5, 3/6]\n",
    "\n",
    "v = [1, 2, 3]\n",
    "u = [4, 5, 6]\n",
    "\n",
    "\n",
    "v./u"
   ]
  },
  {
   "cell_type": "code",
   "execution_count": 16,
   "metadata": {
    "collapsed": false,
    "scrolled": true
   },
   "outputs": [
    {
     "data": {
      "text/plain": [
       "1x3 Array{Float64,2}:\n",
       " 0.25  0.4  0.5"
      ]
     },
     "execution_count": 16,
     "metadata": {},
     "output_type": "execute_result"
    }
   ],
   "source": [
    "# Divisão elemento por elemento entre vetores [1/4, 2/5, 3/6] pelo map()\n",
    "\n",
    "map(/, v, u)"
   ]
  },
  {
   "cell_type": "markdown",
   "metadata": {},
   "source": [
    "* ** Potencia por escalar**"
   ]
  },
  {
   "cell_type": "code",
   "execution_count": 17,
   "metadata": {
    "collapsed": false,
    "scrolled": true
   },
   "outputs": [
    {
     "data": {
      "text/plain": [
       "1x3 Array{Int64,2}:\n",
       " 1  4  9"
      ]
     },
     "execution_count": 17,
     "metadata": {},
     "output_type": "execute_result"
    }
   ],
   "source": [
    "# Potencia elemento por elemento [1^2 2^2 3^2]\n",
    "\n",
    "v = [1 2 3]\n",
    "\n",
    "v.^2"
   ]
  },
  {
   "cell_type": "code",
   "execution_count": 15,
   "metadata": {
    "collapsed": false
   },
   "outputs": [
    {
     "data": {
      "text/plain": [
       "3-element Array{Int64,1}:\n",
       "   1\n",
       "  32\n",
       " 729"
      ]
     },
     "execution_count": 15,
     "metadata": {},
     "output_type": "execute_result"
    }
   ],
   "source": [
    "# Potencia elemento por elemento entre vetores [1^4 2^5 3^6]\n",
    "\n",
    "v = [1, 2, 3]\n",
    "u = [4, 5, 6]\n",
    "\n",
    "v.^u"
   ]
  },
  {
   "cell_type": "code",
   "execution_count": 16,
   "metadata": {
    "collapsed": false
   },
   "outputs": [
    {
     "data": {
      "text/plain": [
       "3-element Array{Int64,1}:\n",
       "   1\n",
       "  32\n",
       " 729"
      ]
     },
     "execution_count": 16,
     "metadata": {},
     "output_type": "execute_result"
    }
   ],
   "source": [
    "# Potencia elemento por elemento entre vetores [1^4, 2^5, 3^6] pelo map()\n",
    "\n",
    "map(^, v,u)"
   ]
  },
  {
   "cell_type": "markdown",
   "metadata": {},
   "source": [
    "### TRANSPOSIÇÃO DE UM VETOR \n",
    "\n",
    "Veja que a transposição altera o tipo do vetor de Unidimensional(Array{Tipo_dado,1}) para Bidimensional(Array{Tipo_dado,2}) ou o contrário"
   ]
  },
  {
   "cell_type": "code",
   "execution_count": 17,
   "metadata": {
    "collapsed": false,
    "scrolled": true
   },
   "outputs": [
    {
     "data": {
      "text/plain": [
       "3-element Array{Int64,1}:\n",
       " 1\n",
       " 2\n",
       " 3"
      ]
     },
     "metadata": {},
     "output_type": "display_data"
    },
    {
     "data": {
      "text/plain": [
       "1x3 Array{Int64,2}:\n",
       " 1  2  3"
      ]
     },
     "metadata": {},
     "output_type": "display_data"
    },
    {
     "data": {
      "text/plain": [
       "1x3 Array{Int64,2}:\n",
       " 1  2  3"
      ]
     },
     "metadata": {},
     "output_type": "display_data"
    }
   ],
   "source": [
    "display(v)\n",
    "\n",
    "display(transpose(v))\n",
    "\n",
    "display(v')"
   ]
  },
  {
   "cell_type": "markdown",
   "metadata": {},
   "source": [
    "### VETOR ALEATORIO \n",
    "\n",
    "Para criar um vetor de dados aleatórios entre 0 e 1 use:\n",
    "```julia\n",
    "rand(coluna) \n",
    "```\n",
    "O array criado será do tipo **Array{Float64,1}**"
   ]
  },
  {
   "cell_type": "code",
   "execution_count": 6,
   "metadata": {
    "collapsed": false,
    "scrolled": true
   },
   "outputs": [
    {
     "data": {
      "text/plain": [
       "4-element Array{Float64,1}:\n",
       " 0.767105\n",
       " 0.549018\n",
       " 0.219592\n",
       " 0.256957"
      ]
     },
     "metadata": {},
     "output_type": "display_data"
    },
    {
     "data": {
      "text/plain": [
       "5-element Array{Float64,1}:\n",
       " 0.349299 \n",
       " 0.439945 \n",
       " 0.755291 \n",
       " 0.478085 \n",
       " 0.0996559"
      ]
     },
     "metadata": {},
     "output_type": "display_data"
    }
   ],
   "source": [
    "display(rand(4)) \n",
    "\n",
    "display(rand(5))"
   ]
  },
  {
   "cell_type": "markdown",
   "metadata": {},
   "source": [
    "**CUIDADO**: é possível definir rand(coluna, linha). Dessa forma o vetor será bidimensional do tipo **Array{Float64,2}**. Ex: **rand(1,5)** cria o vetor bidimensional de 1 linha e 5 colunas"
   ]
  },
  {
   "cell_type": "markdown",
   "metadata": {},
   "source": [
    "### VALORES DE  Max e Min DE UM VETOR ###"
   ]
  },
  {
   "cell_type": "code",
   "execution_count": 20,
   "metadata": {
    "collapsed": false
   },
   "outputs": [
    {
     "data": {
      "text/plain": [
       "3"
      ]
     },
     "execution_count": 20,
     "metadata": {},
     "output_type": "execute_result"
    }
   ],
   "source": [
    "# Valor máximo do vetor v = [1, 2, 3]\n",
    "\n",
    "maximum(v)"
   ]
  },
  {
   "cell_type": "code",
   "execution_count": 21,
   "metadata": {
    "collapsed": false,
    "scrolled": false
   },
   "outputs": [
    {
     "data": {
      "text/plain": [
       "(3,3)"
      ]
     },
     "execution_count": 21,
     "metadata": {},
     "output_type": "execute_result"
    }
   ],
   "source": [
    "# Valor máximo de um vetor e indice\n",
    "\n",
    "(valor,indice) = findmax(v); \n",
    "valor,indice"
   ]
  },
  {
   "cell_type": "code",
   "execution_count": 23,
   "metadata": {
    "collapsed": false
   },
   "outputs": [
    {
     "data": {
      "text/plain": [
       "(1,3)"
      ]
     },
     "execution_count": 23,
     "metadata": {},
     "output_type": "execute_result"
    }
   ],
   "source": [
    "# valores extremos de um vetor: minimo e máximo simultâneo.\n",
    "\n",
    "extrema(v)"
   ]
  },
  {
   "cell_type": "code",
   "execution_count": 24,
   "metadata": {
    "collapsed": false,
    "scrolled": true
   },
   "outputs": [
    {
     "data": {
      "text/plain": [
       "(3,true)"
      ]
     },
     "execution_count": 24,
     "metadata": {},
     "output_type": "execute_result"
    }
   ],
   "source": [
    "# Testando se o indice 3 corresponde ao elemento de maior valor do vetor v = [1, 2, 3]. \n",
    "# O valor true no teste de igualdade corresponde a verdadeiro\n",
    "\n",
    "valor, indice == maximum(v)"
   ]
  },
  {
   "cell_type": "code",
   "execution_count": 26,
   "metadata": {
    "collapsed": false
   },
   "outputs": [
    {
     "data": {
      "text/plain": [
       "1"
      ]
     },
     "execution_count": 26,
     "metadata": {},
     "output_type": "execute_result"
    }
   ],
   "source": [
    "# Valor mínimo de um vetor\n",
    "\n",
    "minimum(v)"
   ]
  },
  {
   "cell_type": "code",
   "execution_count": 27,
   "metadata": {
    "collapsed": false
   },
   "outputs": [
    {
     "data": {
      "text/plain": [
       "(1,1)"
      ]
     },
     "execution_count": 27,
     "metadata": {},
     "output_type": "execute_result"
    }
   ],
   "source": [
    "# Valor minimo de um vetor e indice\n",
    "\n",
    "(valor, indice) = findmin(v)"
   ]
  },
  {
   "cell_type": "code",
   "execution_count": 25,
   "metadata": {
    "collapsed": false,
    "scrolled": true
   },
   "outputs": [
    {
     "data": {
      "text/plain": [
       "(3,false)"
      ]
     },
     "execution_count": 25,
     "metadata": {},
     "output_type": "execute_result"
    }
   ],
   "source": [
    "# Testando se o indice 1 corresponde ao elemento de menor valor do vetor v = [1, 2, 3].\n",
    "# O valor true no teste de igualdade corresponde a verdadeiro\n",
    "\n",
    "indice, valor == minimum(v)"
   ]
  },
  {
   "cell_type": "markdown",
   "metadata": {},
   "source": [
    "### PRODUTO INTERNO ENTRE VETORES ###"
   ]
  },
  {
   "cell_type": "code",
   "execution_count": 26,
   "metadata": {
    "collapsed": false
   },
   "outputs": [
    {
     "data": {
      "text/plain": [
       "(32,32)"
      ]
     },
     "execution_count": 26,
     "metadata": {},
     "output_type": "execute_result"
    }
   ],
   "source": [
    "# Produto interno: somente vetores coluna. aqui o uso do transpose ou v' nao funciona\n",
    "\n",
    "v = [1, 2, 3]\n",
    "u = [4, 5, 6]\n",
    "\n",
    "v_col = vec(v)\n",
    "u_col = vec(u)\n",
    "\n",
    "dot(v_col,u_col), dot(u_col,v_col)"
   ]
  },
  {
   "cell_type": "code",
   "execution_count": 27,
   "metadata": {
    "collapsed": false
   },
   "outputs": [
    {
     "data": {
      "text/plain": [
       "([-3,6,-3],[3,-6,3])"
      ]
     },
     "execution_count": 27,
     "metadata": {},
     "output_type": "execute_result"
    }
   ],
   "source": [
    "# Produto externo ou vetorial\n",
    "\n",
    "cross(v_col,u_col), cross(u_col,v_col)"
   ]
  },
  {
   "cell_type": "code",
   "execution_count": null,
   "metadata": {
    "collapsed": true
   },
   "outputs": [],
   "source": []
  },
  {
   "cell_type": "markdown",
   "metadata": {},
   "source": [
    "### MULTIPLICAÇÃO VETORIAL ENTRE VETORES \n",
    "\n",
    "Multiplicação  v(linhas_v,colunas_v) * u(linhas_u,colunas_u) , só é possível se colunas_v = linhas_u \n",
    "ou seja se o número de colunas de v for igual ao númer de linhas de \n",
    "colunas de u resultando em um vetor de m_v linhas e n_u colunas"
   ]
  },
  {
   "cell_type": "code",
   "execution_count": 34,
   "metadata": {
    "collapsed": false
   },
   "outputs": [
    {
     "data": {
      "text/plain": [
       "1x3 Array{Int64,2}:\n",
       " 4  5  6"
      ]
     },
     "execution_count": 34,
     "metadata": {},
     "output_type": "execute_result"
    }
   ],
   "source": [
    "# Vetor 3x1 Array{Int64,1}\n",
    "v = [1, 2, 3]\n",
    "\n",
    "# Vetor 1x3 Array{Int64,2}\n",
    "u = [4 5 6]"
   ]
  },
  {
   "cell_type": "code",
   "execution_count": 38,
   "metadata": {
    "collapsed": false,
    "scrolled": true
   },
   "outputs": [
    {
     "data": {
      "text/plain": [
       "([32],Array{Int64,1})"
      ]
     },
     "execution_count": 38,
     "metadata": {},
     "output_type": "execute_result"
    }
   ],
   "source": [
    "# o vetor resultante será 1x3 * 3x1  = 1x1, um vetor unitátio de 1 linha e 1 coluna\n",
    "\n",
    "w = u*v\n",
    "\n",
    "w, typeof(w)"
   ]
  },
  {
   "cell_type": "markdown",
   "metadata": {},
   "source": [
    "## MATRIZES##"
   ]
  },
  {
   "cell_type": "markdown",
   "metadata": {},
   "source": [
    "### CRIAÇÃO DE MATRIZES E ACESSO A ELEMENTOS###"
   ]
  },
  {
   "cell_type": "markdown",
   "metadata": {},
   "source": [
    "* ** Criação de uma matrix **"
   ]
  },
  {
   "cell_type": "code",
   "execution_count": 43,
   "metadata": {
    "collapsed": false,
    "scrolled": true
   },
   "outputs": [
    {
     "data": {
      "text/plain": [
       "2x3 Array{Int64,2}:\n",
       " 1  2  3\n",
       " 4  5  6"
      ]
     },
     "execution_count": 43,
     "metadata": {},
     "output_type": "execute_result"
    }
   ],
   "source": [
    "Ma1 = [1 2 3;4 5 6]"
   ]
  },
  {
   "cell_type": "code",
   "execution_count": 44,
   "metadata": {
    "collapsed": false,
    "scrolled": false
   },
   "outputs": [
    {
     "data": {
      "text/plain": [
       "2x3 Array{Int64,2}:\n",
       " 1  2  3\n",
       " 4  5  6"
      ]
     },
     "execution_count": 44,
     "metadata": {},
     "output_type": "execute_result"
    }
   ],
   "source": [
    "Ma2 = [[1 2 3 ];[4 5 6 ]]"
   ]
  },
  {
   "cell_type": "markdown",
   "metadata": {},
   "source": [
    "* **Acessando elementos da matriz **"
   ]
  },
  {
   "cell_type": "code",
   "execution_count": 46,
   "metadata": {
    "collapsed": false
   },
   "outputs": [
    {
     "data": {
      "text/plain": [
       "2"
      ]
     },
     "execution_count": 46,
     "metadata": {},
     "output_type": "execute_result"
    }
   ],
   "source": [
    "# Elemento da 1ª Linha e 2ª coluna\n",
    "\n",
    "Ma1[1,2]"
   ]
  },
  {
   "cell_type": "code",
   "execution_count": 49,
   "metadata": {
    "collapsed": false
   },
   "outputs": [
    {
     "data": {
      "text/plain": [
       "1x3 Array{Int64,2}:\n",
       " 4  5  6"
      ]
     },
     "execution_count": 49,
     "metadata": {},
     "output_type": "execute_result"
    }
   ],
   "source": [
    "# Todos os elementos da segunda linha\n",
    "\n",
    "Ma1[2,:]"
   ]
  },
  {
   "cell_type": "code",
   "execution_count": 48,
   "metadata": {
    "collapsed": false
   },
   "outputs": [
    {
     "data": {
      "text/plain": [
       "2-element Array{Int64,1}:\n",
       " 2\n",
       " 5"
      ]
     },
     "execution_count": 48,
     "metadata": {},
     "output_type": "execute_result"
    }
   ],
   "source": [
    "# Todos os elementos da segunda coluna\n",
    "\n",
    "Ma1[:,2]"
   ]
  },
  {
   "cell_type": "markdown",
   "metadata": {},
   "source": [
    "* ** Redimensionar matrzes **"
   ]
  },
  {
   "cell_type": "code",
   "execution_count": 55,
   "metadata": {
    "collapsed": false
   },
   "outputs": [
    {
     "data": {
      "text/plain": [
       "3x2 Array{Int64,2}:\n",
       " 1  4\n",
       " 2  5\n",
       " 3  6"
      ]
     },
     "metadata": {},
     "output_type": "display_data"
    },
    {
     "data": {
      "text/plain": [
       "2x3 Array{Int64,2}:\n",
       " 1  3  5\n",
       " 2  4  6"
      ]
     },
     "metadata": {},
     "output_type": "display_data"
    }
   ],
   "source": [
    "# Cria uma matriz a partir de um vetor coluna na forma reshape([vetor],linha,coluna)\n",
    "\n",
    "Mra = reshape([1,2,3,4,5,6], 3,2)\n",
    "\n",
    "Mrb = reshape([1,2,3,4,5,6], 2,3)\n",
    "\n",
    "display(Mra) \n",
    "\n",
    "display(Mrb)"
   ]
  },
  {
   "cell_type": "markdown",
   "metadata": {},
   "source": [
    "### GRÁFICO DE UMA MATRIZ ###"
   ]
  },
  {
   "cell_type": "code",
   "execution_count": 1,
   "metadata": {
    "collapsed": false,
    "scrolled": true
   },
   "outputs": [
    {
     "data": {
      "text/plain": [
       "3x3 Array{Float64,2}:\n",
       " 0.916557  0.430734  0.410622\n",
       " 0.459279  0.039889  0.830169\n",
       " 0.870825  0.555419  0.104897"
      ]
     },
     "execution_count": 1,
     "metadata": {},
     "output_type": "execute_result"
    }
   ],
   "source": [
    "Mx = [0.916557   0.430734   0.410622; 0.459279   0.039889   0.830169; 0.870825   0.555419   0.104897]"
   ]
  },
  {
   "cell_type": "code",
   "execution_count": 3,
   "metadata": {
    "collapsed": false
   },
   "outputs": [
    {
     "data": {
      "image/png": "[encoded data removed]",
      "text/plain": [
       "Winston.FramedPlot(...)"
      ]
     },
     "execution_count": 3,
     "metadata": {},
     "output_type": "execute_result"
    }
   ],
   "source": [
    "using Winston\n",
    "\n",
    "Winston.imagesc(Mx)"
   ]
  },
  {
   "cell_type": "code",
   "execution_count": 5,
   "metadata": {
    "collapsed": false,
    "scrolled": true
   },
   "outputs": [
    {
     "data": {
      "image/png": "[encoded data removed]",
      "image/svg+xml": [
       "<?xml version=\"1.0\" encoding=\"UTF-8\"?>\n",
       "<svg xmlns=\"http://www.w3.org/2000/svg\"\n",
       "     xmlns:xlink=\"http://www.w3.org/1999/xlink\"\n",
       "     xmlns:gadfly=\"http://www.gadflyjl.org/ns\"\n",
       "     version=\"1.2\"\n",
       "     width=\"141.42mm\" height=\"100mm\" viewBox=\"0 0 141.42 100\"\n",
       "     stroke=\"none\"\n",
       "     fill=\"#000000\"\n",
       "     stroke-width=\"0.3\"\n",
       "     font-size=\"3.88\"\n",
       ">\n",
       "<g class=\"plotroot xscalable yscalable\" id=\"img-79648d93-1\">\n",
       "  <g font-size=\"3.88\" font-family=\"'PT Sans','Helvetica Neue','Helvetica',sans-serif\" fill=\"#564A55\" stroke=\"#000000\" stroke-opacity=\"0.000\" id=\"img-79648d93-2\">\n",
       "    <text x=\"71.74\" y=\"88.39\" text-anchor=\"middle\" dy=\"0.6em\">j</text>\n",
       "  </g>\n",
       "  <g class=\"guide xlabels\" font-size=\"2.82\" font-family=\"'PT Sans Caption','Helvetica Neue','Helvetica',sans-serif\" fill=\"#6C606B\" id=\"img-79648d93-3\">\n",
       "    <text x=\"35.88\" y=\"81.72\" text-anchor=\"middle\" dy=\"0.6em\">0.5</text>\n",
       "    <text x=\"47.83\" y=\"81.72\" text-anchor=\"middle\" dy=\"0.6em\">1.0</text>\n",
       "    <text x=\"59.79\" y=\"81.72\" text-anchor=\"middle\" dy=\"0.6em\">1.5</text>\n",
       "    <text x=\"71.74\" y=\"81.72\" text-anchor=\"middle\" dy=\"0.6em\">2.0</text>\n",
       "    <text x=\"83.69\" y=\"81.72\" text-anchor=\"middle\" dy=\"0.6em\">2.5</text>\n",
       "    <text x=\"95.64\" y=\"81.72\" text-anchor=\"middle\" dy=\"0.6em\">3.0</text>\n",
       "    <text x=\"107.6\" y=\"81.72\" text-anchor=\"middle\" dy=\"0.6em\">3.5</text>\n",
       "  </g>\n",
       "  <g class=\"guide colorkey\" id=\"img-79648d93-4\">\n",
       "    <g font-size=\"2.82\" font-family=\"'PT Sans','Helvetica Neue','Helvetica',sans-serif\" fill=\"#4C404B\" id=\"img-79648d93-5\">\n",
       "      <text x=\"113.91\" y=\"59.84\" dy=\"0.35em\">0.2</text>\n",
       "      <text x=\"113.91\" y=\"47.34\" dy=\"0.35em\">0.6</text>\n",
       "      <text x=\"113.91\" y=\"53.59\" dy=\"0.35em\">0.4</text>\n",
       "      <text x=\"113.91\" y=\"34.84\" dy=\"0.35em\">1.0</text>\n",
       "      <text x=\"113.91\" y=\"66.1\" dy=\"0.35em\">0.0</text>\n",
       "      <text x=\"113.91\" y=\"41.09\" dy=\"0.35em\">0.8</text>\n",
       "    </g>\n",
       "    <g shape-rendering=\"crispEdges\" stroke=\"#000000\" stroke-opacity=\"0.000\" id=\"img-79648d93-6\">\n",
       "      <rect x=\"111.6\" y=\"65.31\" width=\"1.31\" height=\"0.78\" fill=\"#004D84\"/>\n",
       "      <rect x=\"111.6\" y=\"64.53\" width=\"1.31\" height=\"0.78\" fill=\"#005B8D\"/>\n",
       "      <rect x=\"111.6\" y=\"63.75\" width=\"1.31\" height=\"0.78\" fill=\"#006995\"/>\n",
       "      <rect x=\"111.6\" y=\"62.97\" width=\"1.31\" height=\"0.78\" fill=\"#00769D\"/>\n",
       "      <rect x=\"111.6\" y=\"62.19\" width=\"1.31\" height=\"0.78\" fill=\"#0083A3\"/>\n",
       "      <rect x=\"111.6\" y=\"61.41\" width=\"1.31\" height=\"0.78\" fill=\"#278FA9\"/>\n",
       "      <rect x=\"111.6\" y=\"60.63\" width=\"1.31\" height=\"0.78\" fill=\"#409BAF\"/>\n",
       "      <rect x=\"111.6\" y=\"59.84\" width=\"1.31\" height=\"0.78\" fill=\"#55A7B5\"/>\n",
       "      <rect x=\"111.6\" y=\"59.06\" width=\"1.31\" height=\"0.78\" fill=\"#69B2BA\"/>\n",
       "      <rect x=\"111.6\" y=\"58.28\" width=\"1.31\" height=\"0.78\" fill=\"#7BBCC0\"/>\n",
       "      <rect x=\"111.6\" y=\"57.5\" width=\"1.31\" height=\"0.78\" fill=\"#8DC6C5\"/>\n",
       "      <rect x=\"111.6\" y=\"56.72\" width=\"1.31\" height=\"0.78\" fill=\"#9ED0CB\"/>\n",
       "      <rect x=\"111.6\" y=\"55.94\" width=\"1.31\" height=\"0.78\" fill=\"#A5CFC7\"/>\n",
       "      <rect x=\"111.6\" y=\"55.16\" width=\"1.31\" height=\"0.78\" fill=\"#ABCEC4\"/>\n",
       "      <rect x=\"111.6\" y=\"54.38\" width=\"1.31\" height=\"0.78\" fill=\"#B1CCC2\"/>\n",
       "      <rect x=\"111.6\" y=\"53.59\" width=\"1.31\" height=\"0.78\" fill=\"#B5CCC1\"/>\n",
       "      <rect x=\"111.6\" y=\"52.81\" width=\"1.31\" height=\"0.78\" fill=\"#B7CBBF\"/>\n",
       "      <rect x=\"111.6\" y=\"52.03\" width=\"1.31\" height=\"0.78\" fill=\"#B9CBBD\"/>\n",
       "      <rect x=\"111.6\" y=\"51.25\" width=\"1.31\" height=\"0.78\" fill=\"#BBCBBB\"/>\n",
       "      <rect x=\"111.6\" y=\"50.47\" width=\"1.31\" height=\"0.78\" fill=\"#BDCABA\"/>\n",
       "      <rect x=\"111.6\" y=\"49.69\" width=\"1.31\" height=\"0.78\" fill=\"#BFCAB8\"/>\n",
       "      <rect x=\"111.6\" y=\"48.91\" width=\"1.31\" height=\"0.78\" fill=\"#C2C9B7\"/>\n",
       "      <rect x=\"111.6\" y=\"48.13\" width=\"1.31\" height=\"0.78\" fill=\"#C4C9B6\"/>\n",
       "      <rect x=\"111.6\" y=\"47.34\" width=\"1.31\" height=\"0.78\" fill=\"#C6C8B5\"/>\n",
       "      <rect x=\"111.6\" y=\"46.56\" width=\"1.31\" height=\"0.78\" fill=\"#C9C7B4\"/>\n",
       "      <rect x=\"111.6\" y=\"45.78\" width=\"1.31\" height=\"0.78\" fill=\"#CCC7B2\"/>\n",
       "      <rect x=\"111.6\" y=\"45\" width=\"1.31\" height=\"0.78\" fill=\"#CFC6AE\"/>\n",
       "      <rect x=\"111.6\" y=\"44.22\" width=\"1.31\" height=\"0.78\" fill=\"#D4C5AA\"/>\n",
       "      <rect x=\"111.6\" y=\"43.44\" width=\"1.31\" height=\"0.78\" fill=\"#D8C3A6\"/>\n",
       "      <rect x=\"111.6\" y=\"42.66\" width=\"1.31\" height=\"0.78\" fill=\"#D3B79A\"/>\n",
       "      <rect x=\"111.6\" y=\"41.87\" width=\"1.31\" height=\"0.78\" fill=\"#CDAB8E\"/>\n",
       "      <rect x=\"111.6\" y=\"41.09\" width=\"1.31\" height=\"0.78\" fill=\"#C89E82\"/>\n",
       "      <rect x=\"111.6\" y=\"40.31\" width=\"1.31\" height=\"0.78\" fill=\"#C19177\"/>\n",
       "      <rect x=\"111.6\" y=\"39.53\" width=\"1.31\" height=\"0.78\" fill=\"#BA836C\"/>\n",
       "      <rect x=\"111.6\" y=\"38.75\" width=\"1.31\" height=\"0.78\" fill=\"#B27563\"/>\n",
       "      <rect x=\"111.6\" y=\"37.97\" width=\"1.31\" height=\"0.78\" fill=\"#AA665A\"/>\n",
       "      <rect x=\"111.6\" y=\"37.19\" width=\"1.31\" height=\"0.78\" fill=\"#A05752\"/>\n",
       "      <rect x=\"111.6\" y=\"36.41\" width=\"1.31\" height=\"0.78\" fill=\"#96484A\"/>\n",
       "      <rect x=\"111.6\" y=\"35.62\" width=\"1.31\" height=\"0.78\" fill=\"#8B3844\"/>\n",
       "      <rect x=\"111.6\" y=\"34.84\" width=\"1.31\" height=\"0.78\" fill=\"#7E273E\"/>\n",
       "      <g stroke=\"#FFFFFF\" stroke-width=\"0.2\" id=\"img-79648d93-7\">\n",
       "        <path fill=\"none\" d=\"M111.6,59.84 L 112.91 59.84\"/>\n",
       "        <path fill=\"none\" d=\"M111.6,47.34 L 112.91 47.34\"/>\n",
       "        <path fill=\"none\" d=\"M111.6,53.59 L 112.91 53.59\"/>\n",
       "        <path fill=\"none\" d=\"M111.6,34.84 L 112.91 34.84\"/>\n",
       "        <path fill=\"none\" d=\"M111.6,66.1 L 112.91 66.1\"/>\n",
       "        <path fill=\"none\" d=\"M111.6,41.09 L 112.91 41.09\"/>\n",
       "      </g>\n",
       "    </g>\n",
       "    <g fill=\"#362A35\" font-size=\"3.88\" font-family=\"'PT Sans','Helvetica Neue','Helvetica',sans-serif\" stroke=\"#000000\" stroke-opacity=\"0.000\" id=\"img-79648d93-8\">\n",
       "      <text x=\"111.6\" y=\"30.84\">value</text>\n",
       "    </g>\n",
       "  </g>\n",
       "<g clip-path=\"url(#img-79648d93-9)\">\n",
       "  <g id=\"img-79648d93-10\">\n",
       "    <g pointer-events=\"visible\" opacity=\"1\" fill=\"#000000\" fill-opacity=\"0.000\" stroke=\"#000000\" stroke-opacity=\"0.000\" class=\"guide background\" id=\"img-79648d93-11\">\n",
       "      <rect x=\"33.88\" y=\"5\" width=\"75.72\" height=\"75.72\"/>\n",
       "    </g>\n",
       "    <g class=\"guide ygridlines xfixed\" stroke-dasharray=\"0.5,0.5\" stroke-width=\"0.2\" stroke=\"#D0D0E0\" id=\"img-79648d93-12\">\n",
       "      <path fill=\"none\" d=\"M33.88,7 L 109.6 7\"/>\n",
       "      <path fill=\"none\" d=\"M33.88,18.95 L 109.6 18.95\"/>\n",
       "      <path fill=\"none\" d=\"M33.88,30.9 L 109.6 30.9\"/>\n",
       "      <path fill=\"none\" d=\"M33.88,42.86 L 109.6 42.86\"/>\n",
       "      <path fill=\"none\" d=\"M33.88,54.81 L 109.6 54.81\"/>\n",
       "      <path fill=\"none\" d=\"M33.88,66.76 L 109.6 66.76\"/>\n",
       "      <path fill=\"none\" d=\"M33.88,78.71 L 109.6 78.71\"/>\n",
       "    </g>\n",
       "    <g class=\"guide xgridlines yfixed\" stroke-dasharray=\"0.5,0.5\" stroke-width=\"0.2\" stroke=\"#D0D0E0\" id=\"img-79648d93-13\">\n",
       "      <path fill=\"none\" d=\"M35.88,5 L 35.88 80.72\"/>\n",
       "      <path fill=\"none\" d=\"M47.83,5 L 47.83 80.72\"/>\n",
       "      <path fill=\"none\" d=\"M59.79,5 L 59.79 80.72\"/>\n",
       "      <path fill=\"none\" d=\"M71.74,5 L 71.74 80.72\"/>\n",
       "      <path fill=\"none\" d=\"M83.69,5 L 83.69 80.72\"/>\n",
       "      <path fill=\"none\" d=\"M95.64,5 L 95.64 80.72\"/>\n",
       "      <path fill=\"none\" d=\"M107.6,5 L 107.6 80.72\"/>\n",
       "    </g>\n",
       "    <g class=\"plotpanel\" id=\"img-79648d93-14\">\n",
       "      <g shape-rendering=\"crispEdges\" class=\"geometry\" stroke=\"#000000\" stroke-opacity=\"0.000\" id=\"img-79648d93-15\">\n",
       "        <rect x=\"35.88\" y=\"7\" width=\"23.96\" height=\"23.96\" fill=\"#A35B54\"/>\n",
       "        <rect x=\"35.88\" y=\"30.9\" width=\"23.96\" height=\"23.96\" fill=\"#BBCBBB\"/>\n",
       "        <rect x=\"35.88\" y=\"54.81\" width=\"23.96\" height=\"23.96\" fill=\"#B37563\"/>\n",
       "        <rect x=\"59.79\" y=\"7\" width=\"23.96\" height=\"23.96\" fill=\"#B9CBBD\"/>\n",
       "        <rect x=\"59.79\" y=\"30.9\" width=\"23.96\" height=\"23.96\" fill=\"#006392\"/>\n",
       "        <rect x=\"59.79\" y=\"54.81\" width=\"23.96\" height=\"23.96\" fill=\"#C3C9B6\"/>\n",
       "        <rect x=\"83.69\" y=\"7\" width=\"23.96\" height=\"23.96\" fill=\"#B7CBBF\"/>\n",
       "        <rect x=\"83.69\" y=\"30.9\" width=\"23.96\" height=\"23.96\" fill=\"#BF8C73\"/>\n",
       "        <rect x=\"83.69\" y=\"54.81\" width=\"23.96\" height=\"23.96\" fill=\"#0084A4\"/>\n",
       "      </g>\n",
       "    </g>\n",
       "  </g>\n",
       "</g>\n",
       "  <g class=\"guide ylabels\" font-size=\"2.82\" font-family=\"'PT Sans Caption','Helvetica Neue','Helvetica',sans-serif\" fill=\"#6C606B\" id=\"img-79648d93-16\">\n",
       "    <text x=\"32.88\" y=\"7\" text-anchor=\"end\" dy=\"0.35em\">0.5</text>\n",
       "    <text x=\"32.88\" y=\"18.95\" text-anchor=\"end\" dy=\"0.35em\">1.0</text>\n",
       "    <text x=\"32.88\" y=\"30.9\" text-anchor=\"end\" dy=\"0.35em\">1.5</text>\n",
       "    <text x=\"32.88\" y=\"42.86\" text-anchor=\"end\" dy=\"0.35em\">2.0</text>\n",
       "    <text x=\"32.88\" y=\"54.81\" text-anchor=\"end\" dy=\"0.35em\">2.5</text>\n",
       "    <text x=\"32.88\" y=\"66.76\" text-anchor=\"end\" dy=\"0.35em\">3.0</text>\n",
       "    <text x=\"32.88\" y=\"78.71\" text-anchor=\"end\" dy=\"0.35em\">3.5</text>\n",
       "  </g>\n",
       "  <g font-size=\"3.88\" font-family=\"'PT Sans','Helvetica Neue','Helvetica',sans-serif\" fill=\"#564A55\" stroke=\"#000000\" stroke-opacity=\"0.000\" id=\"img-79648d93-17\">\n",
       "    <text x=\"25.86\" y=\"42.86\" text-anchor=\"end\" dy=\"0.35em\">i</text>\n",
       "  </g>\n",
       "</g>\n",
       "<defs>\n",
       "  <clipPath id=\"img-79648d93-9\">\n",
       "  <path d=\"M33.88,5 L 109.6 5 109.6 80.72 33.88 80.72\" />\n",
       "</clipPath>\n",
       "</defs>\n",
       "</svg>\n"
      ],
      "text/html": [
       "<?xml version=\"1.0\" encoding=\"UTF-8\"?>\n",
       "<svg xmlns=\"http://www.w3.org/2000/svg\"\n",
       "     xmlns:xlink=\"http://www.w3.org/1999/xlink\"\n",
       "     xmlns:gadfly=\"http://www.gadflyjl.org/ns\"\n",
       "     version=\"1.2\"\n",
       "     width=\"141.42mm\" height=\"100mm\" viewBox=\"0 0 141.42 100\"\n",
       "     stroke=\"none\"\n",
       "     fill=\"#000000\"\n",
       "     stroke-width=\"0.3\"\n",
       "     font-size=\"3.88\"\n",
       "\n",
       "     id=\"img-b2a82f8a\">\n",
       "<g class=\"plotroot xscalable yscalable\" id=\"img-b2a82f8a-1\">\n",
       "  <g font-size=\"3.88\" font-family=\"'PT Sans','Helvetica Neue','Helvetica',sans-serif\" fill=\"#564A55\" stroke=\"#000000\" stroke-opacity=\"0.000\" id=\"img-b2a82f8a-2\">\n",
       "    <text x=\"71.74\" y=\"88.39\" text-anchor=\"middle\" dy=\"0.6em\">j</text>\n",
       "  </g>\n",
       "  <g class=\"guide xlabels\" font-size=\"2.82\" font-family=\"'PT Sans Caption','Helvetica Neue','Helvetica',sans-serif\" fill=\"#6C606B\" id=\"img-b2a82f8a-3\">\n",
       "    <text x=\"-47.79\" y=\"84.39\" text-anchor=\"middle\" visibility=\"hidden\" gadfly:scale=\"1.0\">-3.0</text>\n",
       "    <text x=\"-35.83\" y=\"84.39\" text-anchor=\"middle\" visibility=\"hidden\" gadfly:scale=\"1.0\">-2.5</text>\n",
       "    <text x=\"-23.88\" y=\"84.39\" text-anchor=\"middle\" visibility=\"hidden\" gadfly:scale=\"1.0\">-2.0</text>\n",
       "    <text x=\"-11.93\" y=\"84.39\" text-anchor=\"middle\" visibility=\"hidden\" gadfly:scale=\"1.0\">-1.5</text>\n",
       "    <text x=\"0.02\" y=\"84.39\" text-anchor=\"middle\" visibility=\"hidden\" gadfly:scale=\"1.0\">-1.0</text>\n",
       "    <text x=\"11.98\" y=\"84.39\" text-anchor=\"middle\" visibility=\"hidden\" gadfly:scale=\"1.0\">-0.5</text>\n",
       "    <text x=\"23.93\" y=\"84.39\" text-anchor=\"middle\" visibility=\"hidden\" gadfly:scale=\"1.0\">0.0</text>\n",
       "    <text x=\"35.88\" y=\"84.39\" text-anchor=\"middle\" visibility=\"visible\" gadfly:scale=\"1.0\">0.5</text>\n",
       "    <text x=\"47.83\" y=\"84.39\" text-anchor=\"middle\" visibility=\"visible\" gadfly:scale=\"1.0\">1.0</text>\n",
       "    <text x=\"59.79\" y=\"84.39\" text-anchor=\"middle\" visibility=\"visible\" gadfly:scale=\"1.0\">1.5</text>\n",
       "    <text x=\"71.74\" y=\"84.39\" text-anchor=\"middle\" visibility=\"visible\" gadfly:scale=\"1.0\">2.0</text>\n",
       "    <text x=\"83.69\" y=\"84.39\" text-anchor=\"middle\" visibility=\"visible\" gadfly:scale=\"1.0\">2.5</text>\n",
       "    <text x=\"95.64\" y=\"84.39\" text-anchor=\"middle\" visibility=\"visible\" gadfly:scale=\"1.0\">3.0</text>\n",
       "    <text x=\"107.6\" y=\"84.39\" text-anchor=\"middle\" visibility=\"visible\" gadfly:scale=\"1.0\">3.5</text>\n",
       "    <text x=\"119.55\" y=\"84.39\" text-anchor=\"middle\" visibility=\"hidden\" gadfly:scale=\"1.0\">4.0</text>\n",
       "    <text x=\"131.5\" y=\"84.39\" text-anchor=\"middle\" visibility=\"hidden\" gadfly:scale=\"1.0\">4.5</text>\n",
       "    <text x=\"143.45\" y=\"84.39\" text-anchor=\"middle\" visibility=\"hidden\" gadfly:scale=\"1.0\">5.0</text>\n",
       "    <text x=\"155.41\" y=\"84.39\" text-anchor=\"middle\" visibility=\"hidden\" gadfly:scale=\"1.0\">5.5</text>\n",
       "    <text x=\"167.36\" y=\"84.39\" text-anchor=\"middle\" visibility=\"hidden\" gadfly:scale=\"1.0\">6.0</text>\n",
       "    <text x=\"179.31\" y=\"84.39\" text-anchor=\"middle\" visibility=\"hidden\" gadfly:scale=\"1.0\">6.5</text>\n",
       "    <text x=\"191.26\" y=\"84.39\" text-anchor=\"middle\" visibility=\"hidden\" gadfly:scale=\"1.0\">7.0</text>\n",
       "    <text x=\"-35.83\" y=\"84.39\" text-anchor=\"middle\" visibility=\"hidden\" gadfly:scale=\"10.0\">-2.5</text>\n",
       "    <text x=\"-33.44\" y=\"84.39\" text-anchor=\"middle\" visibility=\"hidden\" gadfly:scale=\"10.0\">-2.4</text>\n",
       "    <text x=\"-31.05\" y=\"84.39\" text-anchor=\"middle\" visibility=\"hidden\" gadfly:scale=\"10.0\">-2.3</text>\n",
       "    <text x=\"-28.66\" y=\"84.39\" text-anchor=\"middle\" visibility=\"hidden\" gadfly:scale=\"10.0\">-2.2</text>\n",
       "    <text x=\"-26.27\" y=\"84.39\" text-anchor=\"middle\" visibility=\"hidden\" gadfly:scale=\"10.0\">-2.1</text>\n",
       "    <text x=\"-23.88\" y=\"84.39\" text-anchor=\"middle\" visibility=\"hidden\" gadfly:scale=\"10.0\">-2.0</text>\n",
       "    <text x=\"-21.49\" y=\"84.39\" text-anchor=\"middle\" visibility=\"hidden\" gadfly:scale=\"10.0\">-1.9</text>\n",
       "    <text x=\"-19.1\" y=\"84.39\" text-anchor=\"middle\" visibility=\"hidden\" gadfly:scale=\"10.0\">-1.8</text>\n",
       "    <text x=\"-16.71\" y=\"84.39\" text-anchor=\"middle\" visibility=\"hidden\" gadfly:scale=\"10.0\">-1.7</text>\n",
       "    <text x=\"-14.32\" y=\"84.39\" text-anchor=\"middle\" visibility=\"hidden\" gadfly:scale=\"10.0\">-1.6</text>\n",
       "    <text x=\"-11.93\" y=\"84.39\" text-anchor=\"middle\" visibility=\"hidden\" gadfly:scale=\"10.0\">-1.5</text>\n",
       "    <text x=\"-9.54\" y=\"84.39\" text-anchor=\"middle\" visibility=\"hidden\" gadfly:scale=\"10.0\">-1.4</text>\n",
       "    <text x=\"-7.15\" y=\"84.39\" text-anchor=\"middle\" visibility=\"hidden\" gadfly:scale=\"10.0\">-1.3</text>\n",
       "    <text x=\"-4.76\" y=\"84.39\" text-anchor=\"middle\" visibility=\"hidden\" gadfly:scale=\"10.0\">-1.2</text>\n",
       "    <text x=\"-2.37\" y=\"84.39\" text-anchor=\"middle\" visibility=\"hidden\" gadfly:scale=\"10.0\">-1.1</text>\n",
       "    <text x=\"0.02\" y=\"84.39\" text-anchor=\"middle\" visibility=\"hidden\" gadfly:scale=\"10.0\">-1.0</text>\n",
       "    <text x=\"2.41\" y=\"84.39\" text-anchor=\"middle\" visibility=\"hidden\" gadfly:scale=\"10.0\">-0.9</text>\n",
       "    <text x=\"4.8\" y=\"84.39\" text-anchor=\"middle\" visibility=\"hidden\" gadfly:scale=\"10.0\">-0.8</text>\n",
       "    <text x=\"7.2\" y=\"84.39\" text-anchor=\"middle\" visibility=\"hidden\" gadfly:scale=\"10.0\">-0.7</text>\n",
       "    <text x=\"9.59\" y=\"84.39\" text-anchor=\"middle\" visibility=\"hidden\" gadfly:scale=\"10.0\">-0.6</text>\n",
       "    <text x=\"11.98\" y=\"84.39\" text-anchor=\"middle\" visibility=\"hidden\" gadfly:scale=\"10.0\">-0.5</text>\n",
       "    <text x=\"14.37\" y=\"84.39\" text-anchor=\"middle\" visibility=\"hidden\" gadfly:scale=\"10.0\">-0.4</text>\n",
       "    <text x=\"16.76\" y=\"84.39\" text-anchor=\"middle\" visibility=\"hidden\" gadfly:scale=\"10.0\">-0.3</text>\n",
       "    <text x=\"19.15\" y=\"84.39\" text-anchor=\"middle\" visibility=\"hidden\" gadfly:scale=\"10.0\">-0.2</text>\n",
       "    <text x=\"21.54\" y=\"84.39\" text-anchor=\"middle\" visibility=\"hidden\" gadfly:scale=\"10.0\">-0.1</text>\n",
       "    <text x=\"23.93\" y=\"84.39\" text-anchor=\"middle\" visibility=\"hidden\" gadfly:scale=\"10.0\">0.0</text>\n",
       "    <text x=\"26.32\" y=\"84.39\" text-anchor=\"middle\" visibility=\"hidden\" gadfly:scale=\"10.0\">0.1</text>\n",
       "    <text x=\"28.71\" y=\"84.39\" text-anchor=\"middle\" visibility=\"hidden\" gadfly:scale=\"10.0\">0.2</text>\n",
       "    <text x=\"31.1\" y=\"84.39\" text-anchor=\"middle\" visibility=\"hidden\" gadfly:scale=\"10.0\">0.3</text>\n",
       "    <text x=\"33.49\" y=\"84.39\" text-anchor=\"middle\" visibility=\"hidden\" gadfly:scale=\"10.0\">0.4</text>\n",
       "    <text x=\"35.88\" y=\"84.39\" text-anchor=\"middle\" visibility=\"hidden\" gadfly:scale=\"10.0\">0.5</text>\n",
       "    <text x=\"38.27\" y=\"84.39\" text-anchor=\"middle\" visibility=\"hidden\" gadfly:scale=\"10.0\">0.6</text>\n",
       "    <text x=\"40.66\" y=\"84.39\" text-anchor=\"middle\" visibility=\"hidden\" gadfly:scale=\"10.0\">0.7</text>\n",
       "    <text x=\"43.05\" y=\"84.39\" text-anchor=\"middle\" visibility=\"hidden\" gadfly:scale=\"10.0\">0.8</text>\n",
       "    <text x=\"45.44\" y=\"84.39\" text-anchor=\"middle\" visibility=\"hidden\" gadfly:scale=\"10.0\">0.9</text>\n",
       "    <text x=\"47.83\" y=\"84.39\" text-anchor=\"middle\" visibility=\"hidden\" gadfly:scale=\"10.0\">1.0</text>\n",
       "    <text x=\"50.22\" y=\"84.39\" text-anchor=\"middle\" visibility=\"hidden\" gadfly:scale=\"10.0\">1.1</text>\n",
       "    <text x=\"52.61\" y=\"84.39\" text-anchor=\"middle\" visibility=\"hidden\" gadfly:scale=\"10.0\">1.2</text>\n",
       "    <text x=\"55.01\" y=\"84.39\" text-anchor=\"middle\" visibility=\"hidden\" gadfly:scale=\"10.0\">1.3</text>\n",
       "    <text x=\"57.4\" y=\"84.39\" text-anchor=\"middle\" visibility=\"hidden\" gadfly:scale=\"10.0\">1.4</text>\n",
       "    <text x=\"59.79\" y=\"84.39\" text-anchor=\"middle\" visibility=\"hidden\" gadfly:scale=\"10.0\">1.5</text>\n",
       "    <text x=\"62.18\" y=\"84.39\" text-anchor=\"middle\" visibility=\"hidden\" gadfly:scale=\"10.0\">1.6</text>\n",
       "    <text x=\"64.57\" y=\"84.39\" text-anchor=\"middle\" visibility=\"hidden\" gadfly:scale=\"10.0\">1.7</text>\n",
       "    <text x=\"66.96\" y=\"84.39\" text-anchor=\"middle\" visibility=\"hidden\" gadfly:scale=\"10.0\">1.8</text>\n",
       "    <text x=\"69.35\" y=\"84.39\" text-anchor=\"middle\" visibility=\"hidden\" gadfly:scale=\"10.0\">1.9</text>\n",
       "    <text x=\"71.74\" y=\"84.39\" text-anchor=\"middle\" visibility=\"hidden\" gadfly:scale=\"10.0\">2.0</text>\n",
       "    <text x=\"74.13\" y=\"84.39\" text-anchor=\"middle\" visibility=\"hidden\" gadfly:scale=\"10.0\">2.1</text>\n",
       "    <text x=\"76.52\" y=\"84.39\" text-anchor=\"middle\" visibility=\"hidden\" gadfly:scale=\"10.0\">2.2</text>\n",
       "    <text x=\"78.91\" y=\"84.39\" text-anchor=\"middle\" visibility=\"hidden\" gadfly:scale=\"10.0\">2.3</text>\n",
       "    <text x=\"81.3\" y=\"84.39\" text-anchor=\"middle\" visibility=\"hidden\" gadfly:scale=\"10.0\">2.4</text>\n",
       "    <text x=\"83.69\" y=\"84.39\" text-anchor=\"middle\" visibility=\"hidden\" gadfly:scale=\"10.0\">2.5</text>\n",
       "    <text x=\"86.08\" y=\"84.39\" text-anchor=\"middle\" visibility=\"hidden\" gadfly:scale=\"10.0\">2.6</text>\n",
       "    <text x=\"88.47\" y=\"84.39\" text-anchor=\"middle\" visibility=\"hidden\" gadfly:scale=\"10.0\">2.7</text>\n",
       "    <text x=\"90.86\" y=\"84.39\" text-anchor=\"middle\" visibility=\"hidden\" gadfly:scale=\"10.0\">2.8</text>\n",
       "    <text x=\"93.25\" y=\"84.39\" text-anchor=\"middle\" visibility=\"hidden\" gadfly:scale=\"10.0\">2.9</text>\n",
       "    <text x=\"95.64\" y=\"84.39\" text-anchor=\"middle\" visibility=\"hidden\" gadfly:scale=\"10.0\">3.0</text>\n",
       "    <text x=\"98.03\" y=\"84.39\" text-anchor=\"middle\" visibility=\"hidden\" gadfly:scale=\"10.0\">3.1</text>\n",
       "    <text x=\"100.42\" y=\"84.39\" text-anchor=\"middle\" visibility=\"hidden\" gadfly:scale=\"10.0\">3.2</text>\n",
       "    <text x=\"102.82\" y=\"84.39\" text-anchor=\"middle\" visibility=\"hidden\" gadfly:scale=\"10.0\">3.3</text>\n",
       "    <text x=\"105.21\" y=\"84.39\" text-anchor=\"middle\" visibility=\"hidden\" gadfly:scale=\"10.0\">3.4</text>\n",
       "    <text x=\"107.6\" y=\"84.39\" text-anchor=\"middle\" visibility=\"hidden\" gadfly:scale=\"10.0\">3.5</text>\n",
       "    <text x=\"109.99\" y=\"84.39\" text-anchor=\"middle\" visibility=\"hidden\" gadfly:scale=\"10.0\">3.6</text>\n",
       "    <text x=\"112.38\" y=\"84.39\" text-anchor=\"middle\" visibility=\"hidden\" gadfly:scale=\"10.0\">3.7</text>\n",
       "    <text x=\"114.77\" y=\"84.39\" text-anchor=\"middle\" visibility=\"hidden\" gadfly:scale=\"10.0\">3.8</text>\n",
       "    <text x=\"117.16\" y=\"84.39\" text-anchor=\"middle\" visibility=\"hidden\" gadfly:scale=\"10.0\">3.9</text>\n",
       "    <text x=\"119.55\" y=\"84.39\" text-anchor=\"middle\" visibility=\"hidden\" gadfly:scale=\"10.0\">4.0</text>\n",
       "    <text x=\"121.94\" y=\"84.39\" text-anchor=\"middle\" visibility=\"hidden\" gadfly:scale=\"10.0\">4.1</text>\n",
       "    <text x=\"124.33\" y=\"84.39\" text-anchor=\"middle\" visibility=\"hidden\" gadfly:scale=\"10.0\">4.2</text>\n",
       "    <text x=\"126.72\" y=\"84.39\" text-anchor=\"middle\" visibility=\"hidden\" gadfly:scale=\"10.0\">4.3</text>\n",
       "    <text x=\"129.11\" y=\"84.39\" text-anchor=\"middle\" visibility=\"hidden\" gadfly:scale=\"10.0\">4.4</text>\n",
       "    <text x=\"131.5\" y=\"84.39\" text-anchor=\"middle\" visibility=\"hidden\" gadfly:scale=\"10.0\">4.5</text>\n",
       "    <text x=\"133.89\" y=\"84.39\" text-anchor=\"middle\" visibility=\"hidden\" gadfly:scale=\"10.0\">4.6</text>\n",
       "    <text x=\"136.28\" y=\"84.39\" text-anchor=\"middle\" visibility=\"hidden\" gadfly:scale=\"10.0\">4.7</text>\n",
       "    <text x=\"138.67\" y=\"84.39\" text-anchor=\"middle\" visibility=\"hidden\" gadfly:scale=\"10.0\">4.8</text>\n",
       "    <text x=\"141.06\" y=\"84.39\" text-anchor=\"middle\" visibility=\"hidden\" gadfly:scale=\"10.0\">4.9</text>\n",
       "    <text x=\"143.45\" y=\"84.39\" text-anchor=\"middle\" visibility=\"hidden\" gadfly:scale=\"10.0\">5.0</text>\n",
       "    <text x=\"145.84\" y=\"84.39\" text-anchor=\"middle\" visibility=\"hidden\" gadfly:scale=\"10.0\">5.1</text>\n",
       "    <text x=\"148.23\" y=\"84.39\" text-anchor=\"middle\" visibility=\"hidden\" gadfly:scale=\"10.0\">5.2</text>\n",
       "    <text x=\"150.63\" y=\"84.39\" text-anchor=\"middle\" visibility=\"hidden\" gadfly:scale=\"10.0\">5.3</text>\n",
       "    <text x=\"153.02\" y=\"84.39\" text-anchor=\"middle\" visibility=\"hidden\" gadfly:scale=\"10.0\">5.4</text>\n",
       "    <text x=\"155.41\" y=\"84.39\" text-anchor=\"middle\" visibility=\"hidden\" gadfly:scale=\"10.0\">5.5</text>\n",
       "    <text x=\"157.8\" y=\"84.39\" text-anchor=\"middle\" visibility=\"hidden\" gadfly:scale=\"10.0\">5.6</text>\n",
       "    <text x=\"160.19\" y=\"84.39\" text-anchor=\"middle\" visibility=\"hidden\" gadfly:scale=\"10.0\">5.7</text>\n",
       "    <text x=\"162.58\" y=\"84.39\" text-anchor=\"middle\" visibility=\"hidden\" gadfly:scale=\"10.0\">5.8</text>\n",
       "    <text x=\"164.97\" y=\"84.39\" text-anchor=\"middle\" visibility=\"hidden\" gadfly:scale=\"10.0\">5.9</text>\n",
       "    <text x=\"167.36\" y=\"84.39\" text-anchor=\"middle\" visibility=\"hidden\" gadfly:scale=\"10.0\">6.0</text>\n",
       "    <text x=\"169.75\" y=\"84.39\" text-anchor=\"middle\" visibility=\"hidden\" gadfly:scale=\"10.0\">6.1</text>\n",
       "    <text x=\"172.14\" y=\"84.39\" text-anchor=\"middle\" visibility=\"hidden\" gadfly:scale=\"10.0\">6.2</text>\n",
       "    <text x=\"174.53\" y=\"84.39\" text-anchor=\"middle\" visibility=\"hidden\" gadfly:scale=\"10.0\">6.3</text>\n",
       "    <text x=\"176.92\" y=\"84.39\" text-anchor=\"middle\" visibility=\"hidden\" gadfly:scale=\"10.0\">6.4</text>\n",
       "    <text x=\"179.31\" y=\"84.39\" text-anchor=\"middle\" visibility=\"hidden\" gadfly:scale=\"10.0\">6.5</text>\n",
       "    <text x=\"-35.83\" y=\"84.39\" text-anchor=\"middle\" visibility=\"hidden\" gadfly:scale=\"0.5\">-2.5</text>\n",
       "    <text x=\"23.93\" y=\"84.39\" text-anchor=\"middle\" visibility=\"hidden\" gadfly:scale=\"0.5\">0.0</text>\n",
       "    <text x=\"83.69\" y=\"84.39\" text-anchor=\"middle\" visibility=\"hidden\" gadfly:scale=\"0.5\">2.5</text>\n",
       "    <text x=\"143.45\" y=\"84.39\" text-anchor=\"middle\" visibility=\"hidden\" gadfly:scale=\"0.5\">5.0</text>\n",
       "    <text x=\"203.22\" y=\"84.39\" text-anchor=\"middle\" visibility=\"hidden\" gadfly:scale=\"0.5\">7.5</text>\n",
       "    <text x=\"-38.22\" y=\"84.39\" text-anchor=\"middle\" visibility=\"hidden\" gadfly:scale=\"5.0\">-2.6</text>\n",
       "    <text x=\"-33.44\" y=\"84.39\" text-anchor=\"middle\" visibility=\"hidden\" gadfly:scale=\"5.0\">-2.4</text>\n",
       "    <text x=\"-28.66\" y=\"84.39\" text-anchor=\"middle\" visibility=\"hidden\" gadfly:scale=\"5.0\">-2.2</text>\n",
       "    <text x=\"-23.88\" y=\"84.39\" text-anchor=\"middle\" visibility=\"hidden\" gadfly:scale=\"5.0\">-2.0</text>\n",
       "    <text x=\"-19.1\" y=\"84.39\" text-anchor=\"middle\" visibility=\"hidden\" gadfly:scale=\"5.0\">-1.8</text>\n",
       "    <text x=\"-14.32\" y=\"84.39\" text-anchor=\"middle\" visibility=\"hidden\" gadfly:scale=\"5.0\">-1.6</text>\n",
       "    <text x=\"-9.54\" y=\"84.39\" text-anchor=\"middle\" visibility=\"hidden\" gadfly:scale=\"5.0\">-1.4</text>\n",
       "    <text x=\"-4.76\" y=\"84.39\" text-anchor=\"middle\" visibility=\"hidden\" gadfly:scale=\"5.0\">-1.2</text>\n",
       "    <text x=\"0.02\" y=\"84.39\" text-anchor=\"middle\" visibility=\"hidden\" gadfly:scale=\"5.0\">-1.0</text>\n",
       "    <text x=\"4.8\" y=\"84.39\" text-anchor=\"middle\" visibility=\"hidden\" gadfly:scale=\"5.0\">-0.8</text>\n",
       "    <text x=\"9.59\" y=\"84.39\" text-anchor=\"middle\" visibility=\"hidden\" gadfly:scale=\"5.0\">-0.6</text>\n",
       "    <text x=\"14.37\" y=\"84.39\" text-anchor=\"middle\" visibility=\"hidden\" gadfly:scale=\"5.0\">-0.4</text>\n",
       "    <text x=\"19.15\" y=\"84.39\" text-anchor=\"middle\" visibility=\"hidden\" gadfly:scale=\"5.0\">-0.2</text>\n",
       "    <text x=\"23.93\" y=\"84.39\" text-anchor=\"middle\" visibility=\"hidden\" gadfly:scale=\"5.0\">0.0</text>\n",
       "    <text x=\"28.71\" y=\"84.39\" text-anchor=\"middle\" visibility=\"hidden\" gadfly:scale=\"5.0\">0.2</text>\n",
       "    <text x=\"33.49\" y=\"84.39\" text-anchor=\"middle\" visibility=\"hidden\" gadfly:scale=\"5.0\">0.4</text>\n",
       "    <text x=\"38.27\" y=\"84.39\" text-anchor=\"middle\" visibility=\"hidden\" gadfly:scale=\"5.0\">0.6</text>\n",
       "    <text x=\"43.05\" y=\"84.39\" text-anchor=\"middle\" visibility=\"hidden\" gadfly:scale=\"5.0\">0.8</text>\n",
       "    <text x=\"47.83\" y=\"84.39\" text-anchor=\"middle\" visibility=\"hidden\" gadfly:scale=\"5.0\">1.0</text>\n",
       "    <text x=\"52.61\" y=\"84.39\" text-anchor=\"middle\" visibility=\"hidden\" gadfly:scale=\"5.0\">1.2</text>\n",
       "    <text x=\"57.4\" y=\"84.39\" text-anchor=\"middle\" visibility=\"hidden\" gadfly:scale=\"5.0\">1.4</text>\n",
       "    <text x=\"62.18\" y=\"84.39\" text-anchor=\"middle\" visibility=\"hidden\" gadfly:scale=\"5.0\">1.6</text>\n",
       "    <text x=\"66.96\" y=\"84.39\" text-anchor=\"middle\" visibility=\"hidden\" gadfly:scale=\"5.0\">1.8</text>\n",
       "    <text x=\"71.74\" y=\"84.39\" text-anchor=\"middle\" visibility=\"hidden\" gadfly:scale=\"5.0\">2.0</text>\n",
       "    <text x=\"76.52\" y=\"84.39\" text-anchor=\"middle\" visibility=\"hidden\" gadfly:scale=\"5.0\">2.2</text>\n",
       "    <text x=\"81.3\" y=\"84.39\" text-anchor=\"middle\" visibility=\"hidden\" gadfly:scale=\"5.0\">2.4</text>\n",
       "    <text x=\"86.08\" y=\"84.39\" text-anchor=\"middle\" visibility=\"hidden\" gadfly:scale=\"5.0\">2.6</text>\n",
       "    <text x=\"90.86\" y=\"84.39\" text-anchor=\"middle\" visibility=\"hidden\" gadfly:scale=\"5.0\">2.8</text>\n",
       "    <text x=\"95.64\" y=\"84.39\" text-anchor=\"middle\" visibility=\"hidden\" gadfly:scale=\"5.0\">3.0</text>\n",
       "    <text x=\"100.42\" y=\"84.39\" text-anchor=\"middle\" visibility=\"hidden\" gadfly:scale=\"5.0\">3.2</text>\n",
       "    <text x=\"105.21\" y=\"84.39\" text-anchor=\"middle\" visibility=\"hidden\" gadfly:scale=\"5.0\">3.4</text>\n",
       "    <text x=\"109.99\" y=\"84.39\" text-anchor=\"middle\" visibility=\"hidden\" gadfly:scale=\"5.0\">3.6</text>\n",
       "    <text x=\"114.77\" y=\"84.39\" text-anchor=\"middle\" visibility=\"hidden\" gadfly:scale=\"5.0\">3.8</text>\n",
       "    <text x=\"119.55\" y=\"84.39\" text-anchor=\"middle\" visibility=\"hidden\" gadfly:scale=\"5.0\">4.0</text>\n",
       "    <text x=\"124.33\" y=\"84.39\" text-anchor=\"middle\" visibility=\"hidden\" gadfly:scale=\"5.0\">4.2</text>\n",
       "    <text x=\"129.11\" y=\"84.39\" text-anchor=\"middle\" visibility=\"hidden\" gadfly:scale=\"5.0\">4.4</text>\n",
       "    <text x=\"133.89\" y=\"84.39\" text-anchor=\"middle\" visibility=\"hidden\" gadfly:scale=\"5.0\">4.6</text>\n",
       "    <text x=\"138.67\" y=\"84.39\" text-anchor=\"middle\" visibility=\"hidden\" gadfly:scale=\"5.0\">4.8</text>\n",
       "    <text x=\"143.45\" y=\"84.39\" text-anchor=\"middle\" visibility=\"hidden\" gadfly:scale=\"5.0\">5.0</text>\n",
       "    <text x=\"148.23\" y=\"84.39\" text-anchor=\"middle\" visibility=\"hidden\" gadfly:scale=\"5.0\">5.2</text>\n",
       "    <text x=\"153.02\" y=\"84.39\" text-anchor=\"middle\" visibility=\"hidden\" gadfly:scale=\"5.0\">5.4</text>\n",
       "    <text x=\"157.8\" y=\"84.39\" text-anchor=\"middle\" visibility=\"hidden\" gadfly:scale=\"5.0\">5.6</text>\n",
       "    <text x=\"162.58\" y=\"84.39\" text-anchor=\"middle\" visibility=\"hidden\" gadfly:scale=\"5.0\">5.8</text>\n",
       "    <text x=\"167.36\" y=\"84.39\" text-anchor=\"middle\" visibility=\"hidden\" gadfly:scale=\"5.0\">6.0</text>\n",
       "    <text x=\"172.14\" y=\"84.39\" text-anchor=\"middle\" visibility=\"hidden\" gadfly:scale=\"5.0\">6.2</text>\n",
       "    <text x=\"176.92\" y=\"84.39\" text-anchor=\"middle\" visibility=\"hidden\" gadfly:scale=\"5.0\">6.4</text>\n",
       "    <text x=\"181.7\" y=\"84.39\" text-anchor=\"middle\" visibility=\"hidden\" gadfly:scale=\"5.0\">6.6</text>\n",
       "  </g>\n",
       "  <g class=\"guide colorkey\" id=\"img-b2a82f8a-4\">\n",
       "    <g font-size=\"2.82\" font-family=\"'PT Sans','Helvetica Neue','Helvetica',sans-serif\" fill=\"#4C404B\" id=\"img-b2a82f8a-5\">\n",
       "      <text x=\"113.91\" y=\"59.84\" dy=\"0.35em\">0.2</text>\n",
       "      <text x=\"113.91\" y=\"47.34\" dy=\"0.35em\">0.6</text>\n",
       "      <text x=\"113.91\" y=\"53.59\" dy=\"0.35em\">0.4</text>\n",
       "      <text x=\"113.91\" y=\"34.84\" dy=\"0.35em\">1.0</text>\n",
       "      <text x=\"113.91\" y=\"66.1\" dy=\"0.35em\">0.0</text>\n",
       "      <text x=\"113.91\" y=\"41.09\" dy=\"0.35em\">0.8</text>\n",
       "    </g>\n",
       "    <g shape-rendering=\"crispEdges\" stroke=\"#000000\" stroke-opacity=\"0.000\" id=\"img-b2a82f8a-6\">\n",
       "      <rect x=\"111.6\" y=\"65.31\" width=\"1.31\" height=\"0.78\" fill=\"#004D84\"/>\n",
       "      <rect x=\"111.6\" y=\"64.53\" width=\"1.31\" height=\"0.78\" fill=\"#005B8D\"/>\n",
       "      <rect x=\"111.6\" y=\"63.75\" width=\"1.31\" height=\"0.78\" fill=\"#006995\"/>\n",
       "      <rect x=\"111.6\" y=\"62.97\" width=\"1.31\" height=\"0.78\" fill=\"#00769D\"/>\n",
       "      <rect x=\"111.6\" y=\"62.19\" width=\"1.31\" height=\"0.78\" fill=\"#0083A3\"/>\n",
       "      <rect x=\"111.6\" y=\"61.41\" width=\"1.31\" height=\"0.78\" fill=\"#278FA9\"/>\n",
       "      <rect x=\"111.6\" y=\"60.63\" width=\"1.31\" height=\"0.78\" fill=\"#409BAF\"/>\n",
       "      <rect x=\"111.6\" y=\"59.84\" width=\"1.31\" height=\"0.78\" fill=\"#55A7B5\"/>\n",
       "      <rect x=\"111.6\" y=\"59.06\" width=\"1.31\" height=\"0.78\" fill=\"#69B2BA\"/>\n",
       "      <rect x=\"111.6\" y=\"58.28\" width=\"1.31\" height=\"0.78\" fill=\"#7BBCC0\"/>\n",
       "      <rect x=\"111.6\" y=\"57.5\" width=\"1.31\" height=\"0.78\" fill=\"#8DC6C5\"/>\n",
       "      <rect x=\"111.6\" y=\"56.72\" width=\"1.31\" height=\"0.78\" fill=\"#9ED0CB\"/>\n",
       "      <rect x=\"111.6\" y=\"55.94\" width=\"1.31\" height=\"0.78\" fill=\"#A5CFC7\"/>\n",
       "      <rect x=\"111.6\" y=\"55.16\" width=\"1.31\" height=\"0.78\" fill=\"#ABCEC4\"/>\n",
       "      <rect x=\"111.6\" y=\"54.38\" width=\"1.31\" height=\"0.78\" fill=\"#B1CCC2\"/>\n",
       "      <rect x=\"111.6\" y=\"53.59\" width=\"1.31\" height=\"0.78\" fill=\"#B5CCC1\"/>\n",
       "      <rect x=\"111.6\" y=\"52.81\" width=\"1.31\" height=\"0.78\" fill=\"#B7CBBF\"/>\n",
       "      <rect x=\"111.6\" y=\"52.03\" width=\"1.31\" height=\"0.78\" fill=\"#B9CBBD\"/>\n",
       "      <rect x=\"111.6\" y=\"51.25\" width=\"1.31\" height=\"0.78\" fill=\"#BBCBBB\"/>\n",
       "      <rect x=\"111.6\" y=\"50.47\" width=\"1.31\" height=\"0.78\" fill=\"#BDCABA\"/>\n",
       "      <rect x=\"111.6\" y=\"49.69\" width=\"1.31\" height=\"0.78\" fill=\"#BFCAB8\"/>\n",
       "      <rect x=\"111.6\" y=\"48.91\" width=\"1.31\" height=\"0.78\" fill=\"#C2C9B7\"/>\n",
       "      <rect x=\"111.6\" y=\"48.13\" width=\"1.31\" height=\"0.78\" fill=\"#C4C9B6\"/>\n",
       "      <rect x=\"111.6\" y=\"47.34\" width=\"1.31\" height=\"0.78\" fill=\"#C6C8B5\"/>\n",
       "      <rect x=\"111.6\" y=\"46.56\" width=\"1.31\" height=\"0.78\" fill=\"#C9C7B4\"/>\n",
       "      <rect x=\"111.6\" y=\"45.78\" width=\"1.31\" height=\"0.78\" fill=\"#CCC7B2\"/>\n",
       "      <rect x=\"111.6\" y=\"45\" width=\"1.31\" height=\"0.78\" fill=\"#CFC6AE\"/>\n",
       "      <rect x=\"111.6\" y=\"44.22\" width=\"1.31\" height=\"0.78\" fill=\"#D4C5AA\"/>\n",
       "      <rect x=\"111.6\" y=\"43.44\" width=\"1.31\" height=\"0.78\" fill=\"#D8C3A6\"/>\n",
       "      <rect x=\"111.6\" y=\"42.66\" width=\"1.31\" height=\"0.78\" fill=\"#D3B79A\"/>\n",
       "      <rect x=\"111.6\" y=\"41.87\" width=\"1.31\" height=\"0.78\" fill=\"#CDAB8E\"/>\n",
       "      <rect x=\"111.6\" y=\"41.09\" width=\"1.31\" height=\"0.78\" fill=\"#C89E82\"/>\n",
       "      <rect x=\"111.6\" y=\"40.31\" width=\"1.31\" height=\"0.78\" fill=\"#C19177\"/>\n",
       "      <rect x=\"111.6\" y=\"39.53\" width=\"1.31\" height=\"0.78\" fill=\"#BA836C\"/>\n",
       "      <rect x=\"111.6\" y=\"38.75\" width=\"1.31\" height=\"0.78\" fill=\"#B27563\"/>\n",
       "      <rect x=\"111.6\" y=\"37.97\" width=\"1.31\" height=\"0.78\" fill=\"#AA665A\"/>\n",
       "      <rect x=\"111.6\" y=\"37.19\" width=\"1.31\" height=\"0.78\" fill=\"#A05752\"/>\n",
       "      <rect x=\"111.6\" y=\"36.41\" width=\"1.31\" height=\"0.78\" fill=\"#96484A\"/>\n",
       "      <rect x=\"111.6\" y=\"35.62\" width=\"1.31\" height=\"0.78\" fill=\"#8B3844\"/>\n",
       "      <rect x=\"111.6\" y=\"34.84\" width=\"1.31\" height=\"0.78\" fill=\"#7E273E\"/>\n",
       "      <g stroke=\"#FFFFFF\" stroke-width=\"0.2\" id=\"img-b2a82f8a-7\">\n",
       "        <path fill=\"none\" d=\"M111.6,59.84 L 112.91 59.84\"/>\n",
       "        <path fill=\"none\" d=\"M111.6,47.34 L 112.91 47.34\"/>\n",
       "        <path fill=\"none\" d=\"M111.6,53.59 L 112.91 53.59\"/>\n",
       "        <path fill=\"none\" d=\"M111.6,34.84 L 112.91 34.84\"/>\n",
       "        <path fill=\"none\" d=\"M111.6,66.1 L 112.91 66.1\"/>\n",
       "        <path fill=\"none\" d=\"M111.6,41.09 L 112.91 41.09\"/>\n",
       "      </g>\n",
       "    </g>\n",
       "    <g fill=\"#362A35\" font-size=\"3.88\" font-family=\"'PT Sans','Helvetica Neue','Helvetica',sans-serif\" stroke=\"#000000\" stroke-opacity=\"0.000\" id=\"img-b2a82f8a-8\">\n",
       "      <text x=\"111.6\" y=\"30.84\">value</text>\n",
       "    </g>\n",
       "  </g>\n",
       "<g clip-path=\"url(#img-b2a82f8a-9)\">\n",
       "  <g id=\"img-b2a82f8a-10\">\n",
       "    <g pointer-events=\"visible\" opacity=\"1\" fill=\"#000000\" fill-opacity=\"0.000\" stroke=\"#000000\" stroke-opacity=\"0.000\" class=\"guide background\" id=\"img-b2a82f8a-11\">\n",
       "      <rect x=\"33.88\" y=\"5\" width=\"75.72\" height=\"75.72\"/>\n",
       "    </g>\n",
       "    <g class=\"guide ygridlines xfixed\" stroke-dasharray=\"0.5,0.5\" stroke-width=\"0.2\" stroke=\"#D0D0E0\" id=\"img-b2a82f8a-12\">\n",
       "      <path fill=\"none\" d=\"M33.88,-76.67 L 109.6 -76.67\" visibility=\"hidden\" gadfly:scale=\"1.0\"/>\n",
       "      <path fill=\"none\" d=\"M33.88,-64.71 L 109.6 -64.71\" visibility=\"hidden\" gadfly:scale=\"1.0\"/>\n",
       "      <path fill=\"none\" d=\"M33.88,-52.76 L 109.6 -52.76\" visibility=\"hidden\" gadfly:scale=\"1.0\"/>\n",
       "      <path fill=\"none\" d=\"M33.88,-40.81 L 109.6 -40.81\" visibility=\"hidden\" gadfly:scale=\"1.0\"/>\n",
       "      <path fill=\"none\" d=\"M33.88,-28.86 L 109.6 -28.86\" visibility=\"hidden\" gadfly:scale=\"1.0\"/>\n",
       "      <path fill=\"none\" d=\"M33.88,-16.9 L 109.6 -16.9\" visibility=\"hidden\" gadfly:scale=\"1.0\"/>\n",
       "      <path fill=\"none\" d=\"M33.88,-4.95 L 109.6 -4.95\" visibility=\"hidden\" gadfly:scale=\"1.0\"/>\n",
       "      <path fill=\"none\" d=\"M33.88,7 L 109.6 7\" visibility=\"visible\" gadfly:scale=\"1.0\"/>\n",
       "      <path fill=\"none\" d=\"M33.88,18.95 L 109.6 18.95\" visibility=\"visible\" gadfly:scale=\"1.0\"/>\n",
       "      <path fill=\"none\" d=\"M33.88,30.9 L 109.6 30.9\" visibility=\"visible\" gadfly:scale=\"1.0\"/>\n",
       "      <path fill=\"none\" d=\"M33.88,42.86 L 109.6 42.86\" visibility=\"visible\" gadfly:scale=\"1.0\"/>\n",
       "      <path fill=\"none\" d=\"M33.88,54.81 L 109.6 54.81\" visibility=\"visible\" gadfly:scale=\"1.0\"/>\n",
       "      <path fill=\"none\" d=\"M33.88,66.76 L 109.6 66.76\" visibility=\"visible\" gadfly:scale=\"1.0\"/>\n",
       "      <path fill=\"none\" d=\"M33.88,78.71 L 109.6 78.71\" visibility=\"visible\" gadfly:scale=\"1.0\"/>\n",
       "      <path fill=\"none\" d=\"M33.88,90.67 L 109.6 90.67\" visibility=\"hidden\" gadfly:scale=\"1.0\"/>\n",
       "      <path fill=\"none\" d=\"M33.88,102.62 L 109.6 102.62\" visibility=\"hidden\" gadfly:scale=\"1.0\"/>\n",
       "      <path fill=\"none\" d=\"M33.88,114.57 L 109.6 114.57\" visibility=\"hidden\" gadfly:scale=\"1.0\"/>\n",
       "      <path fill=\"none\" d=\"M33.88,126.52 L 109.6 126.52\" visibility=\"hidden\" gadfly:scale=\"1.0\"/>\n",
       "      <path fill=\"none\" d=\"M33.88,138.48 L 109.6 138.48\" visibility=\"hidden\" gadfly:scale=\"1.0\"/>\n",
       "      <path fill=\"none\" d=\"M33.88,150.43 L 109.6 150.43\" visibility=\"hidden\" gadfly:scale=\"1.0\"/>\n",
       "      <path fill=\"none\" d=\"M33.88,162.38 L 109.6 162.38\" visibility=\"hidden\" gadfly:scale=\"1.0\"/>\n",
       "      <path fill=\"none\" d=\"M33.88,-64.71 L 109.6 -64.71\" visibility=\"hidden\" gadfly:scale=\"10.0\"/>\n",
       "      <path fill=\"none\" d=\"M33.88,-62.32 L 109.6 -62.32\" visibility=\"hidden\" gadfly:scale=\"10.0\"/>\n",
       "      <path fill=\"none\" d=\"M33.88,-59.93 L 109.6 -59.93\" visibility=\"hidden\" gadfly:scale=\"10.0\"/>\n",
       "      <path fill=\"none\" d=\"M33.88,-57.54 L 109.6 -57.54\" visibility=\"hidden\" gadfly:scale=\"10.0\"/>\n",
       "      <path fill=\"none\" d=\"M33.88,-55.15 L 109.6 -55.15\" visibility=\"hidden\" gadfly:scale=\"10.0\"/>\n",
       "      <path fill=\"none\" d=\"M33.88,-52.76 L 109.6 -52.76\" visibility=\"hidden\" gadfly:scale=\"10.0\"/>\n",
       "      <path fill=\"none\" d=\"M33.88,-50.37 L 109.6 -50.37\" visibility=\"hidden\" gadfly:scale=\"10.0\"/>\n",
       "      <path fill=\"none\" d=\"M33.88,-47.98 L 109.6 -47.98\" visibility=\"hidden\" gadfly:scale=\"10.0\"/>\n",
       "      <path fill=\"none\" d=\"M33.88,-45.59 L 109.6 -45.59\" visibility=\"hidden\" gadfly:scale=\"10.0\"/>\n",
       "      <path fill=\"none\" d=\"M33.88,-43.2 L 109.6 -43.2\" visibility=\"hidden\" gadfly:scale=\"10.0\"/>\n",
       "      <path fill=\"none\" d=\"M33.88,-40.81 L 109.6 -40.81\" visibility=\"hidden\" gadfly:scale=\"10.0\"/>\n",
       "      <path fill=\"none\" d=\"M33.88,-38.42 L 109.6 -38.42\" visibility=\"hidden\" gadfly:scale=\"10.0\"/>\n",
       "      <path fill=\"none\" d=\"M33.88,-36.03 L 109.6 -36.03\" visibility=\"hidden\" gadfly:scale=\"10.0\"/>\n",
       "      <path fill=\"none\" d=\"M33.88,-33.64 L 109.6 -33.64\" visibility=\"hidden\" gadfly:scale=\"10.0\"/>\n",
       "      <path fill=\"none\" d=\"M33.88,-31.25 L 109.6 -31.25\" visibility=\"hidden\" gadfly:scale=\"10.0\"/>\n",
       "      <path fill=\"none\" d=\"M33.88,-28.86 L 109.6 -28.86\" visibility=\"hidden\" gadfly:scale=\"10.0\"/>\n",
       "      <path fill=\"none\" d=\"M33.88,-26.47 L 109.6 -26.47\" visibility=\"hidden\" gadfly:scale=\"10.0\"/>\n",
       "      <path fill=\"none\" d=\"M33.88,-24.08 L 109.6 -24.08\" visibility=\"hidden\" gadfly:scale=\"10.0\"/>\n",
       "      <path fill=\"none\" d=\"M33.88,-21.69 L 109.6 -21.69\" visibility=\"hidden\" gadfly:scale=\"10.0\"/>\n",
       "      <path fill=\"none\" d=\"M33.88,-19.3 L 109.6 -19.3\" visibility=\"hidden\" gadfly:scale=\"10.0\"/>\n",
       "      <path fill=\"none\" d=\"M33.88,-16.9 L 109.6 -16.9\" visibility=\"hidden\" gadfly:scale=\"10.0\"/>\n",
       "      <path fill=\"none\" d=\"M33.88,-14.51 L 109.6 -14.51\" visibility=\"hidden\" gadfly:scale=\"10.0\"/>\n",
       "      <path fill=\"none\" d=\"M33.88,-12.12 L 109.6 -12.12\" visibility=\"hidden\" gadfly:scale=\"10.0\"/>\n",
       "      <path fill=\"none\" d=\"M33.88,-9.73 L 109.6 -9.73\" visibility=\"hidden\" gadfly:scale=\"10.0\"/>\n",
       "      <path fill=\"none\" d=\"M33.88,-7.34 L 109.6 -7.34\" visibility=\"hidden\" gadfly:scale=\"10.0\"/>\n",
       "      <path fill=\"none\" d=\"M33.88,-4.95 L 109.6 -4.95\" visibility=\"hidden\" gadfly:scale=\"10.0\"/>\n",
       "      <path fill=\"none\" d=\"M33.88,-2.56 L 109.6 -2.56\" visibility=\"hidden\" gadfly:scale=\"10.0\"/>\n",
       "      <path fill=\"none\" d=\"M33.88,-0.17 L 109.6 -0.17\" visibility=\"hidden\" gadfly:scale=\"10.0\"/>\n",
       "      <path fill=\"none\" d=\"M33.88,2.22 L 109.6 2.22\" visibility=\"hidden\" gadfly:scale=\"10.0\"/>\n",
       "      <path fill=\"none\" d=\"M33.88,4.61 L 109.6 4.61\" visibility=\"hidden\" gadfly:scale=\"10.0\"/>\n",
       "      <path fill=\"none\" d=\"M33.88,7 L 109.6 7\" visibility=\"hidden\" gadfly:scale=\"10.0\"/>\n",
       "      <path fill=\"none\" d=\"M33.88,9.39 L 109.6 9.39\" visibility=\"hidden\" gadfly:scale=\"10.0\"/>\n",
       "      <path fill=\"none\" d=\"M33.88,11.78 L 109.6 11.78\" visibility=\"hidden\" gadfly:scale=\"10.0\"/>\n",
       "      <path fill=\"none\" d=\"M33.88,14.17 L 109.6 14.17\" visibility=\"hidden\" gadfly:scale=\"10.0\"/>\n",
       "      <path fill=\"none\" d=\"M33.88,16.56 L 109.6 16.56\" visibility=\"hidden\" gadfly:scale=\"10.0\"/>\n",
       "      <path fill=\"none\" d=\"M33.88,18.95 L 109.6 18.95\" visibility=\"hidden\" gadfly:scale=\"10.0\"/>\n",
       "      <path fill=\"none\" d=\"M33.88,21.34 L 109.6 21.34\" visibility=\"hidden\" gadfly:scale=\"10.0\"/>\n",
       "      <path fill=\"none\" d=\"M33.88,23.73 L 109.6 23.73\" visibility=\"hidden\" gadfly:scale=\"10.0\"/>\n",
       "      <path fill=\"none\" d=\"M33.88,26.12 L 109.6 26.12\" visibility=\"hidden\" gadfly:scale=\"10.0\"/>\n",
       "      <path fill=\"none\" d=\"M33.88,28.51 L 109.6 28.51\" visibility=\"hidden\" gadfly:scale=\"10.0\"/>\n",
       "      <path fill=\"none\" d=\"M33.88,30.9 L 109.6 30.9\" visibility=\"hidden\" gadfly:scale=\"10.0\"/>\n",
       "      <path fill=\"none\" d=\"M33.88,33.3 L 109.6 33.3\" visibility=\"hidden\" gadfly:scale=\"10.0\"/>\n",
       "      <path fill=\"none\" d=\"M33.88,35.69 L 109.6 35.69\" visibility=\"hidden\" gadfly:scale=\"10.0\"/>\n",
       "      <path fill=\"none\" d=\"M33.88,38.08 L 109.6 38.08\" visibility=\"hidden\" gadfly:scale=\"10.0\"/>\n",
       "      <path fill=\"none\" d=\"M33.88,40.47 L 109.6 40.47\" visibility=\"hidden\" gadfly:scale=\"10.0\"/>\n",
       "      <path fill=\"none\" d=\"M33.88,42.86 L 109.6 42.86\" visibility=\"hidden\" gadfly:scale=\"10.0\"/>\n",
       "      <path fill=\"none\" d=\"M33.88,45.25 L 109.6 45.25\" visibility=\"hidden\" gadfly:scale=\"10.0\"/>\n",
       "      <path fill=\"none\" d=\"M33.88,47.64 L 109.6 47.64\" visibility=\"hidden\" gadfly:scale=\"10.0\"/>\n",
       "      <path fill=\"none\" d=\"M33.88,50.03 L 109.6 50.03\" visibility=\"hidden\" gadfly:scale=\"10.0\"/>\n",
       "      <path fill=\"none\" d=\"M33.88,52.42 L 109.6 52.42\" visibility=\"hidden\" gadfly:scale=\"10.0\"/>\n",
       "      <path fill=\"none\" d=\"M33.88,54.81 L 109.6 54.81\" visibility=\"hidden\" gadfly:scale=\"10.0\"/>\n",
       "      <path fill=\"none\" d=\"M33.88,57.2 L 109.6 57.2\" visibility=\"hidden\" gadfly:scale=\"10.0\"/>\n",
       "      <path fill=\"none\" d=\"M33.88,59.59 L 109.6 59.59\" visibility=\"hidden\" gadfly:scale=\"10.0\"/>\n",
       "      <path fill=\"none\" d=\"M33.88,61.98 L 109.6 61.98\" visibility=\"hidden\" gadfly:scale=\"10.0\"/>\n",
       "      <path fill=\"none\" d=\"M33.88,64.37 L 109.6 64.37\" visibility=\"hidden\" gadfly:scale=\"10.0\"/>\n",
       "      <path fill=\"none\" d=\"M33.88,66.76 L 109.6 66.76\" visibility=\"hidden\" gadfly:scale=\"10.0\"/>\n",
       "      <path fill=\"none\" d=\"M33.88,69.15 L 109.6 69.15\" visibility=\"hidden\" gadfly:scale=\"10.0\"/>\n",
       "      <path fill=\"none\" d=\"M33.88,71.54 L 109.6 71.54\" visibility=\"hidden\" gadfly:scale=\"10.0\"/>\n",
       "      <path fill=\"none\" d=\"M33.88,73.93 L 109.6 73.93\" visibility=\"hidden\" gadfly:scale=\"10.0\"/>\n",
       "      <path fill=\"none\" d=\"M33.88,76.32 L 109.6 76.32\" visibility=\"hidden\" gadfly:scale=\"10.0\"/>\n",
       "      <path fill=\"none\" d=\"M33.88,78.71 L 109.6 78.71\" visibility=\"hidden\" gadfly:scale=\"10.0\"/>\n",
       "      <path fill=\"none\" d=\"M33.88,81.11 L 109.6 81.11\" visibility=\"hidden\" gadfly:scale=\"10.0\"/>\n",
       "      <path fill=\"none\" d=\"M33.88,83.5 L 109.6 83.5\" visibility=\"hidden\" gadfly:scale=\"10.0\"/>\n",
       "      <path fill=\"none\" d=\"M33.88,85.89 L 109.6 85.89\" visibility=\"hidden\" gadfly:scale=\"10.0\"/>\n",
       "      <path fill=\"none\" d=\"M33.88,88.28 L 109.6 88.28\" visibility=\"hidden\" gadfly:scale=\"10.0\"/>\n",
       "      <path fill=\"none\" d=\"M33.88,90.67 L 109.6 90.67\" visibility=\"hidden\" gadfly:scale=\"10.0\"/>\n",
       "      <path fill=\"none\" d=\"M33.88,93.06 L 109.6 93.06\" visibility=\"hidden\" gadfly:scale=\"10.0\"/>\n",
       "      <path fill=\"none\" d=\"M33.88,95.45 L 109.6 95.45\" visibility=\"hidden\" gadfly:scale=\"10.0\"/>\n",
       "      <path fill=\"none\" d=\"M33.88,97.84 L 109.6 97.84\" visibility=\"hidden\" gadfly:scale=\"10.0\"/>\n",
       "      <path fill=\"none\" d=\"M33.88,100.23 L 109.6 100.23\" visibility=\"hidden\" gadfly:scale=\"10.0\"/>\n",
       "      <path fill=\"none\" d=\"M33.88,102.62 L 109.6 102.62\" visibility=\"hidden\" gadfly:scale=\"10.0\"/>\n",
       "      <path fill=\"none\" d=\"M33.88,105.01 L 109.6 105.01\" visibility=\"hidden\" gadfly:scale=\"10.0\"/>\n",
       "      <path fill=\"none\" d=\"M33.88,107.4 L 109.6 107.4\" visibility=\"hidden\" gadfly:scale=\"10.0\"/>\n",
       "      <path fill=\"none\" d=\"M33.88,109.79 L 109.6 109.79\" visibility=\"hidden\" gadfly:scale=\"10.0\"/>\n",
       "      <path fill=\"none\" d=\"M33.88,112.18 L 109.6 112.18\" visibility=\"hidden\" gadfly:scale=\"10.0\"/>\n",
       "      <path fill=\"none\" d=\"M33.88,114.57 L 109.6 114.57\" visibility=\"hidden\" gadfly:scale=\"10.0\"/>\n",
       "      <path fill=\"none\" d=\"M33.88,116.96 L 109.6 116.96\" visibility=\"hidden\" gadfly:scale=\"10.0\"/>\n",
       "      <path fill=\"none\" d=\"M33.88,119.35 L 109.6 119.35\" visibility=\"hidden\" gadfly:scale=\"10.0\"/>\n",
       "      <path fill=\"none\" d=\"M33.88,121.74 L 109.6 121.74\" visibility=\"hidden\" gadfly:scale=\"10.0\"/>\n",
       "      <path fill=\"none\" d=\"M33.88,124.13 L 109.6 124.13\" visibility=\"hidden\" gadfly:scale=\"10.0\"/>\n",
       "      <path fill=\"none\" d=\"M33.88,126.52 L 109.6 126.52\" visibility=\"hidden\" gadfly:scale=\"10.0\"/>\n",
       "      <path fill=\"none\" d=\"M33.88,128.92 L 109.6 128.92\" visibility=\"hidden\" gadfly:scale=\"10.0\"/>\n",
       "      <path fill=\"none\" d=\"M33.88,131.31 L 109.6 131.31\" visibility=\"hidden\" gadfly:scale=\"10.0\"/>\n",
       "      <path fill=\"none\" d=\"M33.88,133.7 L 109.6 133.7\" visibility=\"hidden\" gadfly:scale=\"10.0\"/>\n",
       "      <path fill=\"none\" d=\"M33.88,136.09 L 109.6 136.09\" visibility=\"hidden\" gadfly:scale=\"10.0\"/>\n",
       "      <path fill=\"none\" d=\"M33.88,138.48 L 109.6 138.48\" visibility=\"hidden\" gadfly:scale=\"10.0\"/>\n",
       "      <path fill=\"none\" d=\"M33.88,140.87 L 109.6 140.87\" visibility=\"hidden\" gadfly:scale=\"10.0\"/>\n",
       "      <path fill=\"none\" d=\"M33.88,143.26 L 109.6 143.26\" visibility=\"hidden\" gadfly:scale=\"10.0\"/>\n",
       "      <path fill=\"none\" d=\"M33.88,145.65 L 109.6 145.65\" visibility=\"hidden\" gadfly:scale=\"10.0\"/>\n",
       "      <path fill=\"none\" d=\"M33.88,148.04 L 109.6 148.04\" visibility=\"hidden\" gadfly:scale=\"10.0\"/>\n",
       "      <path fill=\"none\" d=\"M33.88,150.43 L 109.6 150.43\" visibility=\"hidden\" gadfly:scale=\"10.0\"/>\n",
       "      <path fill=\"none\" d=\"M33.88,-64.71 L 109.6 -64.71\" visibility=\"hidden\" gadfly:scale=\"0.5\"/>\n",
       "      <path fill=\"none\" d=\"M33.88,-4.95 L 109.6 -4.95\" visibility=\"hidden\" gadfly:scale=\"0.5\"/>\n",
       "      <path fill=\"none\" d=\"M33.88,54.81 L 109.6 54.81\" visibility=\"hidden\" gadfly:scale=\"0.5\"/>\n",
       "      <path fill=\"none\" d=\"M33.88,114.57 L 109.6 114.57\" visibility=\"hidden\" gadfly:scale=\"0.5\"/>\n",
       "      <path fill=\"none\" d=\"M33.88,174.33 L 109.6 174.33\" visibility=\"hidden\" gadfly:scale=\"0.5\"/>\n",
       "      <path fill=\"none\" d=\"M33.88,-67.11 L 109.6 -67.11\" visibility=\"hidden\" gadfly:scale=\"5.0\"/>\n",
       "      <path fill=\"none\" d=\"M33.88,-62.32 L 109.6 -62.32\" visibility=\"hidden\" gadfly:scale=\"5.0\"/>\n",
       "      <path fill=\"none\" d=\"M33.88,-57.54 L 109.6 -57.54\" visibility=\"hidden\" gadfly:scale=\"5.0\"/>\n",
       "      <path fill=\"none\" d=\"M33.88,-52.76 L 109.6 -52.76\" visibility=\"hidden\" gadfly:scale=\"5.0\"/>\n",
       "      <path fill=\"none\" d=\"M33.88,-47.98 L 109.6 -47.98\" visibility=\"hidden\" gadfly:scale=\"5.0\"/>\n",
       "      <path fill=\"none\" d=\"M33.88,-43.2 L 109.6 -43.2\" visibility=\"hidden\" gadfly:scale=\"5.0\"/>\n",
       "      <path fill=\"none\" d=\"M33.88,-38.42 L 109.6 -38.42\" visibility=\"hidden\" gadfly:scale=\"5.0\"/>\n",
       "      <path fill=\"none\" d=\"M33.88,-33.64 L 109.6 -33.64\" visibility=\"hidden\" gadfly:scale=\"5.0\"/>\n",
       "      <path fill=\"none\" d=\"M33.88,-28.86 L 109.6 -28.86\" visibility=\"hidden\" gadfly:scale=\"5.0\"/>\n",
       "      <path fill=\"none\" d=\"M33.88,-24.08 L 109.6 -24.08\" visibility=\"hidden\" gadfly:scale=\"5.0\"/>\n",
       "      <path fill=\"none\" d=\"M33.88,-19.3 L 109.6 -19.3\" visibility=\"hidden\" gadfly:scale=\"5.0\"/>\n",
       "      <path fill=\"none\" d=\"M33.88,-14.51 L 109.6 -14.51\" visibility=\"hidden\" gadfly:scale=\"5.0\"/>\n",
       "      <path fill=\"none\" d=\"M33.88,-9.73 L 109.6 -9.73\" visibility=\"hidden\" gadfly:scale=\"5.0\"/>\n",
       "      <path fill=\"none\" d=\"M33.88,-4.95 L 109.6 -4.95\" visibility=\"hidden\" gadfly:scale=\"5.0\"/>\n",
       "      <path fill=\"none\" d=\"M33.88,-0.17 L 109.6 -0.17\" visibility=\"hidden\" gadfly:scale=\"5.0\"/>\n",
       "      <path fill=\"none\" d=\"M33.88,4.61 L 109.6 4.61\" visibility=\"hidden\" gadfly:scale=\"5.0\"/>\n",
       "      <path fill=\"none\" d=\"M33.88,9.39 L 109.6 9.39\" visibility=\"hidden\" gadfly:scale=\"5.0\"/>\n",
       "      <path fill=\"none\" d=\"M33.88,14.17 L 109.6 14.17\" visibility=\"hidden\" gadfly:scale=\"5.0\"/>\n",
       "      <path fill=\"none\" d=\"M33.88,18.95 L 109.6 18.95\" visibility=\"hidden\" gadfly:scale=\"5.0\"/>\n",
       "      <path fill=\"none\" d=\"M33.88,23.73 L 109.6 23.73\" visibility=\"hidden\" gadfly:scale=\"5.0\"/>\n",
       "      <path fill=\"none\" d=\"M33.88,28.51 L 109.6 28.51\" visibility=\"hidden\" gadfly:scale=\"5.0\"/>\n",
       "      <path fill=\"none\" d=\"M33.88,33.3 L 109.6 33.3\" visibility=\"hidden\" gadfly:scale=\"5.0\"/>\n",
       "      <path fill=\"none\" d=\"M33.88,38.08 L 109.6 38.08\" visibility=\"hidden\" gadfly:scale=\"5.0\"/>\n",
       "      <path fill=\"none\" d=\"M33.88,42.86 L 109.6 42.86\" visibility=\"hidden\" gadfly:scale=\"5.0\"/>\n",
       "      <path fill=\"none\" d=\"M33.88,47.64 L 109.6 47.64\" visibility=\"hidden\" gadfly:scale=\"5.0\"/>\n",
       "      <path fill=\"none\" d=\"M33.88,52.42 L 109.6 52.42\" visibility=\"hidden\" gadfly:scale=\"5.0\"/>\n",
       "      <path fill=\"none\" d=\"M33.88,57.2 L 109.6 57.2\" visibility=\"hidden\" gadfly:scale=\"5.0\"/>\n",
       "      <path fill=\"none\" d=\"M33.88,61.98 L 109.6 61.98\" visibility=\"hidden\" gadfly:scale=\"5.0\"/>\n",
       "      <path fill=\"none\" d=\"M33.88,66.76 L 109.6 66.76\" visibility=\"hidden\" gadfly:scale=\"5.0\"/>\n",
       "      <path fill=\"none\" d=\"M33.88,71.54 L 109.6 71.54\" visibility=\"hidden\" gadfly:scale=\"5.0\"/>\n",
       "      <path fill=\"none\" d=\"M33.88,76.32 L 109.6 76.32\" visibility=\"hidden\" gadfly:scale=\"5.0\"/>\n",
       "      <path fill=\"none\" d=\"M33.88,81.11 L 109.6 81.11\" visibility=\"hidden\" gadfly:scale=\"5.0\"/>\n",
       "      <path fill=\"none\" d=\"M33.88,85.89 L 109.6 85.89\" visibility=\"hidden\" gadfly:scale=\"5.0\"/>\n",
       "      <path fill=\"none\" d=\"M33.88,90.67 L 109.6 90.67\" visibility=\"hidden\" gadfly:scale=\"5.0\"/>\n",
       "      <path fill=\"none\" d=\"M33.88,95.45 L 109.6 95.45\" visibility=\"hidden\" gadfly:scale=\"5.0\"/>\n",
       "      <path fill=\"none\" d=\"M33.88,100.23 L 109.6 100.23\" visibility=\"hidden\" gadfly:scale=\"5.0\"/>\n",
       "      <path fill=\"none\" d=\"M33.88,105.01 L 109.6 105.01\" visibility=\"hidden\" gadfly:scale=\"5.0\"/>\n",
       "      <path fill=\"none\" d=\"M33.88,109.79 L 109.6 109.79\" visibility=\"hidden\" gadfly:scale=\"5.0\"/>\n",
       "      <path fill=\"none\" d=\"M33.88,114.57 L 109.6 114.57\" visibility=\"hidden\" gadfly:scale=\"5.0\"/>\n",
       "      <path fill=\"none\" d=\"M33.88,119.35 L 109.6 119.35\" visibility=\"hidden\" gadfly:scale=\"5.0\"/>\n",
       "      <path fill=\"none\" d=\"M33.88,124.13 L 109.6 124.13\" visibility=\"hidden\" gadfly:scale=\"5.0\"/>\n",
       "      <path fill=\"none\" d=\"M33.88,128.92 L 109.6 128.92\" visibility=\"hidden\" gadfly:scale=\"5.0\"/>\n",
       "      <path fill=\"none\" d=\"M33.88,133.7 L 109.6 133.7\" visibility=\"hidden\" gadfly:scale=\"5.0\"/>\n",
       "      <path fill=\"none\" d=\"M33.88,138.48 L 109.6 138.48\" visibility=\"hidden\" gadfly:scale=\"5.0\"/>\n",
       "      <path fill=\"none\" d=\"M33.88,143.26 L 109.6 143.26\" visibility=\"hidden\" gadfly:scale=\"5.0\"/>\n",
       "      <path fill=\"none\" d=\"M33.88,148.04 L 109.6 148.04\" visibility=\"hidden\" gadfly:scale=\"5.0\"/>\n",
       "      <path fill=\"none\" d=\"M33.88,152.82 L 109.6 152.82\" visibility=\"hidden\" gadfly:scale=\"5.0\"/>\n",
       "    </g>\n",
       "    <g class=\"guide xgridlines yfixed\" stroke-dasharray=\"0.5,0.5\" stroke-width=\"0.2\" stroke=\"#D0D0E0\" id=\"img-b2a82f8a-13\">\n",
       "      <path fill=\"none\" d=\"M-47.79,5 L -47.79 80.72\" visibility=\"hidden\" gadfly:scale=\"1.0\"/>\n",
       "      <path fill=\"none\" d=\"M-35.83,5 L -35.83 80.72\" visibility=\"hidden\" gadfly:scale=\"1.0\"/>\n",
       "      <path fill=\"none\" d=\"M-23.88,5 L -23.88 80.72\" visibility=\"hidden\" gadfly:scale=\"1.0\"/>\n",
       "      <path fill=\"none\" d=\"M-11.93,5 L -11.93 80.72\" visibility=\"hidden\" gadfly:scale=\"1.0\"/>\n",
       "      <path fill=\"none\" d=\"M0.02,5 L 0.02 80.72\" visibility=\"hidden\" gadfly:scale=\"1.0\"/>\n",
       "      <path fill=\"none\" d=\"M11.98,5 L 11.98 80.72\" visibility=\"hidden\" gadfly:scale=\"1.0\"/>\n",
       "      <path fill=\"none\" d=\"M23.93,5 L 23.93 80.72\" visibility=\"hidden\" gadfly:scale=\"1.0\"/>\n",
       "      <path fill=\"none\" d=\"M35.88,5 L 35.88 80.72\" visibility=\"visible\" gadfly:scale=\"1.0\"/>\n",
       "      <path fill=\"none\" d=\"M47.83,5 L 47.83 80.72\" visibility=\"visible\" gadfly:scale=\"1.0\"/>\n",
       "      <path fill=\"none\" d=\"M59.79,5 L 59.79 80.72\" visibility=\"visible\" gadfly:scale=\"1.0\"/>\n",
       "      <path fill=\"none\" d=\"M71.74,5 L 71.74 80.72\" visibility=\"visible\" gadfly:scale=\"1.0\"/>\n",
       "      <path fill=\"none\" d=\"M83.69,5 L 83.69 80.72\" visibility=\"visible\" gadfly:scale=\"1.0\"/>\n",
       "      <path fill=\"none\" d=\"M95.64,5 L 95.64 80.72\" visibility=\"visible\" gadfly:scale=\"1.0\"/>\n",
       "      <path fill=\"none\" d=\"M107.6,5 L 107.6 80.72\" visibility=\"visible\" gadfly:scale=\"1.0\"/>\n",
       "      <path fill=\"none\" d=\"M119.55,5 L 119.55 80.72\" visibility=\"hidden\" gadfly:scale=\"1.0\"/>\n",
       "      <path fill=\"none\" d=\"M131.5,5 L 131.5 80.72\" visibility=\"hidden\" gadfly:scale=\"1.0\"/>\n",
       "      <path fill=\"none\" d=\"M143.45,5 L 143.45 80.72\" visibility=\"hidden\" gadfly:scale=\"1.0\"/>\n",
       "      <path fill=\"none\" d=\"M155.41,5 L 155.41 80.72\" visibility=\"hidden\" gadfly:scale=\"1.0\"/>\n",
       "      <path fill=\"none\" d=\"M167.36,5 L 167.36 80.72\" visibility=\"hidden\" gadfly:scale=\"1.0\"/>\n",
       "      <path fill=\"none\" d=\"M179.31,5 L 179.31 80.72\" visibility=\"hidden\" gadfly:scale=\"1.0\"/>\n",
       "      <path fill=\"none\" d=\"M191.26,5 L 191.26 80.72\" visibility=\"hidden\" gadfly:scale=\"1.0\"/>\n",
       "      <path fill=\"none\" d=\"M-35.83,5 L -35.83 80.72\" visibility=\"hidden\" gadfly:scale=\"10.0\"/>\n",
       "      <path fill=\"none\" d=\"M-33.44,5 L -33.44 80.72\" visibility=\"hidden\" gadfly:scale=\"10.0\"/>\n",
       "      <path fill=\"none\" d=\"M-31.05,5 L -31.05 80.72\" visibility=\"hidden\" gadfly:scale=\"10.0\"/>\n",
       "      <path fill=\"none\" d=\"M-28.66,5 L -28.66 80.72\" visibility=\"hidden\" gadfly:scale=\"10.0\"/>\n",
       "      <path fill=\"none\" d=\"M-26.27,5 L -26.27 80.72\" visibility=\"hidden\" gadfly:scale=\"10.0\"/>\n",
       "      <path fill=\"none\" d=\"M-23.88,5 L -23.88 80.72\" visibility=\"hidden\" gadfly:scale=\"10.0\"/>\n",
       "      <path fill=\"none\" d=\"M-21.49,5 L -21.49 80.72\" visibility=\"hidden\" gadfly:scale=\"10.0\"/>\n",
       "      <path fill=\"none\" d=\"M-19.1,5 L -19.1 80.72\" visibility=\"hidden\" gadfly:scale=\"10.0\"/>\n",
       "      <path fill=\"none\" d=\"M-16.71,5 L -16.71 80.72\" visibility=\"hidden\" gadfly:scale=\"10.0\"/>\n",
       "      <path fill=\"none\" d=\"M-14.32,5 L -14.32 80.72\" visibility=\"hidden\" gadfly:scale=\"10.0\"/>\n",
       "      <path fill=\"none\" d=\"M-11.93,5 L -11.93 80.72\" visibility=\"hidden\" gadfly:scale=\"10.0\"/>\n",
       "      <path fill=\"none\" d=\"M-9.54,5 L -9.54 80.72\" visibility=\"hidden\" gadfly:scale=\"10.0\"/>\n",
       "      <path fill=\"none\" d=\"M-7.15,5 L -7.15 80.72\" visibility=\"hidden\" gadfly:scale=\"10.0\"/>\n",
       "      <path fill=\"none\" d=\"M-4.76,5 L -4.76 80.72\" visibility=\"hidden\" gadfly:scale=\"10.0\"/>\n",
       "      <path fill=\"none\" d=\"M-2.37,5 L -2.37 80.72\" visibility=\"hidden\" gadfly:scale=\"10.0\"/>\n",
       "      <path fill=\"none\" d=\"M0.02,5 L 0.02 80.72\" visibility=\"hidden\" gadfly:scale=\"10.0\"/>\n",
       "      <path fill=\"none\" d=\"M2.41,5 L 2.41 80.72\" visibility=\"hidden\" gadfly:scale=\"10.0\"/>\n",
       "      <path fill=\"none\" d=\"M4.8,5 L 4.8 80.72\" visibility=\"hidden\" gadfly:scale=\"10.0\"/>\n",
       "      <path fill=\"none\" d=\"M7.2,5 L 7.2 80.72\" visibility=\"hidden\" gadfly:scale=\"10.0\"/>\n",
       "      <path fill=\"none\" d=\"M9.59,5 L 9.59 80.72\" visibility=\"hidden\" gadfly:scale=\"10.0\"/>\n",
       "      <path fill=\"none\" d=\"M11.98,5 L 11.98 80.72\" visibility=\"hidden\" gadfly:scale=\"10.0\"/>\n",
       "      <path fill=\"none\" d=\"M14.37,5 L 14.37 80.72\" visibility=\"hidden\" gadfly:scale=\"10.0\"/>\n",
       "      <path fill=\"none\" d=\"M16.76,5 L 16.76 80.72\" visibility=\"hidden\" gadfly:scale=\"10.0\"/>\n",
       "      <path fill=\"none\" d=\"M19.15,5 L 19.15 80.72\" visibility=\"hidden\" gadfly:scale=\"10.0\"/>\n",
       "      <path fill=\"none\" d=\"M21.54,5 L 21.54 80.72\" visibility=\"hidden\" gadfly:scale=\"10.0\"/>\n",
       "      <path fill=\"none\" d=\"M23.93,5 L 23.93 80.72\" visibility=\"hidden\" gadfly:scale=\"10.0\"/>\n",
       "      <path fill=\"none\" d=\"M26.32,5 L 26.32 80.72\" visibility=\"hidden\" gadfly:scale=\"10.0\"/>\n",
       "      <path fill=\"none\" d=\"M28.71,5 L 28.71 80.72\" visibility=\"hidden\" gadfly:scale=\"10.0\"/>\n",
       "      <path fill=\"none\" d=\"M31.1,5 L 31.1 80.72\" visibility=\"hidden\" gadfly:scale=\"10.0\"/>\n",
       "      <path fill=\"none\" d=\"M33.49,5 L 33.49 80.72\" visibility=\"hidden\" gadfly:scale=\"10.0\"/>\n",
       "      <path fill=\"none\" d=\"M35.88,5 L 35.88 80.72\" visibility=\"hidden\" gadfly:scale=\"10.0\"/>\n",
       "      <path fill=\"none\" d=\"M38.27,5 L 38.27 80.72\" visibility=\"hidden\" gadfly:scale=\"10.0\"/>\n",
       "      <path fill=\"none\" d=\"M40.66,5 L 40.66 80.72\" visibility=\"hidden\" gadfly:scale=\"10.0\"/>\n",
       "      <path fill=\"none\" d=\"M43.05,5 L 43.05 80.72\" visibility=\"hidden\" gadfly:scale=\"10.0\"/>\n",
       "      <path fill=\"none\" d=\"M45.44,5 L 45.44 80.72\" visibility=\"hidden\" gadfly:scale=\"10.0\"/>\n",
       "      <path fill=\"none\" d=\"M47.83,5 L 47.83 80.72\" visibility=\"hidden\" gadfly:scale=\"10.0\"/>\n",
       "      <path fill=\"none\" d=\"M50.22,5 L 50.22 80.72\" visibility=\"hidden\" gadfly:scale=\"10.0\"/>\n",
       "      <path fill=\"none\" d=\"M52.61,5 L 52.61 80.72\" visibility=\"hidden\" gadfly:scale=\"10.0\"/>\n",
       "      <path fill=\"none\" d=\"M55.01,5 L 55.01 80.72\" visibility=\"hidden\" gadfly:scale=\"10.0\"/>\n",
       "      <path fill=\"none\" d=\"M57.4,5 L 57.4 80.72\" visibility=\"hidden\" gadfly:scale=\"10.0\"/>\n",
       "      <path fill=\"none\" d=\"M59.79,5 L 59.79 80.72\" visibility=\"hidden\" gadfly:scale=\"10.0\"/>\n",
       "      <path fill=\"none\" d=\"M62.18,5 L 62.18 80.72\" visibility=\"hidden\" gadfly:scale=\"10.0\"/>\n",
       "      <path fill=\"none\" d=\"M64.57,5 L 64.57 80.72\" visibility=\"hidden\" gadfly:scale=\"10.0\"/>\n",
       "      <path fill=\"none\" d=\"M66.96,5 L 66.96 80.72\" visibility=\"hidden\" gadfly:scale=\"10.0\"/>\n",
       "      <path fill=\"none\" d=\"M69.35,5 L 69.35 80.72\" visibility=\"hidden\" gadfly:scale=\"10.0\"/>\n",
       "      <path fill=\"none\" d=\"M71.74,5 L 71.74 80.72\" visibility=\"hidden\" gadfly:scale=\"10.0\"/>\n",
       "      <path fill=\"none\" d=\"M74.13,5 L 74.13 80.72\" visibility=\"hidden\" gadfly:scale=\"10.0\"/>\n",
       "      <path fill=\"none\" d=\"M76.52,5 L 76.52 80.72\" visibility=\"hidden\" gadfly:scale=\"10.0\"/>\n",
       "      <path fill=\"none\" d=\"M78.91,5 L 78.91 80.72\" visibility=\"hidden\" gadfly:scale=\"10.0\"/>\n",
       "      <path fill=\"none\" d=\"M81.3,5 L 81.3 80.72\" visibility=\"hidden\" gadfly:scale=\"10.0\"/>\n",
       "      <path fill=\"none\" d=\"M83.69,5 L 83.69 80.72\" visibility=\"hidden\" gadfly:scale=\"10.0\"/>\n",
       "      <path fill=\"none\" d=\"M86.08,5 L 86.08 80.72\" visibility=\"hidden\" gadfly:scale=\"10.0\"/>\n",
       "      <path fill=\"none\" d=\"M88.47,5 L 88.47 80.72\" visibility=\"hidden\" gadfly:scale=\"10.0\"/>\n",
       "      <path fill=\"none\" d=\"M90.86,5 L 90.86 80.72\" visibility=\"hidden\" gadfly:scale=\"10.0\"/>\n",
       "      <path fill=\"none\" d=\"M93.25,5 L 93.25 80.72\" visibility=\"hidden\" gadfly:scale=\"10.0\"/>\n",
       "      <path fill=\"none\" d=\"M95.64,5 L 95.64 80.72\" visibility=\"hidden\" gadfly:scale=\"10.0\"/>\n",
       "      <path fill=\"none\" d=\"M98.03,5 L 98.03 80.72\" visibility=\"hidden\" gadfly:scale=\"10.0\"/>\n",
       "      <path fill=\"none\" d=\"M100.42,5 L 100.42 80.72\" visibility=\"hidden\" gadfly:scale=\"10.0\"/>\n",
       "      <path fill=\"none\" d=\"M102.82,5 L 102.82 80.72\" visibility=\"hidden\" gadfly:scale=\"10.0\"/>\n",
       "      <path fill=\"none\" d=\"M105.21,5 L 105.21 80.72\" visibility=\"hidden\" gadfly:scale=\"10.0\"/>\n",
       "      <path fill=\"none\" d=\"M107.6,5 L 107.6 80.72\" visibility=\"hidden\" gadfly:scale=\"10.0\"/>\n",
       "      <path fill=\"none\" d=\"M109.99,5 L 109.99 80.72\" visibility=\"hidden\" gadfly:scale=\"10.0\"/>\n",
       "      <path fill=\"none\" d=\"M112.38,5 L 112.38 80.72\" visibility=\"hidden\" gadfly:scale=\"10.0\"/>\n",
       "      <path fill=\"none\" d=\"M114.77,5 L 114.77 80.72\" visibility=\"hidden\" gadfly:scale=\"10.0\"/>\n",
       "      <path fill=\"none\" d=\"M117.16,5 L 117.16 80.72\" visibility=\"hidden\" gadfly:scale=\"10.0\"/>\n",
       "      <path fill=\"none\" d=\"M119.55,5 L 119.55 80.72\" visibility=\"hidden\" gadfly:scale=\"10.0\"/>\n",
       "      <path fill=\"none\" d=\"M121.94,5 L 121.94 80.72\" visibility=\"hidden\" gadfly:scale=\"10.0\"/>\n",
       "      <path fill=\"none\" d=\"M124.33,5 L 124.33 80.72\" visibility=\"hidden\" gadfly:scale=\"10.0\"/>\n",
       "      <path fill=\"none\" d=\"M126.72,5 L 126.72 80.72\" visibility=\"hidden\" gadfly:scale=\"10.0\"/>\n",
       "      <path fill=\"none\" d=\"M129.11,5 L 129.11 80.72\" visibility=\"hidden\" gadfly:scale=\"10.0\"/>\n",
       "      <path fill=\"none\" d=\"M131.5,5 L 131.5 80.72\" visibility=\"hidden\" gadfly:scale=\"10.0\"/>\n",
       "      <path fill=\"none\" d=\"M133.89,5 L 133.89 80.72\" visibility=\"hidden\" gadfly:scale=\"10.0\"/>\n",
       "      <path fill=\"none\" d=\"M136.28,5 L 136.28 80.72\" visibility=\"hidden\" gadfly:scale=\"10.0\"/>\n",
       "      <path fill=\"none\" d=\"M138.67,5 L 138.67 80.72\" visibility=\"hidden\" gadfly:scale=\"10.0\"/>\n",
       "      <path fill=\"none\" d=\"M141.06,5 L 141.06 80.72\" visibility=\"hidden\" gadfly:scale=\"10.0\"/>\n",
       "      <path fill=\"none\" d=\"M143.45,5 L 143.45 80.72\" visibility=\"hidden\" gadfly:scale=\"10.0\"/>\n",
       "      <path fill=\"none\" d=\"M145.84,5 L 145.84 80.72\" visibility=\"hidden\" gadfly:scale=\"10.0\"/>\n",
       "      <path fill=\"none\" d=\"M148.23,5 L 148.23 80.72\" visibility=\"hidden\" gadfly:scale=\"10.0\"/>\n",
       "      <path fill=\"none\" d=\"M150.63,5 L 150.63 80.72\" visibility=\"hidden\" gadfly:scale=\"10.0\"/>\n",
       "      <path fill=\"none\" d=\"M153.02,5 L 153.02 80.72\" visibility=\"hidden\" gadfly:scale=\"10.0\"/>\n",
       "      <path fill=\"none\" d=\"M155.41,5 L 155.41 80.72\" visibility=\"hidden\" gadfly:scale=\"10.0\"/>\n",
       "      <path fill=\"none\" d=\"M157.8,5 L 157.8 80.72\" visibility=\"hidden\" gadfly:scale=\"10.0\"/>\n",
       "      <path fill=\"none\" d=\"M160.19,5 L 160.19 80.72\" visibility=\"hidden\" gadfly:scale=\"10.0\"/>\n",
       "      <path fill=\"none\" d=\"M162.58,5 L 162.58 80.72\" visibility=\"hidden\" gadfly:scale=\"10.0\"/>\n",
       "      <path fill=\"none\" d=\"M164.97,5 L 164.97 80.72\" visibility=\"hidden\" gadfly:scale=\"10.0\"/>\n",
       "      <path fill=\"none\" d=\"M167.36,5 L 167.36 80.72\" visibility=\"hidden\" gadfly:scale=\"10.0\"/>\n",
       "      <path fill=\"none\" d=\"M169.75,5 L 169.75 80.72\" visibility=\"hidden\" gadfly:scale=\"10.0\"/>\n",
       "      <path fill=\"none\" d=\"M172.14,5 L 172.14 80.72\" visibility=\"hidden\" gadfly:scale=\"10.0\"/>\n",
       "      <path fill=\"none\" d=\"M174.53,5 L 174.53 80.72\" visibility=\"hidden\" gadfly:scale=\"10.0\"/>\n",
       "      <path fill=\"none\" d=\"M176.92,5 L 176.92 80.72\" visibility=\"hidden\" gadfly:scale=\"10.0\"/>\n",
       "      <path fill=\"none\" d=\"M179.31,5 L 179.31 80.72\" visibility=\"hidden\" gadfly:scale=\"10.0\"/>\n",
       "      <path fill=\"none\" d=\"M-35.83,5 L -35.83 80.72\" visibility=\"hidden\" gadfly:scale=\"0.5\"/>\n",
       "      <path fill=\"none\" d=\"M23.93,5 L 23.93 80.72\" visibility=\"hidden\" gadfly:scale=\"0.5\"/>\n",
       "      <path fill=\"none\" d=\"M83.69,5 L 83.69 80.72\" visibility=\"hidden\" gadfly:scale=\"0.5\"/>\n",
       "      <path fill=\"none\" d=\"M143.45,5 L 143.45 80.72\" visibility=\"hidden\" gadfly:scale=\"0.5\"/>\n",
       "      <path fill=\"none\" d=\"M203.22,5 L 203.22 80.72\" visibility=\"hidden\" gadfly:scale=\"0.5\"/>\n",
       "      <path fill=\"none\" d=\"M-38.22,5 L -38.22 80.72\" visibility=\"hidden\" gadfly:scale=\"5.0\"/>\n",
       "      <path fill=\"none\" d=\"M-33.44,5 L -33.44 80.72\" visibility=\"hidden\" gadfly:scale=\"5.0\"/>\n",
       "      <path fill=\"none\" d=\"M-28.66,5 L -28.66 80.72\" visibility=\"hidden\" gadfly:scale=\"5.0\"/>\n",
       "      <path fill=\"none\" d=\"M-23.88,5 L -23.88 80.72\" visibility=\"hidden\" gadfly:scale=\"5.0\"/>\n",
       "      <path fill=\"none\" d=\"M-19.1,5 L -19.1 80.72\" visibility=\"hidden\" gadfly:scale=\"5.0\"/>\n",
       "      <path fill=\"none\" d=\"M-14.32,5 L -14.32 80.72\" visibility=\"hidden\" gadfly:scale=\"5.0\"/>\n",
       "      <path fill=\"none\" d=\"M-9.54,5 L -9.54 80.72\" visibility=\"hidden\" gadfly:scale=\"5.0\"/>\n",
       "      <path fill=\"none\" d=\"M-4.76,5 L -4.76 80.72\" visibility=\"hidden\" gadfly:scale=\"5.0\"/>\n",
       "      <path fill=\"none\" d=\"M0.02,5 L 0.02 80.72\" visibility=\"hidden\" gadfly:scale=\"5.0\"/>\n",
       "      <path fill=\"none\" d=\"M4.8,5 L 4.8 80.72\" visibility=\"hidden\" gadfly:scale=\"5.0\"/>\n",
       "      <path fill=\"none\" d=\"M9.59,5 L 9.59 80.72\" visibility=\"hidden\" gadfly:scale=\"5.0\"/>\n",
       "      <path fill=\"none\" d=\"M14.37,5 L 14.37 80.72\" visibility=\"hidden\" gadfly:scale=\"5.0\"/>\n",
       "      <path fill=\"none\" d=\"M19.15,5 L 19.15 80.72\" visibility=\"hidden\" gadfly:scale=\"5.0\"/>\n",
       "      <path fill=\"none\" d=\"M23.93,5 L 23.93 80.72\" visibility=\"hidden\" gadfly:scale=\"5.0\"/>\n",
       "      <path fill=\"none\" d=\"M28.71,5 L 28.71 80.72\" visibility=\"hidden\" gadfly:scale=\"5.0\"/>\n",
       "      <path fill=\"none\" d=\"M33.49,5 L 33.49 80.72\" visibility=\"hidden\" gadfly:scale=\"5.0\"/>\n",
       "      <path fill=\"none\" d=\"M38.27,5 L 38.27 80.72\" visibility=\"hidden\" gadfly:scale=\"5.0\"/>\n",
       "      <path fill=\"none\" d=\"M43.05,5 L 43.05 80.72\" visibility=\"hidden\" gadfly:scale=\"5.0\"/>\n",
       "      <path fill=\"none\" d=\"M47.83,5 L 47.83 80.72\" visibility=\"hidden\" gadfly:scale=\"5.0\"/>\n",
       "      <path fill=\"none\" d=\"M52.61,5 L 52.61 80.72\" visibility=\"hidden\" gadfly:scale=\"5.0\"/>\n",
       "      <path fill=\"none\" d=\"M57.4,5 L 57.4 80.72\" visibility=\"hidden\" gadfly:scale=\"5.0\"/>\n",
       "      <path fill=\"none\" d=\"M62.18,5 L 62.18 80.72\" visibility=\"hidden\" gadfly:scale=\"5.0\"/>\n",
       "      <path fill=\"none\" d=\"M66.96,5 L 66.96 80.72\" visibility=\"hidden\" gadfly:scale=\"5.0\"/>\n",
       "      <path fill=\"none\" d=\"M71.74,5 L 71.74 80.72\" visibility=\"hidden\" gadfly:scale=\"5.0\"/>\n",
       "      <path fill=\"none\" d=\"M76.52,5 L 76.52 80.72\" visibility=\"hidden\" gadfly:scale=\"5.0\"/>\n",
       "      <path fill=\"none\" d=\"M81.3,5 L 81.3 80.72\" visibility=\"hidden\" gadfly:scale=\"5.0\"/>\n",
       "      <path fill=\"none\" d=\"M86.08,5 L 86.08 80.72\" visibility=\"hidden\" gadfly:scale=\"5.0\"/>\n",
       "      <path fill=\"none\" d=\"M90.86,5 L 90.86 80.72\" visibility=\"hidden\" gadfly:scale=\"5.0\"/>\n",
       "      <path fill=\"none\" d=\"M95.64,5 L 95.64 80.72\" visibility=\"hidden\" gadfly:scale=\"5.0\"/>\n",
       "      <path fill=\"none\" d=\"M100.42,5 L 100.42 80.72\" visibility=\"hidden\" gadfly:scale=\"5.0\"/>\n",
       "      <path fill=\"none\" d=\"M105.21,5 L 105.21 80.72\" visibility=\"hidden\" gadfly:scale=\"5.0\"/>\n",
       "      <path fill=\"none\" d=\"M109.99,5 L 109.99 80.72\" visibility=\"hidden\" gadfly:scale=\"5.0\"/>\n",
       "      <path fill=\"none\" d=\"M114.77,5 L 114.77 80.72\" visibility=\"hidden\" gadfly:scale=\"5.0\"/>\n",
       "      <path fill=\"none\" d=\"M119.55,5 L 119.55 80.72\" visibility=\"hidden\" gadfly:scale=\"5.0\"/>\n",
       "      <path fill=\"none\" d=\"M124.33,5 L 124.33 80.72\" visibility=\"hidden\" gadfly:scale=\"5.0\"/>\n",
       "      <path fill=\"none\" d=\"M129.11,5 L 129.11 80.72\" visibility=\"hidden\" gadfly:scale=\"5.0\"/>\n",
       "      <path fill=\"none\" d=\"M133.89,5 L 133.89 80.72\" visibility=\"hidden\" gadfly:scale=\"5.0\"/>\n",
       "      <path fill=\"none\" d=\"M138.67,5 L 138.67 80.72\" visibility=\"hidden\" gadfly:scale=\"5.0\"/>\n",
       "      <path fill=\"none\" d=\"M143.45,5 L 143.45 80.72\" visibility=\"hidden\" gadfly:scale=\"5.0\"/>\n",
       "      <path fill=\"none\" d=\"M148.23,5 L 148.23 80.72\" visibility=\"hidden\" gadfly:scale=\"5.0\"/>\n",
       "      <path fill=\"none\" d=\"M153.02,5 L 153.02 80.72\" visibility=\"hidden\" gadfly:scale=\"5.0\"/>\n",
       "      <path fill=\"none\" d=\"M157.8,5 L 157.8 80.72\" visibility=\"hidden\" gadfly:scale=\"5.0\"/>\n",
       "      <path fill=\"none\" d=\"M162.58,5 L 162.58 80.72\" visibility=\"hidden\" gadfly:scale=\"5.0\"/>\n",
       "      <path fill=\"none\" d=\"M167.36,5 L 167.36 80.72\" visibility=\"hidden\" gadfly:scale=\"5.0\"/>\n",
       "      <path fill=\"none\" d=\"M172.14,5 L 172.14 80.72\" visibility=\"hidden\" gadfly:scale=\"5.0\"/>\n",
       "      <path fill=\"none\" d=\"M176.92,5 L 176.92 80.72\" visibility=\"hidden\" gadfly:scale=\"5.0\"/>\n",
       "      <path fill=\"none\" d=\"M181.7,5 L 181.7 80.72\" visibility=\"hidden\" gadfly:scale=\"5.0\"/>\n",
       "    </g>\n",
       "    <g class=\"plotpanel\" id=\"img-b2a82f8a-14\">\n",
       "      <g shape-rendering=\"crispEdges\" class=\"geometry\" stroke=\"#000000\" stroke-opacity=\"0.000\" id=\"img-b2a82f8a-15\">\n",
       "        <rect x=\"35.88\" y=\"7\" width=\"23.96\" height=\"23.96\" fill=\"#A35B54\"/>\n",
       "        <rect x=\"35.88\" y=\"30.9\" width=\"23.96\" height=\"23.96\" fill=\"#BBCBBB\"/>\n",
       "        <rect x=\"35.88\" y=\"54.81\" width=\"23.96\" height=\"23.96\" fill=\"#B37563\"/>\n",
       "        <rect x=\"59.79\" y=\"7\" width=\"23.96\" height=\"23.96\" fill=\"#B9CBBD\"/>\n",
       "        <rect x=\"59.79\" y=\"30.9\" width=\"23.96\" height=\"23.96\" fill=\"#006392\"/>\n",
       "        <rect x=\"59.79\" y=\"54.81\" width=\"23.96\" height=\"23.96\" fill=\"#C3C9B6\"/>\n",
       "        <rect x=\"83.69\" y=\"7\" width=\"23.96\" height=\"23.96\" fill=\"#B7CBBF\"/>\n",
       "        <rect x=\"83.69\" y=\"30.9\" width=\"23.96\" height=\"23.96\" fill=\"#BF8C73\"/>\n",
       "        <rect x=\"83.69\" y=\"54.81\" width=\"23.96\" height=\"23.96\" fill=\"#0084A4\"/>\n",
       "      </g>\n",
       "    </g>\n",
       "    <g opacity=\"0\" class=\"guide zoomslider\" stroke=\"#000000\" stroke-opacity=\"0.000\" id=\"img-b2a82f8a-16\">\n",
       "      <g fill=\"#EAEAEA\" stroke-width=\"0.3\" stroke-opacity=\"0\" stroke=\"#6A6A6A\" id=\"img-b2a82f8a-17\">\n",
       "        <rect x=\"102.6\" y=\"8\" width=\"4\" height=\"4\"/>\n",
       "        <g class=\"button_logo\" fill=\"#6A6A6A\" id=\"img-b2a82f8a-18\">\n",
       "          <path d=\"M103.4,9.6 L 104.2 9.6 104.2 8.8 105 8.8 105 9.6 105.8 9.6 105.8 10.4 105 10.4 105 11.2 104.2 11.2 104.2 10.4 103.4 10.4 z\"/>\n",
       "        </g>\n",
       "      </g>\n",
       "      <g fill=\"#EAEAEA\" id=\"img-b2a82f8a-19\">\n",
       "        <rect x=\"83.1\" y=\"8\" width=\"19\" height=\"4\"/>\n",
       "      </g>\n",
       "      <g class=\"zoomslider_thumb\" fill=\"#6A6A6A\" id=\"img-b2a82f8a-20\">\n",
       "        <rect x=\"91.6\" y=\"8\" width=\"2\" height=\"4\"/>\n",
       "      </g>\n",
       "      <g fill=\"#EAEAEA\" stroke-width=\"0.3\" stroke-opacity=\"0\" stroke=\"#6A6A6A\" id=\"img-b2a82f8a-21\">\n",
       "        <rect x=\"78.6\" y=\"8\" width=\"4\" height=\"4\"/>\n",
       "        <g class=\"button_logo\" fill=\"#6A6A6A\" id=\"img-b2a82f8a-22\">\n",
       "          <path d=\"M79.4,9.6 L 81.8 9.6 81.8 10.4 79.4 10.4 z\"/>\n",
       "        </g>\n",
       "      </g>\n",
       "    </g>\n",
       "  </g>\n",
       "</g>\n",
       "  <g class=\"guide ylabels\" font-size=\"2.82\" font-family=\"'PT Sans Caption','Helvetica Neue','Helvetica',sans-serif\" fill=\"#6C606B\" id=\"img-b2a82f8a-23\">\n",
       "    <text x=\"32.88\" y=\"-76.67\" text-anchor=\"end\" dy=\"0.35em\" visibility=\"hidden\" gadfly:scale=\"1.0\">-3.0</text>\n",
       "    <text x=\"32.88\" y=\"-64.71\" text-anchor=\"end\" dy=\"0.35em\" visibility=\"hidden\" gadfly:scale=\"1.0\">-2.5</text>\n",
       "    <text x=\"32.88\" y=\"-52.76\" text-anchor=\"end\" dy=\"0.35em\" visibility=\"hidden\" gadfly:scale=\"1.0\">-2.0</text>\n",
       "    <text x=\"32.88\" y=\"-40.81\" text-anchor=\"end\" dy=\"0.35em\" visibility=\"hidden\" gadfly:scale=\"1.0\">-1.5</text>\n",
       "    <text x=\"32.88\" y=\"-28.86\" text-anchor=\"end\" dy=\"0.35em\" visibility=\"hidden\" gadfly:scale=\"1.0\">-1.0</text>\n",
       "    <text x=\"32.88\" y=\"-16.9\" text-anchor=\"end\" dy=\"0.35em\" visibility=\"hidden\" gadfly:scale=\"1.0\">-0.5</text>\n",
       "    <text x=\"32.88\" y=\"-4.95\" text-anchor=\"end\" dy=\"0.35em\" visibility=\"hidden\" gadfly:scale=\"1.0\">0.0</text>\n",
       "    <text x=\"32.88\" y=\"7\" text-anchor=\"end\" dy=\"0.35em\" visibility=\"visible\" gadfly:scale=\"1.0\">0.5</text>\n",
       "    <text x=\"32.88\" y=\"18.95\" text-anchor=\"end\" dy=\"0.35em\" visibility=\"visible\" gadfly:scale=\"1.0\">1.0</text>\n",
       "    <text x=\"32.88\" y=\"30.9\" text-anchor=\"end\" dy=\"0.35em\" visibility=\"visible\" gadfly:scale=\"1.0\">1.5</text>\n",
       "    <text x=\"32.88\" y=\"42.86\" text-anchor=\"end\" dy=\"0.35em\" visibility=\"visible\" gadfly:scale=\"1.0\">2.0</text>\n",
       "    <text x=\"32.88\" y=\"54.81\" text-anchor=\"end\" dy=\"0.35em\" visibility=\"visible\" gadfly:scale=\"1.0\">2.5</text>\n",
       "    <text x=\"32.88\" y=\"66.76\" text-anchor=\"end\" dy=\"0.35em\" visibility=\"visible\" gadfly:scale=\"1.0\">3.0</text>\n",
       "    <text x=\"32.88\" y=\"78.71\" text-anchor=\"end\" dy=\"0.35em\" visibility=\"visible\" gadfly:scale=\"1.0\">3.5</text>\n",
       "    <text x=\"32.88\" y=\"90.67\" text-anchor=\"end\" dy=\"0.35em\" visibility=\"hidden\" gadfly:scale=\"1.0\">4.0</text>\n",
       "    <text x=\"32.88\" y=\"102.62\" text-anchor=\"end\" dy=\"0.35em\" visibility=\"hidden\" gadfly:scale=\"1.0\">4.5</text>\n",
       "    <text x=\"32.88\" y=\"114.57\" text-anchor=\"end\" dy=\"0.35em\" visibility=\"hidden\" gadfly:scale=\"1.0\">5.0</text>\n",
       "    <text x=\"32.88\" y=\"126.52\" text-anchor=\"end\" dy=\"0.35em\" visibility=\"hidden\" gadfly:scale=\"1.0\">5.5</text>\n",
       "    <text x=\"32.88\" y=\"138.48\" text-anchor=\"end\" dy=\"0.35em\" visibility=\"hidden\" gadfly:scale=\"1.0\">6.0</text>\n",
       "    <text x=\"32.88\" y=\"150.43\" text-anchor=\"end\" dy=\"0.35em\" visibility=\"hidden\" gadfly:scale=\"1.0\">6.5</text>\n",
       "    <text x=\"32.88\" y=\"162.38\" text-anchor=\"end\" dy=\"0.35em\" visibility=\"hidden\" gadfly:scale=\"1.0\">7.0</text>\n",
       "    <text x=\"32.88\" y=\"-64.71\" text-anchor=\"end\" dy=\"0.35em\" visibility=\"hidden\" gadfly:scale=\"10.0\">-2.5</text>\n",
       "    <text x=\"32.88\" y=\"-62.32\" text-anchor=\"end\" dy=\"0.35em\" visibility=\"hidden\" gadfly:scale=\"10.0\">-2.4</text>\n",
       "    <text x=\"32.88\" y=\"-59.93\" text-anchor=\"end\" dy=\"0.35em\" visibility=\"hidden\" gadfly:scale=\"10.0\">-2.3</text>\n",
       "    <text x=\"32.88\" y=\"-57.54\" text-anchor=\"end\" dy=\"0.35em\" visibility=\"hidden\" gadfly:scale=\"10.0\">-2.2</text>\n",
       "    <text x=\"32.88\" y=\"-55.15\" text-anchor=\"end\" dy=\"0.35em\" visibility=\"hidden\" gadfly:scale=\"10.0\">-2.1</text>\n",
       "    <text x=\"32.88\" y=\"-52.76\" text-anchor=\"end\" dy=\"0.35em\" visibility=\"hidden\" gadfly:scale=\"10.0\">-2.0</text>\n",
       "    <text x=\"32.88\" y=\"-50.37\" text-anchor=\"end\" dy=\"0.35em\" visibility=\"hidden\" gadfly:scale=\"10.0\">-1.9</text>\n",
       "    <text x=\"32.88\" y=\"-47.98\" text-anchor=\"end\" dy=\"0.35em\" visibility=\"hidden\" gadfly:scale=\"10.0\">-1.8</text>\n",
       "    <text x=\"32.88\" y=\"-45.59\" text-anchor=\"end\" dy=\"0.35em\" visibility=\"hidden\" gadfly:scale=\"10.0\">-1.7</text>\n",
       "    <text x=\"32.88\" y=\"-43.2\" text-anchor=\"end\" dy=\"0.35em\" visibility=\"hidden\" gadfly:scale=\"10.0\">-1.6</text>\n",
       "    <text x=\"32.88\" y=\"-40.81\" text-anchor=\"end\" dy=\"0.35em\" visibility=\"hidden\" gadfly:scale=\"10.0\">-1.5</text>\n",
       "    <text x=\"32.88\" y=\"-38.42\" text-anchor=\"end\" dy=\"0.35em\" visibility=\"hidden\" gadfly:scale=\"10.0\">-1.4</text>\n",
       "    <text x=\"32.88\" y=\"-36.03\" text-anchor=\"end\" dy=\"0.35em\" visibility=\"hidden\" gadfly:scale=\"10.0\">-1.3</text>\n",
       "    <text x=\"32.88\" y=\"-33.64\" text-anchor=\"end\" dy=\"0.35em\" visibility=\"hidden\" gadfly:scale=\"10.0\">-1.2</text>\n",
       "    <text x=\"32.88\" y=\"-31.25\" text-anchor=\"end\" dy=\"0.35em\" visibility=\"hidden\" gadfly:scale=\"10.0\">-1.1</text>\n",
       "    <text x=\"32.88\" y=\"-28.86\" text-anchor=\"end\" dy=\"0.35em\" visibility=\"hidden\" gadfly:scale=\"10.0\">-1.0</text>\n",
       "    <text x=\"32.88\" y=\"-26.47\" text-anchor=\"end\" dy=\"0.35em\" visibility=\"hidden\" gadfly:scale=\"10.0\">-0.9</text>\n",
       "    <text x=\"32.88\" y=\"-24.08\" text-anchor=\"end\" dy=\"0.35em\" visibility=\"hidden\" gadfly:scale=\"10.0\">-0.8</text>\n",
       "    <text x=\"32.88\" y=\"-21.69\" text-anchor=\"end\" dy=\"0.35em\" visibility=\"hidden\" gadfly:scale=\"10.0\">-0.7</text>\n",
       "    <text x=\"32.88\" y=\"-19.3\" text-anchor=\"end\" dy=\"0.35em\" visibility=\"hidden\" gadfly:scale=\"10.0\">-0.6</text>\n",
       "    <text x=\"32.88\" y=\"-16.9\" text-anchor=\"end\" dy=\"0.35em\" visibility=\"hidden\" gadfly:scale=\"10.0\">-0.5</text>\n",
       "    <text x=\"32.88\" y=\"-14.51\" text-anchor=\"end\" dy=\"0.35em\" visibility=\"hidden\" gadfly:scale=\"10.0\">-0.4</text>\n",
       "    <text x=\"32.88\" y=\"-12.12\" text-anchor=\"end\" dy=\"0.35em\" visibility=\"hidden\" gadfly:scale=\"10.0\">-0.3</text>\n",
       "    <text x=\"32.88\" y=\"-9.73\" text-anchor=\"end\" dy=\"0.35em\" visibility=\"hidden\" gadfly:scale=\"10.0\">-0.2</text>\n",
       "    <text x=\"32.88\" y=\"-7.34\" text-anchor=\"end\" dy=\"0.35em\" visibility=\"hidden\" gadfly:scale=\"10.0\">-0.1</text>\n",
       "    <text x=\"32.88\" y=\"-4.95\" text-anchor=\"end\" dy=\"0.35em\" visibility=\"hidden\" gadfly:scale=\"10.0\">0.0</text>\n",
       "    <text x=\"32.88\" y=\"-2.56\" text-anchor=\"end\" dy=\"0.35em\" visibility=\"hidden\" gadfly:scale=\"10.0\">0.1</text>\n",
       "    <text x=\"32.88\" y=\"-0.17\" text-anchor=\"end\" dy=\"0.35em\" visibility=\"hidden\" gadfly:scale=\"10.0\">0.2</text>\n",
       "    <text x=\"32.88\" y=\"2.22\" text-anchor=\"end\" dy=\"0.35em\" visibility=\"hidden\" gadfly:scale=\"10.0\">0.3</text>\n",
       "    <text x=\"32.88\" y=\"4.61\" text-anchor=\"end\" dy=\"0.35em\" visibility=\"hidden\" gadfly:scale=\"10.0\">0.4</text>\n",
       "    <text x=\"32.88\" y=\"7\" text-anchor=\"end\" dy=\"0.35em\" visibility=\"hidden\" gadfly:scale=\"10.0\">0.5</text>\n",
       "    <text x=\"32.88\" y=\"9.39\" text-anchor=\"end\" dy=\"0.35em\" visibility=\"hidden\" gadfly:scale=\"10.0\">0.6</text>\n",
       "    <text x=\"32.88\" y=\"11.78\" text-anchor=\"end\" dy=\"0.35em\" visibility=\"hidden\" gadfly:scale=\"10.0\">0.7</text>\n",
       "    <text x=\"32.88\" y=\"14.17\" text-anchor=\"end\" dy=\"0.35em\" visibility=\"hidden\" gadfly:scale=\"10.0\">0.8</text>\n",
       "    <text x=\"32.88\" y=\"16.56\" text-anchor=\"end\" dy=\"0.35em\" visibility=\"hidden\" gadfly:scale=\"10.0\">0.9</text>\n",
       "    <text x=\"32.88\" y=\"18.95\" text-anchor=\"end\" dy=\"0.35em\" visibility=\"hidden\" gadfly:scale=\"10.0\">1.0</text>\n",
       "    <text x=\"32.88\" y=\"21.34\" text-anchor=\"end\" dy=\"0.35em\" visibility=\"hidden\" gadfly:scale=\"10.0\">1.1</text>\n",
       "    <text x=\"32.88\" y=\"23.73\" text-anchor=\"end\" dy=\"0.35em\" visibility=\"hidden\" gadfly:scale=\"10.0\">1.2</text>\n",
       "    <text x=\"32.88\" y=\"26.12\" text-anchor=\"end\" dy=\"0.35em\" visibility=\"hidden\" gadfly:scale=\"10.0\">1.3</text>\n",
       "    <text x=\"32.88\" y=\"28.51\" text-anchor=\"end\" dy=\"0.35em\" visibility=\"hidden\" gadfly:scale=\"10.0\">1.4</text>\n",
       "    <text x=\"32.88\" y=\"30.9\" text-anchor=\"end\" dy=\"0.35em\" visibility=\"hidden\" gadfly:scale=\"10.0\">1.5</text>\n",
       "    <text x=\"32.88\" y=\"33.3\" text-anchor=\"end\" dy=\"0.35em\" visibility=\"hidden\" gadfly:scale=\"10.0\">1.6</text>\n",
       "    <text x=\"32.88\" y=\"35.69\" text-anchor=\"end\" dy=\"0.35em\" visibility=\"hidden\" gadfly:scale=\"10.0\">1.7</text>\n",
       "    <text x=\"32.88\" y=\"38.08\" text-anchor=\"end\" dy=\"0.35em\" visibility=\"hidden\" gadfly:scale=\"10.0\">1.8</text>\n",
       "    <text x=\"32.88\" y=\"40.47\" text-anchor=\"end\" dy=\"0.35em\" visibility=\"hidden\" gadfly:scale=\"10.0\">1.9</text>\n",
       "    <text x=\"32.88\" y=\"42.86\" text-anchor=\"end\" dy=\"0.35em\" visibility=\"hidden\" gadfly:scale=\"10.0\">2.0</text>\n",
       "    <text x=\"32.88\" y=\"45.25\" text-anchor=\"end\" dy=\"0.35em\" visibility=\"hidden\" gadfly:scale=\"10.0\">2.1</text>\n",
       "    <text x=\"32.88\" y=\"47.64\" text-anchor=\"end\" dy=\"0.35em\" visibility=\"hidden\" gadfly:scale=\"10.0\">2.2</text>\n",
       "    <text x=\"32.88\" y=\"50.03\" text-anchor=\"end\" dy=\"0.35em\" visibility=\"hidden\" gadfly:scale=\"10.0\">2.3</text>\n",
       "    <text x=\"32.88\" y=\"52.42\" text-anchor=\"end\" dy=\"0.35em\" visibility=\"hidden\" gadfly:scale=\"10.0\">2.4</text>\n",
       "    <text x=\"32.88\" y=\"54.81\" text-anchor=\"end\" dy=\"0.35em\" visibility=\"hidden\" gadfly:scale=\"10.0\">2.5</text>\n",
       "    <text x=\"32.88\" y=\"57.2\" text-anchor=\"end\" dy=\"0.35em\" visibility=\"hidden\" gadfly:scale=\"10.0\">2.6</text>\n",
       "    <text x=\"32.88\" y=\"59.59\" text-anchor=\"end\" dy=\"0.35em\" visibility=\"hidden\" gadfly:scale=\"10.0\">2.7</text>\n",
       "    <text x=\"32.88\" y=\"61.98\" text-anchor=\"end\" dy=\"0.35em\" visibility=\"hidden\" gadfly:scale=\"10.0\">2.8</text>\n",
       "    <text x=\"32.88\" y=\"64.37\" text-anchor=\"end\" dy=\"0.35em\" visibility=\"hidden\" gadfly:scale=\"10.0\">2.9</text>\n",
       "    <text x=\"32.88\" y=\"66.76\" text-anchor=\"end\" dy=\"0.35em\" visibility=\"hidden\" gadfly:scale=\"10.0\">3.0</text>\n",
       "    <text x=\"32.88\" y=\"69.15\" text-anchor=\"end\" dy=\"0.35em\" visibility=\"hidden\" gadfly:scale=\"10.0\">3.1</text>\n",
       "    <text x=\"32.88\" y=\"71.54\" text-anchor=\"end\" dy=\"0.35em\" visibility=\"hidden\" gadfly:scale=\"10.0\">3.2</text>\n",
       "    <text x=\"32.88\" y=\"73.93\" text-anchor=\"end\" dy=\"0.35em\" visibility=\"hidden\" gadfly:scale=\"10.0\">3.3</text>\n",
       "    <text x=\"32.88\" y=\"76.32\" text-anchor=\"end\" dy=\"0.35em\" visibility=\"hidden\" gadfly:scale=\"10.0\">3.4</text>\n",
       "    <text x=\"32.88\" y=\"78.71\" text-anchor=\"end\" dy=\"0.35em\" visibility=\"hidden\" gadfly:scale=\"10.0\">3.5</text>\n",
       "    <text x=\"32.88\" y=\"81.11\" text-anchor=\"end\" dy=\"0.35em\" visibility=\"hidden\" gadfly:scale=\"10.0\">3.6</text>\n",
       "    <text x=\"32.88\" y=\"83.5\" text-anchor=\"end\" dy=\"0.35em\" visibility=\"hidden\" gadfly:scale=\"10.0\">3.7</text>\n",
       "    <text x=\"32.88\" y=\"85.89\" text-anchor=\"end\" dy=\"0.35em\" visibility=\"hidden\" gadfly:scale=\"10.0\">3.8</text>\n",
       "    <text x=\"32.88\" y=\"88.28\" text-anchor=\"end\" dy=\"0.35em\" visibility=\"hidden\" gadfly:scale=\"10.0\">3.9</text>\n",
       "    <text x=\"32.88\" y=\"90.67\" text-anchor=\"end\" dy=\"0.35em\" visibility=\"hidden\" gadfly:scale=\"10.0\">4.0</text>\n",
       "    <text x=\"32.88\" y=\"93.06\" text-anchor=\"end\" dy=\"0.35em\" visibility=\"hidden\" gadfly:scale=\"10.0\">4.1</text>\n",
       "    <text x=\"32.88\" y=\"95.45\" text-anchor=\"end\" dy=\"0.35em\" visibility=\"hidden\" gadfly:scale=\"10.0\">4.2</text>\n",
       "    <text x=\"32.88\" y=\"97.84\" text-anchor=\"end\" dy=\"0.35em\" visibility=\"hidden\" gadfly:scale=\"10.0\">4.3</text>\n",
       "    <text x=\"32.88\" y=\"100.23\" text-anchor=\"end\" dy=\"0.35em\" visibility=\"hidden\" gadfly:scale=\"10.0\">4.4</text>\n",
       "    <text x=\"32.88\" y=\"102.62\" text-anchor=\"end\" dy=\"0.35em\" visibility=\"hidden\" gadfly:scale=\"10.0\">4.5</text>\n",
       "    <text x=\"32.88\" y=\"105.01\" text-anchor=\"end\" dy=\"0.35em\" visibility=\"hidden\" gadfly:scale=\"10.0\">4.6</text>\n",
       "    <text x=\"32.88\" y=\"107.4\" text-anchor=\"end\" dy=\"0.35em\" visibility=\"hidden\" gadfly:scale=\"10.0\">4.7</text>\n",
       "    <text x=\"32.88\" y=\"109.79\" text-anchor=\"end\" dy=\"0.35em\" visibility=\"hidden\" gadfly:scale=\"10.0\">4.8</text>\n",
       "    <text x=\"32.88\" y=\"112.18\" text-anchor=\"end\" dy=\"0.35em\" visibility=\"hidden\" gadfly:scale=\"10.0\">4.9</text>\n",
       "    <text x=\"32.88\" y=\"114.57\" text-anchor=\"end\" dy=\"0.35em\" visibility=\"hidden\" gadfly:scale=\"10.0\">5.0</text>\n",
       "    <text x=\"32.88\" y=\"116.96\" text-anchor=\"end\" dy=\"0.35em\" visibility=\"hidden\" gadfly:scale=\"10.0\">5.1</text>\n",
       "    <text x=\"32.88\" y=\"119.35\" text-anchor=\"end\" dy=\"0.35em\" visibility=\"hidden\" gadfly:scale=\"10.0\">5.2</text>\n",
       "    <text x=\"32.88\" y=\"121.74\" text-anchor=\"end\" dy=\"0.35em\" visibility=\"hidden\" gadfly:scale=\"10.0\">5.3</text>\n",
       "    <text x=\"32.88\" y=\"124.13\" text-anchor=\"end\" dy=\"0.35em\" visibility=\"hidden\" gadfly:scale=\"10.0\">5.4</text>\n",
       "    <text x=\"32.88\" y=\"126.52\" text-anchor=\"end\" dy=\"0.35em\" visibility=\"hidden\" gadfly:scale=\"10.0\">5.5</text>\n",
       "    <text x=\"32.88\" y=\"128.92\" text-anchor=\"end\" dy=\"0.35em\" visibility=\"hidden\" gadfly:scale=\"10.0\">5.6</text>\n",
       "    <text x=\"32.88\" y=\"131.31\" text-anchor=\"end\" dy=\"0.35em\" visibility=\"hidden\" gadfly:scale=\"10.0\">5.7</text>\n",
       "    <text x=\"32.88\" y=\"133.7\" text-anchor=\"end\" dy=\"0.35em\" visibility=\"hidden\" gadfly:scale=\"10.0\">5.8</text>\n",
       "    <text x=\"32.88\" y=\"136.09\" text-anchor=\"end\" dy=\"0.35em\" visibility=\"hidden\" gadfly:scale=\"10.0\">5.9</text>\n",
       "    <text x=\"32.88\" y=\"138.48\" text-anchor=\"end\" dy=\"0.35em\" visibility=\"hidden\" gadfly:scale=\"10.0\">6.0</text>\n",
       "    <text x=\"32.88\" y=\"140.87\" text-anchor=\"end\" dy=\"0.35em\" visibility=\"hidden\" gadfly:scale=\"10.0\">6.1</text>\n",
       "    <text x=\"32.88\" y=\"143.26\" text-anchor=\"end\" dy=\"0.35em\" visibility=\"hidden\" gadfly:scale=\"10.0\">6.2</text>\n",
       "    <text x=\"32.88\" y=\"145.65\" text-anchor=\"end\" dy=\"0.35em\" visibility=\"hidden\" gadfly:scale=\"10.0\">6.3</text>\n",
       "    <text x=\"32.88\" y=\"148.04\" text-anchor=\"end\" dy=\"0.35em\" visibility=\"hidden\" gadfly:scale=\"10.0\">6.4</text>\n",
       "    <text x=\"32.88\" y=\"150.43\" text-anchor=\"end\" dy=\"0.35em\" visibility=\"hidden\" gadfly:scale=\"10.0\">6.5</text>\n",
       "    <text x=\"32.88\" y=\"-64.71\" text-anchor=\"end\" dy=\"0.35em\" visibility=\"hidden\" gadfly:scale=\"0.5\">-2.5</text>\n",
       "    <text x=\"32.88\" y=\"-4.95\" text-anchor=\"end\" dy=\"0.35em\" visibility=\"hidden\" gadfly:scale=\"0.5\">0.0</text>\n",
       "    <text x=\"32.88\" y=\"54.81\" text-anchor=\"end\" dy=\"0.35em\" visibility=\"hidden\" gadfly:scale=\"0.5\">2.5</text>\n",
       "    <text x=\"32.88\" y=\"114.57\" text-anchor=\"end\" dy=\"0.35em\" visibility=\"hidden\" gadfly:scale=\"0.5\">5.0</text>\n",
       "    <text x=\"32.88\" y=\"174.33\" text-anchor=\"end\" dy=\"0.35em\" visibility=\"hidden\" gadfly:scale=\"0.5\">7.5</text>\n",
       "    <text x=\"32.88\" y=\"-67.11\" text-anchor=\"end\" dy=\"0.35em\" visibility=\"hidden\" gadfly:scale=\"5.0\">-2.6</text>\n",
       "    <text x=\"32.88\" y=\"-62.32\" text-anchor=\"end\" dy=\"0.35em\" visibility=\"hidden\" gadfly:scale=\"5.0\">-2.4</text>\n",
       "    <text x=\"32.88\" y=\"-57.54\" text-anchor=\"end\" dy=\"0.35em\" visibility=\"hidden\" gadfly:scale=\"5.0\">-2.2</text>\n",
       "    <text x=\"32.88\" y=\"-52.76\" text-anchor=\"end\" dy=\"0.35em\" visibility=\"hidden\" gadfly:scale=\"5.0\">-2.0</text>\n",
       "    <text x=\"32.88\" y=\"-47.98\" text-anchor=\"end\" dy=\"0.35em\" visibility=\"hidden\" gadfly:scale=\"5.0\">-1.8</text>\n",
       "    <text x=\"32.88\" y=\"-43.2\" text-anchor=\"end\" dy=\"0.35em\" visibility=\"hidden\" gadfly:scale=\"5.0\">-1.6</text>\n",
       "    <text x=\"32.88\" y=\"-38.42\" text-anchor=\"end\" dy=\"0.35em\" visibility=\"hidden\" gadfly:scale=\"5.0\">-1.4</text>\n",
       "    <text x=\"32.88\" y=\"-33.64\" text-anchor=\"end\" dy=\"0.35em\" visibility=\"hidden\" gadfly:scale=\"5.0\">-1.2</text>\n",
       "    <text x=\"32.88\" y=\"-28.86\" text-anchor=\"end\" dy=\"0.35em\" visibility=\"hidden\" gadfly:scale=\"5.0\">-1.0</text>\n",
       "    <text x=\"32.88\" y=\"-24.08\" text-anchor=\"end\" dy=\"0.35em\" visibility=\"hidden\" gadfly:scale=\"5.0\">-0.8</text>\n",
       "    <text x=\"32.88\" y=\"-19.3\" text-anchor=\"end\" dy=\"0.35em\" visibility=\"hidden\" gadfly:scale=\"5.0\">-0.6</text>\n",
       "    <text x=\"32.88\" y=\"-14.51\" text-anchor=\"end\" dy=\"0.35em\" visibility=\"hidden\" gadfly:scale=\"5.0\">-0.4</text>\n",
       "    <text x=\"32.88\" y=\"-9.73\" text-anchor=\"end\" dy=\"0.35em\" visibility=\"hidden\" gadfly:scale=\"5.0\">-0.2</text>\n",
       "    <text x=\"32.88\" y=\"-4.95\" text-anchor=\"end\" dy=\"0.35em\" visibility=\"hidden\" gadfly:scale=\"5.0\">0.0</text>\n",
       "    <text x=\"32.88\" y=\"-0.17\" text-anchor=\"end\" dy=\"0.35em\" visibility=\"hidden\" gadfly:scale=\"5.0\">0.2</text>\n",
       "    <text x=\"32.88\" y=\"4.61\" text-anchor=\"end\" dy=\"0.35em\" visibility=\"hidden\" gadfly:scale=\"5.0\">0.4</text>\n",
       "    <text x=\"32.88\" y=\"9.39\" text-anchor=\"end\" dy=\"0.35em\" visibility=\"hidden\" gadfly:scale=\"5.0\">0.6</text>\n",
       "    <text x=\"32.88\" y=\"14.17\" text-anchor=\"end\" dy=\"0.35em\" visibility=\"hidden\" gadfly:scale=\"5.0\">0.8</text>\n",
       "    <text x=\"32.88\" y=\"18.95\" text-anchor=\"end\" dy=\"0.35em\" visibility=\"hidden\" gadfly:scale=\"5.0\">1.0</text>\n",
       "    <text x=\"32.88\" y=\"23.73\" text-anchor=\"end\" dy=\"0.35em\" visibility=\"hidden\" gadfly:scale=\"5.0\">1.2</text>\n",
       "    <text x=\"32.88\" y=\"28.51\" text-anchor=\"end\" dy=\"0.35em\" visibility=\"hidden\" gadfly:scale=\"5.0\">1.4</text>\n",
       "    <text x=\"32.88\" y=\"33.3\" text-anchor=\"end\" dy=\"0.35em\" visibility=\"hidden\" gadfly:scale=\"5.0\">1.6</text>\n",
       "    <text x=\"32.88\" y=\"38.08\" text-anchor=\"end\" dy=\"0.35em\" visibility=\"hidden\" gadfly:scale=\"5.0\">1.8</text>\n",
       "    <text x=\"32.88\" y=\"42.86\" text-anchor=\"end\" dy=\"0.35em\" visibility=\"hidden\" gadfly:scale=\"5.0\">2.0</text>\n",
       "    <text x=\"32.88\" y=\"47.64\" text-anchor=\"end\" dy=\"0.35em\" visibility=\"hidden\" gadfly:scale=\"5.0\">2.2</text>\n",
       "    <text x=\"32.88\" y=\"52.42\" text-anchor=\"end\" dy=\"0.35em\" visibility=\"hidden\" gadfly:scale=\"5.0\">2.4</text>\n",
       "    <text x=\"32.88\" y=\"57.2\" text-anchor=\"end\" dy=\"0.35em\" visibility=\"hidden\" gadfly:scale=\"5.0\">2.6</text>\n",
       "    <text x=\"32.88\" y=\"61.98\" text-anchor=\"end\" dy=\"0.35em\" visibility=\"hidden\" gadfly:scale=\"5.0\">2.8</text>\n",
       "    <text x=\"32.88\" y=\"66.76\" text-anchor=\"end\" dy=\"0.35em\" visibility=\"hidden\" gadfly:scale=\"5.0\">3.0</text>\n",
       "    <text x=\"32.88\" y=\"71.54\" text-anchor=\"end\" dy=\"0.35em\" visibility=\"hidden\" gadfly:scale=\"5.0\">3.2</text>\n",
       "    <text x=\"32.88\" y=\"76.32\" text-anchor=\"end\" dy=\"0.35em\" visibility=\"hidden\" gadfly:scale=\"5.0\">3.4</text>\n",
       "    <text x=\"32.88\" y=\"81.11\" text-anchor=\"end\" dy=\"0.35em\" visibility=\"hidden\" gadfly:scale=\"5.0\">3.6</text>\n",
       "    <text x=\"32.88\" y=\"85.89\" text-anchor=\"end\" dy=\"0.35em\" visibility=\"hidden\" gadfly:scale=\"5.0\">3.8</text>\n",
       "    <text x=\"32.88\" y=\"90.67\" text-anchor=\"end\" dy=\"0.35em\" visibility=\"hidden\" gadfly:scale=\"5.0\">4.0</text>\n",
       "    <text x=\"32.88\" y=\"95.45\" text-anchor=\"end\" dy=\"0.35em\" visibility=\"hidden\" gadfly:scale=\"5.0\">4.2</text>\n",
       "    <text x=\"32.88\" y=\"100.23\" text-anchor=\"end\" dy=\"0.35em\" visibility=\"hidden\" gadfly:scale=\"5.0\">4.4</text>\n",
       "    <text x=\"32.88\" y=\"105.01\" text-anchor=\"end\" dy=\"0.35em\" visibility=\"hidden\" gadfly:scale=\"5.0\">4.6</text>\n",
       "    <text x=\"32.88\" y=\"109.79\" text-anchor=\"end\" dy=\"0.35em\" visibility=\"hidden\" gadfly:scale=\"5.0\">4.8</text>\n",
       "    <text x=\"32.88\" y=\"114.57\" text-anchor=\"end\" dy=\"0.35em\" visibility=\"hidden\" gadfly:scale=\"5.0\">5.0</text>\n",
       "    <text x=\"32.88\" y=\"119.35\" text-anchor=\"end\" dy=\"0.35em\" visibility=\"hidden\" gadfly:scale=\"5.0\">5.2</text>\n",
       "    <text x=\"32.88\" y=\"124.13\" text-anchor=\"end\" dy=\"0.35em\" visibility=\"hidden\" gadfly:scale=\"5.0\">5.4</text>\n",
       "    <text x=\"32.88\" y=\"128.92\" text-anchor=\"end\" dy=\"0.35em\" visibility=\"hidden\" gadfly:scale=\"5.0\">5.6</text>\n",
       "    <text x=\"32.88\" y=\"133.7\" text-anchor=\"end\" dy=\"0.35em\" visibility=\"hidden\" gadfly:scale=\"5.0\">5.8</text>\n",
       "    <text x=\"32.88\" y=\"138.48\" text-anchor=\"end\" dy=\"0.35em\" visibility=\"hidden\" gadfly:scale=\"5.0\">6.0</text>\n",
       "    <text x=\"32.88\" y=\"143.26\" text-anchor=\"end\" dy=\"0.35em\" visibility=\"hidden\" gadfly:scale=\"5.0\">6.2</text>\n",
       "    <text x=\"32.88\" y=\"148.04\" text-anchor=\"end\" dy=\"0.35em\" visibility=\"hidden\" gadfly:scale=\"5.0\">6.4</text>\n",
       "    <text x=\"32.88\" y=\"152.82\" text-anchor=\"end\" dy=\"0.35em\" visibility=\"hidden\" gadfly:scale=\"5.0\">6.6</text>\n",
       "  </g>\n",
       "  <g font-size=\"3.88\" font-family=\"'PT Sans','Helvetica Neue','Helvetica',sans-serif\" fill=\"#564A55\" stroke=\"#000000\" stroke-opacity=\"0.000\" id=\"img-b2a82f8a-24\">\n",
       "    <text x=\"25.86\" y=\"42.86\" text-anchor=\"end\" dy=\"0.35em\">i</text>\n",
       "  </g>\n",
       "</g>\n",
       "<defs>\n",
       "  <clipPath id=\"img-b2a82f8a-9\">\n",
       "  <path d=\"M33.88,5 L 109.6 5 109.6 80.72 33.88 80.72\" />\n",
       "</clipPath>\n",
       "</defs>\n",
       "<script> <![CDATA[\n",
       "(function(N){var k=/[\\.\\/]/,L=/\\s*,\\s*/,C=function(a,d){return a-d},a,v,y={n:{}},M=function(){for(var a=0,d=this.length;a<d;a++)if(\"undefined\"!=typeof this[a])return this[a]},A=function(){for(var a=this.length;--a;)if(\"undefined\"!=typeof this[a])return this[a]},w=function(k,d){k=String(k);var f=v,n=Array.prototype.slice.call(arguments,2),u=w.listeners(k),p=0,b,q=[],e={},l=[],r=a;l.firstDefined=M;l.lastDefined=A;a=k;for(var s=v=0,x=u.length;s<x;s++)\"zIndex\"in u[s]&&(q.push(u[s].zIndex),0>u[s].zIndex&&\n",
       "(e[u[s].zIndex]=u[s]));for(q.sort(C);0>q[p];)if(b=e[q[p++] ],l.push(b.apply(d,n)),v)return v=f,l;for(s=0;s<x;s++)if(b=u[s],\"zIndex\"in b)if(b.zIndex==q[p]){l.push(b.apply(d,n));if(v)break;do if(p++,(b=e[q[p] ])&&l.push(b.apply(d,n)),v)break;while(b)}else e[b.zIndex]=b;else if(l.push(b.apply(d,n)),v)break;v=f;a=r;return l};w._events=y;w.listeners=function(a){a=a.split(k);var d=y,f,n,u,p,b,q,e,l=[d],r=[];u=0;for(p=a.length;u<p;u++){e=[];b=0;for(q=l.length;b<q;b++)for(d=l[b].n,f=[d[a[u] ],d[\"*\"] ],n=2;n--;)if(d=\n",
       "f[n])e.push(d),r=r.concat(d.f||[]);l=e}return r};w.on=function(a,d){a=String(a);if(\"function\"!=typeof d)return function(){};for(var f=a.split(L),n=0,u=f.length;n<u;n++)(function(a){a=a.split(k);for(var b=y,f,e=0,l=a.length;e<l;e++)b=b.n,b=b.hasOwnProperty(a[e])&&b[a[e] ]||(b[a[e] ]={n:{}});b.f=b.f||[];e=0;for(l=b.f.length;e<l;e++)if(b.f[e]==d){f=!0;break}!f&&b.f.push(d)})(f[n]);return function(a){+a==+a&&(d.zIndex=+a)}};w.f=function(a){var d=[].slice.call(arguments,1);return function(){w.apply(null,\n",
       "[a,null].concat(d).concat([].slice.call(arguments,0)))}};w.stop=function(){v=1};w.nt=function(k){return k?(new RegExp(\"(?:\\\\.|\\\\/|^)\"+k+\"(?:\\\\.|\\\\/|$)\")).test(a):a};w.nts=function(){return a.split(k)};w.off=w.unbind=function(a,d){if(a){var f=a.split(L);if(1<f.length)for(var n=0,u=f.length;n<u;n++)w.off(f[n],d);else{for(var f=a.split(k),p,b,q,e,l=[y],n=0,u=f.length;n<u;n++)for(e=0;e<l.length;e+=q.length-2){q=[e,1];p=l[e].n;if(\"*\"!=f[n])p[f[n] ]&&q.push(p[f[n] ]);else for(b in p)p.hasOwnProperty(b)&&\n",
       "q.push(p[b]);l.splice.apply(l,q)}n=0;for(u=l.length;n<u;n++)for(p=l[n];p.n;){if(d){if(p.f){e=0;for(f=p.f.length;e<f;e++)if(p.f[e]==d){p.f.splice(e,1);break}!p.f.length&&delete p.f}for(b in p.n)if(p.n.hasOwnProperty(b)&&p.n[b].f){q=p.n[b].f;e=0;for(f=q.length;e<f;e++)if(q[e]==d){q.splice(e,1);break}!q.length&&delete p.n[b].f}}else for(b in delete p.f,p.n)p.n.hasOwnProperty(b)&&p.n[b].f&&delete p.n[b].f;p=p.n}}}else w._events=y={n:{}}};w.once=function(a,d){var f=function(){w.unbind(a,f);return d.apply(this,\n",
       "arguments)};return w.on(a,f)};w.version=\"0.4.2\";w.toString=function(){return\"You are running Eve 0.4.2\"};\"undefined\"!=typeof module&&module.exports?module.exports=w:\"function\"===typeof define&&define.amd?define(\"eve\",[],function(){return w}):N.eve=w})(this);\n",
       "(function(N,k){\"function\"===typeof define&&define.amd?define(\"Snap.svg\",[\"eve\"],function(L){return k(N,L)}):k(N,N.eve)})(this,function(N,k){var L=function(a){var k={},y=N.requestAnimationFrame||N.webkitRequestAnimationFrame||N.mozRequestAnimationFrame||N.oRequestAnimationFrame||N.msRequestAnimationFrame||function(a){setTimeout(a,16)},M=Array.isArray||function(a){return a instanceof Array||\"[object Array]\"==Object.prototype.toString.call(a)},A=0,w=\"M\"+(+new Date).toString(36),z=function(a){if(null==\n",
       "a)return this.s;var b=this.s-a;this.b+=this.dur*b;this.B+=this.dur*b;this.s=a},d=function(a){if(null==a)return this.spd;this.spd=a},f=function(a){if(null==a)return this.dur;this.s=this.s*a/this.dur;this.dur=a},n=function(){delete k[this.id];this.update();a(\"mina.stop.\"+this.id,this)},u=function(){this.pdif||(delete k[this.id],this.update(),this.pdif=this.get()-this.b)},p=function(){this.pdif&&(this.b=this.get()-this.pdif,delete this.pdif,k[this.id]=this)},b=function(){var a;if(M(this.start)){a=[];\n",
       "for(var b=0,e=this.start.length;b<e;b++)a[b]=+this.start[b]+(this.end[b]-this.start[b])*this.easing(this.s)}else a=+this.start+(this.end-this.start)*this.easing(this.s);this.set(a)},q=function(){var l=0,b;for(b in k)if(k.hasOwnProperty(b)){var e=k[b],f=e.get();l++;e.s=(f-e.b)/(e.dur/e.spd);1<=e.s&&(delete k[b],e.s=1,l--,function(b){setTimeout(function(){a(\"mina.finish.\"+b.id,b)})}(e));e.update()}l&&y(q)},e=function(a,r,s,x,G,h,J){a={id:w+(A++).toString(36),start:a,end:r,b:s,s:0,dur:x-s,spd:1,get:G,\n",
       "set:h,easing:J||e.linear,status:z,speed:d,duration:f,stop:n,pause:u,resume:p,update:b};k[a.id]=a;r=0;for(var K in k)if(k.hasOwnProperty(K)&&(r++,2==r))break;1==r&&y(q);return a};e.time=Date.now||function(){return+new Date};e.getById=function(a){return k[a]||null};e.linear=function(a){return a};e.easeout=function(a){return Math.pow(a,1.7)};e.easein=function(a){return Math.pow(a,0.48)};e.easeinout=function(a){if(1==a)return 1;if(0==a)return 0;var b=0.48-a/1.04,e=Math.sqrt(0.1734+b*b);a=e-b;a=Math.pow(Math.abs(a),\n",
       "1/3)*(0>a?-1:1);b=-e-b;b=Math.pow(Math.abs(b),1/3)*(0>b?-1:1);a=a+b+0.5;return 3*(1-a)*a*a+a*a*a};e.backin=function(a){return 1==a?1:a*a*(2.70158*a-1.70158)};e.backout=function(a){if(0==a)return 0;a-=1;return a*a*(2.70158*a+1.70158)+1};e.elastic=function(a){return a==!!a?a:Math.pow(2,-10*a)*Math.sin(2*(a-0.075)*Math.PI/0.3)+1};e.bounce=function(a){a<1/2.75?a*=7.5625*a:a<2/2.75?(a-=1.5/2.75,a=7.5625*a*a+0.75):a<2.5/2.75?(a-=2.25/2.75,a=7.5625*a*a+0.9375):(a-=2.625/2.75,a=7.5625*a*a+0.984375);return a};\n",
       "return N.mina=e}(\"undefined\"==typeof k?function(){}:k),C=function(){function a(c,t){if(c){if(c.tagName)return x(c);if(y(c,\"array\")&&a.set)return a.set.apply(a,c);if(c instanceof e)return c;if(null==t)return c=G.doc.querySelector(c),x(c)}return new s(null==c?\"100%\":c,null==t?\"100%\":t)}function v(c,a){if(a){\"#text\"==c&&(c=G.doc.createTextNode(a.text||\"\"));\"string\"==typeof c&&(c=v(c));if(\"string\"==typeof a)return\"xlink:\"==a.substring(0,6)?c.getAttributeNS(m,a.substring(6)):\"xml:\"==a.substring(0,4)?c.getAttributeNS(la,\n",
       "a.substring(4)):c.getAttribute(a);for(var da in a)if(a[h](da)){var b=J(a[da]);b?\"xlink:\"==da.substring(0,6)?c.setAttributeNS(m,da.substring(6),b):\"xml:\"==da.substring(0,4)?c.setAttributeNS(la,da.substring(4),b):c.setAttribute(da,b):c.removeAttribute(da)}}else c=G.doc.createElementNS(la,c);return c}function y(c,a){a=J.prototype.toLowerCase.call(a);return\"finite\"==a?isFinite(c):\"array\"==a&&(c instanceof Array||Array.isArray&&Array.isArray(c))?!0:\"null\"==a&&null===c||a==typeof c&&null!==c||\"object\"==\n",
       "a&&c===Object(c)||$.call(c).slice(8,-1).toLowerCase()==a}function M(c){if(\"function\"==typeof c||Object(c)!==c)return c;var a=new c.constructor,b;for(b in c)c[h](b)&&(a[b]=M(c[b]));return a}function A(c,a,b){function m(){var e=Array.prototype.slice.call(arguments,0),f=e.join(\"\\u2400\"),d=m.cache=m.cache||{},l=m.count=m.count||[];if(d[h](f)){a:for(var e=l,l=f,B=0,H=e.length;B<H;B++)if(e[B]===l){e.push(e.splice(B,1)[0]);break a}return b?b(d[f]):d[f]}1E3<=l.length&&delete d[l.shift()];l.push(f);d[f]=c.apply(a,\n",
       "e);return b?b(d[f]):d[f]}return m}function w(c,a,b,m,e,f){return null==e?(c-=b,a-=m,c||a?(180*I.atan2(-a,-c)/C+540)%360:0):w(c,a,e,f)-w(b,m,e,f)}function z(c){return c%360*C/180}function d(c){var a=[];c=c.replace(/(?:^|\\s)(\\w+)\\(([^)]+)\\)/g,function(c,b,m){m=m.split(/\\s*,\\s*|\\s+/);\"rotate\"==b&&1==m.length&&m.push(0,0);\"scale\"==b&&(2<m.length?m=m.slice(0,2):2==m.length&&m.push(0,0),1==m.length&&m.push(m[0],0,0));\"skewX\"==b?a.push([\"m\",1,0,I.tan(z(m[0])),1,0,0]):\"skewY\"==b?a.push([\"m\",1,I.tan(z(m[0])),\n",
       "0,1,0,0]):a.push([b.charAt(0)].concat(m));return c});return a}function f(c,t){var b=O(c),m=new a.Matrix;if(b)for(var e=0,f=b.length;e<f;e++){var h=b[e],d=h.length,B=J(h[0]).toLowerCase(),H=h[0]!=B,l=H?m.invert():0,E;\"t\"==B&&2==d?m.translate(h[1],0):\"t\"==B&&3==d?H?(d=l.x(0,0),B=l.y(0,0),H=l.x(h[1],h[2]),l=l.y(h[1],h[2]),m.translate(H-d,l-B)):m.translate(h[1],h[2]):\"r\"==B?2==d?(E=E||t,m.rotate(h[1],E.x+E.width/2,E.y+E.height/2)):4==d&&(H?(H=l.x(h[2],h[3]),l=l.y(h[2],h[3]),m.rotate(h[1],H,l)):m.rotate(h[1],\n",
       "h[2],h[3])):\"s\"==B?2==d||3==d?(E=E||t,m.scale(h[1],h[d-1],E.x+E.width/2,E.y+E.height/2)):4==d?H?(H=l.x(h[2],h[3]),l=l.y(h[2],h[3]),m.scale(h[1],h[1],H,l)):m.scale(h[1],h[1],h[2],h[3]):5==d&&(H?(H=l.x(h[3],h[4]),l=l.y(h[3],h[4]),m.scale(h[1],h[2],H,l)):m.scale(h[1],h[2],h[3],h[4])):\"m\"==B&&7==d&&m.add(h[1],h[2],h[3],h[4],h[5],h[6])}return m}function n(c,t){if(null==t){var m=!0;t=\"linearGradient\"==c.type||\"radialGradient\"==c.type?c.node.getAttribute(\"gradientTransform\"):\"pattern\"==c.type?c.node.getAttribute(\"patternTransform\"):\n",
       "c.node.getAttribute(\"transform\");if(!t)return new a.Matrix;t=d(t)}else t=a._.rgTransform.test(t)?J(t).replace(/\\.{3}|\\u2026/g,c._.transform||aa):d(t),y(t,\"array\")&&(t=a.path?a.path.toString.call(t):J(t)),c._.transform=t;var b=f(t,c.getBBox(1));if(m)return b;c.matrix=b}function u(c){c=c.node.ownerSVGElement&&x(c.node.ownerSVGElement)||c.node.parentNode&&x(c.node.parentNode)||a.select(\"svg\")||a(0,0);var t=c.select(\"defs\"),t=null==t?!1:t.node;t||(t=r(\"defs\",c.node).node);return t}function p(c){return c.node.ownerSVGElement&&\n",
       "x(c.node.ownerSVGElement)||a.select(\"svg\")}function b(c,a,m){function b(c){if(null==c)return aa;if(c==+c)return c;v(B,{width:c});try{return B.getBBox().width}catch(a){return 0}}function h(c){if(null==c)return aa;if(c==+c)return c;v(B,{height:c});try{return B.getBBox().height}catch(a){return 0}}function e(b,B){null==a?d[b]=B(c.attr(b)||0):b==a&&(d=B(null==m?c.attr(b)||0:m))}var f=p(c).node,d={},B=f.querySelector(\".svg---mgr\");B||(B=v(\"rect\"),v(B,{x:-9E9,y:-9E9,width:10,height:10,\"class\":\"svg---mgr\",\n",
       "fill:\"none\"}),f.appendChild(B));switch(c.type){case \"rect\":e(\"rx\",b),e(\"ry\",h);case \"image\":e(\"width\",b),e(\"height\",h);case \"text\":e(\"x\",b);e(\"y\",h);break;case \"circle\":e(\"cx\",b);e(\"cy\",h);e(\"r\",b);break;case \"ellipse\":e(\"cx\",b);e(\"cy\",h);e(\"rx\",b);e(\"ry\",h);break;case \"line\":e(\"x1\",b);e(\"x2\",b);e(\"y1\",h);e(\"y2\",h);break;case \"marker\":e(\"refX\",b);e(\"markerWidth\",b);e(\"refY\",h);e(\"markerHeight\",h);break;case \"radialGradient\":e(\"fx\",b);e(\"fy\",h);break;case \"tspan\":e(\"dx\",b);e(\"dy\",h);break;default:e(a,\n",
       "b)}f.removeChild(B);return d}function q(c){y(c,\"array\")||(c=Array.prototype.slice.call(arguments,0));for(var a=0,b=0,m=this.node;this[a];)delete this[a++];for(a=0;a<c.length;a++)\"set\"==c[a].type?c[a].forEach(function(c){m.appendChild(c.node)}):m.appendChild(c[a].node);for(var h=m.childNodes,a=0;a<h.length;a++)this[b++]=x(h[a]);return this}function e(c){if(c.snap in E)return E[c.snap];var a=this.id=V(),b;try{b=c.ownerSVGElement}catch(m){}this.node=c;b&&(this.paper=new s(b));this.type=c.tagName;this.anims=\n",
       "{};this._={transform:[]};c.snap=a;E[a]=this;\"g\"==this.type&&(this.add=q);if(this.type in{g:1,mask:1,pattern:1})for(var e in s.prototype)s.prototype[h](e)&&(this[e]=s.prototype[e])}function l(c){this.node=c}function r(c,a){var b=v(c);a.appendChild(b);return x(b)}function s(c,a){var b,m,f,d=s.prototype;if(c&&\"svg\"==c.tagName){if(c.snap in E)return E[c.snap];var l=c.ownerDocument;b=new e(c);m=c.getElementsByTagName(\"desc\")[0];f=c.getElementsByTagName(\"defs\")[0];m||(m=v(\"desc\"),m.appendChild(l.createTextNode(\"Created with Snap\")),\n",
       "b.node.appendChild(m));f||(f=v(\"defs\"),b.node.appendChild(f));b.defs=f;for(var ca in d)d[h](ca)&&(b[ca]=d[ca]);b.paper=b.root=b}else b=r(\"svg\",G.doc.body),v(b.node,{height:a,version:1.1,width:c,xmlns:la});return b}function x(c){return!c||c instanceof e||c instanceof l?c:c.tagName&&\"svg\"==c.tagName.toLowerCase()?new s(c):c.tagName&&\"object\"==c.tagName.toLowerCase()&&\"image/svg+xml\"==c.type?new s(c.contentDocument.getElementsByTagName(\"svg\")[0]):new e(c)}a.version=\"0.3.0\";a.toString=function(){return\"Snap v\"+\n",
       "this.version};a._={};var G={win:N,doc:N.document};a._.glob=G;var h=\"hasOwnProperty\",J=String,K=parseFloat,U=parseInt,I=Math,P=I.max,Q=I.min,Y=I.abs,C=I.PI,aa=\"\",$=Object.prototype.toString,F=/^\\s*((#[a-f\\d]{6})|(#[a-f\\d]{3})|rgba?\\(\\s*([\\d\\.]+%?\\s*,\\s*[\\d\\.]+%?\\s*,\\s*[\\d\\.]+%?(?:\\s*,\\s*[\\d\\.]+%?)?)\\s*\\)|hsba?\\(\\s*([\\d\\.]+(?:deg|\\xb0|%)?\\s*,\\s*[\\d\\.]+%?\\s*,\\s*[\\d\\.]+(?:%?\\s*,\\s*[\\d\\.]+)?%?)\\s*\\)|hsla?\\(\\s*([\\d\\.]+(?:deg|\\xb0|%)?\\s*,\\s*[\\d\\.]+%?\\s*,\\s*[\\d\\.]+(?:%?\\s*,\\s*[\\d\\.]+)?%?)\\s*\\))\\s*$/i;a._.separator=\n",
       "RegExp(\"[,\\t\\n\\x0B\\f\\r \\u00a0\\u1680\\u180e\\u2000\\u2001\\u2002\\u2003\\u2004\\u2005\\u2006\\u2007\\u2008\\u2009\\u200a\\u202f\\u205f\\u3000\\u2028\\u2029]+\");var S=RegExp(\"[\\t\\n\\x0B\\f\\r \\u00a0\\u1680\\u180e\\u2000\\u2001\\u2002\\u2003\\u2004\\u2005\\u2006\\u2007\\u2008\\u2009\\u200a\\u202f\\u205f\\u3000\\u2028\\u2029]*,[\\t\\n\\x0B\\f\\r \\u00a0\\u1680\\u180e\\u2000\\u2001\\u2002\\u2003\\u2004\\u2005\\u2006\\u2007\\u2008\\u2009\\u200a\\u202f\\u205f\\u3000\\u2028\\u2029]*\"),X={hs:1,rg:1},W=RegExp(\"([a-z])[\\t\\n\\x0B\\f\\r \\u00a0\\u1680\\u180e\\u2000\\u2001\\u2002\\u2003\\u2004\\u2005\\u2006\\u2007\\u2008\\u2009\\u200a\\u202f\\u205f\\u3000\\u2028\\u2029,]*((-?\\\\d*\\\\.?\\\\d*(?:e[\\\\-+]?\\\\d+)?[\\t\\n\\x0B\\f\\r \\u00a0\\u1680\\u180e\\u2000\\u2001\\u2002\\u2003\\u2004\\u2005\\u2006\\u2007\\u2008\\u2009\\u200a\\u202f\\u205f\\u3000\\u2028\\u2029]*,?[\\t\\n\\x0B\\f\\r \\u00a0\\u1680\\u180e\\u2000\\u2001\\u2002\\u2003\\u2004\\u2005\\u2006\\u2007\\u2008\\u2009\\u200a\\u202f\\u205f\\u3000\\u2028\\u2029]*)+)\",\n",
       "\"ig\"),ma=RegExp(\"([rstm])[\\t\\n\\x0B\\f\\r \\u00a0\\u1680\\u180e\\u2000\\u2001\\u2002\\u2003\\u2004\\u2005\\u2006\\u2007\\u2008\\u2009\\u200a\\u202f\\u205f\\u3000\\u2028\\u2029,]*((-?\\\\d*\\\\.?\\\\d*(?:e[\\\\-+]?\\\\d+)?[\\t\\n\\x0B\\f\\r \\u00a0\\u1680\\u180e\\u2000\\u2001\\u2002\\u2003\\u2004\\u2005\\u2006\\u2007\\u2008\\u2009\\u200a\\u202f\\u205f\\u3000\\u2028\\u2029]*,?[\\t\\n\\x0B\\f\\r \\u00a0\\u1680\\u180e\\u2000\\u2001\\u2002\\u2003\\u2004\\u2005\\u2006\\u2007\\u2008\\u2009\\u200a\\u202f\\u205f\\u3000\\u2028\\u2029]*)+)\",\"ig\"),Z=RegExp(\"(-?\\\\d*\\\\.?\\\\d*(?:e[\\\\-+]?\\\\d+)?)[\\t\\n\\x0B\\f\\r \\u00a0\\u1680\\u180e\\u2000\\u2001\\u2002\\u2003\\u2004\\u2005\\u2006\\u2007\\u2008\\u2009\\u200a\\u202f\\u205f\\u3000\\u2028\\u2029]*,?[\\t\\n\\x0B\\f\\r \\u00a0\\u1680\\u180e\\u2000\\u2001\\u2002\\u2003\\u2004\\u2005\\u2006\\u2007\\u2008\\u2009\\u200a\\u202f\\u205f\\u3000\\u2028\\u2029]*\",\n",
       "\"ig\"),na=0,ba=\"S\"+(+new Date).toString(36),V=function(){return ba+(na++).toString(36)},m=\"http://www.w3.org/1999/xlink\",la=\"http://www.w3.org/2000/svg\",E={},ca=a.url=function(c){return\"url('#\"+c+\"')\"};a._.$=v;a._.id=V;a.format=function(){var c=/\\{([^\\}]+)\\}/g,a=/(?:(?:^|\\.)(.+?)(?=\\[|\\.|$|\\()|\\[('|\")(.+?)\\2\\])(\\(\\))?/g,b=function(c,b,m){var h=m;b.replace(a,function(c,a,b,m,t){a=a||m;h&&(a in h&&(h=h[a]),\"function\"==typeof h&&t&&(h=h()))});return h=(null==h||h==m?c:h)+\"\"};return function(a,m){return J(a).replace(c,\n",
       "function(c,a){return b(c,a,m)})}}();a._.clone=M;a._.cacher=A;a.rad=z;a.deg=function(c){return 180*c/C%360};a.angle=w;a.is=y;a.snapTo=function(c,a,b){b=y(b,\"finite\")?b:10;if(y(c,\"array\"))for(var m=c.length;m--;){if(Y(c[m]-a)<=b)return c[m]}else{c=+c;m=a%c;if(m<b)return a-m;if(m>c-b)return a-m+c}return a};a.getRGB=A(function(c){if(!c||(c=J(c)).indexOf(\"-\")+1)return{r:-1,g:-1,b:-1,hex:\"none\",error:1,toString:ka};if(\"none\"==c)return{r:-1,g:-1,b:-1,hex:\"none\",toString:ka};!X[h](c.toLowerCase().substring(0,\n",
       "2))&&\"#\"!=c.charAt()&&(c=T(c));if(!c)return{r:-1,g:-1,b:-1,hex:\"none\",error:1,toString:ka};var b,m,e,f,d;if(c=c.match(F)){c[2]&&(e=U(c[2].substring(5),16),m=U(c[2].substring(3,5),16),b=U(c[2].substring(1,3),16));c[3]&&(e=U((d=c[3].charAt(3))+d,16),m=U((d=c[3].charAt(2))+d,16),b=U((d=c[3].charAt(1))+d,16));c[4]&&(d=c[4].split(S),b=K(d[0]),\"%\"==d[0].slice(-1)&&(b*=2.55),m=K(d[1]),\"%\"==d[1].slice(-1)&&(m*=2.55),e=K(d[2]),\"%\"==d[2].slice(-1)&&(e*=2.55),\"rgba\"==c[1].toLowerCase().slice(0,4)&&(f=K(d[3])),\n",
       "d[3]&&\"%\"==d[3].slice(-1)&&(f/=100));if(c[5])return d=c[5].split(S),b=K(d[0]),\"%\"==d[0].slice(-1)&&(b/=100),m=K(d[1]),\"%\"==d[1].slice(-1)&&(m/=100),e=K(d[2]),\"%\"==d[2].slice(-1)&&(e/=100),\"deg\"!=d[0].slice(-3)&&\"\\u00b0\"!=d[0].slice(-1)||(b/=360),\"hsba\"==c[1].toLowerCase().slice(0,4)&&(f=K(d[3])),d[3]&&\"%\"==d[3].slice(-1)&&(f/=100),a.hsb2rgb(b,m,e,f);if(c[6])return d=c[6].split(S),b=K(d[0]),\"%\"==d[0].slice(-1)&&(b/=100),m=K(d[1]),\"%\"==d[1].slice(-1)&&(m/=100),e=K(d[2]),\"%\"==d[2].slice(-1)&&(e/=100),\n",
       "\"deg\"!=d[0].slice(-3)&&\"\\u00b0\"!=d[0].slice(-1)||(b/=360),\"hsla\"==c[1].toLowerCase().slice(0,4)&&(f=K(d[3])),d[3]&&\"%\"==d[3].slice(-1)&&(f/=100),a.hsl2rgb(b,m,e,f);b=Q(I.round(b),255);m=Q(I.round(m),255);e=Q(I.round(e),255);f=Q(P(f,0),1);c={r:b,g:m,b:e,toString:ka};c.hex=\"#\"+(16777216|e|m<<8|b<<16).toString(16).slice(1);c.opacity=y(f,\"finite\")?f:1;return c}return{r:-1,g:-1,b:-1,hex:\"none\",error:1,toString:ka}},a);a.hsb=A(function(c,b,m){return a.hsb2rgb(c,b,m).hex});a.hsl=A(function(c,b,m){return a.hsl2rgb(c,\n",
       "b,m).hex});a.rgb=A(function(c,a,b,m){if(y(m,\"finite\")){var e=I.round;return\"rgba(\"+[e(c),e(a),e(b),+m.toFixed(2)]+\")\"}return\"#\"+(16777216|b|a<<8|c<<16).toString(16).slice(1)});var T=function(c){var a=G.doc.getElementsByTagName(\"head\")[0]||G.doc.getElementsByTagName(\"svg\")[0];T=A(function(c){if(\"red\"==c.toLowerCase())return\"rgb(255, 0, 0)\";a.style.color=\"rgb(255, 0, 0)\";a.style.color=c;c=G.doc.defaultView.getComputedStyle(a,aa).getPropertyValue(\"color\");return\"rgb(255, 0, 0)\"==c?null:c});return T(c)},\n",
       "qa=function(){return\"hsb(\"+[this.h,this.s,this.b]+\")\"},ra=function(){return\"hsl(\"+[this.h,this.s,this.l]+\")\"},ka=function(){return 1==this.opacity||null==this.opacity?this.hex:\"rgba(\"+[this.r,this.g,this.b,this.opacity]+\")\"},D=function(c,b,m){null==b&&y(c,\"object\")&&\"r\"in c&&\"g\"in c&&\"b\"in c&&(m=c.b,b=c.g,c=c.r);null==b&&y(c,string)&&(m=a.getRGB(c),c=m.r,b=m.g,m=m.b);if(1<c||1<b||1<m)c/=255,b/=255,m/=255;return[c,b,m]},oa=function(c,b,m,e){c=I.round(255*c);b=I.round(255*b);m=I.round(255*m);c={r:c,\n",
       "g:b,b:m,opacity:y(e,\"finite\")?e:1,hex:a.rgb(c,b,m),toString:ka};y(e,\"finite\")&&(c.opacity=e);return c};a.color=function(c){var b;y(c,\"object\")&&\"h\"in c&&\"s\"in c&&\"b\"in c?(b=a.hsb2rgb(c),c.r=b.r,c.g=b.g,c.b=b.b,c.opacity=1,c.hex=b.hex):y(c,\"object\")&&\"h\"in c&&\"s\"in c&&\"l\"in c?(b=a.hsl2rgb(c),c.r=b.r,c.g=b.g,c.b=b.b,c.opacity=1,c.hex=b.hex):(y(c,\"string\")&&(c=a.getRGB(c)),y(c,\"object\")&&\"r\"in c&&\"g\"in c&&\"b\"in c&&!(\"error\"in c)?(b=a.rgb2hsl(c),c.h=b.h,c.s=b.s,c.l=b.l,b=a.rgb2hsb(c),c.v=b.b):(c={hex:\"none\"},\n",
       "c.r=c.g=c.b=c.h=c.s=c.v=c.l=-1,c.error=1));c.toString=ka;return c};a.hsb2rgb=function(c,a,b,m){y(c,\"object\")&&\"h\"in c&&\"s\"in c&&\"b\"in c&&(b=c.b,a=c.s,c=c.h,m=c.o);var e,h,d;c=360*c%360/60;d=b*a;a=d*(1-Y(c%2-1));b=e=h=b-d;c=~~c;b+=[d,a,0,0,a,d][c];e+=[a,d,d,a,0,0][c];h+=[0,0,a,d,d,a][c];return oa(b,e,h,m)};a.hsl2rgb=function(c,a,b,m){y(c,\"object\")&&\"h\"in c&&\"s\"in c&&\"l\"in c&&(b=c.l,a=c.s,c=c.h);if(1<c||1<a||1<b)c/=360,a/=100,b/=100;var e,h,d;c=360*c%360/60;d=2*a*(0.5>b?b:1-b);a=d*(1-Y(c%2-1));b=e=\n",
       "h=b-d/2;c=~~c;b+=[d,a,0,0,a,d][c];e+=[a,d,d,a,0,0][c];h+=[0,0,a,d,d,a][c];return oa(b,e,h,m)};a.rgb2hsb=function(c,a,b){b=D(c,a,b);c=b[0];a=b[1];b=b[2];var m,e;m=P(c,a,b);e=m-Q(c,a,b);c=((0==e?0:m==c?(a-b)/e:m==a?(b-c)/e+2:(c-a)/e+4)+360)%6*60/360;return{h:c,s:0==e?0:e/m,b:m,toString:qa}};a.rgb2hsl=function(c,a,b){b=D(c,a,b);c=b[0];a=b[1];b=b[2];var m,e,h;m=P(c,a,b);e=Q(c,a,b);h=m-e;c=((0==h?0:m==c?(a-b)/h:m==a?(b-c)/h+2:(c-a)/h+4)+360)%6*60/360;m=(m+e)/2;return{h:c,s:0==h?0:0.5>m?h/(2*m):h/(2-2*\n",
       "m),l:m,toString:ra}};a.parsePathString=function(c){if(!c)return null;var b=a.path(c);if(b.arr)return a.path.clone(b.arr);var m={a:7,c:6,o:2,h:1,l:2,m:2,r:4,q:4,s:4,t:2,v:1,u:3,z:0},e=[];y(c,\"array\")&&y(c[0],\"array\")&&(e=a.path.clone(c));e.length||J(c).replace(W,function(c,a,b){var h=[];c=a.toLowerCase();b.replace(Z,function(c,a){a&&h.push(+a)});\"m\"==c&&2<h.length&&(e.push([a].concat(h.splice(0,2))),c=\"l\",a=\"m\"==a?\"l\":\"L\");\"o\"==c&&1==h.length&&e.push([a,h[0] ]);if(\"r\"==c)e.push([a].concat(h));else for(;h.length>=\n",
       "m[c]&&(e.push([a].concat(h.splice(0,m[c]))),m[c]););});e.toString=a.path.toString;b.arr=a.path.clone(e);return e};var O=a.parseTransformString=function(c){if(!c)return null;var b=[];y(c,\"array\")&&y(c[0],\"array\")&&(b=a.path.clone(c));b.length||J(c).replace(ma,function(c,a,m){var e=[];a.toLowerCase();m.replace(Z,function(c,a){a&&e.push(+a)});b.push([a].concat(e))});b.toString=a.path.toString;return b};a._.svgTransform2string=d;a._.rgTransform=RegExp(\"^[a-z][\\t\\n\\x0B\\f\\r \\u00a0\\u1680\\u180e\\u2000\\u2001\\u2002\\u2003\\u2004\\u2005\\u2006\\u2007\\u2008\\u2009\\u200a\\u202f\\u205f\\u3000\\u2028\\u2029]*-?\\\\.?\\\\d\",\n",
       "\"i\");a._.transform2matrix=f;a._unit2px=b;a._.getSomeDefs=u;a._.getSomeSVG=p;a.select=function(c){return x(G.doc.querySelector(c))};a.selectAll=function(c){c=G.doc.querySelectorAll(c);for(var b=(a.set||Array)(),m=0;m<c.length;m++)b.push(x(c[m]));return b};setInterval(function(){for(var c in E)if(E[h](c)){var a=E[c],b=a.node;(\"svg\"!=a.type&&!b.ownerSVGElement||\"svg\"==a.type&&(!b.parentNode||\"ownerSVGElement\"in b.parentNode&&!b.ownerSVGElement))&&delete E[c]}},1E4);(function(c){function m(c){function a(c,\n",
       "b){var m=v(c.node,b);(m=(m=m&&m.match(d))&&m[2])&&\"#\"==m.charAt()&&(m=m.substring(1))&&(f[m]=(f[m]||[]).concat(function(a){var m={};m[b]=ca(a);v(c.node,m)}))}function b(c){var a=v(c.node,\"xlink:href\");a&&\"#\"==a.charAt()&&(a=a.substring(1))&&(f[a]=(f[a]||[]).concat(function(a){c.attr(\"xlink:href\",\"#\"+a)}))}var e=c.selectAll(\"*\"),h,d=/^\\s*url\\((\"|'|)(.*)\\1\\)\\s*$/;c=[];for(var f={},l=0,E=e.length;l<E;l++){h=e[l];a(h,\"fill\");a(h,\"stroke\");a(h,\"filter\");a(h,\"mask\");a(h,\"clip-path\");b(h);var t=v(h.node,\n",
       "\"id\");t&&(v(h.node,{id:h.id}),c.push({old:t,id:h.id}))}l=0;for(E=c.length;l<E;l++)if(e=f[c[l].old])for(h=0,t=e.length;h<t;h++)e[h](c[l].id)}function e(c,a,b){return function(m){m=m.slice(c,a);1==m.length&&(m=m[0]);return b?b(m):m}}function d(c){return function(){var a=c?\"<\"+this.type:\"\",b=this.node.attributes,m=this.node.childNodes;if(c)for(var e=0,h=b.length;e<h;e++)a+=\" \"+b[e].name+'=\"'+b[e].value.replace(/\"/g,'\\\\\"')+'\"';if(m.length){c&&(a+=\">\");e=0;for(h=m.length;e<h;e++)3==m[e].nodeType?a+=m[e].nodeValue:\n",
       "1==m[e].nodeType&&(a+=x(m[e]).toString());c&&(a+=\"</\"+this.type+\">\")}else c&&(a+=\"/>\");return a}}c.attr=function(c,a){if(!c)return this;if(y(c,\"string\"))if(1<arguments.length){var b={};b[c]=a;c=b}else return k(\"snap.util.getattr.\"+c,this).firstDefined();for(var m in c)c[h](m)&&k(\"snap.util.attr.\"+m,this,c[m]);return this};c.getBBox=function(c){if(!a.Matrix||!a.path)return this.node.getBBox();var b=this,m=new a.Matrix;if(b.removed)return a._.box();for(;\"use\"==b.type;)if(c||(m=m.add(b.transform().localMatrix.translate(b.attr(\"x\")||\n",
       "0,b.attr(\"y\")||0))),b.original)b=b.original;else var e=b.attr(\"xlink:href\"),b=b.original=b.node.ownerDocument.getElementById(e.substring(e.indexOf(\"#\")+1));var e=b._,h=a.path.get[b.type]||a.path.get.deflt;try{if(c)return e.bboxwt=h?a.path.getBBox(b.realPath=h(b)):a._.box(b.node.getBBox()),a._.box(e.bboxwt);b.realPath=h(b);b.matrix=b.transform().localMatrix;e.bbox=a.path.getBBox(a.path.map(b.realPath,m.add(b.matrix)));return a._.box(e.bbox)}catch(d){return a._.box()}};var f=function(){return this.string};\n",
       "c.transform=function(c){var b=this._;if(null==c){var m=this;c=new a.Matrix(this.node.getCTM());for(var e=n(this),h=[e],d=new a.Matrix,l=e.toTransformString(),b=J(e)==J(this.matrix)?J(b.transform):l;\"svg\"!=m.type&&(m=m.parent());)h.push(n(m));for(m=h.length;m--;)d.add(h[m]);return{string:b,globalMatrix:c,totalMatrix:d,localMatrix:e,diffMatrix:c.clone().add(e.invert()),global:c.toTransformString(),total:d.toTransformString(),local:l,toString:f}}c instanceof a.Matrix?this.matrix=c:n(this,c);this.node&&\n",
       "(\"linearGradient\"==this.type||\"radialGradient\"==this.type?v(this.node,{gradientTransform:this.matrix}):\"pattern\"==this.type?v(this.node,{patternTransform:this.matrix}):v(this.node,{transform:this.matrix}));return this};c.parent=function(){return x(this.node.parentNode)};c.append=c.add=function(c){if(c){if(\"set\"==c.type){var a=this;c.forEach(function(c){a.add(c)});return this}c=x(c);this.node.appendChild(c.node);c.paper=this.paper}return this};c.appendTo=function(c){c&&(c=x(c),c.append(this));return this};\n",
       "c.prepend=function(c){if(c){if(\"set\"==c.type){var a=this,b;c.forEach(function(c){b?b.after(c):a.prepend(c);b=c});return this}c=x(c);var m=c.parent();this.node.insertBefore(c.node,this.node.firstChild);this.add&&this.add();c.paper=this.paper;this.parent()&&this.parent().add();m&&m.add()}return this};c.prependTo=function(c){c=x(c);c.prepend(this);return this};c.before=function(c){if(\"set\"==c.type){var a=this;c.forEach(function(c){var b=c.parent();a.node.parentNode.insertBefore(c.node,a.node);b&&b.add()});\n",
       "this.parent().add();return this}c=x(c);var b=c.parent();this.node.parentNode.insertBefore(c.node,this.node);this.parent()&&this.parent().add();b&&b.add();c.paper=this.paper;return this};c.after=function(c){c=x(c);var a=c.parent();this.node.nextSibling?this.node.parentNode.insertBefore(c.node,this.node.nextSibling):this.node.parentNode.appendChild(c.node);this.parent()&&this.parent().add();a&&a.add();c.paper=this.paper;return this};c.insertBefore=function(c){c=x(c);var a=this.parent();c.node.parentNode.insertBefore(this.node,\n",
       "c.node);this.paper=c.paper;a&&a.add();c.parent()&&c.parent().add();return this};c.insertAfter=function(c){c=x(c);var a=this.parent();c.node.parentNode.insertBefore(this.node,c.node.nextSibling);this.paper=c.paper;a&&a.add();c.parent()&&c.parent().add();return this};c.remove=function(){var c=this.parent();this.node.parentNode&&this.node.parentNode.removeChild(this.node);delete this.paper;this.removed=!0;c&&c.add();return this};c.select=function(c){return x(this.node.querySelector(c))};c.selectAll=\n",
       "function(c){c=this.node.querySelectorAll(c);for(var b=(a.set||Array)(),m=0;m<c.length;m++)b.push(x(c[m]));return b};c.asPX=function(c,a){null==a&&(a=this.attr(c));return+b(this,c,a)};c.use=function(){var c,a=this.node.id;a||(a=this.id,v(this.node,{id:a}));c=\"linearGradient\"==this.type||\"radialGradient\"==this.type||\"pattern\"==this.type?r(this.type,this.node.parentNode):r(\"use\",this.node.parentNode);v(c.node,{\"xlink:href\":\"#\"+a});c.original=this;return c};var l=/\\S+/g;c.addClass=function(c){var a=(c||\n",
       "\"\").match(l)||[];c=this.node;var b=c.className.baseVal,m=b.match(l)||[],e,h,d;if(a.length){for(e=0;d=a[e++];)h=m.indexOf(d),~h||m.push(d);a=m.join(\" \");b!=a&&(c.className.baseVal=a)}return this};c.removeClass=function(c){var a=(c||\"\").match(l)||[];c=this.node;var b=c.className.baseVal,m=b.match(l)||[],e,h;if(m.length){for(e=0;h=a[e++];)h=m.indexOf(h),~h&&m.splice(h,1);a=m.join(\" \");b!=a&&(c.className.baseVal=a)}return this};c.hasClass=function(c){return!!~(this.node.className.baseVal.match(l)||[]).indexOf(c)};\n",
       "c.toggleClass=function(c,a){if(null!=a)return a?this.addClass(c):this.removeClass(c);var b=(c||\"\").match(l)||[],m=this.node,e=m.className.baseVal,h=e.match(l)||[],d,f,E;for(d=0;E=b[d++];)f=h.indexOf(E),~f?h.splice(f,1):h.push(E);b=h.join(\" \");e!=b&&(m.className.baseVal=b);return this};c.clone=function(){var c=x(this.node.cloneNode(!0));v(c.node,\"id\")&&v(c.node,{id:c.id});m(c);c.insertAfter(this);return c};c.toDefs=function(){u(this).appendChild(this.node);return this};c.pattern=c.toPattern=function(c,\n",
       "a,b,m){var e=r(\"pattern\",u(this));null==c&&(c=this.getBBox());y(c,\"object\")&&\"x\"in c&&(a=c.y,b=c.width,m=c.height,c=c.x);v(e.node,{x:c,y:a,width:b,height:m,patternUnits:\"userSpaceOnUse\",id:e.id,viewBox:[c,a,b,m].join(\" \")});e.node.appendChild(this.node);return e};c.marker=function(c,a,b,m,e,h){var d=r(\"marker\",u(this));null==c&&(c=this.getBBox());y(c,\"object\")&&\"x\"in c&&(a=c.y,b=c.width,m=c.height,e=c.refX||c.cx,h=c.refY||c.cy,c=c.x);v(d.node,{viewBox:[c,a,b,m].join(\" \"),markerWidth:b,markerHeight:m,\n",
       "orient:\"auto\",refX:e||0,refY:h||0,id:d.id});d.node.appendChild(this.node);return d};var E=function(c,a,b,m){\"function\"!=typeof b||b.length||(m=b,b=L.linear);this.attr=c;this.dur=a;b&&(this.easing=b);m&&(this.callback=m)};a._.Animation=E;a.animation=function(c,a,b,m){return new E(c,a,b,m)};c.inAnim=function(){var c=[],a;for(a in this.anims)this.anims[h](a)&&function(a){c.push({anim:new E(a._attrs,a.dur,a.easing,a._callback),mina:a,curStatus:a.status(),status:function(c){return a.status(c)},stop:function(){a.stop()}})}(this.anims[a]);\n",
       "return c};a.animate=function(c,a,b,m,e,h){\"function\"!=typeof e||e.length||(h=e,e=L.linear);var d=L.time();c=L(c,a,d,d+m,L.time,b,e);h&&k.once(\"mina.finish.\"+c.id,h);return c};c.stop=function(){for(var c=this.inAnim(),a=0,b=c.length;a<b;a++)c[a].stop();return this};c.animate=function(c,a,b,m){\"function\"!=typeof b||b.length||(m=b,b=L.linear);c instanceof E&&(m=c.callback,b=c.easing,a=b.dur,c=c.attr);var d=[],f=[],l={},t,ca,n,T=this,q;for(q in c)if(c[h](q)){T.equal?(n=T.equal(q,J(c[q])),t=n.from,ca=\n",
       "n.to,n=n.f):(t=+T.attr(q),ca=+c[q]);var la=y(t,\"array\")?t.length:1;l[q]=e(d.length,d.length+la,n);d=d.concat(t);f=f.concat(ca)}t=L.time();var p=L(d,f,t,t+a,L.time,function(c){var a={},b;for(b in l)l[h](b)&&(a[b]=l[b](c));T.attr(a)},b);T.anims[p.id]=p;p._attrs=c;p._callback=m;k(\"snap.animcreated.\"+T.id,p);k.once(\"mina.finish.\"+p.id,function(){delete T.anims[p.id];m&&m.call(T)});k.once(\"mina.stop.\"+p.id,function(){delete T.anims[p.id]});return T};var T={};c.data=function(c,b){var m=T[this.id]=T[this.id]||\n",
       "{};if(0==arguments.length)return k(\"snap.data.get.\"+this.id,this,m,null),m;if(1==arguments.length){if(a.is(c,\"object\")){for(var e in c)c[h](e)&&this.data(e,c[e]);return this}k(\"snap.data.get.\"+this.id,this,m[c],c);return m[c]}m[c]=b;k(\"snap.data.set.\"+this.id,this,b,c);return this};c.removeData=function(c){null==c?T[this.id]={}:T[this.id]&&delete T[this.id][c];return this};c.outerSVG=c.toString=d(1);c.innerSVG=d()})(e.prototype);a.parse=function(c){var a=G.doc.createDocumentFragment(),b=!0,m=G.doc.createElement(\"div\");\n",
       "c=J(c);c.match(/^\\s*<\\s*svg(?:\\s|>)/)||(c=\"<svg>\"+c+\"</svg>\",b=!1);m.innerHTML=c;if(c=m.getElementsByTagName(\"svg\")[0])if(b)a=c;else for(;c.firstChild;)a.appendChild(c.firstChild);m.innerHTML=aa;return new l(a)};l.prototype.select=e.prototype.select;l.prototype.selectAll=e.prototype.selectAll;a.fragment=function(){for(var c=Array.prototype.slice.call(arguments,0),b=G.doc.createDocumentFragment(),m=0,e=c.length;m<e;m++){var h=c[m];h.node&&h.node.nodeType&&b.appendChild(h.node);h.nodeType&&b.appendChild(h);\n",
       "\"string\"==typeof h&&b.appendChild(a.parse(h).node)}return new l(b)};a._.make=r;a._.wrap=x;s.prototype.el=function(c,a){var b=r(c,this.node);a&&b.attr(a);return b};k.on(\"snap.util.getattr\",function(){var c=k.nt(),c=c.substring(c.lastIndexOf(\".\")+1),a=c.replace(/[A-Z]/g,function(c){return\"-\"+c.toLowerCase()});return pa[h](a)?this.node.ownerDocument.defaultView.getComputedStyle(this.node,null).getPropertyValue(a):v(this.node,c)});var pa={\"alignment-baseline\":0,\"baseline-shift\":0,clip:0,\"clip-path\":0,\n",
       "\"clip-rule\":0,color:0,\"color-interpolation\":0,\"color-interpolation-filters\":0,\"color-profile\":0,\"color-rendering\":0,cursor:0,direction:0,display:0,\"dominant-baseline\":0,\"enable-background\":0,fill:0,\"fill-opacity\":0,\"fill-rule\":0,filter:0,\"flood-color\":0,\"flood-opacity\":0,font:0,\"font-family\":0,\"font-size\":0,\"font-size-adjust\":0,\"font-stretch\":0,\"font-style\":0,\"font-variant\":0,\"font-weight\":0,\"glyph-orientation-horizontal\":0,\"glyph-orientation-vertical\":0,\"image-rendering\":0,kerning:0,\"letter-spacing\":0,\n",
       "\"lighting-color\":0,marker:0,\"marker-end\":0,\"marker-mid\":0,\"marker-start\":0,mask:0,opacity:0,overflow:0,\"pointer-events\":0,\"shape-rendering\":0,\"stop-color\":0,\"stop-opacity\":0,stroke:0,\"stroke-dasharray\":0,\"stroke-dashoffset\":0,\"stroke-linecap\":0,\"stroke-linejoin\":0,\"stroke-miterlimit\":0,\"stroke-opacity\":0,\"stroke-width\":0,\"text-anchor\":0,\"text-decoration\":0,\"text-rendering\":0,\"unicode-bidi\":0,visibility:0,\"word-spacing\":0,\"writing-mode\":0};k.on(\"snap.util.attr\",function(c){var a=k.nt(),b={},a=a.substring(a.lastIndexOf(\".\")+\n",
       "1);b[a]=c;var m=a.replace(/-(\\w)/gi,function(c,a){return a.toUpperCase()}),a=a.replace(/[A-Z]/g,function(c){return\"-\"+c.toLowerCase()});pa[h](a)?this.node.style[m]=null==c?aa:c:v(this.node,b)});a.ajax=function(c,a,b,m){var e=new XMLHttpRequest,h=V();if(e){if(y(a,\"function\"))m=b,b=a,a=null;else if(y(a,\"object\")){var d=[],f;for(f in a)a.hasOwnProperty(f)&&d.push(encodeURIComponent(f)+\"=\"+encodeURIComponent(a[f]));a=d.join(\"&\")}e.open(a?\"POST\":\"GET\",c,!0);a&&(e.setRequestHeader(\"X-Requested-With\",\"XMLHttpRequest\"),\n",
       "e.setRequestHeader(\"Content-type\",\"application/x-www-form-urlencoded\"));b&&(k.once(\"snap.ajax.\"+h+\".0\",b),k.once(\"snap.ajax.\"+h+\".200\",b),k.once(\"snap.ajax.\"+h+\".304\",b));e.onreadystatechange=function(){4==e.readyState&&k(\"snap.ajax.\"+h+\".\"+e.status,m,e)};if(4==e.readyState)return e;e.send(a);return e}};a.load=function(c,b,m){a.ajax(c,function(c){c=a.parse(c.responseText);m?b.call(m,c):b(c)})};a.getElementByPoint=function(c,a){var b,m,e=G.doc.elementFromPoint(c,a);if(G.win.opera&&\"svg\"==e.tagName){b=\n",
       "e;m=b.getBoundingClientRect();b=b.ownerDocument;var h=b.body,d=b.documentElement;b=m.top+(g.win.pageYOffset||d.scrollTop||h.scrollTop)-(d.clientTop||h.clientTop||0);m=m.left+(g.win.pageXOffset||d.scrollLeft||h.scrollLeft)-(d.clientLeft||h.clientLeft||0);h=e.createSVGRect();h.x=c-m;h.y=a-b;h.width=h.height=1;b=e.getIntersectionList(h,null);b.length&&(e=b[b.length-1])}return e?x(e):null};a.plugin=function(c){c(a,e,s,G,l)};return G.win.Snap=a}();C.plugin(function(a,k,y,M,A){function w(a,d,f,b,q,e){null==\n",
       "d&&\"[object SVGMatrix]\"==z.call(a)?(this.a=a.a,this.b=a.b,this.c=a.c,this.d=a.d,this.e=a.e,this.f=a.f):null!=a?(this.a=+a,this.b=+d,this.c=+f,this.d=+b,this.e=+q,this.f=+e):(this.a=1,this.c=this.b=0,this.d=1,this.f=this.e=0)}var z=Object.prototype.toString,d=String,f=Math;(function(n){function k(a){return a[0]*a[0]+a[1]*a[1]}function p(a){var d=f.sqrt(k(a));a[0]&&(a[0]/=d);a[1]&&(a[1]/=d)}n.add=function(a,d,e,f,n,p){var k=[[],[],[] ],u=[[this.a,this.c,this.e],[this.b,this.d,this.f],[0,0,1] ];d=[[a,\n",
       "e,n],[d,f,p],[0,0,1] ];a&&a instanceof w&&(d=[[a.a,a.c,a.e],[a.b,a.d,a.f],[0,0,1] ]);for(a=0;3>a;a++)for(e=0;3>e;e++){for(f=n=0;3>f;f++)n+=u[a][f]*d[f][e];k[a][e]=n}this.a=k[0][0];this.b=k[1][0];this.c=k[0][1];this.d=k[1][1];this.e=k[0][2];this.f=k[1][2];return this};n.invert=function(){var a=this.a*this.d-this.b*this.c;return new w(this.d/a,-this.b/a,-this.c/a,this.a/a,(this.c*this.f-this.d*this.e)/a,(this.b*this.e-this.a*this.f)/a)};n.clone=function(){return new w(this.a,this.b,this.c,this.d,this.e,\n",
       "this.f)};n.translate=function(a,d){return this.add(1,0,0,1,a,d)};n.scale=function(a,d,e,f){null==d&&(d=a);(e||f)&&this.add(1,0,0,1,e,f);this.add(a,0,0,d,0,0);(e||f)&&this.add(1,0,0,1,-e,-f);return this};n.rotate=function(b,d,e){b=a.rad(b);d=d||0;e=e||0;var l=+f.cos(b).toFixed(9);b=+f.sin(b).toFixed(9);this.add(l,b,-b,l,d,e);return this.add(1,0,0,1,-d,-e)};n.x=function(a,d){return a*this.a+d*this.c+this.e};n.y=function(a,d){return a*this.b+d*this.d+this.f};n.get=function(a){return+this[d.fromCharCode(97+\n",
       "a)].toFixed(4)};n.toString=function(){return\"matrix(\"+[this.get(0),this.get(1),this.get(2),this.get(3),this.get(4),this.get(5)].join()+\")\"};n.offset=function(){return[this.e.toFixed(4),this.f.toFixed(4)]};n.determinant=function(){return this.a*this.d-this.b*this.c};n.split=function(){var b={};b.dx=this.e;b.dy=this.f;var d=[[this.a,this.c],[this.b,this.d] ];b.scalex=f.sqrt(k(d[0]));p(d[0]);b.shear=d[0][0]*d[1][0]+d[0][1]*d[1][1];d[1]=[d[1][0]-d[0][0]*b.shear,d[1][1]-d[0][1]*b.shear];b.scaley=f.sqrt(k(d[1]));\n",
       "p(d[1]);b.shear/=b.scaley;0>this.determinant()&&(b.scalex=-b.scalex);var e=-d[0][1],d=d[1][1];0>d?(b.rotate=a.deg(f.acos(d)),0>e&&(b.rotate=360-b.rotate)):b.rotate=a.deg(f.asin(e));b.isSimple=!+b.shear.toFixed(9)&&(b.scalex.toFixed(9)==b.scaley.toFixed(9)||!b.rotate);b.isSuperSimple=!+b.shear.toFixed(9)&&b.scalex.toFixed(9)==b.scaley.toFixed(9)&&!b.rotate;b.noRotation=!+b.shear.toFixed(9)&&!b.rotate;return b};n.toTransformString=function(a){a=a||this.split();if(+a.shear.toFixed(9))return\"m\"+[this.get(0),\n",
       "this.get(1),this.get(2),this.get(3),this.get(4),this.get(5)];a.scalex=+a.scalex.toFixed(4);a.scaley=+a.scaley.toFixed(4);a.rotate=+a.rotate.toFixed(4);return(a.dx||a.dy?\"t\"+[+a.dx.toFixed(4),+a.dy.toFixed(4)]:\"\")+(1!=a.scalex||1!=a.scaley?\"s\"+[a.scalex,a.scaley,0,0]:\"\")+(a.rotate?\"r\"+[+a.rotate.toFixed(4),0,0]:\"\")}})(w.prototype);a.Matrix=w;a.matrix=function(a,d,f,b,k,e){return new w(a,d,f,b,k,e)}});C.plugin(function(a,v,y,M,A){function w(h){return function(d){k.stop();d instanceof A&&1==d.node.childNodes.length&&\n",
       "(\"radialGradient\"==d.node.firstChild.tagName||\"linearGradient\"==d.node.firstChild.tagName||\"pattern\"==d.node.firstChild.tagName)&&(d=d.node.firstChild,b(this).appendChild(d),d=u(d));if(d instanceof v)if(\"radialGradient\"==d.type||\"linearGradient\"==d.type||\"pattern\"==d.type){d.node.id||e(d.node,{id:d.id});var f=l(d.node.id)}else f=d.attr(h);else f=a.color(d),f.error?(f=a(b(this).ownerSVGElement).gradient(d))?(f.node.id||e(f.node,{id:f.id}),f=l(f.node.id)):f=d:f=r(f);d={};d[h]=f;e(this.node,d);this.node.style[h]=\n",
       "x}}function z(a){k.stop();a==+a&&(a+=\"px\");this.node.style.fontSize=a}function d(a){var b=[];a=a.childNodes;for(var e=0,f=a.length;e<f;e++){var l=a[e];3==l.nodeType&&b.push(l.nodeValue);\"tspan\"==l.tagName&&(1==l.childNodes.length&&3==l.firstChild.nodeType?b.push(l.firstChild.nodeValue):b.push(d(l)))}return b}function f(){k.stop();return this.node.style.fontSize}var n=a._.make,u=a._.wrap,p=a.is,b=a._.getSomeDefs,q=/^url\\(#?([^)]+)\\)$/,e=a._.$,l=a.url,r=String,s=a._.separator,x=\"\";k.on(\"snap.util.attr.mask\",\n",
       "function(a){if(a instanceof v||a instanceof A){k.stop();a instanceof A&&1==a.node.childNodes.length&&(a=a.node.firstChild,b(this).appendChild(a),a=u(a));if(\"mask\"==a.type)var d=a;else d=n(\"mask\",b(this)),d.node.appendChild(a.node);!d.node.id&&e(d.node,{id:d.id});e(this.node,{mask:l(d.id)})}});(function(a){k.on(\"snap.util.attr.clip\",a);k.on(\"snap.util.attr.clip-path\",a);k.on(\"snap.util.attr.clipPath\",a)})(function(a){if(a instanceof v||a instanceof A){k.stop();if(\"clipPath\"==a.type)var d=a;else d=\n",
       "n(\"clipPath\",b(this)),d.node.appendChild(a.node),!d.node.id&&e(d.node,{id:d.id});e(this.node,{\"clip-path\":l(d.id)})}});k.on(\"snap.util.attr.fill\",w(\"fill\"));k.on(\"snap.util.attr.stroke\",w(\"stroke\"));var G=/^([lr])(?:\\(([^)]*)\\))?(.*)$/i;k.on(\"snap.util.grad.parse\",function(a){a=r(a);var b=a.match(G);if(!b)return null;a=b[1];var e=b[2],b=b[3],e=e.split(/\\s*,\\s*/).map(function(a){return+a==a?+a:a});1==e.length&&0==e[0]&&(e=[]);b=b.split(\"-\");b=b.map(function(a){a=a.split(\":\");var b={color:a[0]};a[1]&&\n",
       "(b.offset=parseFloat(a[1]));return b});return{type:a,params:e,stops:b}});k.on(\"snap.util.attr.d\",function(b){k.stop();p(b,\"array\")&&p(b[0],\"array\")&&(b=a.path.toString.call(b));b=r(b);b.match(/[ruo]/i)&&(b=a.path.toAbsolute(b));e(this.node,{d:b})})(-1);k.on(\"snap.util.attr.#text\",function(a){k.stop();a=r(a);for(a=M.doc.createTextNode(a);this.node.firstChild;)this.node.removeChild(this.node.firstChild);this.node.appendChild(a)})(-1);k.on(\"snap.util.attr.path\",function(a){k.stop();this.attr({d:a})})(-1);\n",
       "k.on(\"snap.util.attr.class\",function(a){k.stop();this.node.className.baseVal=a})(-1);k.on(\"snap.util.attr.viewBox\",function(a){a=p(a,\"object\")&&\"x\"in a?[a.x,a.y,a.width,a.height].join(\" \"):p(a,\"array\")?a.join(\" \"):a;e(this.node,{viewBox:a});k.stop()})(-1);k.on(\"snap.util.attr.transform\",function(a){this.transform(a);k.stop()})(-1);k.on(\"snap.util.attr.r\",function(a){\"rect\"==this.type&&(k.stop(),e(this.node,{rx:a,ry:a}))})(-1);k.on(\"snap.util.attr.textpath\",function(a){k.stop();if(\"text\"==this.type){var d,\n",
       "f;if(!a&&this.textPath){for(a=this.textPath;a.node.firstChild;)this.node.appendChild(a.node.firstChild);a.remove();delete this.textPath}else if(p(a,\"string\")?(d=b(this),a=u(d.parentNode).path(a),d.appendChild(a.node),d=a.id,a.attr({id:d})):(a=u(a),a instanceof v&&(d=a.attr(\"id\"),d||(d=a.id,a.attr({id:d})))),d)if(a=this.textPath,f=this.node,a)a.attr({\"xlink:href\":\"#\"+d});else{for(a=e(\"textPath\",{\"xlink:href\":\"#\"+d});f.firstChild;)a.appendChild(f.firstChild);f.appendChild(a);this.textPath=u(a)}}})(-1);\n",
       "k.on(\"snap.util.attr.text\",function(a){if(\"text\"==this.type){for(var b=this.node,d=function(a){var b=e(\"tspan\");if(p(a,\"array\"))for(var f=0;f<a.length;f++)b.appendChild(d(a[f]));else b.appendChild(M.doc.createTextNode(a));b.normalize&&b.normalize();return b};b.firstChild;)b.removeChild(b.firstChild);for(a=d(a);a.firstChild;)b.appendChild(a.firstChild)}k.stop()})(-1);k.on(\"snap.util.attr.fontSize\",z)(-1);k.on(\"snap.util.attr.font-size\",z)(-1);k.on(\"snap.util.getattr.transform\",function(){k.stop();\n",
       "return this.transform()})(-1);k.on(\"snap.util.getattr.textpath\",function(){k.stop();return this.textPath})(-1);(function(){function b(d){return function(){k.stop();var b=M.doc.defaultView.getComputedStyle(this.node,null).getPropertyValue(\"marker-\"+d);return\"none\"==b?b:a(M.doc.getElementById(b.match(q)[1]))}}function d(a){return function(b){k.stop();var d=\"marker\"+a.charAt(0).toUpperCase()+a.substring(1);if(\"\"==b||!b)this.node.style[d]=\"none\";else if(\"marker\"==b.type){var f=b.node.id;f||e(b.node,{id:b.id});\n",
       "this.node.style[d]=l(f)}}}k.on(\"snap.util.getattr.marker-end\",b(\"end\"))(-1);k.on(\"snap.util.getattr.markerEnd\",b(\"end\"))(-1);k.on(\"snap.util.getattr.marker-start\",b(\"start\"))(-1);k.on(\"snap.util.getattr.markerStart\",b(\"start\"))(-1);k.on(\"snap.util.getattr.marker-mid\",b(\"mid\"))(-1);k.on(\"snap.util.getattr.markerMid\",b(\"mid\"))(-1);k.on(\"snap.util.attr.marker-end\",d(\"end\"))(-1);k.on(\"snap.util.attr.markerEnd\",d(\"end\"))(-1);k.on(\"snap.util.attr.marker-start\",d(\"start\"))(-1);k.on(\"snap.util.attr.markerStart\",\n",
       "d(\"start\"))(-1);k.on(\"snap.util.attr.marker-mid\",d(\"mid\"))(-1);k.on(\"snap.util.attr.markerMid\",d(\"mid\"))(-1)})();k.on(\"snap.util.getattr.r\",function(){if(\"rect\"==this.type&&e(this.node,\"rx\")==e(this.node,\"ry\"))return k.stop(),e(this.node,\"rx\")})(-1);k.on(\"snap.util.getattr.text\",function(){if(\"text\"==this.type||\"tspan\"==this.type){k.stop();var a=d(this.node);return 1==a.length?a[0]:a}})(-1);k.on(\"snap.util.getattr.#text\",function(){return this.node.textContent})(-1);k.on(\"snap.util.getattr.viewBox\",\n",
       "function(){k.stop();var b=e(this.node,\"viewBox\");if(b)return b=b.split(s),a._.box(+b[0],+b[1],+b[2],+b[3])})(-1);k.on(\"snap.util.getattr.points\",function(){var a=e(this.node,\"points\");k.stop();if(a)return a.split(s)})(-1);k.on(\"snap.util.getattr.path\",function(){var a=e(this.node,\"d\");k.stop();return a})(-1);k.on(\"snap.util.getattr.class\",function(){return this.node.className.baseVal})(-1);k.on(\"snap.util.getattr.fontSize\",f)(-1);k.on(\"snap.util.getattr.font-size\",f)(-1)});C.plugin(function(a,v,y,\n",
       "M,A){function w(a){return a}function z(a){return function(b){return+b.toFixed(3)+a}}var d={\"+\":function(a,b){return a+b},\"-\":function(a,b){return a-b},\"/\":function(a,b){return a/b},\"*\":function(a,b){return a*b}},f=String,n=/[a-z]+$/i,u=/^\\s*([+\\-\\/*])\\s*=\\s*([\\d.eE+\\-]+)\\s*([^\\d\\s]+)?\\s*$/;k.on(\"snap.util.attr\",function(a){if(a=f(a).match(u)){var b=k.nt(),b=b.substring(b.lastIndexOf(\".\")+1),q=this.attr(b),e={};k.stop();var l=a[3]||\"\",r=q.match(n),s=d[a[1] ];r&&r==l?a=s(parseFloat(q),+a[2]):(q=this.asPX(b),\n",
       "a=s(this.asPX(b),this.asPX(b,a[2]+l)));isNaN(q)||isNaN(a)||(e[b]=a,this.attr(e))}})(-10);k.on(\"snap.util.equal\",function(a,b){var q=f(this.attr(a)||\"\"),e=f(b).match(u);if(e){k.stop();var l=e[3]||\"\",r=q.match(n),s=d[e[1] ];if(r&&r==l)return{from:parseFloat(q),to:s(parseFloat(q),+e[2]),f:z(r)};q=this.asPX(a);return{from:q,to:s(q,this.asPX(a,e[2]+l)),f:w}}})(-10)});C.plugin(function(a,v,y,M,A){var w=y.prototype,z=a.is;w.rect=function(a,d,k,p,b,q){var e;null==q&&(q=b);z(a,\"object\")&&\"[object Object]\"==\n",
       "a?e=a:null!=a&&(e={x:a,y:d,width:k,height:p},null!=b&&(e.rx=b,e.ry=q));return this.el(\"rect\",e)};w.circle=function(a,d,k){var p;z(a,\"object\")&&\"[object Object]\"==a?p=a:null!=a&&(p={cx:a,cy:d,r:k});return this.el(\"circle\",p)};var d=function(){function a(){this.parentNode.removeChild(this)}return function(d,k){var p=M.doc.createElement(\"img\"),b=M.doc.body;p.style.cssText=\"position:absolute;left:-9999em;top:-9999em\";p.onload=function(){k.call(p);p.onload=p.onerror=null;b.removeChild(p)};p.onerror=a;\n",
       "b.appendChild(p);p.src=d}}();w.image=function(f,n,k,p,b){var q=this.el(\"image\");if(z(f,\"object\")&&\"src\"in f)q.attr(f);else if(null!=f){var e={\"xlink:href\":f,preserveAspectRatio:\"none\"};null!=n&&null!=k&&(e.x=n,e.y=k);null!=p&&null!=b?(e.width=p,e.height=b):d(f,function(){a._.$(q.node,{width:this.offsetWidth,height:this.offsetHeight})});a._.$(q.node,e)}return q};w.ellipse=function(a,d,k,p){var b;z(a,\"object\")&&\"[object Object]\"==a?b=a:null!=a&&(b={cx:a,cy:d,rx:k,ry:p});return this.el(\"ellipse\",b)};\n",
       "w.path=function(a){var d;z(a,\"object\")&&!z(a,\"array\")?d=a:a&&(d={d:a});return this.el(\"path\",d)};w.group=w.g=function(a){var d=this.el(\"g\");1==arguments.length&&a&&!a.type?d.attr(a):arguments.length&&d.add(Array.prototype.slice.call(arguments,0));return d};w.svg=function(a,d,k,p,b,q,e,l){var r={};z(a,\"object\")&&null==d?r=a:(null!=a&&(r.x=a),null!=d&&(r.y=d),null!=k&&(r.width=k),null!=p&&(r.height=p),null!=b&&null!=q&&null!=e&&null!=l&&(r.viewBox=[b,q,e,l]));return this.el(\"svg\",r)};w.mask=function(a){var d=\n",
       "this.el(\"mask\");1==arguments.length&&a&&!a.type?d.attr(a):arguments.length&&d.add(Array.prototype.slice.call(arguments,0));return d};w.ptrn=function(a,d,k,p,b,q,e,l){if(z(a,\"object\"))var r=a;else arguments.length?(r={},null!=a&&(r.x=a),null!=d&&(r.y=d),null!=k&&(r.width=k),null!=p&&(r.height=p),null!=b&&null!=q&&null!=e&&null!=l&&(r.viewBox=[b,q,e,l])):r={patternUnits:\"userSpaceOnUse\"};return this.el(\"pattern\",r)};w.use=function(a){return null!=a?(make(\"use\",this.node),a instanceof v&&(a.attr(\"id\")||\n",
       "a.attr({id:ID()}),a=a.attr(\"id\")),this.el(\"use\",{\"xlink:href\":a})):v.prototype.use.call(this)};w.text=function(a,d,k){var p={};z(a,\"object\")?p=a:null!=a&&(p={x:a,y:d,text:k||\"\"});return this.el(\"text\",p)};w.line=function(a,d,k,p){var b={};z(a,\"object\")?b=a:null!=a&&(b={x1:a,x2:k,y1:d,y2:p});return this.el(\"line\",b)};w.polyline=function(a){1<arguments.length&&(a=Array.prototype.slice.call(arguments,0));var d={};z(a,\"object\")&&!z(a,\"array\")?d=a:null!=a&&(d={points:a});return this.el(\"polyline\",d)};\n",
       "w.polygon=function(a){1<arguments.length&&(a=Array.prototype.slice.call(arguments,0));var d={};z(a,\"object\")&&!z(a,\"array\")?d=a:null!=a&&(d={points:a});return this.el(\"polygon\",d)};(function(){function d(){return this.selectAll(\"stop\")}function n(b,d){var f=e(\"stop\"),k={offset:+d+\"%\"};b=a.color(b);k[\"stop-color\"]=b.hex;1>b.opacity&&(k[\"stop-opacity\"]=b.opacity);e(f,k);this.node.appendChild(f);return this}function u(){if(\"linearGradient\"==this.type){var b=e(this.node,\"x1\")||0,d=e(this.node,\"x2\")||\n",
       "1,f=e(this.node,\"y1\")||0,k=e(this.node,\"y2\")||0;return a._.box(b,f,math.abs(d-b),math.abs(k-f))}b=this.node.r||0;return a._.box((this.node.cx||0.5)-b,(this.node.cy||0.5)-b,2*b,2*b)}function p(a,d){function f(a,b){for(var d=(b-u)/(a-w),e=w;e<a;e++)h[e].offset=+(+u+d*(e-w)).toFixed(2);w=a;u=b}var n=k(\"snap.util.grad.parse\",null,d).firstDefined(),p;if(!n)return null;n.params.unshift(a);p=\"l\"==n.type.toLowerCase()?b.apply(0,n.params):q.apply(0,n.params);n.type!=n.type.toLowerCase()&&e(p.node,{gradientUnits:\"userSpaceOnUse\"});\n",
       "var h=n.stops,n=h.length,u=0,w=0;n--;for(var v=0;v<n;v++)\"offset\"in h[v]&&f(v,h[v].offset);h[n].offset=h[n].offset||100;f(n,h[n].offset);for(v=0;v<=n;v++){var y=h[v];p.addStop(y.color,y.offset)}return p}function b(b,k,p,q,w){b=a._.make(\"linearGradient\",b);b.stops=d;b.addStop=n;b.getBBox=u;null!=k&&e(b.node,{x1:k,y1:p,x2:q,y2:w});return b}function q(b,k,p,q,w,h){b=a._.make(\"radialGradient\",b);b.stops=d;b.addStop=n;b.getBBox=u;null!=k&&e(b.node,{cx:k,cy:p,r:q});null!=w&&null!=h&&e(b.node,{fx:w,fy:h});\n",
       "return b}var e=a._.$;w.gradient=function(a){return p(this.defs,a)};w.gradientLinear=function(a,d,e,f){return b(this.defs,a,d,e,f)};w.gradientRadial=function(a,b,d,e,f){return q(this.defs,a,b,d,e,f)};w.toString=function(){var b=this.node.ownerDocument,d=b.createDocumentFragment(),b=b.createElement(\"div\"),e=this.node.cloneNode(!0);d.appendChild(b);b.appendChild(e);a._.$(e,{xmlns:\"http://www.w3.org/2000/svg\"});b=b.innerHTML;d.removeChild(d.firstChild);return b};w.clear=function(){for(var a=this.node.firstChild,\n",
       "b;a;)b=a.nextSibling,\"defs\"!=a.tagName?a.parentNode.removeChild(a):w.clear.call({node:a}),a=b}})()});C.plugin(function(a,k,y,M){function A(a){var b=A.ps=A.ps||{};b[a]?b[a].sleep=100:b[a]={sleep:100};setTimeout(function(){for(var d in b)b[L](d)&&d!=a&&(b[d].sleep--,!b[d].sleep&&delete b[d])});return b[a]}function w(a,b,d,e){null==a&&(a=b=d=e=0);null==b&&(b=a.y,d=a.width,e=a.height,a=a.x);return{x:a,y:b,width:d,w:d,height:e,h:e,x2:a+d,y2:b+e,cx:a+d/2,cy:b+e/2,r1:F.min(d,e)/2,r2:F.max(d,e)/2,r0:F.sqrt(d*\n",
       "d+e*e)/2,path:s(a,b,d,e),vb:[a,b,d,e].join(\" \")}}function z(){return this.join(\",\").replace(N,\"$1\")}function d(a){a=C(a);a.toString=z;return a}function f(a,b,d,h,f,k,l,n,p){if(null==p)return e(a,b,d,h,f,k,l,n);if(0>p||e(a,b,d,h,f,k,l,n)<p)p=void 0;else{var q=0.5,O=1-q,s;for(s=e(a,b,d,h,f,k,l,n,O);0.01<Z(s-p);)q/=2,O+=(s<p?1:-1)*q,s=e(a,b,d,h,f,k,l,n,O);p=O}return u(a,b,d,h,f,k,l,n,p)}function n(b,d){function e(a){return+(+a).toFixed(3)}return a._.cacher(function(a,h,l){a instanceof k&&(a=a.attr(\"d\"));\n",
       "a=I(a);for(var n,p,D,q,O=\"\",s={},c=0,t=0,r=a.length;t<r;t++){D=a[t];if(\"M\"==D[0])n=+D[1],p=+D[2];else{q=f(n,p,D[1],D[2],D[3],D[4],D[5],D[6]);if(c+q>h){if(d&&!s.start){n=f(n,p,D[1],D[2],D[3],D[4],D[5],D[6],h-c);O+=[\"C\"+e(n.start.x),e(n.start.y),e(n.m.x),e(n.m.y),e(n.x),e(n.y)];if(l)return O;s.start=O;O=[\"M\"+e(n.x),e(n.y)+\"C\"+e(n.n.x),e(n.n.y),e(n.end.x),e(n.end.y),e(D[5]),e(D[6])].join();c+=q;n=+D[5];p=+D[6];continue}if(!b&&!d)return n=f(n,p,D[1],D[2],D[3],D[4],D[5],D[6],h-c)}c+=q;n=+D[5];p=+D[6]}O+=\n",
       "D.shift()+D}s.end=O;return n=b?c:d?s:u(n,p,D[0],D[1],D[2],D[3],D[4],D[5],1)},null,a._.clone)}function u(a,b,d,e,h,f,k,l,n){var p=1-n,q=ma(p,3),s=ma(p,2),c=n*n,t=c*n,r=q*a+3*s*n*d+3*p*n*n*h+t*k,q=q*b+3*s*n*e+3*p*n*n*f+t*l,s=a+2*n*(d-a)+c*(h-2*d+a),t=b+2*n*(e-b)+c*(f-2*e+b),x=d+2*n*(h-d)+c*(k-2*h+d),c=e+2*n*(f-e)+c*(l-2*f+e);a=p*a+n*d;b=p*b+n*e;h=p*h+n*k;f=p*f+n*l;l=90-180*F.atan2(s-x,t-c)/S;return{x:r,y:q,m:{x:s,y:t},n:{x:x,y:c},start:{x:a,y:b},end:{x:h,y:f},alpha:l}}function p(b,d,e,h,f,n,k,l){a.is(b,\n",
       "\"array\")||(b=[b,d,e,h,f,n,k,l]);b=U.apply(null,b);return w(b.min.x,b.min.y,b.max.x-b.min.x,b.max.y-b.min.y)}function b(a,b,d){return b>=a.x&&b<=a.x+a.width&&d>=a.y&&d<=a.y+a.height}function q(a,d){a=w(a);d=w(d);return b(d,a.x,a.y)||b(d,a.x2,a.y)||b(d,a.x,a.y2)||b(d,a.x2,a.y2)||b(a,d.x,d.y)||b(a,d.x2,d.y)||b(a,d.x,d.y2)||b(a,d.x2,d.y2)||(a.x<d.x2&&a.x>d.x||d.x<a.x2&&d.x>a.x)&&(a.y<d.y2&&a.y>d.y||d.y<a.y2&&d.y>a.y)}function e(a,b,d,e,h,f,n,k,l){null==l&&(l=1);l=(1<l?1:0>l?0:l)/2;for(var p=[-0.1252,\n",
       "0.1252,-0.3678,0.3678,-0.5873,0.5873,-0.7699,0.7699,-0.9041,0.9041,-0.9816,0.9816],q=[0.2491,0.2491,0.2335,0.2335,0.2032,0.2032,0.1601,0.1601,0.1069,0.1069,0.0472,0.0472],s=0,c=0;12>c;c++)var t=l*p[c]+l,r=t*(t*(-3*a+9*d-9*h+3*n)+6*a-12*d+6*h)-3*a+3*d,t=t*(t*(-3*b+9*e-9*f+3*k)+6*b-12*e+6*f)-3*b+3*e,s=s+q[c]*F.sqrt(r*r+t*t);return l*s}function l(a,b,d){a=I(a);b=I(b);for(var h,f,l,n,k,s,r,O,x,c,t=d?0:[],w=0,v=a.length;w<v;w++)if(x=a[w],\"M\"==x[0])h=k=x[1],f=s=x[2];else{\"C\"==x[0]?(x=[h,f].concat(x.slice(1)),\n",
       "h=x[6],f=x[7]):(x=[h,f,h,f,k,s,k,s],h=k,f=s);for(var G=0,y=b.length;G<y;G++)if(c=b[G],\"M\"==c[0])l=r=c[1],n=O=c[2];else{\"C\"==c[0]?(c=[l,n].concat(c.slice(1)),l=c[6],n=c[7]):(c=[l,n,l,n,r,O,r,O],l=r,n=O);var z;var K=x,B=c;z=d;var H=p(K),J=p(B);if(q(H,J)){for(var H=e.apply(0,K),J=e.apply(0,B),H=~~(H/8),J=~~(J/8),U=[],A=[],F={},M=z?0:[],P=0;P<H+1;P++){var C=u.apply(0,K.concat(P/H));U.push({x:C.x,y:C.y,t:P/H})}for(P=0;P<J+1;P++)C=u.apply(0,B.concat(P/J)),A.push({x:C.x,y:C.y,t:P/J});for(P=0;P<H;P++)for(K=\n",
       "0;K<J;K++){var Q=U[P],L=U[P+1],B=A[K],C=A[K+1],N=0.001>Z(L.x-Q.x)?\"y\":\"x\",S=0.001>Z(C.x-B.x)?\"y\":\"x\",R;R=Q.x;var Y=Q.y,V=L.x,ea=L.y,fa=B.x,ga=B.y,ha=C.x,ia=C.y;if(W(R,V)<X(fa,ha)||X(R,V)>W(fa,ha)||W(Y,ea)<X(ga,ia)||X(Y,ea)>W(ga,ia))R=void 0;else{var $=(R*ea-Y*V)*(fa-ha)-(R-V)*(fa*ia-ga*ha),aa=(R*ea-Y*V)*(ga-ia)-(Y-ea)*(fa*ia-ga*ha),ja=(R-V)*(ga-ia)-(Y-ea)*(fa-ha);if(ja){var $=$/ja,aa=aa/ja,ja=+$.toFixed(2),ba=+aa.toFixed(2);R=ja<+X(R,V).toFixed(2)||ja>+W(R,V).toFixed(2)||ja<+X(fa,ha).toFixed(2)||\n",
       "ja>+W(fa,ha).toFixed(2)||ba<+X(Y,ea).toFixed(2)||ba>+W(Y,ea).toFixed(2)||ba<+X(ga,ia).toFixed(2)||ba>+W(ga,ia).toFixed(2)?void 0:{x:$,y:aa}}else R=void 0}R&&F[R.x.toFixed(4)]!=R.y.toFixed(4)&&(F[R.x.toFixed(4)]=R.y.toFixed(4),Q=Q.t+Z((R[N]-Q[N])/(L[N]-Q[N]))*(L.t-Q.t),B=B.t+Z((R[S]-B[S])/(C[S]-B[S]))*(C.t-B.t),0<=Q&&1>=Q&&0<=B&&1>=B&&(z?M++:M.push({x:R.x,y:R.y,t1:Q,t2:B})))}z=M}else z=z?0:[];if(d)t+=z;else{H=0;for(J=z.length;H<J;H++)z[H].segment1=w,z[H].segment2=G,z[H].bez1=x,z[H].bez2=c;t=t.concat(z)}}}return t}\n",
       "function r(a){var b=A(a);if(b.bbox)return C(b.bbox);if(!a)return w();a=I(a);for(var d=0,e=0,h=[],f=[],l,n=0,k=a.length;n<k;n++)l=a[n],\"M\"==l[0]?(d=l[1],e=l[2],h.push(d),f.push(e)):(d=U(d,e,l[1],l[2],l[3],l[4],l[5],l[6]),h=h.concat(d.min.x,d.max.x),f=f.concat(d.min.y,d.max.y),d=l[5],e=l[6]);a=X.apply(0,h);l=X.apply(0,f);h=W.apply(0,h);f=W.apply(0,f);f=w(a,l,h-a,f-l);b.bbox=C(f);return f}function s(a,b,d,e,h){if(h)return[[\"M\",+a+ +h,b],[\"l\",d-2*h,0],[\"a\",h,h,0,0,1,h,h],[\"l\",0,e-2*h],[\"a\",h,h,0,0,1,\n",
       "-h,h],[\"l\",2*h-d,0],[\"a\",h,h,0,0,1,-h,-h],[\"l\",0,2*h-e],[\"a\",h,h,0,0,1,h,-h],[\"z\"] ];a=[[\"M\",a,b],[\"l\",d,0],[\"l\",0,e],[\"l\",-d,0],[\"z\"] ];a.toString=z;return a}function x(a,b,d,e,h){null==h&&null==e&&(e=d);a=+a;b=+b;d=+d;e=+e;if(null!=h){var f=Math.PI/180,l=a+d*Math.cos(-e*f);a+=d*Math.cos(-h*f);var n=b+d*Math.sin(-e*f);b+=d*Math.sin(-h*f);d=[[\"M\",l,n],[\"A\",d,d,0,+(180<h-e),0,a,b] ]}else d=[[\"M\",a,b],[\"m\",0,-e],[\"a\",d,e,0,1,1,0,2*e],[\"a\",d,e,0,1,1,0,-2*e],[\"z\"] ];d.toString=z;return d}function G(b){var e=\n",
       "A(b);if(e.abs)return d(e.abs);Q(b,\"array\")&&Q(b&&b[0],\"array\")||(b=a.parsePathString(b));if(!b||!b.length)return[[\"M\",0,0] ];var h=[],f=0,l=0,n=0,k=0,p=0;\"M\"==b[0][0]&&(f=+b[0][1],l=+b[0][2],n=f,k=l,p++,h[0]=[\"M\",f,l]);for(var q=3==b.length&&\"M\"==b[0][0]&&\"R\"==b[1][0].toUpperCase()&&\"Z\"==b[2][0].toUpperCase(),s,r,w=p,c=b.length;w<c;w++){h.push(s=[]);r=b[w];p=r[0];if(p!=p.toUpperCase())switch(s[0]=p.toUpperCase(),s[0]){case \"A\":s[1]=r[1];s[2]=r[2];s[3]=r[3];s[4]=r[4];s[5]=r[5];s[6]=+r[6]+f;s[7]=+r[7]+\n",
       "l;break;case \"V\":s[1]=+r[1]+l;break;case \"H\":s[1]=+r[1]+f;break;case \"R\":for(var t=[f,l].concat(r.slice(1)),u=2,v=t.length;u<v;u++)t[u]=+t[u]+f,t[++u]=+t[u]+l;h.pop();h=h.concat(P(t,q));break;case \"O\":h.pop();t=x(f,l,r[1],r[2]);t.push(t[0]);h=h.concat(t);break;case \"U\":h.pop();h=h.concat(x(f,l,r[1],r[2],r[3]));s=[\"U\"].concat(h[h.length-1].slice(-2));break;case \"M\":n=+r[1]+f,k=+r[2]+l;default:for(u=1,v=r.length;u<v;u++)s[u]=+r[u]+(u%2?f:l)}else if(\"R\"==p)t=[f,l].concat(r.slice(1)),h.pop(),h=h.concat(P(t,\n",
       "q)),s=[\"R\"].concat(r.slice(-2));else if(\"O\"==p)h.pop(),t=x(f,l,r[1],r[2]),t.push(t[0]),h=h.concat(t);else if(\"U\"==p)h.pop(),h=h.concat(x(f,l,r[1],r[2],r[3])),s=[\"U\"].concat(h[h.length-1].slice(-2));else for(t=0,u=r.length;t<u;t++)s[t]=r[t];p=p.toUpperCase();if(\"O\"!=p)switch(s[0]){case \"Z\":f=+n;l=+k;break;case \"H\":f=s[1];break;case \"V\":l=s[1];break;case \"M\":n=s[s.length-2],k=s[s.length-1];default:f=s[s.length-2],l=s[s.length-1]}}h.toString=z;e.abs=d(h);return h}function h(a,b,d,e){return[a,b,d,e,d,\n",
       "e]}function J(a,b,d,e,h,f){var l=1/3,n=2/3;return[l*a+n*d,l*b+n*e,l*h+n*d,l*f+n*e,h,f]}function K(b,d,e,h,f,l,n,k,p,s){var r=120*S/180,q=S/180*(+f||0),c=[],t,x=a._.cacher(function(a,b,c){var d=a*F.cos(c)-b*F.sin(c);a=a*F.sin(c)+b*F.cos(c);return{x:d,y:a}});if(s)v=s[0],t=s[1],l=s[2],u=s[3];else{t=x(b,d,-q);b=t.x;d=t.y;t=x(k,p,-q);k=t.x;p=t.y;F.cos(S/180*f);F.sin(S/180*f);t=(b-k)/2;v=(d-p)/2;u=t*t/(e*e)+v*v/(h*h);1<u&&(u=F.sqrt(u),e*=u,h*=u);var u=e*e,w=h*h,u=(l==n?-1:1)*F.sqrt(Z((u*w-u*v*v-w*t*t)/\n",
       "(u*v*v+w*t*t)));l=u*e*v/h+(b+k)/2;var u=u*-h*t/e+(d+p)/2,v=F.asin(((d-u)/h).toFixed(9));t=F.asin(((p-u)/h).toFixed(9));v=b<l?S-v:v;t=k<l?S-t:t;0>v&&(v=2*S+v);0>t&&(t=2*S+t);n&&v>t&&(v-=2*S);!n&&t>v&&(t-=2*S)}if(Z(t-v)>r){var c=t,w=k,G=p;t=v+r*(n&&t>v?1:-1);k=l+e*F.cos(t);p=u+h*F.sin(t);c=K(k,p,e,h,f,0,n,w,G,[t,c,l,u])}l=t-v;f=F.cos(v);r=F.sin(v);n=F.cos(t);t=F.sin(t);l=F.tan(l/4);e=4/3*e*l;l*=4/3*h;h=[b,d];b=[b+e*r,d-l*f];d=[k+e*t,p-l*n];k=[k,p];b[0]=2*h[0]-b[0];b[1]=2*h[1]-b[1];if(s)return[b,d,k].concat(c);\n",
       "c=[b,d,k].concat(c).join().split(\",\");s=[];k=0;for(p=c.length;k<p;k++)s[k]=k%2?x(c[k-1],c[k],q).y:x(c[k],c[k+1],q).x;return s}function U(a,b,d,e,h,f,l,k){for(var n=[],p=[[],[] ],s,r,c,t,q=0;2>q;++q)0==q?(r=6*a-12*d+6*h,s=-3*a+9*d-9*h+3*l,c=3*d-3*a):(r=6*b-12*e+6*f,s=-3*b+9*e-9*f+3*k,c=3*e-3*b),1E-12>Z(s)?1E-12>Z(r)||(s=-c/r,0<s&&1>s&&n.push(s)):(t=r*r-4*c*s,c=F.sqrt(t),0>t||(t=(-r+c)/(2*s),0<t&&1>t&&n.push(t),s=(-r-c)/(2*s),0<s&&1>s&&n.push(s)));for(r=q=n.length;q--;)s=n[q],c=1-s,p[0][q]=c*c*c*a+3*\n",
       "c*c*s*d+3*c*s*s*h+s*s*s*l,p[1][q]=c*c*c*b+3*c*c*s*e+3*c*s*s*f+s*s*s*k;p[0][r]=a;p[1][r]=b;p[0][r+1]=l;p[1][r+1]=k;p[0].length=p[1].length=r+2;return{min:{x:X.apply(0,p[0]),y:X.apply(0,p[1])},max:{x:W.apply(0,p[0]),y:W.apply(0,p[1])}}}function I(a,b){var e=!b&&A(a);if(!b&&e.curve)return d(e.curve);var f=G(a),l=b&&G(b),n={x:0,y:0,bx:0,by:0,X:0,Y:0,qx:null,qy:null},k={x:0,y:0,bx:0,by:0,X:0,Y:0,qx:null,qy:null},p=function(a,b,c){if(!a)return[\"C\",b.x,b.y,b.x,b.y,b.x,b.y];a[0]in{T:1,Q:1}||(b.qx=b.qy=null);\n",
       "switch(a[0]){case \"M\":b.X=a[1];b.Y=a[2];break;case \"A\":a=[\"C\"].concat(K.apply(0,[b.x,b.y].concat(a.slice(1))));break;case \"S\":\"C\"==c||\"S\"==c?(c=2*b.x-b.bx,b=2*b.y-b.by):(c=b.x,b=b.y);a=[\"C\",c,b].concat(a.slice(1));break;case \"T\":\"Q\"==c||\"T\"==c?(b.qx=2*b.x-b.qx,b.qy=2*b.y-b.qy):(b.qx=b.x,b.qy=b.y);a=[\"C\"].concat(J(b.x,b.y,b.qx,b.qy,a[1],a[2]));break;case \"Q\":b.qx=a[1];b.qy=a[2];a=[\"C\"].concat(J(b.x,b.y,a[1],a[2],a[3],a[4]));break;case \"L\":a=[\"C\"].concat(h(b.x,b.y,a[1],a[2]));break;case \"H\":a=[\"C\"].concat(h(b.x,\n",
       "b.y,a[1],b.y));break;case \"V\":a=[\"C\"].concat(h(b.x,b.y,b.x,a[1]));break;case \"Z\":a=[\"C\"].concat(h(b.x,b.y,b.X,b.Y))}return a},s=function(a,b){if(7<a[b].length){a[b].shift();for(var c=a[b];c.length;)q[b]=\"A\",l&&(u[b]=\"A\"),a.splice(b++,0,[\"C\"].concat(c.splice(0,6)));a.splice(b,1);v=W(f.length,l&&l.length||0)}},r=function(a,b,c,d,e){a&&b&&\"M\"==a[e][0]&&\"M\"!=b[e][0]&&(b.splice(e,0,[\"M\",d.x,d.y]),c.bx=0,c.by=0,c.x=a[e][1],c.y=a[e][2],v=W(f.length,l&&l.length||0))},q=[],u=[],c=\"\",t=\"\",x=0,v=W(f.length,\n",
       "l&&l.length||0);for(;x<v;x++){f[x]&&(c=f[x][0]);\"C\"!=c&&(q[x]=c,x&&(t=q[x-1]));f[x]=p(f[x],n,t);\"A\"!=q[x]&&\"C\"==c&&(q[x]=\"C\");s(f,x);l&&(l[x]&&(c=l[x][0]),\"C\"!=c&&(u[x]=c,x&&(t=u[x-1])),l[x]=p(l[x],k,t),\"A\"!=u[x]&&\"C\"==c&&(u[x]=\"C\"),s(l,x));r(f,l,n,k,x);r(l,f,k,n,x);var w=f[x],z=l&&l[x],y=w.length,U=l&&z.length;n.x=w[y-2];n.y=w[y-1];n.bx=$(w[y-4])||n.x;n.by=$(w[y-3])||n.y;k.bx=l&&($(z[U-4])||k.x);k.by=l&&($(z[U-3])||k.y);k.x=l&&z[U-2];k.y=l&&z[U-1]}l||(e.curve=d(f));return l?[f,l]:f}function P(a,\n",
       "b){for(var d=[],e=0,h=a.length;h-2*!b>e;e+=2){var f=[{x:+a[e-2],y:+a[e-1]},{x:+a[e],y:+a[e+1]},{x:+a[e+2],y:+a[e+3]},{x:+a[e+4],y:+a[e+5]}];b?e?h-4==e?f[3]={x:+a[0],y:+a[1]}:h-2==e&&(f[2]={x:+a[0],y:+a[1]},f[3]={x:+a[2],y:+a[3]}):f[0]={x:+a[h-2],y:+a[h-1]}:h-4==e?f[3]=f[2]:e||(f[0]={x:+a[e],y:+a[e+1]});d.push([\"C\",(-f[0].x+6*f[1].x+f[2].x)/6,(-f[0].y+6*f[1].y+f[2].y)/6,(f[1].x+6*f[2].x-f[3].x)/6,(f[1].y+6*f[2].y-f[3].y)/6,f[2].x,f[2].y])}return d}y=k.prototype;var Q=a.is,C=a._.clone,L=\"hasOwnProperty\",\n",
       "N=/,?([a-z]),?/gi,$=parseFloat,F=Math,S=F.PI,X=F.min,W=F.max,ma=F.pow,Z=F.abs;M=n(1);var na=n(),ba=n(0,1),V=a._unit2px;a.path=A;a.path.getTotalLength=M;a.path.getPointAtLength=na;a.path.getSubpath=function(a,b,d){if(1E-6>this.getTotalLength(a)-d)return ba(a,b).end;a=ba(a,d,1);return b?ba(a,b).end:a};y.getTotalLength=function(){if(this.node.getTotalLength)return this.node.getTotalLength()};y.getPointAtLength=function(a){return na(this.attr(\"d\"),a)};y.getSubpath=function(b,d){return a.path.getSubpath(this.attr(\"d\"),\n",
       "b,d)};a._.box=w;a.path.findDotsAtSegment=u;a.path.bezierBBox=p;a.path.isPointInsideBBox=b;a.path.isBBoxIntersect=q;a.path.intersection=function(a,b){return l(a,b)};a.path.intersectionNumber=function(a,b){return l(a,b,1)};a.path.isPointInside=function(a,d,e){var h=r(a);return b(h,d,e)&&1==l(a,[[\"M\",d,e],[\"H\",h.x2+10] ],1)%2};a.path.getBBox=r;a.path.get={path:function(a){return a.attr(\"path\")},circle:function(a){a=V(a);return x(a.cx,a.cy,a.r)},ellipse:function(a){a=V(a);return x(a.cx||0,a.cy||0,a.rx,\n",
       "a.ry)},rect:function(a){a=V(a);return s(a.x||0,a.y||0,a.width,a.height,a.rx,a.ry)},image:function(a){a=V(a);return s(a.x||0,a.y||0,a.width,a.height)},line:function(a){return\"M\"+[a.attr(\"x1\")||0,a.attr(\"y1\")||0,a.attr(\"x2\"),a.attr(\"y2\")]},polyline:function(a){return\"M\"+a.attr(\"points\")},polygon:function(a){return\"M\"+a.attr(\"points\")+\"z\"},deflt:function(a){a=a.node.getBBox();return s(a.x,a.y,a.width,a.height)}};a.path.toRelative=function(b){var e=A(b),h=String.prototype.toLowerCase;if(e.rel)return d(e.rel);\n",
       "a.is(b,\"array\")&&a.is(b&&b[0],\"array\")||(b=a.parsePathString(b));var f=[],l=0,n=0,k=0,p=0,s=0;\"M\"==b[0][0]&&(l=b[0][1],n=b[0][2],k=l,p=n,s++,f.push([\"M\",l,n]));for(var r=b.length;s<r;s++){var q=f[s]=[],x=b[s];if(x[0]!=h.call(x[0]))switch(q[0]=h.call(x[0]),q[0]){case \"a\":q[1]=x[1];q[2]=x[2];q[3]=x[3];q[4]=x[4];q[5]=x[5];q[6]=+(x[6]-l).toFixed(3);q[7]=+(x[7]-n).toFixed(3);break;case \"v\":q[1]=+(x[1]-n).toFixed(3);break;case \"m\":k=x[1],p=x[2];default:for(var c=1,t=x.length;c<t;c++)q[c]=+(x[c]-(c%2?l:\n",
       "n)).toFixed(3)}else for(f[s]=[],\"m\"==x[0]&&(k=x[1]+l,p=x[2]+n),q=0,c=x.length;q<c;q++)f[s][q]=x[q];x=f[s].length;switch(f[s][0]){case \"z\":l=k;n=p;break;case \"h\":l+=+f[s][x-1];break;case \"v\":n+=+f[s][x-1];break;default:l+=+f[s][x-2],n+=+f[s][x-1]}}f.toString=z;e.rel=d(f);return f};a.path.toAbsolute=G;a.path.toCubic=I;a.path.map=function(a,b){if(!b)return a;var d,e,h,f,l,n,k;a=I(a);h=0;for(l=a.length;h<l;h++)for(k=a[h],f=1,n=k.length;f<n;f+=2)d=b.x(k[f],k[f+1]),e=b.y(k[f],k[f+1]),k[f]=d,k[f+1]=e;return a};\n",
       "a.path.toString=z;a.path.clone=d});C.plugin(function(a,v,y,C){var A=Math.max,w=Math.min,z=function(a){this.items=[];this.bindings={};this.length=0;this.type=\"set\";if(a)for(var f=0,n=a.length;f<n;f++)a[f]&&(this[this.items.length]=this.items[this.items.length]=a[f],this.length++)};v=z.prototype;v.push=function(){for(var a,f,n=0,k=arguments.length;n<k;n++)if(a=arguments[n])f=this.items.length,this[f]=this.items[f]=a,this.length++;return this};v.pop=function(){this.length&&delete this[this.length--];\n",
       "return this.items.pop()};v.forEach=function(a,f){for(var n=0,k=this.items.length;n<k&&!1!==a.call(f,this.items[n],n);n++);return this};v.animate=function(d,f,n,u){\"function\"!=typeof n||n.length||(u=n,n=L.linear);d instanceof a._.Animation&&(u=d.callback,n=d.easing,f=n.dur,d=d.attr);var p=arguments;if(a.is(d,\"array\")&&a.is(p[p.length-1],\"array\"))var b=!0;var q,e=function(){q?this.b=q:q=this.b},l=0,r=u&&function(){l++==this.length&&u.call(this)};return this.forEach(function(a,l){k.once(\"snap.animcreated.\"+\n",
       "a.id,e);b?p[l]&&a.animate.apply(a,p[l]):a.animate(d,f,n,r)})};v.remove=function(){for(;this.length;)this.pop().remove();return this};v.bind=function(a,f,k){var u={};if(\"function\"==typeof f)this.bindings[a]=f;else{var p=k||a;this.bindings[a]=function(a){u[p]=a;f.attr(u)}}return this};v.attr=function(a){var f={},k;for(k in a)if(this.bindings[k])this.bindings[k](a[k]);else f[k]=a[k];a=0;for(k=this.items.length;a<k;a++)this.items[a].attr(f);return this};v.clear=function(){for(;this.length;)this.pop()};\n",
       "v.splice=function(a,f,k){a=0>a?A(this.length+a,0):a;f=A(0,w(this.length-a,f));var u=[],p=[],b=[],q;for(q=2;q<arguments.length;q++)b.push(arguments[q]);for(q=0;q<f;q++)p.push(this[a+q]);for(;q<this.length-a;q++)u.push(this[a+q]);var e=b.length;for(q=0;q<e+u.length;q++)this.items[a+q]=this[a+q]=q<e?b[q]:u[q-e];for(q=this.items.length=this.length-=f-e;this[q];)delete this[q++];return new z(p)};v.exclude=function(a){for(var f=0,k=this.length;f<k;f++)if(this[f]==a)return this.splice(f,1),!0;return!1};\n",
       "v.insertAfter=function(a){for(var f=this.items.length;f--;)this.items[f].insertAfter(a);return this};v.getBBox=function(){for(var a=[],f=[],k=[],u=[],p=this.items.length;p--;)if(!this.items[p].removed){var b=this.items[p].getBBox();a.push(b.x);f.push(b.y);k.push(b.x+b.width);u.push(b.y+b.height)}a=w.apply(0,a);f=w.apply(0,f);k=A.apply(0,k);u=A.apply(0,u);return{x:a,y:f,x2:k,y2:u,width:k-a,height:u-f,cx:a+(k-a)/2,cy:f+(u-f)/2}};v.clone=function(a){a=new z;for(var f=0,k=this.items.length;f<k;f++)a.push(this.items[f].clone());\n",
       "return a};v.toString=function(){return\"Snap\\u2018s set\"};v.type=\"set\";a.set=function(){var a=new z;arguments.length&&a.push.apply(a,Array.prototype.slice.call(arguments,0));return a}});C.plugin(function(a,v,y,C){function A(a){var b=a[0];switch(b.toLowerCase()){case \"t\":return[b,0,0];case \"m\":return[b,1,0,0,1,0,0];case \"r\":return 4==a.length?[b,0,a[2],a[3] ]:[b,0];case \"s\":return 5==a.length?[b,1,1,a[3],a[4] ]:3==a.length?[b,1,1]:[b,1]}}function w(b,d,f){d=q(d).replace(/\\.{3}|\\u2026/g,b);b=a.parseTransformString(b)||\n",
       "[];d=a.parseTransformString(d)||[];for(var k=Math.max(b.length,d.length),p=[],v=[],h=0,w,z,y,I;h<k;h++){y=b[h]||A(d[h]);I=d[h]||A(y);if(y[0]!=I[0]||\"r\"==y[0].toLowerCase()&&(y[2]!=I[2]||y[3]!=I[3])||\"s\"==y[0].toLowerCase()&&(y[3]!=I[3]||y[4]!=I[4])){b=a._.transform2matrix(b,f());d=a._.transform2matrix(d,f());p=[[\"m\",b.a,b.b,b.c,b.d,b.e,b.f] ];v=[[\"m\",d.a,d.b,d.c,d.d,d.e,d.f] ];break}p[h]=[];v[h]=[];w=0;for(z=Math.max(y.length,I.length);w<z;w++)w in y&&(p[h][w]=y[w]),w in I&&(v[h][w]=I[w])}return{from:u(p),\n",
       "to:u(v),f:n(p)}}function z(a){return a}function d(a){return function(b){return+b.toFixed(3)+a}}function f(b){return a.rgb(b[0],b[1],b[2])}function n(a){var b=0,d,f,k,n,h,p,q=[];d=0;for(f=a.length;d<f;d++){h=\"[\";p=['\"'+a[d][0]+'\"'];k=1;for(n=a[d].length;k<n;k++)p[k]=\"val[\"+b++ +\"]\";h+=p+\"]\";q[d]=h}return Function(\"val\",\"return Snap.path.toString.call([\"+q+\"])\")}function u(a){for(var b=[],d=0,f=a.length;d<f;d++)for(var k=1,n=a[d].length;k<n;k++)b.push(a[d][k]);return b}var p={},b=/[a-z]+$/i,q=String;\n",
       "p.stroke=p.fill=\"colour\";v.prototype.equal=function(a,b){return k(\"snap.util.equal\",this,a,b).firstDefined()};k.on(\"snap.util.equal\",function(e,k){var r,s;r=q(this.attr(e)||\"\");var x=this;if(r==+r&&k==+k)return{from:+r,to:+k,f:z};if(\"colour\"==p[e])return r=a.color(r),s=a.color(k),{from:[r.r,r.g,r.b,r.opacity],to:[s.r,s.g,s.b,s.opacity],f:f};if(\"transform\"==e||\"gradientTransform\"==e||\"patternTransform\"==e)return k instanceof a.Matrix&&(k=k.toTransformString()),a._.rgTransform.test(k)||(k=a._.svgTransform2string(k)),\n",
       "w(r,k,function(){return x.getBBox(1)});if(\"d\"==e||\"path\"==e)return r=a.path.toCubic(r,k),{from:u(r[0]),to:u(r[1]),f:n(r[0])};if(\"points\"==e)return r=q(r).split(a._.separator),s=q(k).split(a._.separator),{from:r,to:s,f:function(a){return a}};aUnit=r.match(b);s=q(k).match(b);return aUnit&&aUnit==s?{from:parseFloat(r),to:parseFloat(k),f:d(aUnit)}:{from:this.asPX(e),to:this.asPX(e,k),f:z}})});C.plugin(function(a,v,y,C){var A=v.prototype,w=\"createTouch\"in C.doc;v=\"click dblclick mousedown mousemove mouseout mouseover mouseup touchstart touchmove touchend touchcancel\".split(\" \");\n",
       "var z={mousedown:\"touchstart\",mousemove:\"touchmove\",mouseup:\"touchend\"},d=function(a,b){var d=\"y\"==a?\"scrollTop\":\"scrollLeft\",e=b&&b.node?b.node.ownerDocument:C.doc;return e[d in e.documentElement?\"documentElement\":\"body\"][d]},f=function(){this.returnValue=!1},n=function(){return this.originalEvent.preventDefault()},u=function(){this.cancelBubble=!0},p=function(){return this.originalEvent.stopPropagation()},b=function(){if(C.doc.addEventListener)return function(a,b,e,f){var k=w&&z[b]?z[b]:b,l=function(k){var l=\n",
       "d(\"y\",f),q=d(\"x\",f);if(w&&z.hasOwnProperty(b))for(var r=0,u=k.targetTouches&&k.targetTouches.length;r<u;r++)if(k.targetTouches[r].target==a||a.contains(k.targetTouches[r].target)){u=k;k=k.targetTouches[r];k.originalEvent=u;k.preventDefault=n;k.stopPropagation=p;break}return e.call(f,k,k.clientX+q,k.clientY+l)};b!==k&&a.addEventListener(b,l,!1);a.addEventListener(k,l,!1);return function(){b!==k&&a.removeEventListener(b,l,!1);a.removeEventListener(k,l,!1);return!0}};if(C.doc.attachEvent)return function(a,\n",
       "b,e,h){var k=function(a){a=a||h.node.ownerDocument.window.event;var b=d(\"y\",h),k=d(\"x\",h),k=a.clientX+k,b=a.clientY+b;a.preventDefault=a.preventDefault||f;a.stopPropagation=a.stopPropagation||u;return e.call(h,a,k,b)};a.attachEvent(\"on\"+b,k);return function(){a.detachEvent(\"on\"+b,k);return!0}}}(),q=[],e=function(a){for(var b=a.clientX,e=a.clientY,f=d(\"y\"),l=d(\"x\"),n,p=q.length;p--;){n=q[p];if(w)for(var r=a.touches&&a.touches.length,u;r--;){if(u=a.touches[r],u.identifier==n.el._drag.id||n.el.node.contains(u.target)){b=\n",
       "u.clientX;e=u.clientY;(a.originalEvent?a.originalEvent:a).preventDefault();break}}else a.preventDefault();b+=l;e+=f;k(\"snap.drag.move.\"+n.el.id,n.move_scope||n.el,b-n.el._drag.x,e-n.el._drag.y,b,e,a)}},l=function(b){a.unmousemove(e).unmouseup(l);for(var d=q.length,f;d--;)f=q[d],f.el._drag={},k(\"snap.drag.end.\"+f.el.id,f.end_scope||f.start_scope||f.move_scope||f.el,b);q=[]};for(y=v.length;y--;)(function(d){a[d]=A[d]=function(e,f){a.is(e,\"function\")&&(this.events=this.events||[],this.events.push({name:d,\n",
       "f:e,unbind:b(this.node||document,d,e,f||this)}));return this};a[\"un\"+d]=A[\"un\"+d]=function(a){for(var b=this.events||[],e=b.length;e--;)if(b[e].name==d&&(b[e].f==a||!a)){b[e].unbind();b.splice(e,1);!b.length&&delete this.events;break}return this}})(v[y]);A.hover=function(a,b,d,e){return this.mouseover(a,d).mouseout(b,e||d)};A.unhover=function(a,b){return this.unmouseover(a).unmouseout(b)};var r=[];A.drag=function(b,d,f,h,n,p){function u(r,v,w){(r.originalEvent||r).preventDefault();this._drag.x=v;\n",
       "this._drag.y=w;this._drag.id=r.identifier;!q.length&&a.mousemove(e).mouseup(l);q.push({el:this,move_scope:h,start_scope:n,end_scope:p});d&&k.on(\"snap.drag.start.\"+this.id,d);b&&k.on(\"snap.drag.move.\"+this.id,b);f&&k.on(\"snap.drag.end.\"+this.id,f);k(\"snap.drag.start.\"+this.id,n||h||this,v,w,r)}if(!arguments.length){var v;return this.drag(function(a,b){this.attr({transform:v+(v?\"T\":\"t\")+[a,b]})},function(){v=this.transform().local})}this._drag={};r.push({el:this,start:u});this.mousedown(u);return this};\n",
       "A.undrag=function(){for(var b=r.length;b--;)r[b].el==this&&(this.unmousedown(r[b].start),r.splice(b,1),k.unbind(\"snap.drag.*.\"+this.id));!r.length&&a.unmousemove(e).unmouseup(l);return this}});C.plugin(function(a,v,y,C){y=y.prototype;var A=/^\\s*url\\((.+)\\)/,w=String,z=a._.$;a.filter={};y.filter=function(d){var f=this;\"svg\"!=f.type&&(f=f.paper);d=a.parse(w(d));var k=a._.id(),u=z(\"filter\");z(u,{id:k,filterUnits:\"userSpaceOnUse\"});u.appendChild(d.node);f.defs.appendChild(u);return new v(u)};k.on(\"snap.util.getattr.filter\",\n",
       "function(){k.stop();var d=z(this.node,\"filter\");if(d)return(d=w(d).match(A))&&a.select(d[1])});k.on(\"snap.util.attr.filter\",function(d){if(d instanceof v&&\"filter\"==d.type){k.stop();var f=d.node.id;f||(z(d.node,{id:d.id}),f=d.id);z(this.node,{filter:a.url(f)})}d&&\"none\"!=d||(k.stop(),this.node.removeAttribute(\"filter\"))});a.filter.blur=function(d,f){null==d&&(d=2);return a.format('<feGaussianBlur stdDeviation=\"{def}\"/>',{def:null==f?d:[d,f]})};a.filter.blur.toString=function(){return this()};a.filter.shadow=\n",
       "function(d,f,k,u,p){\"string\"==typeof k&&(p=u=k,k=4);\"string\"!=typeof u&&(p=u,u=\"#000\");null==k&&(k=4);null==p&&(p=1);null==d&&(d=0,f=2);null==f&&(f=d);u=a.color(u||\"#000\");return a.format('<feGaussianBlur in=\"SourceAlpha\" stdDeviation=\"{blur}\"/><feOffset dx=\"{dx}\" dy=\"{dy}\" result=\"offsetblur\"/><feFlood flood-color=\"{color}\"/><feComposite in2=\"offsetblur\" operator=\"in\"/><feComponentTransfer><feFuncA type=\"linear\" slope=\"{opacity}\"/></feComponentTransfer><feMerge><feMergeNode/><feMergeNode in=\"SourceGraphic\"/></feMerge>',\n",
       "{color:u,dx:d,dy:f,blur:k,opacity:p})};a.filter.shadow.toString=function(){return this()};a.filter.grayscale=function(d){null==d&&(d=1);return a.format('<feColorMatrix type=\"matrix\" values=\"{a} {b} {c} 0 0 {d} {e} {f} 0 0 {g} {b} {h} 0 0 0 0 0 1 0\"/>',{a:0.2126+0.7874*(1-d),b:0.7152-0.7152*(1-d),c:0.0722-0.0722*(1-d),d:0.2126-0.2126*(1-d),e:0.7152+0.2848*(1-d),f:0.0722-0.0722*(1-d),g:0.2126-0.2126*(1-d),h:0.0722+0.9278*(1-d)})};a.filter.grayscale.toString=function(){return this()};a.filter.sepia=\n",
       "function(d){null==d&&(d=1);return a.format('<feColorMatrix type=\"matrix\" values=\"{a} {b} {c} 0 0 {d} {e} {f} 0 0 {g} {h} {i} 0 0 0 0 0 1 0\"/>',{a:0.393+0.607*(1-d),b:0.769-0.769*(1-d),c:0.189-0.189*(1-d),d:0.349-0.349*(1-d),e:0.686+0.314*(1-d),f:0.168-0.168*(1-d),g:0.272-0.272*(1-d),h:0.534-0.534*(1-d),i:0.131+0.869*(1-d)})};a.filter.sepia.toString=function(){return this()};a.filter.saturate=function(d){null==d&&(d=1);return a.format('<feColorMatrix type=\"saturate\" values=\"{amount}\"/>',{amount:1-\n",
       "d})};a.filter.saturate.toString=function(){return this()};a.filter.hueRotate=function(d){return a.format('<feColorMatrix type=\"hueRotate\" values=\"{angle}\"/>',{angle:d||0})};a.filter.hueRotate.toString=function(){return this()};a.filter.invert=function(d){null==d&&(d=1);return a.format('<feComponentTransfer><feFuncR type=\"table\" tableValues=\"{amount} {amount2}\"/><feFuncG type=\"table\" tableValues=\"{amount} {amount2}\"/><feFuncB type=\"table\" tableValues=\"{amount} {amount2}\"/></feComponentTransfer>',{amount:d,\n",
       "amount2:1-d})};a.filter.invert.toString=function(){return this()};a.filter.brightness=function(d){null==d&&(d=1);return a.format('<feComponentTransfer><feFuncR type=\"linear\" slope=\"{amount}\"/><feFuncG type=\"linear\" slope=\"{amount}\"/><feFuncB type=\"linear\" slope=\"{amount}\"/></feComponentTransfer>',{amount:d})};a.filter.brightness.toString=function(){return this()};a.filter.contrast=function(d){null==d&&(d=1);return a.format('<feComponentTransfer><feFuncR type=\"linear\" slope=\"{amount}\" intercept=\"{amount2}\"/><feFuncG type=\"linear\" slope=\"{amount}\" intercept=\"{amount2}\"/><feFuncB type=\"linear\" slope=\"{amount}\" intercept=\"{amount2}\"/></feComponentTransfer>',\n",
       "{amount:d,amount2:0.5-d/2})};a.filter.contrast.toString=function(){return this()}});return C});\n",
       "\n",
       "]]> </script>\n",
       "<script> <![CDATA[\n",
       "\n",
       "(function (glob, factory) {\n",
       "    // AMD support\n",
       "    if (typeof define === \"function\" && define.amd) {\n",
       "        // Define as an anonymous module\n",
       "        define(\"Gadfly\", [\"Snap.svg\"], function (Snap) {\n",
       "            return factory(Snap);\n",
       "        });\n",
       "    } else {\n",
       "        // Browser globals (glob is window)\n",
       "        // Snap adds itself to window\n",
       "        glob.Gadfly = factory(glob.Snap);\n",
       "    }\n",
       "}(this, function (Snap) {\n",
       "\n",
       "var Gadfly = {};\n",
       "\n",
       "// Get an x/y coordinate value in pixels\n",
       "var xPX = function(fig, x) {\n",
       "    var client_box = fig.node.getBoundingClientRect();\n",
       "    return x * fig.node.viewBox.baseVal.width / client_box.width;\n",
       "};\n",
       "\n",
       "var yPX = function(fig, y) {\n",
       "    var client_box = fig.node.getBoundingClientRect();\n",
       "    return y * fig.node.viewBox.baseVal.height / client_box.height;\n",
       "};\n",
       "\n",
       "\n",
       "Snap.plugin(function (Snap, Element, Paper, global) {\n",
       "    // Traverse upwards from a snap element to find and return the first\n",
       "    // note with the \"plotroot\" class.\n",
       "    Element.prototype.plotroot = function () {\n",
       "        var element = this;\n",
       "        while (!element.hasClass(\"plotroot\") && element.parent() != null) {\n",
       "            element = element.parent();\n",
       "        }\n",
       "        return element;\n",
       "    };\n",
       "\n",
       "    Element.prototype.svgroot = function () {\n",
       "        var element = this;\n",
       "        while (element.node.nodeName != \"svg\" && element.parent() != null) {\n",
       "            element = element.parent();\n",
       "        }\n",
       "        return element;\n",
       "    };\n",
       "\n",
       "    Element.prototype.plotbounds = function () {\n",
       "        var root = this.plotroot()\n",
       "        var bbox = root.select(\".guide.background\").node.getBBox();\n",
       "        return {\n",
       "            x0: bbox.x,\n",
       "            x1: bbox.x + bbox.width,\n",
       "            y0: bbox.y,\n",
       "            y1: bbox.y + bbox.height\n",
       "        };\n",
       "    };\n",
       "\n",
       "    Element.prototype.plotcenter = function () {\n",
       "        var root = this.plotroot()\n",
       "        var bbox = root.select(\".guide.background\").node.getBBox();\n",
       "        return {\n",
       "            x: bbox.x + bbox.width / 2,\n",
       "            y: bbox.y + bbox.height / 2\n",
       "        };\n",
       "    };\n",
       "\n",
       "    // Emulate IE style mouseenter/mouseleave events, since Microsoft always\n",
       "    // does everything right.\n",
       "    // See: http://www.dynamic-tools.net/toolbox/isMouseLeaveOrEnter/\n",
       "    var events = [\"mouseenter\", \"mouseleave\"];\n",
       "\n",
       "    for (i in events) {\n",
       "        (function (event_name) {\n",
       "            var event_name = events[i];\n",
       "            Element.prototype[event_name] = function (fn, scope) {\n",
       "                if (Snap.is(fn, \"function\")) {\n",
       "                    var fn2 = function (event) {\n",
       "                        if (event.type != \"mouseover\" && event.type != \"mouseout\") {\n",
       "                            return;\n",
       "                        }\n",
       "\n",
       "                        var reltg = event.relatedTarget ? event.relatedTarget :\n",
       "                            event.type == \"mouseout\" ? event.toElement : event.fromElement;\n",
       "                        while (reltg && reltg != this.node) reltg = reltg.parentNode;\n",
       "\n",
       "                        if (reltg != this.node) {\n",
       "                            return fn.apply(this, event);\n",
       "                        }\n",
       "                    };\n",
       "\n",
       "                    if (event_name == \"mouseenter\") {\n",
       "                        this.mouseover(fn2, scope);\n",
       "                    } else {\n",
       "                        this.mouseout(fn2, scope);\n",
       "                    }\n",
       "                }\n",
       "                return this;\n",
       "            };\n",
       "        })(events[i]);\n",
       "    }\n",
       "\n",
       "\n",
       "    Element.prototype.mousewheel = function (fn, scope) {\n",
       "        if (Snap.is(fn, \"function\")) {\n",
       "            var el = this;\n",
       "            var fn2 = function (event) {\n",
       "                fn.apply(el, [event]);\n",
       "            };\n",
       "        }\n",
       "\n",
       "        this.node.addEventListener(\n",
       "            /Firefox/i.test(navigator.userAgent) ? \"DOMMouseScroll\" : \"mousewheel\",\n",
       "            fn2);\n",
       "\n",
       "        return this;\n",
       "    };\n",
       "\n",
       "\n",
       "    // Snap's attr function can be too slow for things like panning/zooming.\n",
       "    // This is a function to directly update element attributes without going\n",
       "    // through eve.\n",
       "    Element.prototype.attribute = function(key, val) {\n",
       "        if (val === undefined) {\n",
       "            return this.node.getAttribute(key);\n",
       "        } else {\n",
       "            this.node.setAttribute(key, val);\n",
       "            return this;\n",
       "        }\n",
       "    };\n",
       "\n",
       "    Element.prototype.init_gadfly = function() {\n",
       "        this.mouseenter(Gadfly.plot_mouseover)\n",
       "            .mouseleave(Gadfly.plot_mouseout)\n",
       "            .dblclick(Gadfly.plot_dblclick)\n",
       "            .mousewheel(Gadfly.guide_background_scroll)\n",
       "            .drag(Gadfly.guide_background_drag_onmove,\n",
       "                  Gadfly.guide_background_drag_onstart,\n",
       "                  Gadfly.guide_background_drag_onend);\n",
       "        this.mouseenter(function (event) {\n",
       "            init_pan_zoom(this.plotroot());\n",
       "        });\n",
       "        return this;\n",
       "    };\n",
       "});\n",
       "\n",
       "\n",
       "// When the plot is moused over, emphasize the grid lines.\n",
       "Gadfly.plot_mouseover = function(event) {\n",
       "    var root = this.plotroot();\n",
       "\n",
       "    var keyboard_zoom = function(event) {\n",
       "        if (event.which == 187) { // plus\n",
       "            increase_zoom_by_position(root, 0.1, true);\n",
       "        } else if (event.which == 189) { // minus\n",
       "            increase_zoom_by_position(root, -0.1, true);\n",
       "        }\n",
       "    };\n",
       "    root.data(\"keyboard_zoom\", keyboard_zoom);\n",
       "    window.addEventListener(\"keyup\", keyboard_zoom);\n",
       "\n",
       "    var xgridlines = root.select(\".xgridlines\"),\n",
       "        ygridlines = root.select(\".ygridlines\");\n",
       "\n",
       "    xgridlines.data(\"unfocused_strokedash\",\n",
       "                    xgridlines.attribute(\"stroke-dasharray\").replace(/(\\d)(,|$)/g, \"$1mm$2\"));\n",
       "    ygridlines.data(\"unfocused_strokedash\",\n",
       "                    ygridlines.attribute(\"stroke-dasharray\").replace(/(\\d)(,|$)/g, \"$1mm$2\"));\n",
       "\n",
       "    // emphasize grid lines\n",
       "    var destcolor = root.data(\"focused_xgrid_color\");\n",
       "    xgridlines.attribute(\"stroke-dasharray\", \"none\")\n",
       "              .selectAll(\"path\")\n",
       "              .animate({stroke: destcolor}, 250);\n",
       "\n",
       "    destcolor = root.data(\"focused_ygrid_color\");\n",
       "    ygridlines.attribute(\"stroke-dasharray\", \"none\")\n",
       "              .selectAll(\"path\")\n",
       "              .animate({stroke: destcolor}, 250);\n",
       "\n",
       "    // reveal zoom slider\n",
       "    root.select(\".zoomslider\")\n",
       "        .animate({opacity: 1.0}, 250);\n",
       "};\n",
       "\n",
       "// Reset pan and zoom on double click\n",
       "Gadfly.plot_dblclick = function(event) {\n",
       "  set_plot_pan_zoom(this.plotroot(), 0.0, 0.0, 1.0);\n",
       "};\n",
       "\n",
       "// Unemphasize grid lines on mouse out.\n",
       "Gadfly.plot_mouseout = function(event) {\n",
       "    var root = this.plotroot();\n",
       "\n",
       "    window.removeEventListener(\"keyup\", root.data(\"keyboard_zoom\"));\n",
       "    root.data(\"keyboard_zoom\", undefined);\n",
       "\n",
       "    var xgridlines = root.select(\".xgridlines\"),\n",
       "        ygridlines = root.select(\".ygridlines\");\n",
       "\n",
       "    var destcolor = root.data(\"unfocused_xgrid_color\");\n",
       "\n",
       "    xgridlines.attribute(\"stroke-dasharray\", xgridlines.data(\"unfocused_strokedash\"))\n",
       "              .selectAll(\"path\")\n",
       "              .animate({stroke: destcolor}, 250);\n",
       "\n",
       "    destcolor = root.data(\"unfocused_ygrid_color\");\n",
       "    ygridlines.attribute(\"stroke-dasharray\", ygridlines.data(\"unfocused_strokedash\"))\n",
       "              .selectAll(\"path\")\n",
       "              .animate({stroke: destcolor}, 250);\n",
       "\n",
       "    // hide zoom slider\n",
       "    root.select(\".zoomslider\")\n",
       "        .animate({opacity: 0.0}, 250);\n",
       "};\n",
       "\n",
       "\n",
       "var set_geometry_transform = function(root, tx, ty, scale) {\n",
       "    var xscalable = root.hasClass(\"xscalable\"),\n",
       "        yscalable = root.hasClass(\"yscalable\");\n",
       "\n",
       "    var old_scale = root.data(\"scale\");\n",
       "\n",
       "    var xscale = xscalable ? scale : 1.0,\n",
       "        yscale = yscalable ? scale : 1.0;\n",
       "\n",
       "    tx = xscalable ? tx : 0.0;\n",
       "    ty = yscalable ? ty : 0.0;\n",
       "\n",
       "    var t = new Snap.Matrix().translate(tx, ty).scale(xscale, yscale);\n",
       "\n",
       "    root.selectAll(\".geometry, image\")\n",
       "        .forEach(function (element, i) {\n",
       "            element.transform(t);\n",
       "        });\n",
       "\n",
       "    bounds = root.plotbounds();\n",
       "\n",
       "    if (yscalable) {\n",
       "        var xfixed_t = new Snap.Matrix().translate(0, ty).scale(1.0, yscale);\n",
       "        root.selectAll(\".xfixed\")\n",
       "            .forEach(function (element, i) {\n",
       "                element.transform(xfixed_t);\n",
       "            });\n",
       "\n",
       "        root.select(\".ylabels\")\n",
       "            .transform(xfixed_t)\n",
       "            .selectAll(\"text\")\n",
       "            .forEach(function (element, i) {\n",
       "                if (element.attribute(\"gadfly:inscale\") == \"true\") {\n",
       "                    var cx = element.asPX(\"x\"),\n",
       "                        cy = element.asPX(\"y\");\n",
       "                    var st = element.data(\"static_transform\");\n",
       "                    unscale_t = new Snap.Matrix();\n",
       "                    unscale_t.scale(1, 1/scale, cx, cy).add(st);\n",
       "                    element.transform(unscale_t);\n",
       "\n",
       "                    var y = cy * scale + ty;\n",
       "                    element.attr(\"visibility\",\n",
       "                        bounds.y0 <= y && y <= bounds.y1 ? \"visible\" : \"hidden\");\n",
       "                }\n",
       "            });\n",
       "    }\n",
       "\n",
       "    if (xscalable) {\n",
       "        var yfixed_t = new Snap.Matrix().translate(tx, 0).scale(xscale, 1.0);\n",
       "        var xtrans = new Snap.Matrix().translate(tx, 0);\n",
       "        root.selectAll(\".yfixed\")\n",
       "            .forEach(function (element, i) {\n",
       "                element.transform(yfixed_t);\n",
       "            });\n",
       "\n",
       "        root.select(\".xlabels\")\n",
       "            .transform(yfixed_t)\n",
       "            .selectAll(\"text\")\n",
       "            .forEach(function (element, i) {\n",
       "                if (element.attribute(\"gadfly:inscale\") == \"true\") {\n",
       "                    var cx = element.asPX(\"x\"),\n",
       "                        cy = element.asPX(\"y\");\n",
       "                    var st = element.data(\"static_transform\");\n",
       "                    unscale_t = new Snap.Matrix();\n",
       "                    unscale_t.scale(1/scale, 1, cx, cy).add(st);\n",
       "\n",
       "                    element.transform(unscale_t);\n",
       "\n",
       "                    var x = cx * scale + tx;\n",
       "                    element.attr(\"visibility\",\n",
       "                        bounds.x0 <= x && x <= bounds.x1 ? \"visible\" : \"hidden\");\n",
       "                    }\n",
       "            });\n",
       "    }\n",
       "\n",
       "    // we must unscale anything that is scale invariance: widths, raiduses, etc.\n",
       "    var size_attribs = [\"font-size\"];\n",
       "    var unscaled_selection = \".geometry, .geometry *\";\n",
       "    if (xscalable) {\n",
       "        size_attribs.push(\"rx\");\n",
       "        unscaled_selection += \", .xgridlines\";\n",
       "    }\n",
       "    if (yscalable) {\n",
       "        size_attribs.push(\"ry\");\n",
       "        unscaled_selection += \", .ygridlines\";\n",
       "    }\n",
       "\n",
       "    root.selectAll(unscaled_selection)\n",
       "        .forEach(function (element, i) {\n",
       "            // circle need special help\n",
       "            if (element.node.nodeName == \"circle\") {\n",
       "                var cx = element.attribute(\"cx\"),\n",
       "                    cy = element.attribute(\"cy\");\n",
       "                unscale_t = new Snap.Matrix().scale(1/xscale, 1/yscale,\n",
       "                                                        cx, cy);\n",
       "                element.transform(unscale_t);\n",
       "                return;\n",
       "            }\n",
       "\n",
       "            for (i in size_attribs) {\n",
       "                var key = size_attribs[i];\n",
       "                var val = parseFloat(element.attribute(key));\n",
       "                if (val !== undefined && val != 0 && !isNaN(val)) {\n",
       "                    element.attribute(key, val * old_scale / scale);\n",
       "                }\n",
       "            }\n",
       "        });\n",
       "};\n",
       "\n",
       "\n",
       "// Find the most appropriate tick scale and update label visibility.\n",
       "var update_tickscale = function(root, scale, axis) {\n",
       "    if (!root.hasClass(axis + \"scalable\")) return;\n",
       "\n",
       "    var tickscales = root.data(axis + \"tickscales\");\n",
       "    var best_tickscale = 1.0;\n",
       "    var best_tickscale_dist = Infinity;\n",
       "    for (tickscale in tickscales) {\n",
       "        var dist = Math.abs(Math.log(tickscale) - Math.log(scale));\n",
       "        if (dist < best_tickscale_dist) {\n",
       "            best_tickscale_dist = dist;\n",
       "            best_tickscale = tickscale;\n",
       "        }\n",
       "    }\n",
       "\n",
       "    if (best_tickscale != root.data(axis + \"tickscale\")) {\n",
       "        root.data(axis + \"tickscale\", best_tickscale);\n",
       "        var mark_inscale_gridlines = function (element, i) {\n",
       "            var inscale = element.attr(\"gadfly:scale\") == best_tickscale;\n",
       "            element.attribute(\"gadfly:inscale\", inscale);\n",
       "            element.attr(\"visibility\", inscale ? \"visible\" : \"hidden\");\n",
       "        };\n",
       "\n",
       "        var mark_inscale_labels = function (element, i) {\n",
       "            var inscale = element.attr(\"gadfly:scale\") == best_tickscale;\n",
       "            element.attribute(\"gadfly:inscale\", inscale);\n",
       "            element.attr(\"visibility\", inscale ? \"visible\" : \"hidden\");\n",
       "        };\n",
       "\n",
       "        root.select(\".\" + axis + \"gridlines\").selectAll(\"path\").forEach(mark_inscale_gridlines);\n",
       "        root.select(\".\" + axis + \"labels\").selectAll(\"text\").forEach(mark_inscale_labels);\n",
       "    }\n",
       "};\n",
       "\n",
       "\n",
       "var set_plot_pan_zoom = function(root, tx, ty, scale) {\n",
       "    var old_scale = root.data(\"scale\");\n",
       "    var bounds = root.plotbounds();\n",
       "\n",
       "    var width = bounds.x1 - bounds.x0,\n",
       "        height = bounds.y1 - bounds.y0;\n",
       "\n",
       "    // compute the viewport derived from tx, ty, and scale\n",
       "    var x_min = -width * scale - (scale * width - width),\n",
       "        x_max = width * scale,\n",
       "        y_min = -height * scale - (scale * height - height),\n",
       "        y_max = height * scale;\n",
       "\n",
       "    var x0 = bounds.x0 - scale * bounds.x0,\n",
       "        y0 = bounds.y0 - scale * bounds.y0;\n",
       "\n",
       "    var tx = Math.max(Math.min(tx - x0, x_max), x_min),\n",
       "        ty = Math.max(Math.min(ty - y0, y_max), y_min);\n",
       "\n",
       "    tx += x0;\n",
       "    ty += y0;\n",
       "\n",
       "    // when the scale change, we may need to alter which set of\n",
       "    // ticks is being displayed\n",
       "    if (scale != old_scale) {\n",
       "        update_tickscale(root, scale, \"x\");\n",
       "        update_tickscale(root, scale, \"y\");\n",
       "    }\n",
       "\n",
       "    set_geometry_transform(root, tx, ty, scale);\n",
       "\n",
       "    root.data(\"scale\", scale);\n",
       "    root.data(\"tx\", tx);\n",
       "    root.data(\"ty\", ty);\n",
       "};\n",
       "\n",
       "\n",
       "var scale_centered_translation = function(root, scale) {\n",
       "    var bounds = root.plotbounds();\n",
       "\n",
       "    var width = bounds.x1 - bounds.x0,\n",
       "        height = bounds.y1 - bounds.y0;\n",
       "\n",
       "    var tx0 = root.data(\"tx\"),\n",
       "        ty0 = root.data(\"ty\");\n",
       "\n",
       "    var scale0 = root.data(\"scale\");\n",
       "\n",
       "    // how off from center the current view is\n",
       "    var xoff = tx0 - (bounds.x0 * (1 - scale0) + (width * (1 - scale0)) / 2),\n",
       "        yoff = ty0 - (bounds.y0 * (1 - scale0) + (height * (1 - scale0)) / 2);\n",
       "\n",
       "    // rescale offsets\n",
       "    xoff = xoff * scale / scale0;\n",
       "    yoff = yoff * scale / scale0;\n",
       "\n",
       "    // adjust for the panel position being scaled\n",
       "    var x_edge_adjust = bounds.x0 * (1 - scale),\n",
       "        y_edge_adjust = bounds.y0 * (1 - scale);\n",
       "\n",
       "    return {\n",
       "        x: xoff + x_edge_adjust + (width - width * scale) / 2,\n",
       "        y: yoff + y_edge_adjust + (height - height * scale) / 2\n",
       "    };\n",
       "};\n",
       "\n",
       "\n",
       "// Initialize data for panning zooming if it isn't already.\n",
       "var init_pan_zoom = function(root) {\n",
       "    if (root.data(\"zoompan-ready\")) {\n",
       "        return;\n",
       "    }\n",
       "\n",
       "    // The non-scaling-stroke trick. Rather than try to correct for the\n",
       "    // stroke-width when zooming, we force it to a fixed value.\n",
       "    var px_per_mm = root.node.getCTM().a;\n",
       "\n",
       "    // Drag events report deltas in pixels, which we'd like to convert to\n",
       "    // millimeters.\n",
       "    root.data(\"px_per_mm\", px_per_mm);\n",
       "\n",
       "    root.selectAll(\"path\")\n",
       "        .forEach(function (element, i) {\n",
       "        sw = element.asPX(\"stroke-width\") * px_per_mm;\n",
       "        if (sw > 0) {\n",
       "            element.attribute(\"stroke-width\", sw);\n",
       "            element.attribute(\"vector-effect\", \"non-scaling-stroke\");\n",
       "        }\n",
       "    });\n",
       "\n",
       "    // Store ticks labels original tranformation\n",
       "    root.selectAll(\".xlabels > text, .ylabels > text\")\n",
       "        .forEach(function (element, i) {\n",
       "            var lm = element.transform().localMatrix;\n",
       "            element.data(\"static_transform\",\n",
       "                new Snap.Matrix(lm.a, lm.b, lm.c, lm.d, lm.e, lm.f));\n",
       "        });\n",
       "\n",
       "    var xgridlines = root.select(\".xgridlines\");\n",
       "    var ygridlines = root.select(\".ygridlines\");\n",
       "    var xlabels = root.select(\".xlabels\");\n",
       "    var ylabels = root.select(\".ylabels\");\n",
       "\n",
       "    if (root.data(\"tx\") === undefined) root.data(\"tx\", 0);\n",
       "    if (root.data(\"ty\") === undefined) root.data(\"ty\", 0);\n",
       "    if (root.data(\"scale\") === undefined) root.data(\"scale\", 1.0);\n",
       "    if (root.data(\"xtickscales\") === undefined) {\n",
       "\n",
       "        // index all the tick scales that are listed\n",
       "        var xtickscales = {};\n",
       "        var ytickscales = {};\n",
       "        var add_x_tick_scales = function (element, i) {\n",
       "            xtickscales[element.attribute(\"gadfly:scale\")] = true;\n",
       "        };\n",
       "        var add_y_tick_scales = function (element, i) {\n",
       "            ytickscales[element.attribute(\"gadfly:scale\")] = true;\n",
       "        };\n",
       "\n",
       "        if (xgridlines) xgridlines.selectAll(\"path\").forEach(add_x_tick_scales);\n",
       "        if (ygridlines) ygridlines.selectAll(\"path\").forEach(add_y_tick_scales);\n",
       "        if (xlabels) xlabels.selectAll(\"text\").forEach(add_x_tick_scales);\n",
       "        if (ylabels) ylabels.selectAll(\"text\").forEach(add_y_tick_scales);\n",
       "\n",
       "        root.data(\"xtickscales\", xtickscales);\n",
       "        root.data(\"ytickscales\", ytickscales);\n",
       "        root.data(\"xtickscale\", 1.0);\n",
       "    }\n",
       "\n",
       "    var min_scale = 1.0, max_scale = 1.0;\n",
       "    for (scale in xtickscales) {\n",
       "        min_scale = Math.min(min_scale, scale);\n",
       "        max_scale = Math.max(max_scale, scale);\n",
       "    }\n",
       "    for (scale in ytickscales) {\n",
       "        min_scale = Math.min(min_scale, scale);\n",
       "        max_scale = Math.max(max_scale, scale);\n",
       "    }\n",
       "    root.data(\"min_scale\", min_scale);\n",
       "    root.data(\"max_scale\", max_scale);\n",
       "\n",
       "    // store the original positions of labels\n",
       "    if (xlabels) {\n",
       "        xlabels.selectAll(\"text\")\n",
       "               .forEach(function (element, i) {\n",
       "                   element.data(\"x\", element.asPX(\"x\"));\n",
       "               });\n",
       "    }\n",
       "\n",
       "    if (ylabels) {\n",
       "        ylabels.selectAll(\"text\")\n",
       "               .forEach(function (element, i) {\n",
       "                   element.data(\"y\", element.asPX(\"y\"));\n",
       "               });\n",
       "    }\n",
       "\n",
       "    // mark grid lines and ticks as in or out of scale.\n",
       "    var mark_inscale = function (element, i) {\n",
       "        element.attribute(\"gadfly:inscale\", element.attribute(\"gadfly:scale\") == 1.0);\n",
       "    };\n",
       "\n",
       "    if (xgridlines) xgridlines.selectAll(\"path\").forEach(mark_inscale);\n",
       "    if (ygridlines) ygridlines.selectAll(\"path\").forEach(mark_inscale);\n",
       "    if (xlabels) xlabels.selectAll(\"text\").forEach(mark_inscale);\n",
       "    if (ylabels) ylabels.selectAll(\"text\").forEach(mark_inscale);\n",
       "\n",
       "    // figure out the upper ond lower bounds on panning using the maximum\n",
       "    // and minum grid lines\n",
       "    var bounds = root.plotbounds();\n",
       "    var pan_bounds = {\n",
       "        x0: 0.0,\n",
       "        y0: 0.0,\n",
       "        x1: 0.0,\n",
       "        y1: 0.0\n",
       "    };\n",
       "\n",
       "    if (xgridlines) {\n",
       "        xgridlines\n",
       "            .selectAll(\"path\")\n",
       "            .forEach(function (element, i) {\n",
       "                if (element.attribute(\"gadfly:inscale\") == \"true\") {\n",
       "                    var bbox = element.node.getBBox();\n",
       "                    if (bounds.x1 - bbox.x < pan_bounds.x0) {\n",
       "                        pan_bounds.x0 = bounds.x1 - bbox.x;\n",
       "                    }\n",
       "                    if (bounds.x0 - bbox.x > pan_bounds.x1) {\n",
       "                        pan_bounds.x1 = bounds.x0 - bbox.x;\n",
       "                    }\n",
       "                    element.attr(\"visibility\", \"visible\");\n",
       "                }\n",
       "            });\n",
       "    }\n",
       "\n",
       "    if (ygridlines) {\n",
       "        ygridlines\n",
       "            .selectAll(\"path\")\n",
       "            .forEach(function (element, i) {\n",
       "                if (element.attribute(\"gadfly:inscale\") == \"true\") {\n",
       "                    var bbox = element.node.getBBox();\n",
       "                    if (bounds.y1 - bbox.y < pan_bounds.y0) {\n",
       "                        pan_bounds.y0 = bounds.y1 - bbox.y;\n",
       "                    }\n",
       "                    if (bounds.y0 - bbox.y > pan_bounds.y1) {\n",
       "                        pan_bounds.y1 = bounds.y0 - bbox.y;\n",
       "                    }\n",
       "                    element.attr(\"visibility\", \"visible\");\n",
       "                }\n",
       "            });\n",
       "    }\n",
       "\n",
       "    // nudge these values a little\n",
       "    pan_bounds.x0 -= 5;\n",
       "    pan_bounds.x1 += 5;\n",
       "    pan_bounds.y0 -= 5;\n",
       "    pan_bounds.y1 += 5;\n",
       "    root.data(\"pan_bounds\", pan_bounds);\n",
       "\n",
       "    root.data(\"zoompan-ready\", true)\n",
       "};\n",
       "\n",
       "\n",
       "// drag actions, i.e. zooming and panning\n",
       "var pan_action = {\n",
       "    start: function(root, x, y, event) {\n",
       "        root.data(\"dx\", 0);\n",
       "        root.data(\"dy\", 0);\n",
       "        root.data(\"tx0\", root.data(\"tx\"));\n",
       "        root.data(\"ty0\", root.data(\"ty\"));\n",
       "    },\n",
       "    update: function(root, dx, dy, x, y, event) {\n",
       "        var px_per_mm = root.data(\"px_per_mm\");\n",
       "        dx /= px_per_mm;\n",
       "        dy /= px_per_mm;\n",
       "\n",
       "        var tx0 = root.data(\"tx\"),\n",
       "            ty0 = root.data(\"ty\");\n",
       "\n",
       "        var dx0 = root.data(\"dx\"),\n",
       "            dy0 = root.data(\"dy\");\n",
       "\n",
       "        root.data(\"dx\", dx);\n",
       "        root.data(\"dy\", dy);\n",
       "\n",
       "        dx = dx - dx0;\n",
       "        dy = dy - dy0;\n",
       "\n",
       "        var tx = tx0 + dx,\n",
       "            ty = ty0 + dy;\n",
       "\n",
       "        set_plot_pan_zoom(root, tx, ty, root.data(\"scale\"));\n",
       "    },\n",
       "    end: function(root, event) {\n",
       "\n",
       "    },\n",
       "    cancel: function(root) {\n",
       "        set_plot_pan_zoom(root, root.data(\"tx0\"), root.data(\"ty0\"), root.data(\"scale\"));\n",
       "    }\n",
       "};\n",
       "\n",
       "var zoom_box;\n",
       "var zoom_action = {\n",
       "    start: function(root, x, y, event) {\n",
       "        var bounds = root.plotbounds();\n",
       "        var width = bounds.x1 - bounds.x0,\n",
       "            height = bounds.y1 - bounds.y0;\n",
       "        var ratio = width / height;\n",
       "        var xscalable = root.hasClass(\"xscalable\"),\n",
       "            yscalable = root.hasClass(\"yscalable\");\n",
       "        var px_per_mm = root.data(\"px_per_mm\");\n",
       "        x = xscalable ? x / px_per_mm : bounds.x0;\n",
       "        y = yscalable ? y / px_per_mm : bounds.y0;\n",
       "        var w = xscalable ? 0 : width;\n",
       "        var h = yscalable ? 0 : height;\n",
       "        zoom_box = root.rect(x, y, w, h).attr({\n",
       "            \"fill\": \"#000\",\n",
       "            \"opacity\": 0.25\n",
       "        });\n",
       "        zoom_box.data(\"ratio\", ratio);\n",
       "    },\n",
       "    update: function(root, dx, dy, x, y, event) {\n",
       "        var xscalable = root.hasClass(\"xscalable\"),\n",
       "            yscalable = root.hasClass(\"yscalable\");\n",
       "        var px_per_mm = root.data(\"px_per_mm\");\n",
       "        var bounds = root.plotbounds();\n",
       "        if (yscalable) {\n",
       "            y /= px_per_mm;\n",
       "            y = Math.max(bounds.y0, y);\n",
       "            y = Math.min(bounds.y1, y);\n",
       "        } else {\n",
       "            y = bounds.y1;\n",
       "        }\n",
       "        if (xscalable) {\n",
       "            x /= px_per_mm;\n",
       "            x = Math.max(bounds.x0, x);\n",
       "            x = Math.min(bounds.x1, x);\n",
       "        } else {\n",
       "            x = bounds.x1;\n",
       "        }\n",
       "\n",
       "        dx = x - zoom_box.attr(\"x\");\n",
       "        dy = y - zoom_box.attr(\"y\");\n",
       "        if (xscalable && yscalable) {\n",
       "            var ratio = zoom_box.data(\"ratio\");\n",
       "            var width = Math.min(Math.abs(dx), ratio * Math.abs(dy));\n",
       "            var height = Math.min(Math.abs(dy), Math.abs(dx) / ratio);\n",
       "            dx = width * dx / Math.abs(dx);\n",
       "            dy = height * dy / Math.abs(dy);\n",
       "        }\n",
       "        var xoffset = 0,\n",
       "            yoffset = 0;\n",
       "        if (dx < 0) {\n",
       "            xoffset = dx;\n",
       "            dx = -1 * dx;\n",
       "        }\n",
       "        if (dy < 0) {\n",
       "            yoffset = dy;\n",
       "            dy = -1 * dy;\n",
       "        }\n",
       "        if (isNaN(dy)) {\n",
       "            dy = 0.0;\n",
       "        }\n",
       "        if (isNaN(dx)) {\n",
       "            dx = 0.0;\n",
       "        }\n",
       "        zoom_box.transform(\"T\" + xoffset + \",\" + yoffset);\n",
       "        zoom_box.attr(\"width\", dx);\n",
       "        zoom_box.attr(\"height\", dy);\n",
       "    },\n",
       "    end: function(root, event) {\n",
       "        var xscalable = root.hasClass(\"xscalable\"),\n",
       "            yscalable = root.hasClass(\"yscalable\");\n",
       "        var zoom_bounds = zoom_box.getBBox();\n",
       "        if (zoom_bounds.width * zoom_bounds.height <= 0) {\n",
       "            return;\n",
       "        }\n",
       "        var plot_bounds = root.plotbounds();\n",
       "        var zoom_factor = 1.0;\n",
       "        if (yscalable) {\n",
       "            zoom_factor = (plot_bounds.y1 - plot_bounds.y0) / zoom_bounds.height;\n",
       "        } else {\n",
       "            zoom_factor = (plot_bounds.x1 - plot_bounds.x0) / zoom_bounds.width;\n",
       "        }\n",
       "        var tx = (root.data(\"tx\") - zoom_bounds.x) * zoom_factor + plot_bounds.x0,\n",
       "            ty = (root.data(\"ty\") - zoom_bounds.y) * zoom_factor + plot_bounds.y0;\n",
       "        set_plot_pan_zoom(root, tx, ty, root.data(\"scale\") * zoom_factor);\n",
       "        zoom_box.remove();\n",
       "    },\n",
       "    cancel: function(root) {\n",
       "        zoom_box.remove();\n",
       "    }\n",
       "};\n",
       "\n",
       "\n",
       "Gadfly.guide_background_drag_onstart = function(x, y, event) {\n",
       "    var root = this.plotroot();\n",
       "    var scalable = root.hasClass(\"xscalable\") || root.hasClass(\"yscalable\");\n",
       "    var zoomable = !event.altKey && !event.ctrlKey && event.shiftKey && scalable;\n",
       "    var panable = !event.altKey && !event.ctrlKey && !event.shiftKey && scalable;\n",
       "    var drag_action = zoomable ? zoom_action :\n",
       "                      panable  ? pan_action :\n",
       "                                 undefined;\n",
       "    root.data(\"drag_action\", drag_action);\n",
       "    if (drag_action) {\n",
       "        var cancel_drag_action = function(event) {\n",
       "            if (event.which == 27) { // esc key\n",
       "                drag_action.cancel(root);\n",
       "                root.data(\"drag_action\", undefined);\n",
       "            }\n",
       "        };\n",
       "        window.addEventListener(\"keyup\", cancel_drag_action);\n",
       "        root.data(\"cancel_drag_action\", cancel_drag_action);\n",
       "        drag_action.start(root, x, y, event);\n",
       "    }\n",
       "};\n",
       "\n",
       "\n",
       "Gadfly.guide_background_drag_onmove = function(dx, dy, x, y, event) {\n",
       "    var root = this.plotroot();\n",
       "    var drag_action = root.data(\"drag_action\");\n",
       "    if (drag_action) {\n",
       "        drag_action.update(root, dx, dy, x, y, event);\n",
       "    }\n",
       "};\n",
       "\n",
       "\n",
       "Gadfly.guide_background_drag_onend = function(event) {\n",
       "    var root = this.plotroot();\n",
       "    window.removeEventListener(\"keyup\", root.data(\"cancel_drag_action\"));\n",
       "    root.data(\"cancel_drag_action\", undefined);\n",
       "    var drag_action = root.data(\"drag_action\");\n",
       "    if (drag_action) {\n",
       "        drag_action.end(root, event);\n",
       "    }\n",
       "    root.data(\"drag_action\", undefined);\n",
       "};\n",
       "\n",
       "\n",
       "Gadfly.guide_background_scroll = function(event) {\n",
       "    if (event.shiftKey) {\n",
       "        increase_zoom_by_position(this.plotroot(), 0.001 * event.wheelDelta);\n",
       "        event.preventDefault();\n",
       "    }\n",
       "};\n",
       "\n",
       "\n",
       "Gadfly.zoomslider_button_mouseover = function(event) {\n",
       "    this.select(\".button_logo\")\n",
       "         .animate({fill: this.data(\"mouseover_color\")}, 100);\n",
       "};\n",
       "\n",
       "\n",
       "Gadfly.zoomslider_button_mouseout = function(event) {\n",
       "     this.select(\".button_logo\")\n",
       "         .animate({fill: this.data(\"mouseout_color\")}, 100);\n",
       "};\n",
       "\n",
       "\n",
       "Gadfly.zoomslider_zoomout_click = function(event) {\n",
       "    increase_zoom_by_position(this.plotroot(), -0.1, true);\n",
       "};\n",
       "\n",
       "\n",
       "Gadfly.zoomslider_zoomin_click = function(event) {\n",
       "    increase_zoom_by_position(this.plotroot(), 0.1, true);\n",
       "};\n",
       "\n",
       "\n",
       "Gadfly.zoomslider_track_click = function(event) {\n",
       "    // TODO\n",
       "};\n",
       "\n",
       "\n",
       "// Map slider position x to scale y using the function y = a*exp(b*x)+c.\n",
       "// The constants a, b, and c are solved using the constraint that the function\n",
       "// should go through the points (0; min_scale), (0.5; 1), and (1; max_scale).\n",
       "var scale_from_slider_position = function(position, min_scale, max_scale) {\n",
       "    var a = (1 - 2 * min_scale + min_scale * min_scale) / (min_scale + max_scale - 2),\n",
       "        b = 2 * Math.log((max_scale - 1) / (1 - min_scale)),\n",
       "        c = (min_scale * max_scale - 1) / (min_scale + max_scale - 2);\n",
       "    return a * Math.exp(b * position) + c;\n",
       "}\n",
       "\n",
       "// inverse of scale_from_slider_position\n",
       "var slider_position_from_scale = function(scale, min_scale, max_scale) {\n",
       "    var a = (1 - 2 * min_scale + min_scale * min_scale) / (min_scale + max_scale - 2),\n",
       "        b = 2 * Math.log((max_scale - 1) / (1 - min_scale)),\n",
       "        c = (min_scale * max_scale - 1) / (min_scale + max_scale - 2);\n",
       "    return 1 / b * Math.log((scale - c) / a);\n",
       "}\n",
       "\n",
       "var increase_zoom_by_position = function(root, delta_position, animate) {\n",
       "    var scale = root.data(\"scale\"),\n",
       "        min_scale = root.data(\"min_scale\"),\n",
       "        max_scale = root.data(\"max_scale\");\n",
       "    var position = slider_position_from_scale(scale, min_scale, max_scale);\n",
       "    position += delta_position;\n",
       "    scale = scale_from_slider_position(position, min_scale, max_scale);\n",
       "    set_zoom(root, scale, animate);\n",
       "}\n",
       "\n",
       "var set_zoom = function(root, scale, animate) {\n",
       "    var min_scale = root.data(\"min_scale\"),\n",
       "        max_scale = root.data(\"max_scale\"),\n",
       "        old_scale = root.data(\"scale\");\n",
       "    var new_scale = Math.max(min_scale, Math.min(scale, max_scale));\n",
       "    if (animate) {\n",
       "        Snap.animate(\n",
       "            old_scale,\n",
       "            new_scale,\n",
       "            function (new_scale) {\n",
       "                update_plot_scale(root, new_scale);\n",
       "            },\n",
       "            200);\n",
       "    } else {\n",
       "        update_plot_scale(root, new_scale);\n",
       "    }\n",
       "}\n",
       "\n",
       "\n",
       "var update_plot_scale = function(root, new_scale) {\n",
       "    var trans = scale_centered_translation(root, new_scale);\n",
       "    set_plot_pan_zoom(root, trans.x, trans.y, new_scale);\n",
       "\n",
       "    root.selectAll(\".zoomslider_thumb\")\n",
       "        .forEach(function (element, i) {\n",
       "            var min_pos = element.data(\"min_pos\"),\n",
       "                max_pos = element.data(\"max_pos\"),\n",
       "                min_scale = root.data(\"min_scale\"),\n",
       "                max_scale = root.data(\"max_scale\");\n",
       "            var xmid = (min_pos + max_pos) / 2;\n",
       "            var xpos = slider_position_from_scale(new_scale, min_scale, max_scale);\n",
       "            element.transform(new Snap.Matrix().translate(\n",
       "                Math.max(min_pos, Math.min(\n",
       "                         max_pos, min_pos + (max_pos - min_pos) * xpos)) - xmid, 0));\n",
       "    });\n",
       "};\n",
       "\n",
       "\n",
       "Gadfly.zoomslider_thumb_dragmove = function(dx, dy, x, y, event) {\n",
       "    var root = this.plotroot();\n",
       "    var min_pos = this.data(\"min_pos\"),\n",
       "        max_pos = this.data(\"max_pos\"),\n",
       "        min_scale = root.data(\"min_scale\"),\n",
       "        max_scale = root.data(\"max_scale\"),\n",
       "        old_scale = root.data(\"old_scale\");\n",
       "\n",
       "    var px_per_mm = root.data(\"px_per_mm\");\n",
       "    dx /= px_per_mm;\n",
       "    dy /= px_per_mm;\n",
       "\n",
       "    var xmid = (min_pos + max_pos) / 2;\n",
       "    var xpos = slider_position_from_scale(old_scale, min_scale, max_scale) +\n",
       "                   dx / (max_pos - min_pos);\n",
       "\n",
       "    // compute the new scale\n",
       "    var new_scale = scale_from_slider_position(xpos, min_scale, max_scale);\n",
       "    new_scale = Math.min(max_scale, Math.max(min_scale, new_scale));\n",
       "\n",
       "    update_plot_scale(root, new_scale);\n",
       "    event.stopPropagation();\n",
       "};\n",
       "\n",
       "\n",
       "Gadfly.zoomslider_thumb_dragstart = function(x, y, event) {\n",
       "    this.animate({fill: this.data(\"mouseover_color\")}, 100);\n",
       "    var root = this.plotroot();\n",
       "\n",
       "    // keep track of what the scale was when we started dragging\n",
       "    root.data(\"old_scale\", root.data(\"scale\"));\n",
       "    event.stopPropagation();\n",
       "};\n",
       "\n",
       "\n",
       "Gadfly.zoomslider_thumb_dragend = function(event) {\n",
       "    this.animate({fill: this.data(\"mouseout_color\")}, 100);\n",
       "    event.stopPropagation();\n",
       "};\n",
       "\n",
       "\n",
       "var toggle_color_class = function(root, color_class, ison) {\n",
       "    var guides = root.selectAll(\".guide.\" + color_class + \",.guide .\" + color_class);\n",
       "    var geoms = root.selectAll(\".geometry.\" + color_class + \",.geometry .\" + color_class);\n",
       "    if (ison) {\n",
       "        guides.animate({opacity: 0.5}, 250);\n",
       "        geoms.animate({opacity: 0.0}, 250);\n",
       "    } else {\n",
       "        guides.animate({opacity: 1.0}, 250);\n",
       "        geoms.animate({opacity: 1.0}, 250);\n",
       "    }\n",
       "};\n",
       "\n",
       "\n",
       "Gadfly.colorkey_swatch_click = function(event) {\n",
       "    var root = this.plotroot();\n",
       "    var color_class = this.data(\"color_class\");\n",
       "\n",
       "    if (event.shiftKey) {\n",
       "        root.selectAll(\".colorkey text\")\n",
       "            .forEach(function (element) {\n",
       "                var other_color_class = element.data(\"color_class\");\n",
       "                if (other_color_class != color_class) {\n",
       "                    toggle_color_class(root, other_color_class,\n",
       "                                       element.attr(\"opacity\") == 1.0);\n",
       "                }\n",
       "            });\n",
       "    } else {\n",
       "        toggle_color_class(root, color_class, this.attr(\"opacity\") == 1.0);\n",
       "    }\n",
       "};\n",
       "\n",
       "\n",
       "return Gadfly;\n",
       "\n",
       "}));\n",
       "\n",
       "\n",
       "//@ sourceURL=gadfly.js\n",
       "\n",
       "(function (glob, factory) {\n",
       "    // AMD support\n",
       "      if (typeof require === \"function\" && typeof define === \"function\" && define.amd) {\n",
       "        require([\"Snap.svg\", \"Gadfly\"], function (Snap, Gadfly) {\n",
       "            factory(Snap, Gadfly);\n",
       "        });\n",
       "      } else {\n",
       "          factory(glob.Snap, glob.Gadfly);\n",
       "      }\n",
       "})(window, function (Snap, Gadfly) {\n",
       "    var fig = Snap(\"#img-b2a82f8a\");\n",
       "fig.select(\"#img-b2a82f8a-10\")\n",
       "   .init_gadfly();\n",
       "fig.select(\"#img-b2a82f8a-12\")\n",
       "   .plotroot().data(\"unfocused_ygrid_color\", \"#D0D0E0\")\n",
       ";\n",
       "fig.select(\"#img-b2a82f8a-12\")\n",
       "   .plotroot().data(\"focused_ygrid_color\", \"#A0A0A0\")\n",
       ";\n",
       "fig.select(\"#img-b2a82f8a-13\")\n",
       "   .plotroot().data(\"unfocused_xgrid_color\", \"#D0D0E0\")\n",
       ";\n",
       "fig.select(\"#img-b2a82f8a-13\")\n",
       "   .plotroot().data(\"focused_xgrid_color\", \"#A0A0A0\")\n",
       ";\n",
       "fig.select(\"#img-b2a82f8a-17\")\n",
       "   .data(\"mouseover_color\", \"#CD5C5C\")\n",
       ";\n",
       "fig.select(\"#img-b2a82f8a-17\")\n",
       "   .data(\"mouseout_color\", \"#6A6A6A\")\n",
       ";\n",
       "fig.select(\"#img-b2a82f8a-17\")\n",
       "   .click(Gadfly.zoomslider_zoomin_click)\n",
       ".mouseenter(Gadfly.zoomslider_button_mouseover)\n",
       ".mouseleave(Gadfly.zoomslider_button_mouseout)\n",
       ";\n",
       "fig.select(\"#img-b2a82f8a-19\")\n",
       "   .data(\"max_pos\", 93.6)\n",
       ";\n",
       "fig.select(\"#img-b2a82f8a-19\")\n",
       "   .data(\"min_pos\", 76.6)\n",
       ";\n",
       "fig.select(\"#img-b2a82f8a-19\")\n",
       "   .click(Gadfly.zoomslider_track_click);\n",
       "fig.select(\"#img-b2a82f8a-20\")\n",
       "   .data(\"max_pos\", 93.6)\n",
       ";\n",
       "fig.select(\"#img-b2a82f8a-20\")\n",
       "   .data(\"min_pos\", 76.6)\n",
       ";\n",
       "fig.select(\"#img-b2a82f8a-20\")\n",
       "   .data(\"mouseover_color\", \"#CD5C5C\")\n",
       ";\n",
       "fig.select(\"#img-b2a82f8a-20\")\n",
       "   .data(\"mouseout_color\", \"#6A6A6A\")\n",
       ";\n",
       "fig.select(\"#img-b2a82f8a-20\")\n",
       "   .drag(Gadfly.zoomslider_thumb_dragmove,\n",
       "     Gadfly.zoomslider_thumb_dragstart,\n",
       "     Gadfly.zoomslider_thumb_dragend)\n",
       ";\n",
       "fig.select(\"#img-b2a82f8a-21\")\n",
       "   .data(\"mouseover_color\", \"#CD5C5C\")\n",
       ";\n",
       "fig.select(\"#img-b2a82f8a-21\")\n",
       "   .data(\"mouseout_color\", \"#6A6A6A\")\n",
       ";\n",
       "fig.select(\"#img-b2a82f8a-21\")\n",
       "   .click(Gadfly.zoomslider_zoomout_click)\n",
       ".mouseenter(Gadfly.zoomslider_button_mouseover)\n",
       ".mouseleave(Gadfly.zoomslider_button_mouseout)\n",
       ";\n",
       "    });\n",
       "]]> </script>\n",
       "</svg>\n"
      ],
      "text/plain": [
       "Plot(...)"
      ]
     },
     "execution_count": 5,
     "metadata": {},
     "output_type": "execute_result"
    }
   ],
   "source": [
    "using Gadfly\n",
    "\n",
    "Gadfly.spy(Mx)"
   ]
  },
  {
   "cell_type": "code",
   "execution_count": null,
   "metadata": {
    "collapsed": false,
    "scrolled": true
   },
   "outputs": [],
   "source": [
    "using PyPlot\n",
    "\n",
    "PyPlot.matshow(Mx)"
   ]
  },
  {
   "cell_type": "code",
   "execution_count": null,
   "metadata": {
    "collapsed": false
   },
   "outputs": [],
   "source": [
    "# distribuição aleatoria\n",
    "\n",
    "using Gadfly\n",
    "\n",
    "Mg = rand(50,50)\n",
    "\n",
    "Gadfly.spy(Mg)"
   ]
  },
  {
   "cell_type": "markdown",
   "metadata": {
    "collapsed": false
   },
   "source": []
  },
  {
   "cell_type": "code",
   "execution_count": null,
   "metadata": {
    "collapsed": false
   },
   "outputs": [],
   "source": [
    "vec_of_mats = Any[Float64[i*j for i in 1:4, j in 1:7]]"
   ]
  },
  {
   "cell_type": "markdown",
   "metadata": {
    "collapsed": false
   },
   "source": [
    "### OPERAÇÕES COM MATRIZES ###"
   ]
  },
  {
   "cell_type": "markdown",
   "metadata": {},
   "source": [
    "* ** Soma de matrizes **"
   ]
  },
  {
   "cell_type": "code",
   "execution_count": 45,
   "metadata": {
    "collapsed": false
   },
   "outputs": [
    {
     "data": {
      "text/plain": [
       "2x3 Array{Int64,2}:\n",
       "  5   7   9\n",
       " 11  13  15"
      ]
     },
     "execution_count": 45,
     "metadata": {},
     "output_type": "execute_result"
    }
   ],
   "source": [
    "Ma = [1 2 3;4 5 6]\n",
    "Mb = [4 5 6;7 8 9]\n",
    "\n",
    "Ma + Mb"
   ]
  },
  {
   "cell_type": "markdown",
   "metadata": {},
   "source": [
    "* ** Subtração de matrizes**"
   ]
  },
  {
   "cell_type": "code",
   "execution_count": 46,
   "metadata": {
    "collapsed": false,
    "scrolled": true
   },
   "outputs": [
    {
     "data": {
      "text/plain": [
       "2x3 Array{Int64,2}:\n",
       " -3  -3  -3\n",
       " -3  -3  -3"
      ]
     },
     "execution_count": 46,
     "metadata": {},
     "output_type": "execute_result"
    }
   ],
   "source": [
    "Ma = [1 2 3;4 5 6]\n",
    "Mb = [4 5 6;7 8 9]\n",
    "\n",
    "Ma - Mb"
   ]
  },
  {
   "cell_type": "markdown",
   "metadata": {},
   "source": [
    "### OPERAÇÕES COM NUMEROS ESCALARS ###"
   ]
  },
  {
   "cell_type": "markdown",
   "metadata": {},
   "source": [
    "* **Multiplicação por escalar**"
   ]
  },
  {
   "cell_type": "code",
   "execution_count": 47,
   "metadata": {
    "collapsed": false,
    "scrolled": true
   },
   "outputs": [
    {
     "data": {
      "text/plain": [
       "2x3 Array{Int64,2}:\n",
       " 2   4   6\n",
       " 8  10  12"
      ]
     },
     "execution_count": 47,
     "metadata": {},
     "output_type": "execute_result"
    }
   ],
   "source": [
    "Ma = [1 2 3;4 5 6]\n",
    "\n",
    "2*Ma"
   ]
  },
  {
   "cell_type": "markdown",
   "metadata": {},
   "source": [
    "* **Multiplicação elemento por elemento entre vetores **\n",
    "\n",
    "$[1x4  ~ 2x5 ~  3x6; 4x7 ~  5x8 ~  6x9]$"
   ]
  },
  {
   "cell_type": "code",
   "execution_count": 48,
   "metadata": {
    "collapsed": false,
    "scrolled": false
   },
   "outputs": [
    {
     "data": {
      "text/plain": [
       "2x3 Array{Int64,2}:\n",
       "  4  10  18\n",
       " 28  40  54"
      ]
     },
     "execution_count": 48,
     "metadata": {},
     "output_type": "execute_result"
    }
   ],
   "source": [
    "Ma = [1 2 3;4 5 6]\n",
    "Mb = [4 5 6;7 8 9]\n",
    "\n",
    "Ma.*Mb"
   ]
  },
  {
   "cell_type": "markdown",
   "metadata": {},
   "source": [
    "* ** Divisão por escalar**"
   ]
  },
  {
   "cell_type": "code",
   "execution_count": 49,
   "metadata": {
    "collapsed": false
   },
   "outputs": [
    {
     "data": {
      "text/plain": [
       "2x3 Array{Float64,2}:\n",
       " 0.5  1.0  1.5\n",
       " 2.0  2.5  3.0"
      ]
     },
     "execution_count": 49,
     "metadata": {},
     "output_type": "execute_result"
    }
   ],
   "source": [
    "Ma = [1 2 3;4 5 6]\n",
    "\n",
    "Ma/2"
   ]
  },
  {
   "cell_type": "markdown",
   "metadata": {},
   "source": [
    "* ** Divisão elemento por elemento entre vetores $[1/4  ~  2/5 ~  3/6; 4/7 ~  5/8 ~  6/9]$ **"
   ]
  },
  {
   "cell_type": "code",
   "execution_count": 50,
   "metadata": {
    "collapsed": false
   },
   "outputs": [
    {
     "data": {
      "text/plain": [
       "2x3 Array{Float64,2}:\n",
       " 0.25      0.4    0.5     \n",
       " 0.571429  0.625  0.666667"
      ]
     },
     "execution_count": 50,
     "metadata": {},
     "output_type": "execute_result"
    }
   ],
   "source": [
    "Ma = [1 2 3;4 5 6]\n",
    "Mb = [4 5 6;7 8 9]\n",
    "\n",
    "Ma./Mb"
   ]
  },
  {
   "cell_type": "markdown",
   "metadata": {},
   "source": [
    "* ** Potencia elemento por elemento $[1^2 ~ 2^2 ~ 3^2; 4^2  ~ 5^2 ~  6^2]$ **"
   ]
  },
  {
   "cell_type": "code",
   "execution_count": 51,
   "metadata": {
    "collapsed": false
   },
   "outputs": [
    {
     "data": {
      "text/plain": [
       "2x3 Array{Int64,2}:\n",
       "  1   4   9\n",
       " 16  25  36"
      ]
     },
     "execution_count": 51,
     "metadata": {},
     "output_type": "execute_result"
    }
   ],
   "source": [
    "Ma = [1 2 3;4 5 6]\n",
    "\n",
    "Ma.^2"
   ]
  },
  {
   "cell_type": "markdown",
   "metadata": {},
   "source": [
    "* ** Potencia elemento por elemento entre vetores $[1^4 ~  2^5 ~  3^6; 4^7 ~  5^8 ~  6^9]$ **"
   ]
  },
  {
   "cell_type": "code",
   "execution_count": 52,
   "metadata": {
    "collapsed": false,
    "scrolled": true
   },
   "outputs": [
    {
     "data": {
      "text/plain": [
       "2x3 Array{Int64,2}:\n",
       "     1      32       729\n",
       " 16384  390625  10077696"
      ]
     },
     "execution_count": 52,
     "metadata": {},
     "output_type": "execute_result"
    }
   ],
   "source": [
    "Ma = [1 2 3;4 5 6]\n",
    "Mb = [4 5 6;7 8 9]\n",
    "\n",
    "Ma.^Mb"
   ]
  },
  {
   "cell_type": "markdown",
   "metadata": {},
   "source": [
    "### TRANSPOSIÇÃO DE MATRIZES ####"
   ]
  },
  {
   "cell_type": "code",
   "execution_count": 3,
   "metadata": {
    "collapsed": false,
    "scrolled": false
   },
   "outputs": [
    {
     "data": {
      "text/plain": [
       "(\n",
       "3x2 Array{Int64,2}:\n",
       " 1  4\n",
       " 2  5\n",
       " 3  6,\n",
       "\n",
       "3x2 Array{Int64,2}:\n",
       " 1  4\n",
       " 2  5\n",
       " 3  6)"
      ]
     },
     "execution_count": 3,
     "metadata": {},
     "output_type": "execute_result"
    }
   ],
   "source": [
    "Ma = [1 2 3;4 5 6]\n",
    "\n",
    "transpose(Ma), Ma'"
   ]
  },
  {
   "cell_type": "markdown",
   "metadata": {},
   "source": [
    "### MATRIZ ALEATORIA ###"
   ]
  },
  {
   "cell_type": "code",
   "execution_count": 54,
   "metadata": {
    "collapsed": false,
    "scrolled": true
   },
   "outputs": [
    {
     "data": {
      "text/plain": [
       "3x4 Array{Float64,2}:\n",
       " 0.326303  0.107792  0.146046   0.821611\n",
       " 0.126402  0.614295  0.0986886  0.562688\n",
       " 0.515314  0.787248  0.119199   0.466402"
      ]
     },
     "execution_count": 54,
     "metadata": {},
     "output_type": "execute_result"
    }
   ],
   "source": [
    "# Matriz aletória entre 0 e 1 rand(linhas,colunas)\n",
    "\n",
    "Mc = rand(3,4)"
   ]
  },
  {
   "cell_type": "markdown",
   "metadata": {},
   "source": [
    "### MULTIPLICAÇÃO DE MATRIZES ###\n",
    "\n",
    "Multiplicação Ma(linhas_Ma,colunas_Ma) * Mb(linhas_Mb,colunas_Mb) , só é possível se colunas_Ma = linhas_Mb ou seja se o número de colunas de Ma for igual ao número de linhas de Mb resultando em uma matriz de Ma_linhas e Mb_colunas"
   ]
  },
  {
   "cell_type": "code",
   "execution_count": 4,
   "metadata": {
    "collapsed": false
   },
   "outputs": [
    {
     "data": {
      "text/plain": [
       "3x4 Array{Float64,2}:\n",
       " 0.26  0.55  0.95  0.81\n",
       " 0.35  0.61  0.86  0.4 \n",
       " 0.41  0.65  0.35  0.45"
      ]
     },
     "execution_count": 4,
     "metadata": {},
     "output_type": "execute_result"
    }
   ],
   "source": [
    "Ma = [1 2 3;4 5 6]\n",
    "\n",
    "Md = [0.26   0.55   0.95   0.81; 0.35   0.61   0.86   0.40;0.41   0.65   0.35   0.45]"
   ]
  },
  {
   "cell_type": "code",
   "execution_count": 5,
   "metadata": {
    "collapsed": false,
    "scrolled": false
   },
   "outputs": [
    {
     "data": {
      "text/plain": [
       "(\n",
       "3x4 Array{Float64,2}:\n",
       " 0.26  0.55  0.95  0.81\n",
       " 0.35  0.61  0.86  0.4 \n",
       " 0.41  0.65  0.35  0.45,\n",
       "\n",
       "2x3 Array{Int64,2}:\n",
       " 1  2  3\n",
       " 4  5  6,\n",
       "\n",
       "2x4 Array{Float64,2}:\n",
       " 2.19  3.72   3.72  2.96\n",
       " 5.25  9.15  10.2   7.94)"
      ]
     },
     "execution_count": 5,
     "metadata": {},
     "output_type": "execute_result"
    }
   ],
   "source": [
    "Md, Ma, Ma*Md"
   ]
  },
  {
   "cell_type": "markdown",
   "metadata": {},
   "source": [
    "### MATRIZ INVERSA ###"
   ]
  },
  {
   "cell_type": "code",
   "execution_count": 57,
   "metadata": {
    "collapsed": false
   },
   "outputs": [
    {
     "data": {
      "text/plain": [
       "(\n",
       "3x3 Array{Float64,2}:\n",
       " 0.138307  0.759435  0.307672\n",
       " 0.35579   0.919185  0.353532\n",
       " 0.914688  0.720688  0.597305,\n",
       "\n",
       "3x3 Array{Float64,2}:\n",
       " -5.35921    4.22327   0.260873\n",
       " -2.01906    3.62103  -1.1032  \n",
       " 10.643    -10.8364    2.60578 )"
      ]
     },
     "execution_count": 57,
     "metadata": {},
     "output_type": "execute_result"
    }
   ],
   "source": [
    "Mx = rand(3,3);\n",
    "Mx_inv = inv(Mx);\n",
    "\n",
    "Mx,Mx_inv"
   ]
  },
  {
   "cell_type": "markdown",
   "metadata": {},
   "source": [
    "### MATRIZES ESPECIAIS ###"
   ]
  },
  {
   "cell_type": "markdown",
   "metadata": {},
   "source": [
    "* **Matriz de zeros **\n",
    "\n",
    "Matriz no qual todos os elementos são zeros. Sintaxe:\n",
    "```julia\n",
    "zeros(linhas, colunas)\n",
    "```"
   ]
  },
  {
   "cell_type": "code",
   "execution_count": 58,
   "metadata": {
    "collapsed": false,
    "scrolled": true
   },
   "outputs": [
    {
     "data": {
      "text/plain": [
       "3x4 Array{Float64,2}:\n",
       " 0.0  0.0  0.0  0.0\n",
       " 0.0  0.0  0.0  0.0\n",
       " 0.0  0.0  0.0  0.0"
      ]
     },
     "execution_count": 58,
     "metadata": {},
     "output_type": "execute_result"
    }
   ],
   "source": [
    "Me = zeros(3,4)"
   ]
  },
  {
   "cell_type": "markdown",
   "metadata": {},
   "source": [
    "* ** Matriz de uns **\n",
    "\n",
    "Matriz no qual todos os elementos são \"uns\". Sintaxe:\n",
    "```julia\n",
    "ones(linhas, colunas)\n",
    "```"
   ]
  },
  {
   "cell_type": "code",
   "execution_count": 59,
   "metadata": {
    "collapsed": false
   },
   "outputs": [
    {
     "data": {
      "text/plain": [
       "3x4 Array{Float64,2}:\n",
       " 1.0  1.0  1.0  1.0\n",
       " 1.0  1.0  1.0  1.0\n",
       " 1.0  1.0  1.0  1.0"
      ]
     },
     "execution_count": 59,
     "metadata": {},
     "output_type": "execute_result"
    }
   ],
   "source": [
    "Me = ones(3,4)"
   ]
  },
  {
   "cell_type": "markdown",
   "metadata": {},
   "source": [
    "* ** Matriz identidade **\n",
    "\n",
    "Matriz quadrada no qual todos os elementos da diagnoa principal são \"1\" e os demais \"0\". Sintaxe:\n",
    "```julia\n",
    "eye(linhas)\n",
    "```"
   ]
  },
  {
   "cell_type": "code",
   "execution_count": 8,
   "metadata": {
    "collapsed": false
   },
   "outputs": [
    {
     "data": {
      "text/plain": [
       "3x3 Array{Float64,2}:\n",
       " 1.0  0.0  0.0\n",
       " 0.0  1.0  0.0\n",
       " 0.0  0.0  1.0"
      ]
     },
     "execution_count": 8,
     "metadata": {},
     "output_type": "execute_result"
    }
   ],
   "source": [
    "Mf = eye(3)"
   ]
  },
  {
   "cell_type": "markdown",
   "metadata": {},
   "source": [
    "* ** Matriz identidade Mx*inv(Mx). **\n",
    "\n",
    "O resultado apresenta valores proximos de zero para os numeros fora da diagonal principal"
   ]
  },
  {
   "cell_type": "code",
   "execution_count": 9,
   "metadata": {
    "collapsed": false,
    "scrolled": false
   },
   "outputs": [
    {
     "data": {
      "text/plain": [
       "3x3 Array{Float64,2}:\n",
       "  1.0           1.33227e-15  1.11022e-15\n",
       " -8.88178e-16   1.0          4.44089e-16\n",
       " -1.22125e-15  -1.66533e-16  1.0        "
      ]
     },
     "execution_count": 9,
     "metadata": {},
     "output_type": "execute_result"
    }
   ],
   "source": [
    "Mx = [0.91   0.43   0.41; 0.45   0.03   0.83; 0.85   0.55   0.10]\n",
    "\n",
    "Mx*inv(Mx)"
   ]
  },
  {
   "cell_type": "markdown",
   "metadata": {},
   "source": [
    "### DETERMINANTE , BASES E DIMENSÃO ###"
   ]
  },
  {
   "cell_type": "code",
   "execution_count": 62,
   "metadata": {
    "collapsed": false
   },
   "outputs": [
    {
     "data": {
      "text/plain": [
       "3x3 Array{Float64,2}:\n",
       " 0.916557  0.430734  0.410622\n",
       " 0.459279  0.039889  0.830169\n",
       " 0.870825  0.555419  0.104897"
      ]
     },
     "execution_count": 62,
     "metadata": {},
     "output_type": "execute_result"
    }
   ],
   "source": [
    "Mx = [0.916557   0.430734   0.410622; 0.459279   0.039889   0.830169; 0.870825   0.555419   0.104897]"
   ]
  },
  {
   "cell_type": "markdown",
   "metadata": {},
   "source": [
    "* ** Determinante  **"
   ]
  },
  {
   "cell_type": "code",
   "execution_count": 63,
   "metadata": {
    "collapsed": false
   },
   "outputs": [
    {
     "data": {
      "text/plain": [
       "(\n",
       "3x3 Array{Float64,2}:\n",
       " 0.916557  0.430734  0.410622\n",
       " 0.459279  0.039889  0.830169\n",
       " 0.870825  0.555419  0.104897,\n",
       "\n",
       "-0.037658786530678556)"
      ]
     },
     "execution_count": 63,
     "metadata": {},
     "output_type": "execute_result"
    }
   ],
   "source": [
    "Mx, det(Mx)"
   ]
  },
  {
   "cell_type": "markdown",
   "metadata": {},
   "source": [
    "* **Norma**"
   ]
  },
  {
   "cell_type": "code",
   "execution_count": 30,
   "metadata": {
    "collapsed": false
   },
   "outputs": [
    {
     "data": {
      "text/plain": [
       "1.6184849835602586"
      ]
     },
     "execution_count": 30,
     "metadata": {},
     "output_type": "execute_result"
    }
   ],
   "source": [
    "norm(Mx)"
   ]
  },
  {
   "cell_type": "markdown",
   "metadata": {},
   "source": [
    "* ** Redução de linhas **"
   ]
  },
  {
   "cell_type": "code",
   "execution_count": null,
   "metadata": {
    "collapsed": true
   },
   "outputs": [],
   "source": []
  },
  {
   "cell_type": "markdown",
   "metadata": {},
   "source": [
    "* ** Base **"
   ]
  },
  {
   "cell_type": "code",
   "execution_count": null,
   "metadata": {
    "collapsed": false
   },
   "outputs": [],
   "source": []
  },
  {
   "cell_type": "markdown",
   "metadata": {},
   "source": [
    "* ** Rank de uma matriz **"
   ]
  },
  {
   "cell_type": "code",
   "execution_count": 14,
   "metadata": {
    "collapsed": false,
    "scrolled": true
   },
   "outputs": [
    {
     "data": {
      "text/plain": [
       "(3,\n",
       "3x3 Array{Float64,2}:\n",
       " 0.91  0.43  0.41\n",
       " 0.45  0.03  0.83\n",
       " 0.85  0.55  0.1 )"
      ]
     },
     "execution_count": 14,
     "metadata": {},
     "output_type": "execute_result"
    }
   ],
   "source": [
    "rank(Mx), Mx"
   ]
  },
  {
   "cell_type": "markdown",
   "metadata": {},
   "source": [
    "* ** Dimensão **"
   ]
  },
  {
   "cell_type": "code",
   "execution_count": 15,
   "metadata": {
    "collapsed": false
   },
   "outputs": [
    {
     "data": {
      "text/plain": [
       "(2,\n",
       "3x3 Array{Float64,2}:\n",
       " 0.91  0.43  0.41\n",
       " 0.45  0.03  0.83\n",
       " 0.85  0.55  0.1 )"
      ]
     },
     "execution_count": 15,
     "metadata": {},
     "output_type": "execute_result"
    }
   ],
   "source": [
    "ndims(Mx), Mx"
   ]
  },
  {
   "cell_type": "markdown",
   "metadata": {},
   "source": [
    "### DECOMPOSIÇÃO VETORIAL DE MATRIZES##"
   ]
  },
  {
   "cell_type": "markdown",
   "metadata": {},
   "source": [
    "#### DECOMPOSIÇAO LU ####\n",
    "\n",
    "* Encontra a decomposição LU, p*a = l * u, no qual:\n",
    "* L - triangular inferior,\n",
    "* U - triangular superior,\n",
    "* p – matriz de permutação.\n",
    "* A matriz \"a\" não necessita ser quadrada."
   ]
  },
  {
   "cell_type": "code",
   "execution_count": 16,
   "metadata": {
    "collapsed": false
   },
   "outputs": [
    {
     "data": {
      "text/plain": [
       "(\n",
       "3x3 Array{Float64,2}:\n",
       " 1.0        0.0       0.0\n",
       " 0.494505   1.0       0.0\n",
       " 0.934066  -0.812274  1.0,\n",
       "\n",
       "3x3 Array{Float64,2}:\n",
       " 0.91   0.43      0.41    \n",
       " 0.0   -0.182637  0.627253\n",
       " 0.0    0.0       0.226534,\n",
       "\n",
       "Int32[1,2,3])"
      ]
     },
     "execution_count": 16,
     "metadata": {},
     "output_type": "execute_result"
    }
   ],
   "source": [
    "(l,u,p) = lu(Mx)"
   ]
  },
  {
   "cell_type": "markdown",
   "metadata": {
    "collapsed": true
   },
   "source": [
    "## SISTEMAS LINEARES##"
   ]
  },
  {
   "cell_type": "markdown",
   "metadata": {},
   "source": [
    "Dado um sistema..."
   ]
  },
  {
   "cell_type": "code",
   "execution_count": 67,
   "metadata": {
    "collapsed": false
   },
   "outputs": [
    {
     "data": {
      "text/plain": [
       "3x3 Array{Float64,2}:\n",
       " 0.467359  0.0251157  0.652865\n",
       " 0.886013  0.0262897  0.548096\n",
       " 0.575751  0.538086   0.99553 "
      ]
     },
     "metadata": {},
     "output_type": "display_data"
    },
    {
     "data": {
      "text/plain": [
       "3x1 Array{Float64,2}:\n",
       " 0.251671\n",
       " 0.510351\n",
       " 0.216933"
      ]
     },
     "metadata": {},
     "output_type": "display_data"
    }
   ],
   "source": [
    "# criando duas matrizes aleatórias\n",
    "\n",
    "A = rand(3,3);\n",
    "B = rand(3,1);\n",
    "\n",
    "display(A)\n",
    "display(B)"
   ]
  },
  {
   "cell_type": "code",
   "execution_count": 68,
   "metadata": {
    "collapsed": false,
    "scrolled": true
   },
   "outputs": [
    {
     "data": {
      "text/plain": [
       "3x1 Array{Float64,2}:\n",
       "  0.607587 \n",
       " -0.167366 \n",
       " -0.0430208"
      ]
     },
     "execution_count": 68,
     "metadata": {},
     "output_type": "execute_result"
    }
   ],
   "source": [
    "# X1,X2,X3:\n",
    "\n",
    "x = A\\B"
   ]
  },
  {
   "cell_type": "markdown",
   "metadata": {},
   "source": [
    "** O poder de cálculo JULIA na manipulação de matrizes**\n",
    "\n",
    "Vamos calcular um sistema linear de 5000 equações e 5000 variáveis. ATENÇÃO!!! Ao definir matrizes grandes, atente ao tamanho da memória ram do computador, pois dependendo do tamanho pode ser consumida toda a ram e toda a memória virtual (swap) e travar a máquina"
   ]
  },
  {
   "cell_type": "code",
   "execution_count": 69,
   "metadata": {
    "collapsed": false
   },
   "outputs": [],
   "source": [
    "A = rand(5000,5000);\n",
    "B = rand(5000,1);"
   ]
  },
  {
   "cell_type": "code",
   "execution_count": 70,
   "metadata": {
    "collapsed": false,
    "scrolled": true
   },
   "outputs": [
    {
     "name": "stdout",
     "output_type": "stream",
     "text": [
      "  5.015751 seconds (161 allocations: 190.802 MB, 0.10% gc time)\n"
     ]
    }
   ],
   "source": [
    "@time x = A\\B;"
   ]
  },
  {
   "cell_type": "code",
   "execution_count": 71,
   "metadata": {
    "collapsed": false
   },
   "outputs": [
    {
     "data": {
      "text/plain": [
       "Array{Float64,2}"
      ]
     },
     "execution_count": 71,
     "metadata": {},
     "output_type": "execute_result"
    }
   ],
   "source": [
    "typeof(x)"
   ]
  },
  {
   "cell_type": "code",
   "execution_count": 72,
   "metadata": {
    "collapsed": false
   },
   "outputs": [
    {
     "data": {
      "text/plain": [
       "(-1.7924508390617417,-0.0971377440620397)"
      ]
     },
     "execution_count": 72,
     "metadata": {},
     "output_type": "execute_result"
    }
   ],
   "source": [
    "#Qual o resultado de x2 e de x4999?\n",
    "\n",
    "x[2], x[4999]"
   ]
  },
  {
   "cell_type": "markdown",
   "metadata": {},
   "source": [
    "%%% Fim Algebra linear %%%"
   ]
  }
 ],
 "metadata": {
  "kernelspec": {
   "display_name": "Julia 0.4.5",
   "language": "julia",
   "name": "julia-0.4"
  },
  "language_info": {
   "file_extension": ".jl",
   "mimetype": "application/julia",
   "name": "julia",
   "version": "0.4.5"
  }
 },
 "nbformat": 4,
 "nbformat_minor": 0
}
