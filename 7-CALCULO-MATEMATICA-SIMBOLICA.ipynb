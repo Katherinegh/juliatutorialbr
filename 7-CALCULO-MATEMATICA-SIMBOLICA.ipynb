{
 "cells": [
  {
   "cell_type": "markdown",
   "metadata": {},
   "source": [
    "# CÁLCULOS COM MATEMÁTICA SIMBÓLICA#"
   ]
  },
  {
   "cell_type": "markdown",
   "metadata": {},
   "source": [
    "<div style=\"text-align: justify;\">\n",
    "Julia usa o  <span\n",
    "style=\"font-weight: bold; font-style: italic;\">sympy</span> para\n",
    "realizar calculos de matemática simbólica. Dessa forma, é possível\n",
    "integrar e diferenciar funções simbolicamente, resolver EDOs de\n",
    "primeira ordem, grande parte das EDOs lineares de segunda ordem, e\n",
    "ainda tem implementado o método da transformada de Laplace para EDOs\n",
    "lineares de qualquer ordem. O Julia também suporta uma série de\n",
    "funções especiais, é capaz de criar gráficos via gnu-plot, e possui\n",
    "métodos para resolver equações polinômiais e manipular matrizes (por\n",
    "exemplo, escalonar e calcular autovalores e autovetores). Para\n",
    "trabalhar com calculos simbólicos,&nbsp; devemos inicialmente carregar\n",
    "o sympy com o comando <span style=\"font-weight: bold;\">using SymPy</span>.\n",
    "As variáveis simbólicas são declaradas através do comando <span\n",
    "style=\"font-weight: bold;\">Sym(variavel)</span>.<br>\n",
    "\n",
    "\n",
    "</div>"
   ]
  },
  {
   "cell_type": "markdown",
   "metadata": {},
   "source": [
    "### CARREGANDO PACOTE E DEFININDO VARIÁVEIS###"
   ]
  },
  {
   "cell_type": "code",
   "execution_count": 1,
   "metadata": {
    "collapsed": false
   },
   "outputs": [],
   "source": [
    "using SymPy"
   ]
  },
  {
   "cell_type": "code",
   "execution_count": 2,
   "metadata": {
    "collapsed": false
   },
   "outputs": [
    {
     "data": {
      "text/plain": [
       "(x,y)"
      ]
     },
     "execution_count": 2,
     "metadata": {},
     "output_type": "execute_result"
    }
   ],
   "source": [
    "x,y = Sym(\"x,y\")"
   ]
  },
  {
   "cell_type": "markdown",
   "metadata": {},
   "source": [
    "Ou "
   ]
  },
  {
   "cell_type": "code",
   "execution_count": 2,
   "metadata": {
    "collapsed": false
   },
   "outputs": [
    {
     "data": {
      "text/plain": [
       "(x,y)"
      ]
     },
     "execution_count": 2,
     "metadata": {},
     "output_type": "execute_result"
    }
   ],
   "source": [
    "@vars x,y # ou ainda @vars x y"
   ]
  },
  {
   "cell_type": "code",
   "execution_count": 5,
   "metadata": {
    "collapsed": false
   },
   "outputs": [
    {
     "data": {
      "text/plain": [
       "(x,y)"
      ]
     },
     "execution_count": 5,
     "metadata": {},
     "output_type": "execute_result"
    }
   ],
   "source": [
    "@syms x,y # ou ainda @syms x y"
   ]
  },
  {
   "cell_type": "markdown",
   "metadata": {},
   "source": [
    "### TESTANDO O CÁLCULO SIMBÓLICO###"
   ]
  },
  {
   "cell_type": "code",
   "execution_count": 4,
   "metadata": {
    "collapsed": false,
    "scrolled": false
   },
   "outputs": [
    {
     "data": {
      "text/latex": [
       "$$4 x + y^{2}$$"
      ],
      "text/plain": [
       "       2\n",
       "4*x + y "
      ]
     },
     "execution_count": 4,
     "metadata": {},
     "output_type": "execute_result"
    }
   ],
   "source": [
    "3*x + x + y*y"
   ]
  },
  {
   "cell_type": "code",
   "execution_count": 9,
   "metadata": {
    "collapsed": false
   },
   "outputs": [
    {
     "data": {
      "text/latex": [
       "$$x^{2} + 5$$"
      ],
      "text/plain": [
       " 2    \n",
       "x  + 5"
      ]
     },
     "metadata": {},
     "output_type": "display_data"
    },
    {
     "data": {
      "text/latex": [
       "$$- 2 x^{2} + 5 x - 1$$"
      ],
      "text/plain": [
       "     2          \n",
       "- 2*x  + 5*x - 1"
      ]
     },
     "metadata": {},
     "output_type": "display_data"
    }
   ],
   "source": [
    "w = x^2 + 5\n",
    "\n",
    "wr = -2*x^2 + 5*x -1\n",
    "\n",
    "display(w)\n",
    "\n",
    "display(wr)"
   ]
  },
  {
   "cell_type": "code",
   "execution_count": 10,
   "metadata": {
    "collapsed": false
   },
   "outputs": [
    {
     "data": {
      "text/latex": [
       "$$- x^{2} + 5 x + 4$$"
      ],
      "text/plain": [
       "   2          \n",
       "- x  + 5*x + 4"
      ]
     },
     "execution_count": 10,
     "metadata": {},
     "output_type": "execute_result"
    }
   ],
   "source": [
    "w + wr"
   ]
  },
  {
   "cell_type": "code",
   "execution_count": 3,
   "metadata": {
    "collapsed": false
   },
   "outputs": [
    {
     "data": {
      "text/latex": [
       "\\begin{bmatrix}x\\\\x^{2}\\\\x^{3}\\end{bmatrix}"
      ],
      "text/plain": [
       "3-element Array{SymPy.Sym,1}\n",
       "[x ]\n",
       "[  ]\n",
       "[ 2]\n",
       "[x ]\n",
       "[  ]\n",
       "[ 3]\n",
       "[x ]"
      ]
     },
     "metadata": {},
     "output_type": "display_data"
    },
    {
     "data": {
      "text/latex": [
       "\\begin{bmatrix}2\\\\2 x\\\\2 x^{3}\\end{bmatrix}"
      ],
      "text/plain": [
       "3-element Array{SymPy.Sym,1}\n",
       "[ 2  ]\n",
       "[    ]\n",
       "[2*x ]\n",
       "[    ]\n",
       "[   3]\n",
       "[2*x ]"
      ]
     },
     "metadata": {},
     "output_type": "display_data"
    }
   ],
   "source": [
    "a = [x, x^2, x^3]; \n",
    "b = [2, 2*x, 2*x^3];\n",
    "\n",
    "display(a)\n",
    "display(b)"
   ]
  },
  {
   "cell_type": "code",
   "execution_count": 12,
   "metadata": {
    "collapsed": false
   },
   "outputs": [
    {
     "data": {
      "text/latex": [
       "\\begin{bmatrix}x + 2\\\\x^{2} + 2 x\\\\3 x^{3}\\end{bmatrix}"
      ],
      "text/plain": [
       "3-element Array{SymPy.Sym,1}\n",
       "[ x + 2  ]\n",
       "[        ]\n",
       "[ 2      ]\n",
       "[x  + 2*x]\n",
       "[        ]\n",
       "[     3  ]\n",
       "[  3*x   ]"
      ]
     },
     "execution_count": 12,
     "metadata": {},
     "output_type": "execute_result"
    }
   ],
   "source": [
    "a+b"
   ]
  },
  {
   "cell_type": "code",
   "execution_count": 13,
   "metadata": {
    "collapsed": false,
    "scrolled": false
   },
   "outputs": [
    {
     "data": {
      "text/latex": [
       "\\begin{bmatrix}x\\\\x^{2}\\\\x^{3}\\end{bmatrix}"
      ],
      "text/plain": [
       "3-element Array{SymPy.Sym,1}\n",
       "[x ]\n",
       "[  ]\n",
       "[ 2]\n",
       "[x ]\n",
       "[  ]\n",
       "[ 3]\n",
       "[x ]"
      ]
     },
     "metadata": {},
     "output_type": "display_data"
    },
    {
     "data": {
      "text/latex": [
       "\\begin{bmatrix}2\\\\2 x\\\\2 x^{3}\\end{bmatrix}"
      ],
      "text/plain": [
       "3-element Array{SymPy.Sym,1}\n",
       "[ 2  ]\n",
       "[    ]\n",
       "[2*x ]\n",
       "[    ]\n",
       "[   3]\n",
       "[2*x ]"
      ]
     },
     "metadata": {},
     "output_type": "display_data"
    },
    {
     "data": {
      "text/latex": [
       "\\begin{bmatrix}x + 2\\\\x^{2} + 2 x\\\\3 x^{3}\\end{bmatrix}"
      ],
      "text/plain": [
       "3-element Array{SymPy.Sym,1}\n",
       "[ x + 2  ]\n",
       "[        ]\n",
       "[ 2      ]\n",
       "[x  + 2*x]\n",
       "[        ]\n",
       "[     3  ]\n",
       "[  3*x   ]"
      ]
     },
     "metadata": {},
     "output_type": "display_data"
    },
    {
     "data": {
      "text/plain": [
       "(nothing,nothing,nothing)"
      ]
     },
     "execution_count": 13,
     "metadata": {},
     "output_type": "execute_result"
    }
   ],
   "source": [
    "x = 2; \n",
    "c = a+b;\n",
    "\n",
    "display(a), display(b), display(c)"
   ]
  },
  {
   "cell_type": "markdown",
   "metadata": {
    "collapsed": true
   },
   "source": [
    "No exemplo acima, foi atribuído um valor x = 2 para a variável e ainda assim não o cálculo não foi realizado. Porém, qualquer outra expressão a partir de agora contendo a variável \"x\" será avaliada. A JULIA não apresenta alteração dinâmica de valor em estruturas ja montadas."
   ]
  },
  {
   "cell_type": "code",
   "execution_count": 14,
   "metadata": {
    "collapsed": false,
    "scrolled": true
   },
   "outputs": [
    {
     "data": {
      "text/plain": [
       "8.216150246265736"
      ]
     },
     "execution_count": 14,
     "metadata": {},
     "output_type": "execute_result"
    }
   ],
   "source": [
    "# x = 2 como atribuído acima\n",
    "\n",
    "wt = x^3 - log(x) + sin(x)"
   ]
  },
  {
   "cell_type": "markdown",
   "metadata": {},
   "source": []
  },
  {
   "cell_type": "markdown",
   "metadata": {},
   "source": [
    "### ÁLGEBRA LINEAR SIMBÓLICA ###"
   ]
  },
  {
   "cell_type": "markdown",
   "metadata": {},
   "source": [
    "É possível trabalhar com matrizes e vetores simbólicos. Basta declarar as variáveis e realizar a execução"
   ]
  },
  {
   "cell_type": "code",
   "execution_count": 5,
   "metadata": {
    "collapsed": false
   },
   "outputs": [
    {
     "data": {
      "text/plain": [
       "(a11,a12,a21,a22,b11,b21)"
      ]
     },
     "execution_count": 5,
     "metadata": {},
     "output_type": "execute_result"
    }
   ],
   "source": [
    "using SymPy\n",
    "\n",
    "@syms a11 ,a12, a21, a22, b11, b21 "
   ]
  },
  {
   "cell_type": "code",
   "execution_count": 9,
   "metadata": {
    "collapsed": false
   },
   "outputs": [
    {
     "data": {
      "text/latex": [
       "\\begin{bmatrix}a_{11}&a_{12}\\\\a_{21}&a_{22}\\end{bmatrix}"
      ],
      "text/plain": [
       "2x2 Array{SymPy.Sym,2}\n",
       "[a11  a12]\n",
       "[        ]\n",
       "[a21  a22]"
      ]
     },
     "metadata": {},
     "output_type": "display_data"
    },
    {
     "data": {
      "text/latex": [
       "\\begin{bmatrix}b_{11}\\\\b_{21}\\end{bmatrix}"
      ],
      "text/plain": [
       "2-element Array{SymPy.Sym,1}\n",
       "[b11]\n",
       "[   ]\n",
       "[b21]"
      ]
     },
     "metadata": {},
     "output_type": "display_data"
    },
    {
     "data": {
      "text/plain": [
       "(nothing,nothing)"
      ]
     },
     "execution_count": 9,
     "metadata": {},
     "output_type": "execute_result"
    }
   ],
   "source": [
    "A = [a11 a12; a21 a22]; B = [b11;b21]\n",
    "\n",
    "display(A), display(B)"
   ]
  },
  {
   "cell_type": "code",
   "execution_count": 17,
   "metadata": {
    "collapsed": false,
    "scrolled": true
   },
   "outputs": [
    {
     "data": {
      "text/latex": [
       "$$a_{11} \\left(a_{22} - \\frac{a_{12} a_{21}}{a_{11}}\\right)$$"
      ],
      "text/plain": [
       "    /      a12*a21\\\n",
       "a11*|a22 - -------|\n",
       "    \\        a11  /"
      ]
     },
     "execution_count": 17,
     "metadata": {},
     "output_type": "execute_result"
    }
   ],
   "source": [
    "# calculo do determiannte\n",
    "\n",
    "det(A)"
   ]
  },
  {
   "cell_type": "code",
   "execution_count": 18,
   "metadata": {
    "collapsed": false,
    "scrolled": true
   },
   "outputs": [
    {
     "data": {
      "text/latex": [
       "\\begin{bmatrix}\\frac{1}{a_{11}} \\left(- \\frac{a_{12} \\left(b_{21} - \\frac{a_{21} b_{11}}{a_{11}}\\right)}{a_{22} - \\frac{a_{12} a_{21}}{a_{11}}} + b_{11}\\right)\\\\\\frac{b_{21} - \\frac{a_{21} b_{11}}{a_{11}}}{a_{22} - \\frac{a_{12} a_{21}}{a_{11}}}\\end{bmatrix}"
      ],
      "text/plain": [
       "2-element Array{SymPy.Sym,1}\n",
       "[      /      a21*b11\\      ]\n",
       "[  a12*|b21 - -------|      ]\n",
       "[      \\        a11  /      ]\n",
       "[- ------------------- + b11]\n",
       "[           a12*a21         ]\n",
       "[     a22 - -------         ]\n",
       "[             a11           ]\n",
       "[---------------------------]\n",
       "[            a11            ]\n",
       "[                           ]\n",
       "[             a21*b11       ]\n",
       "[       b21 - -------       ]\n",
       "[               a11         ]\n",
       "[       -------------       ]\n",
       "[             a12*a21       ]\n",
       "[       a22 - -------       ]\n",
       "[               a11         ]"
      ]
     },
     "execution_count": 18,
     "metadata": {},
     "output_type": "execute_result"
    }
   ],
   "source": [
    "# resolvendo o sistema linear\n",
    "\n",
    "x = A\\B"
   ]
  },
  {
   "cell_type": "code",
   "execution_count": 19,
   "metadata": {
    "collapsed": false
   },
   "outputs": [
    {
     "data": {
      "text/latex": [
       "\\begin{bmatrix}\\frac{1}{a_{11}} \\left(1 + \\frac{a_{12} a_{21}}{a_{11} \\left(a_{22} - \\frac{a_{12} a_{21}}{a_{11}}\\right)}\\right)&- \\frac{a_{12}}{a_{11} \\left(a_{22} - \\frac{a_{12} a_{21}}{a_{11}}\\right)}\\\\- \\frac{a_{21}}{a_{11} \\left(a_{22} - \\frac{a_{12} a_{21}}{a_{11}}\\right)}&\\frac{1}{a_{22} - \\frac{a_{12} a_{21}}{a_{11}}}\\end{bmatrix}"
      ],
      "text/plain": [
       "2x2 Array{SymPy.Sym,2}\n",
       "[          a12*a21                           ]\n",
       "[1 + -------------------                     ]\n",
       "[        /      a12*a21\\                     ]\n",
       "[    a11*|a22 - -------|                     ]\n",
       "[        \\        a11  /         -a12        ]\n",
       "[-----------------------  -------------------]\n",
       "[          a11                /      a12*a21\\]\n",
       "[                         a11*|a22 - -------|]\n",
       "[                             \\        a11  /]\n",
       "[                                            ]\n",
       "[         -a21                     1         ]\n",
       "[  -------------------       -------------   ]\n",
       "[      /      a12*a21\\             a12*a21   ]\n",
       "[  a11*|a22 - -------|       a22 - -------   ]\n",
       "[      \\        a11  /               a11     ]"
      ]
     },
     "execution_count": 19,
     "metadata": {},
     "output_type": "execute_result"
    }
   ],
   "source": [
    "#inversa da matriz \n",
    "\n",
    "inv(A)"
   ]
  },
  {
   "cell_type": "code",
   "execution_count": 20,
   "metadata": {
    "collapsed": false
   },
   "outputs": [
    {
     "data": {
      "text/latex": [
       "\\begin{bmatrix}a_{11} b_{11} + a_{12} b_{21}\\\\a_{21} b_{11} + a_{22} b_{21}\\end{bmatrix}"
      ],
      "text/plain": [
       "2-element Array{SymPy.Sym,1}\n",
       "[a11*b11 + a12*b21]\n",
       "[                 ]\n",
       "[a21*b11 + a22*b21]"
      ]
     },
     "execution_count": 20,
     "metadata": {},
     "output_type": "execute_result"
    }
   ],
   "source": [
    "A*B"
   ]
  },
  {
   "cell_type": "markdown",
   "metadata": {},
   "source": []
  }
 ],
 "metadata": {
  "kernelspec": {
   "display_name": "Julia 0.4.5",
   "language": "julia",
   "name": "julia-0.4"
  },
  "language_info": {
   "file_extension": ".jl",
   "mimetype": "application/julia",
   "name": "julia",
   "version": "0.4.5"
  }
 },
 "nbformat": 4,
 "nbformat_minor": 0
}
