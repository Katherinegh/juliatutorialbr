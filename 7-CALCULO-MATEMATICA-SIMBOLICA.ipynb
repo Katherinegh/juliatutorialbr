{
 "cells": [
  {
   "cell_type": "markdown",
   "metadata": {},
   "source": [
    "# CÁLCULOS COM MATEMÁTICA SIMBÓLICA#"
   ]
  },
  {
   "cell_type": "markdown",
   "metadata": {},
   "source": [
    "Julia usa o pacote **sympy** do Python via Pycall para realizar calculos de matemática simbólica. Dessa forma, é possível integrar e diferenciar funções simbolicamente, resolver EDOs de primeira ordem, resolver grande parte das EDOs lineares de segunda ordem, e ainda tem implementado o método da transformada de Laplace para EDOs lineares de qualquer ordem. Julia também suporta uma série de funções especiais e é capaz de criar gráficos via gnu-plot, possui métodos para resolver equações polinômiais e manipular matrizes (por exemplo, escalonar e calcular autovalores e autovetores). \n",
    "\n",
    "Uma ou várias variáveis simbólicas são definidas de 3 formas diferentes:\n",
    "```julia\n",
    "@vars x,y ou @vars x y\n",
    "@syms x,y ou @syms x y \n",
    "x,y= Sym(\"x,y\")\n",
    "```\n",
    "Uma variável simbólica não possui valor pré-definido e dessa forma permite manipulações algébricas."
   ]
  },
  {
   "cell_type": "markdown",
   "metadata": {},
   "source": [
    "### CARREGANDO PACOTE E DEFININDO VARIÁVEIS###"
   ]
  },
  {
   "cell_type": "code",
   "execution_count": 1,
   "metadata": {
    "collapsed": false
   },
   "outputs": [],
   "source": [
    "using SymPy"
   ]
  },
  {
   "cell_type": "code",
   "execution_count": 20,
   "metadata": {
    "collapsed": false
   },
   "outputs": [
    {
     "data": {
      "text/plain": [
       "(x,y)"
      ]
     },
     "execution_count": 20,
     "metadata": {},
     "output_type": "execute_result"
    }
   ],
   "source": [
    "x,y = Sym(\"x,y\")"
   ]
  },
  {
   "cell_type": "markdown",
   "metadata": {},
   "source": [
    "Ou "
   ]
  },
  {
   "cell_type": "code",
   "execution_count": 21,
   "metadata": {
    "collapsed": false
   },
   "outputs": [
    {
     "data": {
      "text/plain": [
       "(x,y)"
      ]
     },
     "execution_count": 21,
     "metadata": {},
     "output_type": "execute_result"
    }
   ],
   "source": [
    "@vars x,y # ou ainda @vars x y"
   ]
  },
  {
   "cell_type": "code",
   "execution_count": 22,
   "metadata": {
    "collapsed": false
   },
   "outputs": [
    {
     "data": {
      "text/plain": [
       "(x,y)"
      ]
     },
     "execution_count": 22,
     "metadata": {},
     "output_type": "execute_result"
    }
   ],
   "source": [
    "@syms x,y # ou ainda @syms x y"
   ]
  },
  {
   "cell_type": "code",
   "execution_count": 26,
   "metadata": {
    "collapsed": false
   },
   "outputs": [
    {
     "data": {
      "text/plain": [
       "(SymPy.Sym,SymPy.Sym)"
      ]
     },
     "execution_count": 26,
     "metadata": {},
     "output_type": "execute_result"
    }
   ],
   "source": [
    "typeof(x), typeof(y)"
   ]
  },
  {
   "cell_type": "markdown",
   "metadata": {},
   "source": [
    "### TESTANDO O CÁLCULO SIMBÓLICO###"
   ]
  },
  {
   "cell_type": "code",
   "execution_count": 23,
   "metadata": {
    "collapsed": false,
    "scrolled": false
   },
   "outputs": [
    {
     "data": {
      "text/latex": [
       "$$4 x + y^{2}$$"
      ],
      "text/plain": [
       "       2\n",
       "4⋅x + y "
      ]
     },
     "execution_count": 23,
     "metadata": {},
     "output_type": "execute_result"
    }
   ],
   "source": [
    "3*x + x + y*y"
   ]
  },
  {
   "cell_type": "code",
   "execution_count": 25,
   "metadata": {
    "collapsed": false
   },
   "outputs": [
    {
     "data": {
      "text/latex": [
       "$$x^{2}$$"
      ],
      "text/plain": [
       " 2\n",
       "x "
      ]
     },
     "execution_count": 25,
     "metadata": {},
     "output_type": "execute_result"
    }
   ],
   "source": [
    "x*x"
   ]
  },
  {
   "cell_type": "code",
   "execution_count": 6,
   "metadata": {
    "collapsed": false
   },
   "outputs": [
    {
     "data": {
      "text/latex": [
       "$$x^{2} + 5$$"
      ],
      "text/plain": [
       " 2    \n",
       "x  + 5"
      ]
     },
     "metadata": {},
     "output_type": "display_data"
    },
    {
     "data": {
      "text/latex": [
       "$$- 2 x^{2} + 5 x - 1$$"
      ],
      "text/plain": [
       "     2          \n",
       "- 2⋅x  + 5⋅x - 1"
      ]
     },
     "metadata": {},
     "output_type": "display_data"
    }
   ],
   "source": [
    "w = x^2 + 5\n",
    "\n",
    "wr = -2*x^2 + 5*x -1\n",
    "\n",
    "display(w)\n",
    "\n",
    "display(wr)"
   ]
  },
  {
   "cell_type": "code",
   "execution_count": 7,
   "metadata": {
    "collapsed": false
   },
   "outputs": [
    {
     "data": {
      "text/latex": [
       "$$- x^{2} + 5 x + 4$$"
      ],
      "text/plain": [
       "   2          \n",
       "- x  + 5⋅x + 4"
      ]
     },
     "execution_count": 7,
     "metadata": {},
     "output_type": "execute_result"
    }
   ],
   "source": [
    "w + wr"
   ]
  },
  {
   "cell_type": "code",
   "execution_count": 28,
   "metadata": {
    "collapsed": false
   },
   "outputs": [
    {
     "data": {
      "text/latex": [
       "\\begin{bmatrix}x\\\\x^{2}\\\\x^{3}\\end{bmatrix}"
      ],
      "text/plain": [
       "3-element Array{SymPy.Sym,1}\n",
       "⎡x ⎤\n",
       "⎢  ⎥\n",
       "⎢ 2⎥\n",
       "⎢x ⎥\n",
       "⎢  ⎥\n",
       "⎢ 3⎥\n",
       "⎣x ⎦"
      ]
     },
     "metadata": {},
     "output_type": "display_data"
    },
    {
     "data": {
      "text/latex": [
       "\\begin{bmatrix}2\\\\2 x\\\\2 x^{3}\\end{bmatrix}"
      ],
      "text/plain": [
       "3-element Array{SymPy.Sym,1}\n",
       "⎡ 2  ⎤\n",
       "⎢    ⎥\n",
       "⎢2⋅x ⎥\n",
       "⎢    ⎥\n",
       "⎢   3⎥\n",
       "⎣2⋅x ⎦"
      ]
     },
     "metadata": {},
     "output_type": "display_data"
    }
   ],
   "source": [
    "a = [x, x^2, x^3]; \n",
    "b = [2, 2*x, 2*x^3];\n",
    "\n",
    "display(a)\n",
    "display(b)"
   ]
  },
  {
   "cell_type": "code",
   "execution_count": 29,
   "metadata": {
    "collapsed": false
   },
   "outputs": [
    {
     "data": {
      "text/latex": [
       "\\begin{bmatrix}x + 2\\\\x^{2} + 2 x\\\\3 x^{3}\\end{bmatrix}"
      ],
      "text/plain": [
       "3-element Array{SymPy.Sym,1}\n",
       "⎡ x + 2  ⎤\n",
       "⎢        ⎥\n",
       "⎢ 2      ⎥\n",
       "⎢x  + 2⋅x⎥\n",
       "⎢        ⎥\n",
       "⎢     3  ⎥\n",
       "⎣  3⋅x   ⎦"
      ]
     },
     "execution_count": 29,
     "metadata": {},
     "output_type": "execute_result"
    }
   ],
   "source": [
    "a+b"
   ]
  },
  {
   "cell_type": "code",
   "execution_count": 30,
   "metadata": {
    "collapsed": false,
    "scrolled": false
   },
   "outputs": [
    {
     "data": {
      "text/latex": [
       "\\begin{bmatrix}x\\\\x^{2}\\\\x^{3}\\end{bmatrix}"
      ],
      "text/plain": [
       "3-element Array{SymPy.Sym,1}\n",
       "⎡x ⎤\n",
       "⎢  ⎥\n",
       "⎢ 2⎥\n",
       "⎢x ⎥\n",
       "⎢  ⎥\n",
       "⎢ 3⎥\n",
       "⎣x ⎦"
      ]
     },
     "metadata": {},
     "output_type": "display_data"
    },
    {
     "data": {
      "text/latex": [
       "\\begin{bmatrix}2\\\\2 x\\\\2 x^{3}\\end{bmatrix}"
      ],
      "text/plain": [
       "3-element Array{SymPy.Sym,1}\n",
       "⎡ 2  ⎤\n",
       "⎢    ⎥\n",
       "⎢2⋅x ⎥\n",
       "⎢    ⎥\n",
       "⎢   3⎥\n",
       "⎣2⋅x ⎦"
      ]
     },
     "metadata": {},
     "output_type": "display_data"
    },
    {
     "data": {
      "text/latex": [
       "\\begin{bmatrix}x + 2\\\\x^{2} + 2 x\\\\3 x^{3}\\end{bmatrix}"
      ],
      "text/plain": [
       "3-element Array{SymPy.Sym,1}\n",
       "⎡ x + 2  ⎤\n",
       "⎢        ⎥\n",
       "⎢ 2      ⎥\n",
       "⎢x  + 2⋅x⎥\n",
       "⎢        ⎥\n",
       "⎢     3  ⎥\n",
       "⎣  3⋅x   ⎦"
      ]
     },
     "metadata": {},
     "output_type": "display_data"
    },
    {
     "data": {
      "text/plain": [
       "(nothing,nothing,nothing)"
      ]
     },
     "execution_count": 30,
     "metadata": {},
     "output_type": "execute_result"
    }
   ],
   "source": [
    "x = 2; \n",
    "\n",
    "c = a+b;\n",
    "\n",
    "display(a), display(b), display(c)"
   ]
  },
  {
   "cell_type": "markdown",
   "metadata": {
    "collapsed": true
   },
   "source": [
    "No exemplo acima, foi atribuído um valor x = 2 para a variável e ainda assim não o cálculo não foi realizado. Porém, qualquer outra expressão a partir de agora contendo a variável \"x\" será avaliada. A JULIA não apresenta alteração dinâmica de valor em estruturas ja montadas."
   ]
  },
  {
   "cell_type": "code",
   "execution_count": 31,
   "metadata": {
    "collapsed": false,
    "scrolled": true
   },
   "outputs": [
    {
     "data": {
      "text/plain": [
       "8.216150246265736"
      ]
     },
     "execution_count": 31,
     "metadata": {},
     "output_type": "execute_result"
    }
   ],
   "source": [
    "# x = 2 ja atribuído acima\n",
    "\n",
    "wt = x^3 - log(x) + sin(x)"
   ]
  },
  {
   "cell_type": "markdown",
   "metadata": {},
   "source": []
  },
  {
   "cell_type": "markdown",
   "metadata": {},
   "source": [
    "### ÁLGEBRA MATRICIAL SIMBÓLICA "
   ]
  },
  {
   "cell_type": "markdown",
   "metadata": {},
   "source": [
    "É possível trabalhar com matrizes e vetores simbólicos. Basta declarar as variáveis e realizar a execução"
   ]
  },
  {
   "cell_type": "code",
   "execution_count": 12,
   "metadata": {
    "collapsed": false
   },
   "outputs": [
    {
     "data": {
      "text/plain": [
       "(a11,a12,a21,a22,b11,b21)"
      ]
     },
     "execution_count": 12,
     "metadata": {},
     "output_type": "execute_result"
    }
   ],
   "source": [
    "using SymPy\n",
    "\n",
    "@syms a11 ,a12, a21, a22, b11, b21 "
   ]
  },
  {
   "cell_type": "code",
   "execution_count": 13,
   "metadata": {
    "collapsed": false
   },
   "outputs": [
    {
     "data": {
      "text/latex": [
       "\\begin{bmatrix}a_{11}&a_{12}\\\\a_{21}&a_{22}\\end{bmatrix}"
      ],
      "text/plain": [
       "2x2 Array{SymPy.Sym,2}\n",
       "⎡a₁₁  a₁₂⎤\n",
       "⎢        ⎥\n",
       "⎣a₂₁  a₂₂⎦"
      ]
     },
     "metadata": {},
     "output_type": "display_data"
    },
    {
     "data": {
      "text/latex": [
       "\\begin{bmatrix}b_{11}\\\\b_{21}\\end{bmatrix}"
      ],
      "text/plain": [
       "2-element Array{SymPy.Sym,1}\n",
       "⎡b₁₁⎤\n",
       "⎢   ⎥\n",
       "⎣b₂₁⎦"
      ]
     },
     "metadata": {},
     "output_type": "display_data"
    },
    {
     "data": {
      "text/plain": [
       "(nothing,nothing)"
      ]
     },
     "execution_count": 13,
     "metadata": {},
     "output_type": "execute_result"
    }
   ],
   "source": [
    "A = [a11 a12; a21 a22]; B = [b11;b21]\n",
    "\n",
    "display(A), display(B)"
   ]
  },
  {
   "cell_type": "code",
   "execution_count": 14,
   "metadata": {
    "collapsed": false,
    "scrolled": true
   },
   "outputs": [
    {
     "data": {
      "text/latex": [
       "$$a_{11} \\left(a_{22} - \\frac{a_{12} a_{21}}{a_{11}}\\right)$$"
      ],
      "text/plain": [
       "    ⎛      a₁₂⋅a₂₁⎞\n",
       "a₁₁⋅⎜a₂₂ - ───────⎟\n",
       "    ⎝        a₁₁  ⎠"
      ]
     },
     "execution_count": 14,
     "metadata": {},
     "output_type": "execute_result"
    }
   ],
   "source": [
    "# calculo do determiannte\n",
    "\n",
    "det(A)"
   ]
  },
  {
   "cell_type": "code",
   "execution_count": 15,
   "metadata": {
    "collapsed": false,
    "scrolled": true
   },
   "outputs": [
    {
     "data": {
      "text/latex": [
       "\\begin{bmatrix}\\frac{1}{a_{11}} \\left(- \\frac{a_{12} \\left(b_{21} - \\frac{a_{21} b_{11}}{a_{11}}\\right)}{a_{22} - \\frac{a_{12} a_{21}}{a_{11}}} + b_{11}\\right)\\\\\\frac{b_{21} - \\frac{a_{21} b_{11}}{a_{11}}}{a_{22} - \\frac{a_{12} a_{21}}{a_{11}}}\\end{bmatrix}"
      ],
      "text/plain": [
       "2-element Array{SymPy.Sym,1}\n",
       "⎡      ⎛      a₂₁⋅b₁₁⎞      ⎤\n",
       "⎢  a₁₂⋅⎜b₂₁ - ───────⎟      ⎥\n",
       "⎢      ⎝        a₁₁  ⎠      ⎥\n",
       "⎢- ─────────────────── + b₁₁⎥\n",
       "⎢           a₁₂⋅a₂₁         ⎥\n",
       "⎢     a₂₂ - ───────         ⎥\n",
       "⎢             a₁₁           ⎥\n",
       "⎢───────────────────────────⎥\n",
       "⎢            a₁₁            ⎥\n",
       "⎢                           ⎥\n",
       "⎢             a₂₁⋅b₁₁       ⎥\n",
       "⎢       b₂₁ - ───────       ⎥\n",
       "⎢               a₁₁         ⎥\n",
       "⎢       ─────────────       ⎥\n",
       "⎢             a₁₂⋅a₂₁       ⎥\n",
       "⎢       a₂₂ - ───────       ⎥\n",
       "⎣               a₁₁         ⎦"
      ]
     },
     "execution_count": 15,
     "metadata": {},
     "output_type": "execute_result"
    }
   ],
   "source": [
    "# resolvendo o sistema linear\n",
    "\n",
    "x = A\\B"
   ]
  },
  {
   "cell_type": "code",
   "execution_count": 16,
   "metadata": {
    "collapsed": false
   },
   "outputs": [
    {
     "data": {
      "text/latex": [
       "\\begin{bmatrix}\\frac{1}{a_{11}} \\left(1 + \\frac{a_{12} a_{21}}{a_{11} \\left(a_{22} - \\frac{a_{12} a_{21}}{a_{11}}\\right)}\\right)&- \\frac{a_{12}}{a_{11} \\left(a_{22} - \\frac{a_{12} a_{21}}{a_{11}}\\right)}\\\\- \\frac{a_{21}}{a_{11} \\left(a_{22} - \\frac{a_{12} a_{21}}{a_{11}}\\right)}&\\frac{1}{a_{22} - \\frac{a_{12} a_{21}}{a_{11}}}\\end{bmatrix}"
      ],
      "text/plain": [
       "2x2 Array{SymPy.Sym,2}\n",
       "⎡          a₁₂⋅a₂₁                           ⎤\n",
       "⎢1 + ───────────────────                     ⎥\n",
       "⎢        ⎛      a₁₂⋅a₂₁⎞                     ⎥\n",
       "⎢    a₁₁⋅⎜a₂₂ - ───────⎟                     ⎥\n",
       "⎢        ⎝        a₁₁  ⎠         -a₁₂        ⎥\n",
       "⎢───────────────────────  ───────────────────⎥\n",
       "⎢          a₁₁                ⎛      a₁₂⋅a₂₁⎞⎥\n",
       "⎢                         a₁₁⋅⎜a₂₂ - ───────⎟⎥\n",
       "⎢                             ⎝        a₁₁  ⎠⎥\n",
       "⎢                                            ⎥\n",
       "⎢         -a₂₁                     1         ⎥\n",
       "⎢  ───────────────────       ─────────────   ⎥\n",
       "⎢      ⎛      a₁₂⋅a₂₁⎞             a₁₂⋅a₂₁   ⎥\n",
       "⎢  a₁₁⋅⎜a₂₂ - ───────⎟       a₂₂ - ───────   ⎥\n",
       "⎣      ⎝        a₁₁  ⎠               a₁₁     ⎦"
      ]
     },
     "execution_count": 16,
     "metadata": {},
     "output_type": "execute_result"
    }
   ],
   "source": [
    "#inversa da matriz \n",
    "\n",
    "inv(A)"
   ]
  },
  {
   "cell_type": "code",
   "execution_count": 17,
   "metadata": {
    "collapsed": false
   },
   "outputs": [
    {
     "data": {
      "text/latex": [
       "\\begin{bmatrix}a_{11} b_{11} + a_{12} b_{21}\\\\a_{21} b_{11} + a_{22} b_{21}\\end{bmatrix}"
      ],
      "text/plain": [
       "2-element Array{SymPy.Sym,1}\n",
       "⎡a₁₁⋅b₁₁ + a₁₂⋅b₂₁⎤\n",
       "⎢                 ⎥\n",
       "⎣a₂₁⋅b₁₁ + a₂₂⋅b₂₁⎦"
      ]
     },
     "execution_count": 17,
     "metadata": {},
     "output_type": "execute_result"
    }
   ],
   "source": [
    "A*B"
   ]
  },
  {
   "cell_type": "markdown",
   "metadata": {},
   "source": [
    "%%%Fim Matemática Simbólica%%%"
   ]
  }
 ],
 "metadata": {
  "kernelspec": {
   "display_name": "Julia 0.4.5",
   "language": "julia",
   "name": "julia-0.4"
  },
  "language_info": {
   "file_extension": ".jl",
   "mimetype": "application/julia",
   "name": "julia",
   "version": "0.4.5"
  }
 },
 "nbformat": 4,
 "nbformat_minor": 0
}
