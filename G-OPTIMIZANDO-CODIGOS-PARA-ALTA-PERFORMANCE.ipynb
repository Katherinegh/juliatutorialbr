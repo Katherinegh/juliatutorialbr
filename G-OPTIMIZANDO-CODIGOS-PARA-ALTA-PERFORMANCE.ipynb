{
 "cells": [
  {
   "cell_type": "markdown",
   "metadata": {},
   "source": [
    "# OPTIMIZANDO CODIGOS PARA ALTA PERFORMANCE#"
   ]
  },
  {
   "cell_type": "markdown",
   "metadata": {},
   "source": [
    "## TIPOS DEFINIDOS EM FUNÇÕES ##"
   ]
  },
  {
   "cell_type": "markdown",
   "metadata": {},
   "source": [
    "Os tipos são muito importantes em JULIA. Um tipo mal definido pode atrasar e muito o desempenho de uma função/codigo. A melhor forma de obter um bom desempenho é casar o tipo do dado a ser trabalhado e o tipo que a função vai trabalhar.\n",
    "No exemplo abaixo, temos uma função que soma eleentos de um vetor. No primeiro teste a função soma_vetor1 recebe um vetor de qualquer tipo e trabalha com \"soma\" do tipo Float (soma = 0.0)"
   ]
  },
  {
   "cell_type": "code",
   "execution_count": 4,
   "metadata": {
    "collapsed": false
   },
   "outputs": [
    {
     "data": {
      "text/plain": [
       "soma_vetor1 (generic function with 1 method)"
      ]
     },
     "execution_count": 4,
     "metadata": {},
     "output_type": "execute_result"
    }
   ],
   "source": [
    "function soma_vetor1(x)\n",
    "    soma = 0.0\n",
    "    for i in 1:length(x)\n",
    "        soma += x[i]\n",
    "    end\n",
    "    return soma\n",
    "end"
   ]
  },
  {
   "cell_type": "code",
   "execution_count": 22,
   "metadata": {
    "collapsed": false
   },
   "outputs": [],
   "source": [
    "x1 = collect(0:0.0001:5000);\n",
    "x2 = linspace(0,5000,50000001);\n",
    "x3 = 0:0.0001:5000;"
   ]
  },
  {
   "cell_type": "code",
   "execution_count": 6,
   "metadata": {
    "collapsed": false
   },
   "outputs": [
    {
     "data": {
      "text/plain": [
       "(Array{Float64,1},LinSpace{Float64},FloatRange{Float64})"
      ]
     },
     "execution_count": 6,
     "metadata": {},
     "output_type": "execute_result"
    }
   ],
   "source": [
    "typeof(x1) , typeof(x2) , typeof(x3)"
   ]
  },
  {
   "cell_type": "code",
   "execution_count": 7,
   "metadata": {
    "collapsed": false,
    "scrolled": true
   },
   "outputs": [
    {
     "name": "stdout",
     "output_type": "stream",
     "text": [
      "  0.057723 seconds (1.90 k allocations: 95.874 KB)\n",
      "elapsed time (ns): 57722685\n",
      "bytes allocated:   98175\n",
      "pool allocs:       1898\n"
     ]
    },
    {
     "data": {
      "text/plain": [
       "1.2500000249999998e11"
      ]
     },
     "execution_count": 7,
     "metadata": {},
     "output_type": "execute_result"
    }
   ],
   "source": [
    "@timev soma_vetor1(x1)"
   ]
  },
  {
   "cell_type": "code",
   "execution_count": 23,
   "metadata": {
    "collapsed": false,
    "scrolled": true
   },
   "outputs": [
    {
     "name": "stdout",
     "output_type": "stream",
     "text": [
      "  0.356637 seconds (5 allocations: 176 bytes)\n",
      "elapsed time (ns): 356637287\n",
      "bytes allocated:   176\n",
      "pool allocs:       5\n"
     ]
    },
    {
     "data": {
      "text/plain": [
       "1.2500000249999998e11"
      ]
     },
     "execution_count": 23,
     "metadata": {},
     "output_type": "execute_result"
    }
   ],
   "source": [
    "@timev soma_vetor1(x2)"
   ]
  },
  {
   "cell_type": "code",
   "execution_count": 9,
   "metadata": {
    "collapsed": false
   },
   "outputs": [
    {
     "name": "stdout",
     "output_type": "stream",
     "text": [
      "  0.298190 seconds (7.38 k allocations: 336.250 KB)\n",
      "elapsed time (ns): 298189761\n",
      "bytes allocated:   344320\n",
      "pool allocs:       7375\n"
     ]
    },
    {
     "data": {
      "text/plain": [
       "1.2500000249999998e11"
      ]
     },
     "execution_count": 9,
     "metadata": {},
     "output_type": "execute_result"
    }
   ],
   "source": [
    "@timev soma_vetor1(x3)"
   ]
  },
  {
   "cell_type": "markdown",
   "metadata": {},
   "source": [
    "A função agora modificada. Note que \"soma\" agora é do tipo inteiro, mas está recebendo um vetor do tipo Float"
   ]
  },
  {
   "cell_type": "code",
   "execution_count": 10,
   "metadata": {
    "collapsed": false
   },
   "outputs": [
    {
     "data": {
      "text/plain": [
       "soma_vetor2 (generic function with 1 method)"
      ]
     },
     "execution_count": 10,
     "metadata": {},
     "output_type": "execute_result"
    }
   ],
   "source": [
    "function soma_vetor2(x)\n",
    "    soma = 0             # so esse datalhe ja é suficiente para reduzir o desempenho\n",
    "    for i in 1:length(x)\n",
    "        soma += x[i]\n",
    "    end\n",
    "    return soma\n",
    "end"
   ]
  },
  {
   "cell_type": "code",
   "execution_count": 24,
   "metadata": {
    "collapsed": false
   },
   "outputs": [
    {
     "name": "stdout",
     "output_type": "stream",
     "text": [
      "  1.372780 seconds (100.00 M allocations: 1.490 GB, 10.56% gc time)\n",
      "elapsed time (ns): 1372779905\n",
      "gc time (ns):      144924221\n",
      "bytes allocated:   1600000192\n",
      "pool allocs:       100000006\n",
      "GC pauses:         69\n",
      "full collections:  1\n"
     ]
    },
    {
     "data": {
      "text/plain": [
       "1.2500000249999998e11"
      ]
     },
     "execution_count": 24,
     "metadata": {},
     "output_type": "execute_result"
    }
   ],
   "source": [
    "@timev soma_vetor2(x1)"
   ]
  },
  {
   "cell_type": "code",
   "execution_count": 25,
   "metadata": {
    "collapsed": false
   },
   "outputs": [
    {
     "name": "stdout",
     "output_type": "stream",
     "text": [
      "  1.616098 seconds (100.00 M allocations: 1.490 GB, 6.03% gc time)\n",
      "elapsed time (ns): 1616098385\n",
      "gc time (ns):      97421455\n",
      "bytes allocated:   1600000192\n",
      "pool allocs:       100000006\n",
      "GC pauses:         70\n"
     ]
    },
    {
     "data": {
      "text/plain": [
       "1.2500000249999998e11"
      ]
     },
     "execution_count": 25,
     "metadata": {},
     "output_type": "execute_result"
    }
   ],
   "source": [
    "@timev soma_vetor2(x2)"
   ]
  },
  {
   "cell_type": "code",
   "execution_count": 26,
   "metadata": {
    "collapsed": false
   },
   "outputs": [
    {
     "name": "stdout",
     "output_type": "stream",
     "text": [
      "  1.550942 seconds (100.00 M allocations: 1.490 GB, 6.21% gc time)\n",
      "elapsed time (ns): 1550942293\n",
      "gc time (ns):      96269398\n",
      "bytes allocated:   1600000192\n",
      "pool allocs:       100000006\n",
      "GC pauses:         70\n"
     ]
    },
    {
     "data": {
      "text/plain": [
       "1.2500000249999998e11"
      ]
     },
     "execution_count": 26,
     "metadata": {},
     "output_type": "execute_result"
    }
   ],
   "source": [
    "@timev soma_vetor2(x3)"
   ]
  },
  {
   "cell_type": "markdown",
   "metadata": {},
   "source": [
    "## FUNÇÕES ANÔNIMAS ##\n",
    "\n",
    "Funções anônimas - funções sem nome - são funções no qual não há nome para defini-las. Um bom exemplo são as funções o **map()** e em compreensões de lista. Não precisam usar o SymPy ou a forma de função genérica (funcao(variavel) = expressao). O uso principal para funções anônimas é passá-los para funções que assumem outras funções como argumentos. Em geral são mais lentas que as funções genéricas ou simbólicas. "
   ]
  },
  {
   "cell_type": "code",
   "execution_count": 6,
   "metadata": {
    "collapsed": false
   },
   "outputs": [],
   "source": [
    "using FastAnonymous"
   ]
  },
  {
   "cell_type": "code",
   "execution_count": 7,
   "metadata": {
    "collapsed": false,
    "scrolled": true
   },
   "outputs": [
    {
     "name": "stdout",
     "output_type": "stream",
     "text": [
      " 19.561381 seconds (200.10 M allocations: 4.475 GB, 1.82% gc time)\n",
      "elapsed time (ns): 19561381075\n",
      "gc time (ns):      356042823\n",
      "bytes allocated:   4805360126\n",
      "pool allocs:       200104522\n",
      "non-pool GC allocs:15\n",
      "malloc() calls:    2\n",
      "GC pauses:         141\n",
      "full collections:  1\n"
     ]
    }
   ],
   "source": [
    "@timev map((w -> w^2),rand(10000,10000));"
   ]
  },
  {
   "cell_type": "markdown",
   "metadata": {},
   "source": [
    "A mesma função so que agora usando a macro @anon do pacote FastAnonymous"
   ]
  },
  {
   "cell_type": "code",
   "execution_count": 28,
   "metadata": {
    "collapsed": false
   },
   "outputs": [
    {
     "name": "stdout",
     "output_type": "stream",
     "text": [
      "  0.618874 seconds (15.83 k allocations: 1.491 GB, 0.97% gc time)\n",
      "elapsed time (ns): 618873767\n",
      "gc time (ns):      5986321\n",
      "bytes allocated:   1600704471\n",
      "pool allocs:       15825\n",
      "malloc() calls:    2\n",
      "GC pauses:         2\n"
     ]
    }
   ],
   "source": [
    "@timev map(@anon(w -> w^2),rand(10000,10000));"
   ]
  },
  {
   "cell_type": "code",
   "execution_count": null,
   "metadata": {
    "collapsed": true
   },
   "outputs": [],
   "source": []
  },
  {
   "cell_type": "code",
   "execution_count": null,
   "metadata": {
    "collapsed": true
   },
   "outputs": [],
   "source": []
  },
  {
   "cell_type": "code",
   "execution_count": null,
   "metadata": {
    "collapsed": true
   },
   "outputs": [],
   "source": []
  },
  {
   "cell_type": "code",
   "execution_count": null,
   "metadata": {
    "collapsed": true
   },
   "outputs": [],
   "source": []
  },
  {
   "cell_type": "code",
   "execution_count": null,
   "metadata": {
    "collapsed": true
   },
   "outputs": [],
   "source": []
  }
 ],
 "metadata": {
  "kernelspec": {
   "display_name": "Julia 0.4.5",
   "language": "julia",
   "name": "julia-0.4"
  },
  "language_info": {
   "file_extension": ".jl",
   "mimetype": "application/julia",
   "name": "julia",
   "version": "0.4.5"
  }
 },
 "nbformat": 4,
 "nbformat_minor": 0
}
