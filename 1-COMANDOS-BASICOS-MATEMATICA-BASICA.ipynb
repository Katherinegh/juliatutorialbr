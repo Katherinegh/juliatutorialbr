{
 "cells": [
  {
   "cell_type": "markdown",
   "metadata": {
    "collapsed": false,
    "raw_mimetype": "text/latex"
   },
   "source": [
    "# COMANDOS BÁSICOS E MATEMÁTICA BÁSICA #\n"
   ]
  },
  {
   "cell_type": "markdown",
   "metadata": {},
   "source": [
    "### COMO USAR O OS COMANDOS DA LINGUAGEM JULIA###\n",
    "\n",
    "Os comandos da linguagem Julia são muito parecidos com os comandos do MatLab, porém, não há a necessidade de terminar um comando com o \" ; \". Vejamos alguns pontos interessanes:\n",
    "- Ponto e virgula ao final do comando oculta o resultado;\n",
    "- Não há a necessidade de vetorizar uma variável do tipo vetor ou matriz\n",
    "- Comentários são na forma de #;\n",
    "- O ponto antes de um operador matemático indica operação elemento-elemento em um vetor (ex: .*, ./, .^);\n",
    "- O tipo é muito importante. 1.0 (float) e 1 (inteiro) são diferetes;\n",
    "- Uma informação do tipo: variable::Bool significa que a variável é do tipo booleano;\n",
    "- A notação reversa polonesa (RPN) pode ser aplicada aos operadores matemáticos (Ex: +(3,4));\n",
    "- Todos os pacotes são escritos usando a primeira letra maiúscula entre aspas duplas;\n",
    "- Julia é \"Case-Sensitive\" F e f são diferentes;\n",
    "- Funções e comandos de controle de fluxo (if, for, while...) necessita de \"end\" para terminar o comando;\n",
    "- Macros são iniciados por @"
   ]
  },
  {
   "cell_type": "markdown",
   "metadata": {},
   "source": [
    "### COMANDOS PRELIMINARES###"
   ]
  },
  {
   "cell_type": "code",
   "execution_count": 47,
   "metadata": {
    "collapsed": false,
    "scrolled": true
   },
   "outputs": [
    {
     "name": "stdout",
     "output_type": "stream",
     "text": [
      "Julia Version 0.4.5\n",
      "Commit 2ac304d (2016-03-18 00:58 UTC)\n",
      "Platform Info:\n",
      "  System: Linux (x86_64-linux-gnu)\n",
      "  CPU: Intel(R) Core(TM) i5-4200M CPU @ 2.50GHz\n",
      "  WORD_SIZE: 64\n",
      "  BLAS: libopenblas (NO_LAPACK NO_LAPACKE DYNAMIC_ARCH NO_AFFINITY Haswell)\n",
      "  LAPACK: liblapack.so.3\n",
      "  LIBM: libopenlibm\n",
      "  LLVM: libLLVM-3.3\n"
     ]
    }
   ],
   "source": [
    "versioninfo() # informações sobre o computador"
   ]
  },
  {
   "cell_type": "code",
   "execution_count": 46,
   "metadata": {
    "collapsed": false,
    "scrolled": false
   },
   "outputs": [
    {
     "name": "stdout",
     "output_type": "stream",
     "text": [
      "search: versioninfo\n",
      "\n"
     ]
    },
    {
     "data": {
      "text/latex": [
       "\\begin{verbatim}\n",
       "versioninfo([verbose::Bool])\n",
       "\\end{verbatim}\n",
       "Print information about the version of Julia in use. If the \\texttt{verbose} argument is \\texttt{true}, detailed system information is shown as well.\n"
      ],
      "text/markdown": [
       "```\n",
       "versioninfo([verbose::Bool])\n",
       "```\n",
       "\n",
       "Print information about the version of Julia in use. If the `verbose` argument is `true`, detailed system information is shown as well.\n"
      ],
      "text/plain": [
       "```\n",
       "versioninfo([verbose::Bool])\n",
       "```\n",
       "\n",
       "Print information about the version of Julia in use. If the `verbose` argument is `true`, detailed system information is shown as well.\n"
      ]
     },
     "execution_count": 46,
     "metadata": {},
     "output_type": "execute_result"
    }
   ],
   "source": [
    "?versioninfo #Ajuda"
   ]
  },
  {
   "cell_type": "code",
   "execution_count": 38,
   "metadata": {
    "collapsed": false
   },
   "outputs": [
    {
     "data": {
      "text/plain": [
       "4"
      ]
     },
     "execution_count": 38,
     "metadata": {},
     "output_type": "execute_result"
    }
   ],
   "source": [
    "# Número de cores do processador \n",
    "\n",
    "CPU_CORES"
   ]
  },
  {
   "cell_type": "code",
   "execution_count": 66,
   "metadata": {
    "collapsed": false
   },
   "outputs": [
    {
     "data": {
      "text/plain": [
       "ErrorException"
      ]
     },
     "execution_count": 66,
     "metadata": {},
     "output_type": "execute_result"
    }
   ],
   "source": [
    "ErrorException"
   ]
  },
  {
   "cell_type": "code",
   "execution_count": 67,
   "metadata": {
    "collapsed": false,
    "scrolled": true
   },
   "outputs": [
    {
     "name": "stdout",
     "output_type": "stream",
     "text": [
      "search: error ErrorException strerror showerror LoadError InitError TypeError\n",
      "\n"
     ]
    },
    {
     "data": {
      "text/latex": [
       "\\begin{verbatim}\n",
       "error(message::AbstractString)\n",
       "\\end{verbatim}\n",
       "Raise an \\texttt{ErrorException} with the given message\n"
      ],
      "text/markdown": [
       "```\n",
       "error(message::AbstractString)\n",
       "```\n",
       "\n",
       "Raise an `ErrorException` with the given message\n"
      ],
      "text/plain": [
       "```\n",
       "error(message::AbstractString)\n",
       "```\n",
       "\n",
       "Raise an `ErrorException` with the given message\n"
      ]
     },
     "execution_count": 67,
     "metadata": {},
     "output_type": "execute_result"
    }
   ],
   "source": [
    "?error"
   ]
  },
  {
   "cell_type": "code",
   "execution_count": null,
   "metadata": {
    "collapsed": true
   },
   "outputs": [],
   "source": []
  },
  {
   "cell_type": "markdown",
   "metadata": {},
   "source": [
    "### MATEMÁTICA BÁSICA###"
   ]
  },
  {
   "cell_type": "code",
   "execution_count": 5,
   "metadata": {
    "collapsed": false,
    "scrolled": true
   },
   "outputs": [
    {
     "data": {
      "text/plain": [
       "7"
      ]
     },
     "execution_count": 5,
     "metadata": {},
     "output_type": "execute_result"
    }
   ],
   "source": [
    "2 + 5"
   ]
  },
  {
   "cell_type": "code",
   "execution_count": 4,
   "metadata": {
    "collapsed": false
   },
   "outputs": [
    {
     "data": {
      "text/plain": [
       "0.1"
      ]
     },
     "execution_count": 4,
     "metadata": {},
     "output_type": "execute_result"
    }
   ],
   "source": [
    "10e-2"
   ]
  },
  {
   "cell_type": "code",
   "execution_count": 5,
   "metadata": {
    "collapsed": false
   },
   "outputs": [
    {
     "data": {
      "text/plain": [
       "20.085536923187668"
      ]
     },
     "execution_count": 5,
     "metadata": {},
     "output_type": "execute_result"
    }
   ],
   "source": [
    "# e^3\n",
    "\n",
    "exp(3)"
   ]
  },
  {
   "cell_type": "code",
   "execution_count": 6,
   "metadata": {
    "collapsed": false
   },
   "outputs": [
    {
     "data": {
      "text/plain": [
       "64"
      ]
     },
     "execution_count": 6,
     "metadata": {},
     "output_type": "execute_result"
    }
   ],
   "source": [
    "2^6"
   ]
  },
  {
   "cell_type": "code",
   "execution_count": 7,
   "metadata": {
    "collapsed": false
   },
   "outputs": [
    {
     "data": {
      "text/plain": [
       "0.765625"
      ]
     },
     "execution_count": 7,
     "metadata": {},
     "output_type": "execute_result"
    }
   ],
   "source": [
    "(2 + 5)^2/(3 + 1)^3"
   ]
  },
  {
   "cell_type": "code",
   "execution_count": 8,
   "metadata": {
    "collapsed": false,
    "scrolled": true
   },
   "outputs": [
    {
     "data": {
      "text/plain": [
       "1.0"
      ]
     },
     "execution_count": 8,
     "metadata": {},
     "output_type": "execute_result"
    }
   ],
   "source": [
    "sin(pi/2)"
   ]
  },
  {
   "cell_type": "code",
   "execution_count": 9,
   "metadata": {
    "collapsed": false,
    "scrolled": true
   },
   "outputs": [
    {
     "data": {
      "text/plain": [
       "0.2632755453481439"
      ]
     },
     "execution_count": 9,
     "metadata": {},
     "output_type": "execute_result"
    }
   ],
   "source": [
    "# número aleatório entre 0 e 1\n",
    "\n",
    "rand()"
   ]
  },
  {
   "cell_type": "code",
   "execution_count": 10,
   "metadata": {
    "collapsed": false
   },
   "outputs": [
    {
     "data": {
      "text/plain": [
       "6-element Array{Int64,1}:\n",
       " 2\n",
       " 3\n",
       " 6\n",
       " 3\n",
       " 9\n",
       " 9"
      ]
     },
     "execution_count": 10,
     "metadata": {},
     "output_type": "execute_result"
    }
   ],
   "source": [
    "# 6 numeros aleatorios de 0 a 10\n",
    "\n",
    "rand(0:10, 6)"
   ]
  },
  {
   "cell_type": "code",
   "execution_count": 11,
   "metadata": {
    "collapsed": false
   },
   "outputs": [
    {
     "data": {
      "text/plain": [
       "([41,46,45,45,57,21],[1,1,8,1,48,5],[31,17,31,5,7,15])"
      ]
     },
     "execution_count": 11,
     "metadata": {},
     "output_type": "execute_result"
    }
   ],
   "source": [
    "# jogos da mega sena. Claro que não é lá essas coisas né\n",
    "\n",
    "rand(1:60,6), rand(1:60,6),rand(1:60,6)"
   ]
  },
  {
   "cell_type": "code",
   "execution_count": 12,
   "metadata": {
    "collapsed": false
   },
   "outputs": [
    {
     "data": {
      "text/plain": [
       "7"
      ]
     },
     "execution_count": 12,
     "metadata": {},
     "output_type": "execute_result"
    }
   ],
   "source": [
    "# MDC\n",
    "\n",
    "gcd(7,14)"
   ]
  },
  {
   "cell_type": "code",
   "execution_count": 13,
   "metadata": {
    "collapsed": false
   },
   "outputs": [
    {
     "data": {
      "text/plain": [
       "14"
      ]
     },
     "execution_count": 13,
     "metadata": {},
     "output_type": "execute_result"
    }
   ],
   "source": [
    "# MMC\n",
    "\n",
    "lcm(7,14)"
   ]
  },
  {
   "cell_type": "markdown",
   "metadata": {},
   "source": [
    "<strong>Multiplos calculos</strong>\n",
    "\n",
    "O uso a vírgula \" , \" permite efetuar mais de uma expressão"
   ]
  },
  {
   "cell_type": "code",
   "execution_count": 14,
   "metadata": {
    "collapsed": false
   },
   "outputs": [
    {
     "data": {
      "text/plain": [
       "(1.4142135623730951,0.2222222222222222)"
      ]
     },
     "execution_count": 14,
     "metadata": {},
     "output_type": "execute_result"
    }
   ],
   "source": [
    "sqrt(2) , 2.0*3.0^-2"
   ]
  },
  {
   "cell_type": "code",
   "execution_count": 15,
   "metadata": {
    "collapsed": false
   },
   "outputs": [
    {
     "data": {
      "text/plain": [
       "0.2222222222222222"
      ]
     },
     "execution_count": 15,
     "metadata": {},
     "output_type": "execute_result"
    }
   ],
   "source": [
    "# se usado o ponto e virgula, só será impresso a ultimo cálculo\n",
    "\n",
    "sqrt(2) ; 2.0*3.0^-2"
   ]
  },
  {
   "cell_type": "markdown",
   "metadata": {},
   "source": [
    "<strong> Cálculo trigonometrico/Hiperbólico </strong>\n",
    "\n",
    "sin(x)    cos(x)    tan(x)    cot(x)    sec(x)    csc(x)  sinh(x)   cosh(x)   tanh(x)   coth(x)   sech(x)   csch(x)\n",
    "\n",
    "\n",
    "asin(x)   acos(x)   atan(x)   acot(x)   asec(x)   acsc(x)  acoth(x)  asech(x)  acsch(x)  sinc(x)   cosc(x)   atan2(x)"
   ]
  },
  {
   "cell_type": "code",
   "execution_count": 16,
   "metadata": {
    "collapsed": false,
    "scrolled": true
   },
   "outputs": [
    {
     "data": {
      "text/plain": [
       "(0.7071067811865475,-1.0,0.9999999999999999)"
      ]
     },
     "execution_count": 16,
     "metadata": {},
     "output_type": "execute_result"
    }
   ],
   "source": [
    "# radiandos\n",
    "\n",
    "sin(pi/4) , cos(pi) , tan(pi/4)"
   ]
  },
  {
   "cell_type": "code",
   "execution_count": 17,
   "metadata": {
    "collapsed": false
   },
   "outputs": [
    {
     "data": {
      "text/plain": [
       "(1.5248686188220641,1.4142135623730951,1.414213562373095)"
      ]
     },
     "execution_count": 17,
     "metadata": {},
     "output_type": "execute_result"
    }
   ],
   "source": [
    "coth(pi/4), csc(pi/4) , sec(pi/4)"
   ]
  },
  {
   "cell_type": "code",
   "execution_count": 18,
   "metadata": {
    "collapsed": false,
    "scrolled": true
   },
   "outputs": [
    {
     "data": {
      "text/plain": [
       "(1.0,0.0)"
      ]
     },
     "execution_count": 18,
     "metadata": {},
     "output_type": "execute_result"
    }
   ],
   "source": [
    "# Para o angulo em grau (º), acrescenta-se o \"d\"\n",
    "\n",
    "sind(90), cosd(90)"
   ]
  },
  {
   "cell_type": "markdown",
   "metadata": {},
   "source": [
    "<strong> Cálculo Angular </strong>"
   ]
  },
  {
   "cell_type": "code",
   "execution_count": 10,
   "metadata": {
    "collapsed": false
   },
   "outputs": [
    {
     "data": {
      "text/plain": [
       "1.0471975511965976"
      ]
     },
     "execution_count": 10,
     "metadata": {},
     "output_type": "execute_result"
    }
   ],
   "source": [
    "# Converte x de graus to radianos\n",
    "\n",
    "deg2rad(60)"
   ]
  },
  {
   "cell_type": "code",
   "execution_count": 11,
   "metadata": {
    "collapsed": false
   },
   "outputs": [
    {
     "data": {
      "text/plain": [
       "59.99999999999999"
      ]
     },
     "execution_count": 11,
     "metadata": {},
     "output_type": "execute_result"
    }
   ],
   "source": [
    "# Converte x de radianos para graus\n",
    "\n",
    "rad2deg(1.0471975511965976)"
   ]
  },
  {
   "cell_type": "markdown",
   "metadata": {},
   "source": [
    "** Cálculo Exponenial/Logaritmo**"
   ]
  },
  {
   "cell_type": "code",
   "execution_count": 14,
   "metadata": {
    "collapsed": false
   },
   "outputs": [
    {
     "data": {
      "text/plain": [
       "7.38905609893065"
      ]
     },
     "execution_count": 14,
     "metadata": {},
     "output_type": "execute_result"
    }
   ],
   "source": [
    "# Função exponencial natural em x\n",
    "\n",
    "exp(2)"
   ]
  },
  {
   "cell_type": "code",
   "execution_count": 15,
   "metadata": {
    "collapsed": false
   },
   "outputs": [
    {
     "data": {
      "text/plain": [
       "147.4131591025766"
      ]
     },
     "execution_count": 15,
     "metadata": {},
     "output_type": "execute_result"
    }
   ],
   "source": [
    "#accurate exp (x) -1 para x próximo de zero\n",
    "\n",
    "expm1(5)"
   ]
  },
  {
   "cell_type": "code",
   "execution_count": 27,
   "metadata": {
    "collapsed": false
   },
   "outputs": [
    {
     "data": {
      "text/plain": [
       "4.605170185988092"
      ]
     },
     "execution_count": 27,
     "metadata": {},
     "output_type": "execute_result"
    }
   ],
   "source": [
    "#logaritmo natural de x\n",
    "\n",
    "log(100)"
   ]
  },
  {
   "cell_type": "code",
   "execution_count": 29,
   "metadata": {
    "collapsed": false
   },
   "outputs": [
    {
     "data": {
      "text/plain": [
       "2.0"
      ]
     },
     "execution_count": 29,
     "metadata": {},
     "output_type": "execute_result"
    }
   ],
   "source": [
    "#base b logaritmo de x\n",
    "\n",
    "log(10,100)"
   ]
  },
  {
   "cell_type": "code",
   "execution_count": 30,
   "metadata": {
    "collapsed": false
   },
   "outputs": [
    {
     "data": {
      "text/plain": [
       "6.643856189774724"
      ]
     },
     "execution_count": 30,
     "metadata": {},
     "output_type": "execute_result"
    }
   ],
   "source": [
    "#logaritmo de base 2 x\n",
    "\n",
    "log2(100)"
   ]
  },
  {
   "cell_type": "code",
   "execution_count": 31,
   "metadata": {
    "collapsed": false
   },
   "outputs": [
    {
     "data": {
      "text/plain": [
       "3.0"
      ]
     },
     "execution_count": 31,
     "metadata": {},
     "output_type": "execute_result"
    }
   ],
   "source": [
    "#logaritmo de base 10 x\n",
    "\n",
    "log10(1000)"
   ]
  },
  {
   "cell_type": "code",
   "execution_count": 32,
   "metadata": {
    "collapsed": false
   },
   "outputs": [
    {
     "data": {
      "text/plain": [
       "4.61512051684126"
      ]
     },
     "execution_count": 32,
     "metadata": {},
     "output_type": "execute_result"
    }
   ],
   "source": [
    "#log preciso (1 + x) para x próximo de zero\n",
    "\n",
    "log1p(100)"
   ]
  },
  {
   "cell_type": "markdown",
   "metadata": {},
   "source": [
    "<strong> Binario/Octal/Hexadecimal </strong>"
   ]
  },
  {
   "cell_type": "code",
   "execution_count": 19,
   "metadata": {
    "collapsed": false
   },
   "outputs": [
    {
     "data": {
      "text/plain": [
       "(\"10000000\",\"200\",\"80\")"
      ]
     },
     "execution_count": 19,
     "metadata": {},
     "output_type": "execute_result"
    }
   ],
   "source": [
    "bin(128) ,  oct(128) , hex(128)"
   ]
  },
  {
   "cell_type": "markdown",
   "metadata": {},
   "source": [
    "** Resumo Principais Comandos de matemática**"
   ]
  },
  {
   "cell_type": "markdown",
   "metadata": {},
   "source": [
    "<table style=\"float: left;height: 378px; border-color: 0;\" border=\"1\" width=\"491\" cellspacing=\"0\"><colgroup width=\"619\"></colgroup>\n",
    "<tbody>\n",
    "<tr>\n",
    "<td align=\"left\" height=\"17\">round (x) - arredonda para o n&uacute;mero inteiro mais pr&oacute;ximo.</td>\n",
    "</tr>\n",
    "<tr>\n",
    "<td align=\"left\" height=\"17\">iround (x) - arredonda para o n&uacute;mero inteiro mais pr&oacute;ximo, dando um resultado inteiro.</td>\n",
    "</tr>\n",
    "<tr>\n",
    "<td align=\"left\" height=\"17\">floor (x) - arredonda dire&ccedil;&atilde;o -Inf.</td>\n",
    "</tr>\n",
    "<tr>\n",
    "<td align=\"left\" height=\"17\">ifloor (x) - arredonda dire&ccedil;&atilde;o -Inf, dando um resultado inteiro.</td>\n",
    "</tr>\n",
    "<tr>\n",
    "<td align=\"left\" height=\"17\">ceil (x) - arredonda dire&ccedil;&atilde;o + Inf.</td>\n",
    "</tr>\n",
    "<tr>\n",
    "<td align=\"left\" height=\"17\">iceil (x) - arredonda dire&ccedil;&atilde;o + Inf, dando um resultado inteiro.</td>\n",
    "</tr>\n",
    "<tr>\n",
    "<td align=\"left\" height=\"17\">trunc (x) - arredonda para zero.</td>\n",
    "</tr>\n",
    "<tr>\n",
    "<td align=\"left\" height=\"17\">itrunc (x) - arredonda para zero, dando um resultado inteiro.</td>\n",
    "</tr>\n",
    "<tr>\n",
    "<td align=\"left\" height=\"17\">div (x, y) - truncado divis&atilde;o; quociente truncado.</td>\n",
    "</tr>\n",
    "<tr>\n",
    "<td align=\"left\" height=\"17\">fld (x, y) - divis&atilde;o de base; quociente arredondado em dire&ccedil;&atilde;o -Inf.</td>\n",
    "</tr>\n",
    "<tr>\n",
    "<td align=\"left\" height=\"17\">rem (x, y) - resto; satisfaz x == div (x, y) * + y rem (x, y), o que implica que corresponde sinal x.</td>\n",
    "</tr>\n",
    "<tr>\n",
    "<td align=\"left\" height=\"17\">mod (x, y) - m&oacute;dulo; satisfaz x == fld (x, y) * + y mod (x, y), o que implica que o sinal corresponde y.</td>\n",
    "</tr>\n",
    "<tr>\n",
    "<td align=\"left\" height=\"17\">gcd (x, y ...) - m&aacute;ximo divisor comum de x, y ... com correspond&ecirc;ncia sinal x.</td>\n",
    "</tr>\n",
    "<tr>\n",
    "<td align=\"left\" height=\"17\">lcm (x, y ...) - mínimo m&uacute;ltiplo comum de x, y ... com correspond&ecirc;ncia sinal x.</td>\n",
    "</tr>\n",
    "<tr>\n",
    "<td align=\"left\" height=\"17\">ABS (X) - um valor positivo com a magnitude de x.</td>\n",
    "</tr>\n",
    "<tr>\n",
    "<td align=\"left\" height=\"17\">Abs2 (X) - a magnitude quadrada de x.</td>\n",
    "</tr>\n",
    "<tr>\n",
    "<td align=\"left\" height=\"17\">sinal (X) - indica o sinal de x, retornando -1, 0, ou 1.</td>\n",
    "</tr>\n",
    "<tr>\n",
    "<td align=\"left\" height=\"17\">signbit (x) - indica se o bit de sinal est&aacute; ligado (1) ou desligado (0).</td>\n",
    "</tr>\n",
    "</tbody>\n",
    "</table>\n",
    "\n",
    "<table style=\"float: left;height: 378px;\" border=\"1\" width=\"490\" cellspacing=\"0\"><colgroup width=\"619\"></colgroup>\n",
    "<tbody>\n",
    "<tr>\n",
    "<td align=\"left\" height=\"17\">copysign (x, y) - um valor com a magnitude de x e o sinal do y.</td>\n",
    "</tr>\n",
    "<tr>\n",
    "<td align=\"left\" height=\"17\">flipsign (x, y) - um valor com a magnitude de X e o sinal de x * y.</td>\n",
    "</tr>\n",
    "<tr>\n",
    "<td align=\"left\" height=\"17\">sqrt (X) - a raiz quadrada de x.</td>\n",
    "</tr>\n",
    "<tr>\n",
    "<td align=\"left\" height=\"17\">cbrt (x) - a raiz c&uacute;bica de x.</td>\n",
    "</tr>\n",
    "<tr>\n",
    "<td align=\"left\" height=\"17\">hypot (x, y) - sqrt (x + y ^ 2 ^ 2) para todos os valores de x e y.</td>\n",
    "</tr>\n",
    "<tr>\n",
    "<td align=\"left\" height=\"17\">exp (x) - a fun&ccedil;&atilde;o exponencial natural em x.</td>\n",
    "</tr>\n",
    "<tr>\n",
    "<td align=\"left\" height=\"17\">expm1 (X) - exp (x) -1 x para proximo zero.</td>\n",
    "</tr>\n",
    "<tr>\n",
    "<td align=\"left\" height=\"17\">ldexp (x, n) - x * 2 ^ n calculado de forma eficiente para valores inteiros de n.</td>\n",
    "</tr>\n",
    "<tr>\n",
    "<td align=\"left\" height=\"17\">log (x) - o logaritmo natural de x.</td>\n",
    "</tr>\n",
    "<tr>\n",
    "<td align=\"left\" height=\"17\">log (b, x) - a base b logaritmo de x.</td>\n",
    "</tr>\n",
    "<tr>\n",
    "<td align=\"left\" height=\"17\">log2 (x) - o logaritmo de base 2 x.</td>\n",
    "</tr>\n",
    "<tr>\n",
    "<td align=\"left\" height=\"17\">log10 (x) - o logaritmo de base 10 de x.</td>\n",
    "</tr>\n",
    "<tr>\n",
    "<td align=\"left\" height=\"17\">log1p (X) - registo preciso (1 + x) x para proximo de zero.</td>\n",
    "</tr>\n",
    "<tr>\n",
    "<td align=\"left\" height=\"17\">logb (x) - retorna o expoente bin&aacute;rio de x.</td>\n",
    "</tr>\n",
    "<tr>\n",
    "<td align=\"left\" height=\"17\">erf (x) - a fun&ccedil;&atilde;o de erro em x.</td>\n",
    "</tr>\n",
    "<tr>\n",
    "<td align=\"left\" height=\"17\">ERFC (x) -  1-erf (x) para x.</td>\n",
    "</tr>\n",
    "<tr>\n",
    "<td align=\"left\" height=\"17\">gama (X) - a fun&ccedil;&atilde;o gama em x.</td>\n",
    "</tr>\n",
    "<tr>\n",
    "<td align=\"left\" height=\"17\">lgamma (X) -  log (gama (x)), de maior x.</td>\n",
    "</tr>\n",
    "</tbody>\n",
    "</table>"
   ]
  },
  {
   "cell_type": "markdown",
   "metadata": {},
   "source": [
    "### MEMÓRIAS DE CÉLULAS"
   ]
  },
  {
   "cell_type": "code",
   "execution_count": 9,
   "metadata": {
    "collapsed": false,
    "scrolled": true
   },
   "outputs": [
    {
     "data": {
      "text/plain": [
       "6.159287546660801"
      ]
     },
     "execution_count": 9,
     "metadata": {},
     "output_type": "execute_result"
    }
   ],
   "source": [
    "4 + log(125)/sqrt(5)"
   ]
  },
  {
   "cell_type": "code",
   "execution_count": 21,
   "metadata": {
    "collapsed": false
   },
   "outputs": [
    {
     "data": {
      "text/plain": [
       "6.159287546660801"
      ]
     },
     "execution_count": 21,
     "metadata": {},
     "output_type": "execute_result"
    }
   ],
   "source": [
    "# calculo anterior\n",
    "\n",
    "ans"
   ]
  },
  {
   "cell_type": "code",
   "execution_count": 22,
   "metadata": {
    "collapsed": false,
    "scrolled": true
   },
   "outputs": [
    {
     "data": {
      "text/plain": [
       "7"
      ]
     },
     "execution_count": 22,
     "metadata": {},
     "output_type": "execute_result"
    }
   ],
   "source": [
    "# Out[numero da celula que deseja recuperar a saída]\n",
    "\n",
    "Out[3] "
   ]
  },
  {
   "cell_type": "code",
   "execution_count": 23,
   "metadata": {
    "collapsed": false
   },
   "outputs": [
    {
     "data": {
      "text/plain": [
       "\"versioninfo()\""
      ]
     },
     "execution_count": 23,
     "metadata": {},
     "output_type": "execute_result"
    }
   ],
   "source": [
    "# In[numero da celula que deseja recuperar a saída]\n",
    "\n",
    "In[2]"
   ]
  },
  {
   "cell_type": "markdown",
   "metadata": {},
   "source": [
    "<strong>Historico dos Comandos</strong>"
   ]
  },
  {
   "cell_type": "code",
   "execution_count": 24,
   "metadata": {
    "collapsed": false,
    "scrolled": false
   },
   "outputs": [
    {
     "data": {
      "text/plain": [
       "Dict{Int64,UTF8String} with 24 entries:\n",
       "  18 => \"# Para o angulo em grau (º), acrescenta-se o \\\"d\\\"\\n\\nsind(90), cosd(9…\n",
       "  2  => \"versioninfo()\"\n",
       "  16 => \"# radiandos\\n\\nsin(pi/4) , cos(pi) , tan(pi/4)\"\n",
       "  11 => \"# jogos da mega sena. Claro que não é lá essas coisas né\\n\\nrand(1:60,…\n",
       "  21 => \"# calculo anterior\\n\\nans\"\n",
       "  7  => \"(2+5)^2/(3+1)^3\"\n",
       "  9  => \"# número aleatório entre 0 e 1\\n\\nrand()\"\n",
       "  10 => \"# 6 numeros aleatorios de 0 a 10\\n\\nrand(0:10, 6)\"\n",
       "  19 => \"bin(128) ,  oct(128) , hex(128)\"\n",
       "  17 => \"coth(pi/4), csc(pi/4) , sec(pi/4)\"\n",
       "  8  => \"sin(pi/2)\"\n",
       "  22 => \"# Out[numero da celula que deseja recuperar a saída]\\n\\nOut[3] \"\n",
       "  6  => \"2^6\"\n",
       "  24 => \"# mostra todos os comandos de entrada\\n\\nIn\"\n",
       "  4  => \"10e-2\"\n",
       "  3  => \"2+5\"\n",
       "  5  => \"# e^3\\n\\nexp(3)\"\n",
       "  20 => \"4+log(125)/sqrt(5)\"\n",
       "  23 => \"# In[numero da celula que deseja recuperar a saída]\\n\\nIn[2]\"\n",
       "  13 => \"# MMC\\n\\nlcm(7,14)\"\n",
       "  14 => \"sqrt(2) , 2.0*3.0^-2\"\n",
       "  15 => \"# se usado o ponto e virgula, só será impresso a ultimo cálculo\\n\\nsqr…\n",
       "  12 => \"# MDC\\n\\ngcd(7,14)\"\n",
       "  1  => \"10e-2\""
      ]
     },
     "execution_count": 24,
     "metadata": {},
     "output_type": "execute_result"
    }
   ],
   "source": [
    "# mostra todos os comandos de entrada\n",
    "\n",
    "In"
   ]
  },
  {
   "cell_type": "code",
   "execution_count": 25,
   "metadata": {
    "collapsed": false
   },
   "outputs": [
    {
     "data": {
      "text/plain": [
       "Dict{Int64,Any} with 23 entries:\n",
       "  18 => (1.0,0.0)\n",
       "  16 => (0.7071067811865475,-1.0,0.9999999999999999)\n",
       "  11 => ([41,46,45,45,57,21],[1,1,8,1,48,5],[31,17,31,5,7,15])\n",
       "  21 => 6.159287546660801\n",
       "  7  => 0.765625\n",
       "  9  => 0.2632755453481439\n",
       "  10 => [2,3,6,3,9,9]\n",
       "  19 => (\"10000000\",\"200\",\"80\")\n",
       "  17 => (1.5248686188220641,1.4142135623730951,1.414213562373095)\n",
       "  8  => 1.0\n",
       "  22 => 7\n",
       "  6  => 64\n",
       "  24 => Dict(18=>\"# Para o angulo em grau (º), acrescenta-se o \\\"d\\\"\\n\\nsind(90…\n",
       "  4  => 0.1\n",
       "  3  => 7\n",
       "  5  => 20.085536923187668\n",
       "  20 => 6.159287546660801\n",
       "  23 => \"versioninfo()\"\n",
       "  13 => 14\n",
       "  14 => (1.4142135623730951,0.2222222222222222)\n",
       "  15 => 0.2222222222222222\n",
       "  12 => 7\n",
       "  1  => 0.1"
      ]
     },
     "execution_count": 25,
     "metadata": {},
     "output_type": "execute_result"
    }
   ],
   "source": [
    "# mostra todos os comandos de saída\n",
    "\n",
    "Out"
   ]
  },
  {
   "cell_type": "markdown",
   "metadata": {},
   "source": [
    "### CALCULAR O TEMPO DE PROCESSAMENTO"
   ]
  },
  {
   "cell_type": "markdown",
   "metadata": {},
   "source": [
    "** @time**\n",
    "\n",
    "Uma macro para executar uma expressão, imprimindo o tempo que levou para executar, o número de alocações, e o número total de bytes de sua execução."
   ]
  },
  {
   "cell_type": "code",
   "execution_count": 2,
   "metadata": {
    "collapsed": false,
    "scrolled": true
   },
   "outputs": [
    {
     "name": "stdout",
     "output_type": "stream",
     "text": [
      "  "
     ]
    },
    {
     "data": {
      "text/plain": [
       "4.543647706547242"
      ]
     },
     "execution_count": 2,
     "metadata": {},
     "output_type": "execute_result"
    },
    {
     "name": "stdout",
     "output_type": "stream",
     "text": [
      "0.000016 seconds (18 allocations: 384 bytes)\n"
     ]
    }
   ],
   "source": [
    "@time sqrt((2*pi + sqrt(log(2569854.5415263))/(sin(52)*cos(log(25948.1452))))^100)*exp(sin(0.8985424))"
   ]
  },
  {
   "cell_type": "markdown",
   "metadata": {},
   "source": [
    "** @timev **\n",
    "\n",
    "Semelhante ao @time só que mais completa"
   ]
  },
  {
   "cell_type": "code",
   "execution_count": 3,
   "metadata": {
    "collapsed": false
   },
   "outputs": [
    {
     "name": "stdout",
     "output_type": "stream",
     "text": [
      "  "
     ]
    },
    {
     "data": {
      "text/plain": [
       "4.543647706547242"
      ]
     },
     "execution_count": 3,
     "metadata": {},
     "output_type": "execute_result"
    },
    {
     "name": "stdout",
     "output_type": "stream",
     "text": [
      "0.000018 seconds (18 allocations: 384 bytes)\n",
      "elapsed time (ns): 17646\n",
      "bytes allocated:   384\n",
      "pool allocs:       18\n"
     ]
    }
   ],
   "source": [
    "@timev sqrt((2*pi + sqrt(log(2569854.5415263))/(sin(52)*cos(log(25948.1452))))^100)*exp(sin(0.8985424))"
   ]
  },
  {
   "cell_type": "markdown",
   "metadata": {},
   "source": [
    "**@elapsed **\n",
    "\n",
    "A macro para avaliar o tempo de execuçã em segundos, descartando o valor resultante."
   ]
  },
  {
   "cell_type": "code",
   "execution_count": 4,
   "metadata": {
    "collapsed": false
   },
   "outputs": [
    {
     "data": {
      "text/plain": [
       "1.5706e-5"
      ]
     },
     "execution_count": 4,
     "metadata": {},
     "output_type": "execute_result"
    }
   ],
   "source": [
    "@elapsed sqrt((2*pi + sqrt(log(2569854.5415263))/(sin(52)*cos(log(25948.1452))))^100)*exp(sin(0.8985424))"
   ]
  },
  {
   "cell_type": "markdown",
   "metadata": {},
   "source": [
    "### PRECISÃO DE NUMEROS SIGNIFICATIVOS###"
   ]
  },
  {
   "cell_type": "code",
   "execution_count": 2,
   "metadata": {
    "collapsed": false,
    "scrolled": true
   },
   "outputs": [
    {
     "data": {
      "text/plain": [
       "3.14159265"
      ]
     },
     "execution_count": 2,
     "metadata": {},
     "output_type": "execute_result"
    }
   ],
   "source": [
    "# numero PI com oito numeros significativos\n",
    "\n",
    "round(pi,8)"
   ]
  },
  {
   "cell_type": "code",
   "execution_count": 15,
   "metadata": {
    "collapsed": false
   },
   "outputs": [
    {
     "data": {
      "text/plain": [
       "3.0"
      ]
     },
     "execution_count": 15,
     "metadata": {},
     "output_type": "execute_result"
    }
   ],
   "source": [
    "floor(3.14159265)"
   ]
  },
  {
   "cell_type": "code",
   "execution_count": 16,
   "metadata": {
    "collapsed": false
   },
   "outputs": [
    {
     "data": {
      "text/plain": [
       "4.0"
      ]
     },
     "execution_count": 16,
     "metadata": {},
     "output_type": "execute_result"
    }
   ],
   "source": [
    "ceil(3.14159265)"
   ]
  },
  {
   "cell_type": "code",
   "execution_count": 17,
   "metadata": {
    "collapsed": false
   },
   "outputs": [
    {
     "data": {
      "text/plain": [
       "3.0"
      ]
     },
     "execution_count": 17,
     "metadata": {},
     "output_type": "execute_result"
    }
   ],
   "source": [
    "trunc(3.14159265)"
   ]
  },
  {
   "cell_type": "markdown",
   "metadata": {
    "collapsed": false
   },
   "source": [
    "### COMANDOS DE IMPRESSÃO"
   ]
  },
  {
   "cell_type": "markdown",
   "metadata": {},
   "source": [
    "**Comando print()**\n",
    "\n",
    "Escreve (para o fluxo de saída padrão) uma representação textual ou um valor se houver. A representação usada pelo comando inclui formatação mínima."
   ]
  },
  {
   "cell_type": "code",
   "execution_count": 28,
   "metadata": {
    "collapsed": false
   },
   "outputs": [
    {
     "name": "stdout",
     "output_type": "stream",
     "text": [
      "0.007777 seconds (5.71 k allocations: 230.447 KB)\n",
      "olá mundo"
     ]
    }
   ],
   "source": [
    "print(\"olá mundo\")"
   ]
  },
  {
   "cell_type": "markdown",
   "metadata": {},
   "source": [
    "**Comando display**\n",
    "\n",
    "Usa o nível superior de exibição aplicável na pilha de exibição, geralmente usando a mais rica produção multimedia com suporte para x"
   ]
  },
  {
   "cell_type": "code",
   "execution_count": 8,
   "metadata": {
    "collapsed": false
   },
   "outputs": [
    {
     "data": {
      "text/plain": [
       "\"olá mundo\""
      ]
     },
     "metadata": {},
     "output_type": "display_data"
    }
   ],
   "source": [
    "display(\"olá mundo\")"
   ]
  },
  {
   "cell_type": "markdown",
   "metadata": {},
   "source": [
    "**Comando show()**\n",
    "\n",
    "Semenhante ao display"
   ]
  },
  {
   "cell_type": "code",
   "execution_count": 30,
   "metadata": {
    "collapsed": false,
    "scrolled": true
   },
   "outputs": [
    {
     "name": "stdout",
     "output_type": "stream",
     "text": [
      "\"olá mundo\""
     ]
    }
   ],
   "source": [
    "show(\"olá mundo\")"
   ]
  }
 ],
 "metadata": {
  "kernelspec": {
   "display_name": "Julia 0.4.5",
   "language": "julia",
   "name": "julia-0.4"
  },
  "language_info": {
   "file_extension": ".jl",
   "mimetype": "application/julia",
   "name": "julia",
   "version": "0.4.5"
  }
 },
 "nbformat": 4,
 "nbformat_minor": 0
}
