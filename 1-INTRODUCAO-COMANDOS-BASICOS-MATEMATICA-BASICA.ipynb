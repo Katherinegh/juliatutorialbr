{
 "cells": [
  {
   "cell_type": "raw",
   "metadata": {
    "raw_mimetype": "text/restructuredtext"
   },
   "source": [
    "INTRODUÇÃO JULIA                 \n",
    "================\n",
    "Histórico\n",
    "---------\n",
    "\n",
    "Julia é uma linguagem de programação dinâmica de alto nível projetado para atender os requisitos da\n",
    "computação de alto  desempenho numérico e científica , sendo também eficaz para a programação de\n",
    "propósito geral. Julia é escrito em C,  C++, e Scheme, usando a estrutura do compilador LLVM , enquanto\n",
    "a maior parte da biblioteca padrão de Julia é   implementado na própria Julia. O desenvolvimento de Julia\n",
    "começou em 2009 e uma versão de código aberto foi divulgado   em fevereiro de 2012\\. Alguns aspectos incomuns\n",
    "do projeto Julia incluem ter um sistema sofisticado, com tipos paramétricos dependentes de uma linguagem de\n",
    "programação totalmente dinâmico e adotando expedição múltipla como seu  paradigma de programação do núcleo.\n",
    "Cada um desses recursos tem aparecido em dialetos Lisp , como Common Lisp e Dylan,  mas a combinação dos dois\n",
    "em um único idioma é único (ver recursos de linguagem). O aspecto mais notável da   implementação da Julia é o\n",
    "seu desempenho, que muitas vezes é o dobro do código C, totalmente otimizado, colocando-o  no reino de linguagens\n",
    "compiladas de alto desempenho. Julia se inspira significativamente em Matlab e vários dialetos  de Lisp, incluindo\n",
    "Scheme e Common Lisp , e compartilha muitas características com Dylan - uma outra linguagem dinâmica  múltipla\n",
    "orientada a expedição com a sintaxe - e Fortress (linguagem de programação), outra linguagem de programação\n",
    "numérica com expedição múltipla e um sofisticado sistema de tipo paramétrico . Enquanto CLOS acrescenta\n",
    "expedição  múltipla para Common Lisp , a adição é opt-in : funções só definidos pelo usuário explicitamente\n",
    "declarados genérico pode ser estendida. Em Julia , Dylan e Fortress, por outro lado, essa extensibilidade é o\n",
    "padrão e funções internas  do sistema são todos genéricos e extensíveis.\n",
    "\n",
    "Características da Linguagem de Programação\n",
    "-------------------------------------------\n",
    "\n",
    "* Julia é extensível a partir da utilização de módulos carregáveis.\n",
    "* O interpretador do Julia trabalha em conjunto com os softwares gnuplot e Grace para plotar gráficos, grafos e para salva-los.\n",
    "\n",
    "Aplicações\n",
    "----------\n",
    "\n",
    "Julia é projetado para resolver problemas matemáticos numericamente, que consiste em calcular os valores na\n",
    "memória do computador. Isso significa que nem sempre ele não poderá dar uma solução analítica para um problema,\n",
    "e não deve ser confundido com programas como o Mathematica ou Maple, que trablham com soluções simbólicas, fazendo\n",
    "a manipulação algébrica. Isso não significa que seja melhor ou pior - ele é utilizado para diferentes tarefas.\n",
    "A maioria dos problemas matemáticos reais (particularmente em engenharia) não têm soluções simbólicas puras.\n",
    "\n",
    "O QUE JULIA É CAPAZ DE FAZER\n",
    "============================\n",
    "\n",
    "+-------------+----------+------+-------+--------+-------+--------+------------+--------------+------+----------------+---------+\n",
    "|             |Fortran   |Julia |Python |R       |Matlab |Octave  |Mathematica |JavaScript    |Go    |LuaJIT          |Java     |\n",
    "+=============+==========+======+=======+========+=======+========+============+==============+======+================+=========+\n",
    "|             |gcc 5.1.1 |0.4.0 |3.4.3  |3.2.2   |R2015b |4.0.0   |10.2.0      |V8 3.28.71.19 |go1.5 |gsl-shell 2.3.1 |1.8.0_45 |\n",
    "+-------------+----------+------+-------+--------+-------+--------+------------+--------------+------+----------------+---------+\n",
    "|fib          |0.70      |2.11  |77.76  |533.52  |26.89  |9324.35 |118.53      |3.36          |1.86  |1.71            |1.21     |\n",
    "+-------------+----------+------+-------+--------+-------+--------+------------+--------------+------+----------------+---------+\n",
    "|parse_int    |5.05      |1.45  |17.02  |45.73   |802.52 |9581.44 |15.02       |6.06          |1.20  |5.77            |3.35     | \n",
    "+-------------+----------+------+-------+--------+-------+--------+------------+--------------+------+----------------+---------+\n",
    "|quicksort    |1.31      |1.15  |32.89  |264.54  |4.92   |1866.01 |43.23       |2.70          |1.29  |2.03            |2.60     |\n",
    "+-------------+----------+------+-------+--------+-------+--------+------------+--------------+------+----------------+---------+\n",
    "|mandel       |0.81      |0.79  |15.32  |53.16   |7.58   |451.81  |5.13        |0.66          |1.11  |0.67            |1.35     | \n",
    "+-------------+----------+------+-------+--------+-------+--------+------------+--------------+------+----------------+---------+\n",
    "|pi_sum       |1.00      |1.00  |21.99  |9.56    |1.00   |299.31  |1.69        |1.01          |1.00  |1.00            |1.00     | \n",
    "+-------------+----------+------+-------+--------+-------+--------+------------+--------------+------+----------------+---------+\n",
    "|rand_mat_stat|1.45      |1.66  |17.93  |14.56   |14.52  |30.93   |5.95        |2.30          |2.96  |3.27            |3.92     | \n",
    "+-------------+----------+------+-------+--------+-------+--------+------------+--------------+------+----------------+---------+\n",
    "|rand_mat_mul |3.48      |1.02  |1.14   |1.57    |1.12   |1.12    |1.30        |15.07         |1.42  |1.16            |2.36     | \n",
    "+-------------+----------+------+-------+--------+-------+--------+------------+--------------+------+----------------+---------+\n",
    "\n",
    "**tabela**: benchmark tempo em segundos de processamento relative to C (smaller is better, C performance = 1.0).\n",
    "\n",
    "COMPARAÇÃO COM OUTROS SOFTWARES DE COMPUTAÇÃO CIENTÍFICA\n",
    "========================================================\n",
    "JULIA X MATLAB\n",
    "--------------\n",
    "\n",
    "Julia possui uma sintaxe muito próxima do MATLAB de tal forma que os nomes da maioria das funções em Julia\n",
    "correspondem aos nomes do MATLAB/Octave. Quanto ao processamento, os parâmetros de referência mostram que\n",
    "Julia é mais rápida, dependendo do tipo de operação. Julia fornece uma interface para a linguagem MATLAB\n",
    "com o pacote MATLAB.jl (https://github.com/lindahua/MATLAB.jl). \n",
    "\n",
    "Sintaxe\n",
    "\"\"\"\"\"\"\"\n",
    "\n",
    "+--------------------------+--------------------------+\n",
    "|julia                     |matlab                    |\n",
    "+==========================+==========================+\n",
    "|.. code:: julia           |.. code:: matlab          |\n",
    "|                          |                          |\n",
    "|  if condição             |  if condição             |\n",
    "|      instruções          |      instruções          |\n",
    "|  elseif outra_condição   |  elseif outra_condição   |\n",
    "|      instruções          |      instruções          |\n",
    "|  else                    |  else                    |\n",
    "|      outro_bloco_ainda   |      outro_bloco_ainda   |\n",
    "|  end                     |  end                     |\n",
    "+--------------------------+--------------------------+\n",
    "|.. code:: julia           |.. code:: matlab          |\n",
    "|                          |                          |\n",
    "|  for variável = vetor    |  for variável = vetor    |\n",
    "|      instruções          |      instruções          |\n",
    "|  end                     |  end                     |\n",
    "+--------------------------+--------------------------+\n",
    "|.. code:: julia           |.. code:: matlab          |\n",
    "|                          |                          |\n",
    "|  while condição          |  while condição          |\n",
    "|      instruções          |      instruções          |\n",
    "|  end                     |  end                     |\n",
    "+--------------------------+--------------------------+\n",
    "\n",
    "Modelo de Execução\n",
    "\"\"\"\"\"\"\"\"\"\"\"\"\"\"\"\"\"\"\n",
    "\n",
    "+--------------------------+--------------------------+\n",
    "|julia                     |matlab                    |\n",
    "+==========================+==========================+\n",
    "|compilada (JIT)           |interpretada              |\n",
    "+--------------------------+--------------------------+\n",
    "\n",
    "Paradigma Principal\n",
    "\"\"\"\"\"\"\"\"\"\"\"\"\"\"\"\"\"\"\"\n",
    "\n",
    "+----------------------------+----------------------------+\n",
    "|julia                       |matlab                      |\n",
    "+============================+============================+\n",
    "|Multi-paradigma:            |Multi-paradigma:            |\n",
    "|  OO, funcional, procedural |  OO, funcional, procedural |\n",
    "+----------------------------+----------------------------+\n",
    "\n",
    "Modelo de tipos de dados\n",
    "\"\"\"\"\"\"\"\"\"\"\"\"\"\"\"\"\"\"\"\"\"\"\"\"\n",
    "\n",
    "+----------------------------+----------------------------+\n",
    "|julia                       |matlab                      |\n",
    "+============================+============================+\n",
    "|Dinâmico                    |Dinâmico                    |\n",
    "+----------------------------+----------------------------+\n",
    "\n",
    "Desempenho\n",
    "\"\"\"\"\"\"\"\"\"\"\n",
    "\n",
    "+----------------------------+----------------------------+\n",
    "|julia                       |matlab                      |\n",
    "+============================+============================+\n",
    "|Ooga ooga                   |Booga booga                 |\n",
    "+----------------------------+----------------------------+\n",
    "\n",
    "JULIA X PYTHON\n",
    "--------------\n",
    "\n",
    "Julia tem uma vantagem significativa de desempenhoem relação ao Python. Julia \n",
    "fornece uma interface para a linguagem ao Python com o pacote PyCall.\n",
    "(https://github.com/stevengj/PyCall.jl)\n",
    "\n",
    "\n",
    "Sintaxe\n",
    "\"\"\"\"\"\"\"\n",
    "\n",
    "+--------------------------+--------------------------+\n",
    "|julia                     |matlab                    |\n",
    "+==========================+==========================+\n",
    "|.. code:: julia           |.. code:: python          |\n",
    "|                          |                          |\n",
    "|  if condição             |  if condição:            |\n",
    "|      instruções          |      instruções          |\n",
    "|  elseif outra_condição   |  elif outra_condição:    |\n",
    "|      instruções          |      instruções          |\n",
    "|  else                    |  else:                   |\n",
    "|      outro_bloco_ainda   |      outro_bloco_ainda   |\n",
    "|  end                     |                          |\n",
    "+--------------------------+--------------------------+\n",
    "|.. code:: julia           |.. code:: python          |\n",
    "|                          |                          |\n",
    "|  for variável = vetor    |  for variável in vetor:  |\n",
    "|      instruções          |      instruções          |\n",
    "|  end                     |                          |\n",
    "+--------------------------+--------------------------+\n",
    "|.. code:: julia           |.. code:: python          |\n",
    "|                          |                          |\n",
    "|  while condição          |  while condição:         |\n",
    "|      instruções          |      instruções          |\n",
    "|  end                     |                          |\n",
    "+--------------------------+--------------------------+\n",
    "\n",
    "Modelo de Execução\n",
    "\"\"\"\"\"\"\"\"\"\"\"\"\"\"\"\"\"\"\n",
    "\n",
    "+--------------------------+--------------------------+\n",
    "|julia                     |python                    |\n",
    "+==========================+==========================+\n",
    "|compilada (JIT)           |interpretada              |\n",
    "+--------------------------+--------------------------+\n",
    "\n",
    "Paradigma Principal\n",
    "\"\"\"\"\"\"\"\"\"\"\"\"\"\"\"\"\"\"\"\n",
    "\n",
    "+----------------------------+----------------------------+\n",
    "|julia                       |python                      |\n",
    "+============================+============================+\n",
    "|Multi-paradigma:            |Multi-paradigma:            |\n",
    "|  OO, funcional, procedural |  OO, funcional, procedural |\n",
    "+----------------------------+----------------------------+\n",
    "\n",
    "Modelo de tipos de dados\n",
    "\"\"\"\"\"\"\"\"\"\"\"\"\"\"\"\"\"\"\"\"\"\"\"\"\n",
    "\n",
    "+----------------------------+----------------------------+\n",
    "|julia                       |python                      |\n",
    "+============================+============================+\n",
    "|Dinâmico                    |Dinâmico                    |\n",
    "+----------------------------+----------------------------+\n",
    "\n",
    "Desempenho\n",
    "\"\"\"\"\"\"\"\"\"\"\n",
    "\n",
    "+----------------------------+----------------------------+\n",
    "|julia                       |python                      |\n",
    "+============================+============================+\n",
    "|Ooga ooga                   |Booga booga                 |\n",
    "+----------------------------+----------------------------+\n",
    "\n",
    "JULIA X R\n",
    "--------------\n",
    "\n",
    "R é uma das linguagem de desenvolvimento preferido para a maioria dos estatísticos.\n",
    "Julia revela-se bem superior em desempenho e tem um conjunto de tipo muito mais rico\n",
    "os tipos baseados em vetores de R. Julia fornece uma interface para a linguagem R com\n",
    "o pacote de Rif.jl (https://github.com/lgautier/Rif.jl).\n",
    "\n",
    "\n",
    "\n",
    "Sintaxe\n",
    "\"\"\"\"\"\"\"\n",
    "\n",
    "+--------------------------+-----------------------------+\n",
    "|julia                     |r                            |\n",
    "+==========================+=============================+\n",
    "|.. code:: julia           |.. code:: r                  |\n",
    "|                          |                             |\n",
    "|  if condição             |  if (condição) {            |\n",
    "|      instruções          |      instruções             |\n",
    "|  elseif outra_condição   |  } else if outra_condição { |\n",
    "|      instruções          |      instruções             |\n",
    "|  else                    |  } else {                   |\n",
    "|      outro_bloco_ainda   |      outro_bloco_ainda      |\n",
    "|  end                     |  }                          |\n",
    "+--------------------------+-----------------------------+\n",
    "|.. code:: julia           |.. code:: r                  |\n",
    "|                          |                             |\n",
    "|  for variável = vetor    |  for (variável in vetor) {  |\n",
    "|      instruções          |      instruções             |\n",
    "|  end                     |  }                          |\n",
    "+--------------------------+-----------------------------+\n",
    "|.. code:: julia           |.. code:: r                  |\n",
    "|                          |                             |\n",
    "|  while condição          |  while (condição) {         |\n",
    "|      instruções          |      instruções             |\n",
    "|  end                     |  }                          |\n",
    "+--------------------------+-----------------------------+\n",
    "\n",
    "Modelo de Execução\n",
    "\"\"\"\"\"\"\"\"\"\"\"\"\"\"\"\"\"\"\n",
    "\n",
    "+--------------------------+--------------------------+\n",
    "|julia                     |r                         |\n",
    "+==========================+==========================+\n",
    "|compilada (JIT)           |interpretada              |\n",
    "+--------------------------+--------------------------+\n",
    "\n",
    "Paradigma Principal\n",
    "\"\"\"\"\"\"\"\"\"\"\"\"\"\"\"\"\"\"\"\n",
    "\n",
    "+----------------------------+----------------------------+\n",
    "|julia                       |r                           |\n",
    "+============================+============================+\n",
    "|Multi-paradigma:            |Multi-paradigma:            |\n",
    "|  OO, funcional, procedural |  OO, funcional, procedural |\n",
    "+----------------------------+----------------------------+\n",
    "\n",
    "Modelo de tipos de dados\n",
    "\"\"\"\"\"\"\"\"\"\"\"\"\"\"\"\"\"\"\"\"\"\"\"\"\n",
    "\n",
    "+----------------------------+----------------------------+\n",
    "|julia                       |r                           |\n",
    "+============================+============================+\n",
    "|Dinâmico                    |Dinâmico                    |\n",
    "+----------------------------+----------------------------+\n",
    "\n",
    "Desempenho\n",
    "\"\"\"\"\"\"\"\"\"\"\n",
    "\n",
    "+----------------------------+----------------------------+\n",
    "|julia                       |r                           |\n",
    "+============================+============================+\n",
    "|Ooga ooga                   |Booga booga                 |\n",
    "+----------------------------+----------------------------+\n",
    "\n",
    "JULIA X FORTRAN\n",
    "---------------\n",
    "\n",
    "Sintaxe\n",
    "\"\"\"\"\"\"\"\n",
    "\n",
    "+--------------------------+-----------------------------+\n",
    "|julia                     |fortran                      |\n",
    "+==========================+=============================+\n",
    "|.. code:: julia           |.. code:: fortran            |\n",
    "|                          |                             |\n",
    "|  if condição             |  IF (condição) THEN         |\n",
    "|      instruções          |      instruções             |\n",
    "|  elseif outra_condição   |  ELSE IF (outra_condição)   |\n",
    "|      instruções          |      instruções             |\n",
    "|  else                    |  ELSE                       |\n",
    "|      outro_bloco_ainda   |      outro_bloco_ainda      |\n",
    "|  end                     |  END                        |\n",
    "+--------------------------+-----------------------------+\n",
    "|.. code:: julia           |.. code:: fortran            |\n",
    "|                          |                             |\n",
    "|  for variável = vetor    |  DO i=1, tamanho_vetor      |\n",
    "|      instruções          |      instruções             |\n",
    "|  end                     |  END DO                     |\n",
    "+--------------------------+-----------------------------+\n",
    "|.. code:: julia           |.. code:: fortran            |\n",
    "|                          |                             |\n",
    "|  while condição          |  DO WHILE (condição)        |\n",
    "|      instruções          |      instruções             |\n",
    "|  end                     |  END DO                     |\n",
    "+--------------------------+-----------------------------+\n",
    "\n",
    "Modelo de Execução\n",
    "\"\"\"\"\"\"\"\"\"\"\"\"\"\"\"\"\"\"\n",
    "\n",
    "+--------------------------+--------------------------+\n",
    "|julia                     |fortran                   |\n",
    "+==========================+==========================+\n",
    "|compilada (JIT)           |compilada                 |\n",
    "+--------------------------+--------------------------+\n",
    "\n",
    "Paradigma Principal\n",
    "\"\"\"\"\"\"\"\"\"\"\"\"\"\"\"\"\"\"\"\n",
    "\n",
    "+----------------------------+----------------------------+\n",
    "|julia                       |fortran                     |\n",
    "+============================+============================+\n",
    "|Multi-paradigma:            |procedural                  |\n",
    "|  OO, funcional, procedural |                            |\n",
    "+----------------------------+----------------------------+\n",
    "\n",
    "Modelo de tipos de dados\n",
    "\"\"\"\"\"\"\"\"\"\"\"\"\"\"\"\"\"\"\"\"\"\"\"\"\n",
    "\n",
    "+----------------------------+----------------------------+\n",
    "|julia                       |fortran                     |\n",
    "+============================+============================+\n",
    "|Dinâmico                    |Estático                    |\n",
    "+----------------------------+----------------------------+\n",
    "\n",
    "Desempenho\n",
    "\"\"\"\"\"\"\"\"\"\"\n",
    "\n",
    "+----------------------------+----------------------------+\n",
    "|julia                       |fortran                     |\n",
    "+============================+============================+\n",
    "|Ooga ooga                   |Ooga ooga                   |\n",
    "+----------------------------+----------------------------+\n",
    "\n",
    "JULIA X C\n",
    "---------\n",
    "\n",
    "Sintaxe\n",
    "\"\"\"\"\"\"\"\n",
    "\n",
    "+--------------------------+----------------------------------------+\n",
    "|julia                     |c                                       |\n",
    "+==========================+========================================+\n",
    "|.. code:: julia           |.. code:: c                             |\n",
    "|                          |                                        |\n",
    "|  if condição             |  if (condição) {                       |\n",
    "|      instruções          |      instruções;                       |\n",
    "|  elseif outra_condição   |  } else if (outra_condição) {          |\n",
    "|      instruções          |      instruções;                       |\n",
    "|  else                    |  } else {                              |\n",
    "|      outro_bloco_ainda   |      outro_bloco_ainda;                |\n",
    "|  end                     |  }                                     |\n",
    "+--------------------------+----------------------------------------+\n",
    "|.. code:: julia           |.. code:: c                             |\n",
    "|                          |                                        |\n",
    "|  for variável = vetor    |  for (int i=1; i<tamanho_vetor; i++) { |\n",
    "|      instruções          |      instruções;                       |\n",
    "|  end                     |  }                                     |\n",
    "+--------------------------+----------------------------------------+\n",
    "|.. code:: julia           |.. code:: c                             |\n",
    "|                          |                                        |\n",
    "|  while condição          |  while (condição) {                    |\n",
    "|      instruções          |      instruções;                       |\n",
    "|  end                     |  }                                     |\n",
    "+--------------------------+----------------------------------------+\n",
    "\n",
    "Modelo de Execução\n",
    "\"\"\"\"\"\"\"\"\"\"\"\"\"\"\"\"\"\"\n",
    "\n",
    "+--------------------------+--------------------------+\n",
    "|julia                     |c                         |\n",
    "+==========================+==========================+\n",
    "|compilada (JIT)           |compilada                 |\n",
    "+--------------------------+--------------------------+\n",
    "\n",
    "Paradigma Principal\n",
    "\"\"\"\"\"\"\"\"\"\"\"\"\"\"\"\"\"\"\"\n",
    "\n",
    "+----------------------------+----------------------------+\n",
    "|julia                       |c                           |\n",
    "+============================+============================+\n",
    "|Multi-paradigma:            |procedural                  |\n",
    "|  OO, funcional, procedural |                            |\n",
    "+----------------------------+----------------------------+\n",
    "\n",
    "Modelo de tipos de dados\n",
    "\"\"\"\"\"\"\"\"\"\"\"\"\"\"\"\"\"\"\"\"\"\"\"\"\n",
    "\n",
    "+----------------------------+----------------------------+\n",
    "|julia                       |c                           |\n",
    "+============================+============================+\n",
    "|Dinâmico                    |Estático                    |\n",
    "+----------------------------+----------------------------+\n",
    "\n",
    "Desempenho\n",
    "\"\"\"\"\"\"\"\"\"\"\n",
    "\n",
    "+----------------------------+----------------------------+\n",
    "|julia                       |c                           |\n",
    "+============================+============================+\n",
    "|Ooga ooga                   |Ooga ooga                   |\n",
    "+----------------------------+----------------------------+\n",
    "\n",
    "`<http://blog.tiagopassos.com/wp-content/uploads/2011/06/as_diferencas_entre_as_linguagens_de_programacao_.jpg>`_\n",
    "\n",
    "\n",
    "\n",
    "COMANDOS BÁSICOS E MATEMÁTICA BÁSICA\n",
    "===================================="
   ]
  },
  {
   "cell_type": "code",
   "execution_count": 1,
   "metadata": {
    "collapsed": false
   },
   "outputs": [
    {
     "name": "stdout",
     "output_type": "stream",
     "text": [
      "Julia Version 0.4.5\n",
      "Commit 2ac304d (2016-03-18 00:58 UTC)\n",
      "Platform Info:\n",
      "  System: Linux (x86_64-linux-gnu)\n",
      "  CPU: Intel(R) Core(TM) i7-4510U CPU @ 2.00GHz\n",
      "  WORD_SIZE: 64\n",
      "  BLAS: libopenblas (NO_LAPACKE DYNAMIC_ARCH NO_AFFINITY Haswell)\n",
      "  LAPACK: liblapack.so.3\n",
      "  LIBM: libopenlibm\n",
      "  LLVM: libLLVM-3.3\n"
     ]
    }
   ],
   "source": [
    "versioninfo()"
   ]
  },
  {
   "cell_type": "code",
   "execution_count": 2,
   "metadata": {
    "collapsed": false,
    "scrolled": true
   },
   "outputs": [
    {
     "data": {
      "text/plain": [
       "7"
      ]
     },
     "execution_count": 2,
     "metadata": {},
     "output_type": "execute_result"
    }
   ],
   "source": [
    "2+5"
   ]
  },
  {
   "cell_type": "code",
   "execution_count": 3,
   "metadata": {
    "collapsed": false
   },
   "outputs": [
    {
     "data": {
      "text/plain": [
       "0.1"
      ]
     },
     "execution_count": 3,
     "metadata": {},
     "output_type": "execute_result"
    }
   ],
   "source": [
    "10e-2"
   ]
  },
  {
   "cell_type": "code",
   "execution_count": 4,
   "metadata": {
    "collapsed": false
   },
   "outputs": [
    {
     "data": {
      "text/plain": [
       "20.085536923187668"
      ]
     },
     "execution_count": 4,
     "metadata": {},
     "output_type": "execute_result"
    }
   ],
   "source": [
    "# e^3\n",
    "\n",
    "exp(3)"
   ]
  },
  {
   "cell_type": "code",
   "execution_count": 5,
   "metadata": {
    "collapsed": false
   },
   "outputs": [
    {
     "data": {
      "text/plain": [
       "64"
      ]
     },
     "execution_count": 5,
     "metadata": {},
     "output_type": "execute_result"
    }
   ],
   "source": [
    "2^6"
   ]
  },
  {
   "cell_type": "code",
   "execution_count": 6,
   "metadata": {
    "collapsed": false
   },
   "outputs": [
    {
     "data": {
      "text/plain": [
       "0.765625"
      ]
     },
     "execution_count": 6,
     "metadata": {},
     "output_type": "execute_result"
    }
   ],
   "source": [
    "(2+5)^2/(3+1)^3"
   ]
  },
  {
   "cell_type": "code",
   "execution_count": 7,
   "metadata": {
    "collapsed": false,
    "scrolled": true
   },
   "outputs": [
    {
     "data": {
      "text/plain": [
       "1.0"
      ]
     },
     "execution_count": 7,
     "metadata": {},
     "output_type": "execute_result"
    }
   ],
   "source": [
    "sin(pi/2)"
   ]
  },
  {
   "cell_type": "code",
   "execution_count": 8,
   "metadata": {
    "collapsed": false,
    "scrolled": true
   },
   "outputs": [
    {
     "data": {
      "text/plain": [
       "0.14980614207722853"
      ]
     },
     "execution_count": 8,
     "metadata": {},
     "output_type": "execute_result"
    }
   ],
   "source": [
    "# número aleatório entre 0 e 1\n",
    "\n",
    "rand()"
   ]
  },
  {
   "cell_type": "code",
   "execution_count": 9,
   "metadata": {
    "collapsed": false
   },
   "outputs": [
    {
     "data": {
      "text/plain": [
       "6-element Array{Int64,1}:\n",
       " 8\n",
       " 1\n",
       " 1\n",
       " 3\n",
       " 5\n",
       " 1"
      ]
     },
     "execution_count": 9,
     "metadata": {},
     "output_type": "execute_result"
    }
   ],
   "source": [
    "# 6 numeros aleatorios de 0 a 10\n",
    "\n",
    "rand(0:10, 6)"
   ]
  },
  {
   "cell_type": "code",
   "execution_count": 10,
   "metadata": {
    "collapsed": false
   },
   "outputs": [
    {
     "data": {
      "text/plain": [
       "([53,59,15,35,3,48],[18,21,23,27,6,14],[32,26,19,39,54,59])"
      ]
     },
     "execution_count": 10,
     "metadata": {},
     "output_type": "execute_result"
    }
   ],
   "source": [
    "# jogos da mega sena. Claro que não é lá essas coisas né\n",
    "\n",
    "rand(1:60,6), rand(1:60,6),rand(1:60,6)"
   ]
  },
  {
   "cell_type": "code",
   "execution_count": 11,
   "metadata": {
    "collapsed": false
   },
   "outputs": [
    {
     "data": {
      "text/plain": [
       "7"
      ]
     },
     "execution_count": 11,
     "metadata": {},
     "output_type": "execute_result"
    }
   ],
   "source": [
    "# MDC\n",
    "\n",
    "gcd(7,14)"
   ]
  },
  {
   "cell_type": "code",
   "execution_count": 12,
   "metadata": {
    "collapsed": false
   },
   "outputs": [
    {
     "data": {
      "text/plain": [
       "14"
      ]
     },
     "execution_count": 12,
     "metadata": {},
     "output_type": "execute_result"
    }
   ],
   "source": [
    "# MMC\n",
    "\n",
    "lcm(7,14)"
   ]
  },
  {
   "cell_type": "raw",
   "metadata": {
    "raw_mimetype": "text/restructuredtext"
   },
   "source": [
    "Multiplos calculos\n",
    "------------------\n",
    "\n",
    "O uso a vírgula \" , \" permite efetuar mais de uma expressão"
   ]
  },
  {
   "cell_type": "code",
   "execution_count": 13,
   "metadata": {
    "collapsed": false
   },
   "outputs": [
    {
     "data": {
      "text/plain": [
       "(1.4142135623730951,0.2222222222222222)"
      ]
     },
     "execution_count": 13,
     "metadata": {},
     "output_type": "execute_result"
    }
   ],
   "source": [
    "sqrt(2) , 2.0*3.0^-2"
   ]
  },
  {
   "cell_type": "code",
   "execution_count": 14,
   "metadata": {
    "collapsed": false
   },
   "outputs": [
    {
     "data": {
      "text/plain": [
       "0.2222222222222222"
      ]
     },
     "execution_count": 14,
     "metadata": {},
     "output_type": "execute_result"
    }
   ],
   "source": [
    "# se usado o ponto e virgula, só será impresso a ultimo cálculo\n",
    "\n",
    "sqrt(2) ; 2.0*3.0^-2"
   ]
  },
  {
   "cell_type": "raw",
   "metadata": {
    "raw_mimetype": "text/restructuredtext"
   },
   "source": [
    "Cálculo trigonometrico/Hiperbólico\n",
    "----------------------------------\n",
    "\n",
    "sin(x)    cos(x)    tan(x)    cot(x)    sec(x)    csc(x)  sinh(x)   cosh(x)   tanh(x)   coth(x)   sech(x)   csch(x)\n",
    "\n",
    "\n",
    "asin(x)   acos(x)   atan(x)   acot(x)   asec(x)   acsc(x)  acoth(x)  asech(x)  acsch(x)  sinc(x)   cosc(x)   atan2(x)"
   ]
  },
  {
   "cell_type": "code",
   "execution_count": 15,
   "metadata": {
    "collapsed": false,
    "scrolled": true
   },
   "outputs": [
    {
     "data": {
      "text/plain": [
       "(0.7071067811865475,-1.0,0.9999999999999999)"
      ]
     },
     "execution_count": 15,
     "metadata": {},
     "output_type": "execute_result"
    }
   ],
   "source": [
    "# radiandos\n",
    "\n",
    "sin(pi/4) , cos(pi) , tan(pi/4)"
   ]
  },
  {
   "cell_type": "code",
   "execution_count": 16,
   "metadata": {
    "collapsed": false
   },
   "outputs": [
    {
     "data": {
      "text/plain": [
       "(1.5248686188220641,1.4142135623730951,1.414213562373095)"
      ]
     },
     "execution_count": 16,
     "metadata": {},
     "output_type": "execute_result"
    }
   ],
   "source": [
    "coth(pi/4), csc(pi/4) , sec(pi/4)"
   ]
  },
  {
   "cell_type": "code",
   "execution_count": 17,
   "metadata": {
    "collapsed": false,
    "scrolled": true
   },
   "outputs": [
    {
     "data": {
      "text/plain": [
       "(1.0,0.0)"
      ]
     },
     "execution_count": 17,
     "metadata": {},
     "output_type": "execute_result"
    }
   ],
   "source": [
    "# Para o angulo em grau (º), acrescenta-se o \"d\"\n",
    "\n",
    "sind(90), cosd(90)"
   ]
  },
  {
   "cell_type": "raw",
   "metadata": {
    "raw_mimetype": "text/restructuredtext"
   },
   "source": [
    "Cálculo Angular\n",
    "---------------"
   ]
  },
  {
   "cell_type": "code",
   "execution_count": 18,
   "metadata": {
    "collapsed": false
   },
   "outputs": [
    {
     "data": {
      "text/plain": [
       "1.0471975511965976"
      ]
     },
     "execution_count": 18,
     "metadata": {},
     "output_type": "execute_result"
    }
   ],
   "source": [
    "# Converte x de graus to radianos\n",
    "\n",
    "deg2rad(60)"
   ]
  },
  {
   "cell_type": "code",
   "execution_count": 19,
   "metadata": {
    "collapsed": false
   },
   "outputs": [
    {
     "data": {
      "text/plain": [
       "59.99999999999999"
      ]
     },
     "execution_count": 19,
     "metadata": {},
     "output_type": "execute_result"
    }
   ],
   "source": [
    "# Converte x de radianos para graus\n",
    "\n",
    "rad2deg(1.0471975511965976)"
   ]
  },
  {
   "cell_type": "raw",
   "metadata": {
    "raw_mimetype": "text/restructuredtext"
   },
   "source": [
    "Cálculo Exponenial/Logaritmo\n",
    "----------------------------"
   ]
  },
  {
   "cell_type": "code",
   "execution_count": 20,
   "metadata": {
    "collapsed": false
   },
   "outputs": [
    {
     "data": {
      "text/plain": [
       "7.38905609893065"
      ]
     },
     "execution_count": 20,
     "metadata": {},
     "output_type": "execute_result"
    }
   ],
   "source": [
    "# Função exponencial natural em x\n",
    "\n",
    "exp(2)"
   ]
  },
  {
   "cell_type": "code",
   "execution_count": 21,
   "metadata": {
    "collapsed": false
   },
   "outputs": [
    {
     "data": {
      "text/plain": [
       "147.4131591025766"
      ]
     },
     "execution_count": 21,
     "metadata": {},
     "output_type": "execute_result"
    }
   ],
   "source": [
    "#accurate exp (x) -1 para x próximo de zero\n",
    "\n",
    "expm1(5)"
   ]
  },
  {
   "cell_type": "code",
   "execution_count": 22,
   "metadata": {
    "collapsed": false
   },
   "outputs": [
    {
     "data": {
      "text/plain": [
       "4.605170185988092"
      ]
     },
     "execution_count": 22,
     "metadata": {},
     "output_type": "execute_result"
    }
   ],
   "source": [
    "#logaritmo natural de x\n",
    "\n",
    "log(100)"
   ]
  },
  {
   "cell_type": "code",
   "execution_count": 23,
   "metadata": {
    "collapsed": false
   },
   "outputs": [
    {
     "data": {
      "text/plain": [
       "2.0"
      ]
     },
     "execution_count": 23,
     "metadata": {},
     "output_type": "execute_result"
    }
   ],
   "source": [
    "#base b logaritmo de x\n",
    "\n",
    "log(10,100)"
   ]
  },
  {
   "cell_type": "code",
   "execution_count": 24,
   "metadata": {
    "collapsed": false
   },
   "outputs": [
    {
     "data": {
      "text/plain": [
       "6.643856189774724"
      ]
     },
     "execution_count": 24,
     "metadata": {},
     "output_type": "execute_result"
    }
   ],
   "source": [
    "#logaritmo de base 2 x\n",
    "\n",
    "log2(100)"
   ]
  },
  {
   "cell_type": "code",
   "execution_count": 25,
   "metadata": {
    "collapsed": false
   },
   "outputs": [
    {
     "data": {
      "text/plain": [
       "3.0"
      ]
     },
     "execution_count": 25,
     "metadata": {},
     "output_type": "execute_result"
    }
   ],
   "source": [
    "#logaritmo de base 10 x\n",
    "\n",
    "log10(1000)"
   ]
  },
  {
   "cell_type": "code",
   "execution_count": 26,
   "metadata": {
    "collapsed": false
   },
   "outputs": [
    {
     "data": {
      "text/plain": [
       "4.61512051684126"
      ]
     },
     "execution_count": 26,
     "metadata": {},
     "output_type": "execute_result"
    }
   ],
   "source": [
    "#log preciso (1 + x) para x próximo de zero\n",
    "\n",
    "log1p(100)"
   ]
  },
  {
   "cell_type": "raw",
   "metadata": {
    "raw_mimetype": "text/restructuredtext"
   },
   "source": [
    "Binario/Octal/Hexadecimal\n",
    "-------------------------"
   ]
  },
  {
   "cell_type": "code",
   "execution_count": 27,
   "metadata": {
    "collapsed": false
   },
   "outputs": [
    {
     "data": {
      "text/plain": [
       "(\"10000000\",\"200\",\"80\")"
      ]
     },
     "execution_count": 27,
     "metadata": {},
     "output_type": "execute_result"
    }
   ],
   "source": [
    "bin(128) ,  oct(128) , hex(128)"
   ]
  },
  {
   "cell_type": "raw",
   "metadata": {
    "raw_mimetype": "text/restructuredtext"
   },
   "source": [
    "Resumo Principais Comandos\n",
    "--------------------------\n",
    "\n",
    "+---------------------------------------------------------------------------------------------------------------+\n",
    "|``round(x)`` - arrendonda para o número inteiro mais próximo.                                                  |\n",
    "+---------------------------------------------------------------------------------------------------------------+\n",
    "|``iround(x)`` - arrendonda para o número inteiro mais próximo, dando um resultado digítado-inteiro             |\n",
    "+---------------------------------------------------------------------------------------------------------------+\n",
    "|``floor(x)`` - arrendonda na direção -Inf                                                                      |\n",
    "+---------------------------------------------------------------------------------------------------------------+\n",
    "|``ifloor(x)`` - arrendonda na direção -Inf, dando um resultado digítado-inteiro                                |\n",
    "+---------------------------------------------------------------------------------------------------------------+\n",
    "|``ceil(x)`` - arrendonda na direção +Inf                                                                       |\n",
    "+---------------------------------------------------------------------------------------------------------------+\n",
    "|``iceil(x)`` - arrendonda na direção +Inf, dando um resultado digítado-inteiro                                 |\n",
    "+---------------------------------------------------------------------------------------------------------------+\n",
    "|``trunc(x)`` - arrendonda na direção de 0                                                                      |\n",
    "+---------------------------------------------------------------------------------------------------------------+\n",
    "|``itrunc(x)`` - arrendonda na direção de 0, dando um resultado digítado-inteiro                                |\n",
    "+---------------------------------------------------------------------------------------------------------------+\n",
    "|``div(x,y)`` - divisão inteira entre x e y (\"trunca\" o resultado de x/y)                                       |\n",
    "+---------------------------------------------------------------------------------------------------------------+\n",
    "|``fld(x,y)`` - arrendonda o resultado de x/y na direção -Inf                                                   |\n",
    "+---------------------------------------------------------------------------------------------------------------+\n",
    "|``rem(x,y)`` - resto; satisfaz ``x == div(x,y) + y⋅rem(x,y)``, o que implica correspondencia com o sinal de x  |\n",
    "+---------------------------------------------------------------------------------------------------------------+\n",
    "|``mod(x,y)`` - módulo; satisfaz ``x == fld(x,y) + y⋅mod(x,y)``, o que implica correspondencia com o sinal de y |\n",
    "+---------------------------------------------------------------------------------------------------------------+\n",
    "|``gcd(x,y,...)`` - máximo divisor comum de x,y,... com correspondencia ao sinal de x                           |\n",
    "+---------------------------------------------------------------------------------------------------------------+\n",
    "|``lcm(x,y,...)`` - minimo multiplo comum de x,y,... com correspondencia ao sinal de x                          |\n",
    "+---------------------------------------------------------------------------------------------------------------+\n",
    "|``abs(x)`` - valor positivo com a magnitude de x                                                               |\n",
    "+---------------------------------------------------------------------------------------------------------------+\n",
    "|``abs2(x)`` - a magnitude quadrada de x                                                                        |\n",
    "+---------------------------------------------------------------------------------------------------------------+\n",
    "|``sign(x)`` - indica o sinal de x, retornando -1, 0 ou 1                                                       |\n",
    "+---------------------------------------------------------------------------------------------------------------+\n",
    "|``signbit(x)`` - indica se o bit de sinal de x está ligado (1) ou desligado (0)                                |\n",
    "+---------------------------------------------------------------------------------------------------------------+\n",
    "|``copysign(x,y)`` - um valor com magnitude de x com o sinal de y                                               |\n",
    "+---------------------------------------------------------------------------------------------------------------+\n",
    "|``flipsign(x,y)`` - um valor com magnitude de x com o sinal de x⋅y                                             |\n",
    "+---------------------------------------------------------------------------------------------------------------+\n",
    "|``sqrt(x)`` - raiz quadrada de x                                                                               |\n",
    "+---------------------------------------------------------------------------------------------------------------+\n",
    "|``cbrt(x)`` - raiz cubica de x                                                                                 |\n",
    "+---------------------------------------------------------------------------------------------------------------+\n",
    "|``hypot(x,y)`` - ``sqrt(x^2⋅y^2)`` para qualquer valor de x e y                                                |\n",
    "+---------------------------------------------------------------------------------------------------------------+\n",
    "|``exp(x)`` - A função exponencial natural em x                                                                 |\n",
    "+---------------------------------------------------------------------------------------------------------------+\n",
    "|``expm1(x)`` - exp(x)-1                                                                                        |\n",
    "+---------------------------------------------------------------------------------------------------------------+\n",
    "|``ldexp(x,n)`` - x⋅2^n calculado de forma eficiente para valores inteiros de n                                 |\n",
    "+---------------------------------------------------------------------------------------------------------------+\n",
    "|``log(x)`` - logaritmo natural de x                                                                            |\n",
    "+---------------------------------------------------------------------------------------------------------------+\n",
    "|``log(b,x)`` - logaritmo de base b de x                                                                        |\n",
    "+---------------------------------------------------------------------------------------------------------------+\n",
    "|``log2(x)`` - logaritmo de base 2 de x                                                                         |\n",
    "+---------------------------------------------------------------------------------------------------------------+\n",
    "|``log10(x)`` - logaritmo de base 10 de x                                                                       |\n",
    "+---------------------------------------------------------------------------------------------------------------+\n",
    "|``log1p(x)`` - logaritmo natural de ``x+1``                                                                    |\n",
    "+---------------------------------------------------------------------------------------------------------------+\n",
    "|``logb(x)`` - o expoente binario de x                                                                          |\n",
    "+---------------------------------------------------------------------------------------------------------------+\n",
    "|``erf(x)`` - a função de erro em x                                                                             |\n",
    "+---------------------------------------------------------------------------------------------------------------+\n",
    "|``erfc(x)`` - complemento da função de erro em x                                                               |\n",
    "+---------------------------------------------------------------------------------------------------------------+\n",
    "|``gamma(x)`` - a função gamma em x                                                                             |\n",
    "+---------------------------------------------------------------------------------------------------------------+\n",
    "|``lgamma(x)`` - log(gamma(x))                                                                                  |\n",
    "+---------------------------------------------------------------------------------------------------------------+\n"
   ]
  },
  {
   "cell_type": "raw",
   "metadata": {
    "raw_mimetype": "text/restructuredtext"
   },
   "source": [
    "MEMÓRIAS DE CÉLULAS\n",
    "-------------------"
   ]
  },
  {
   "cell_type": "code",
   "execution_count": 28,
   "metadata": {
    "collapsed": false,
    "scrolled": false
   },
   "outputs": [
    {
     "data": {
      "text/plain": [
       "6.159287546660801"
      ]
     },
     "execution_count": 28,
     "metadata": {},
     "output_type": "execute_result"
    }
   ],
   "source": [
    "4+log(125)/sqrt(5)"
   ]
  },
  {
   "cell_type": "code",
   "execution_count": 29,
   "metadata": {
    "collapsed": false
   },
   "outputs": [
    {
     "data": {
      "text/plain": [
       "6.159287546660801"
      ]
     },
     "execution_count": 29,
     "metadata": {},
     "output_type": "execute_result"
    }
   ],
   "source": [
    "# calculo anterior\n",
    "\n",
    "ans"
   ]
  },
  {
   "cell_type": "code",
   "execution_count": 30,
   "metadata": {
    "collapsed": false,
    "scrolled": true
   },
   "outputs": [
    {
     "data": {
      "text/plain": [
       "0.1"
      ]
     },
     "execution_count": 30,
     "metadata": {},
     "output_type": "execute_result"
    }
   ],
   "source": [
    "# Out[numero da celula que deseja recuperar a saída]\n",
    "\n",
    "Out[3] "
   ]
  },
  {
   "cell_type": "code",
   "execution_count": 31,
   "metadata": {
    "collapsed": false
   },
   "outputs": [
    {
     "data": {
      "text/plain": [
       "\"2+5\""
      ]
     },
     "execution_count": 31,
     "metadata": {},
     "output_type": "execute_result"
    }
   ],
   "source": [
    "# In[numero da celula que deseja recuperar a saída]\n",
    "\n",
    "In[2]"
   ]
  },
  {
   "cell_type": "raw",
   "metadata": {
    "raw_mimetype": "text/restructuredtext"
   },
   "source": [
    "Historico dos Comandos\n",
    "\"\"\"\"\"\"\"\"\"\"\"\"\"\"\"\"\"\"\"\"\"\""
   ]
  },
  {
   "cell_type": "code",
   "execution_count": 32,
   "metadata": {
    "collapsed": false,
    "scrolled": false
   },
   "outputs": [
    {
     "data": {
      "text/plain": [
       "Dict{Int64,ByteString} with 32 entries:\n",
       "  18 => \"# Converte x de graus to radianos\\n\\ndeg2rad(60)\"\n",
       "  30 => \"# Out[numero da celula que deseja recuperar a saída]\\n\\nOut[3] \"\n",
       "  32 => \"# mostra todos os comandos de entrada\\n\\nIn\"\n",
       "  2  => \"2+5\"\n",
       "  16 => \"coth(pi/4), csc(pi/4) , sec(pi/4)\"\n",
       "  11 => \"# MDC\\n\\ngcd(7,14)\"\n",
       "  21 => \"#accurate exp (x) -1 para x próximo de zero\\n\\nexpm1(5)\"\n",
       "  7  => \"sin(pi/2)\"\n",
       "  9  => \"# 6 numeros aleatorios de 0 a 10\\n\\nrand(0:10, 6)\"\n",
       "  25 => \"#logaritmo de base 10 x\\n\\nlog10(1000)\"\n",
       "  10 => \"# jogos da mega sena. Claro que não é lá essas coisas né\\n\\nrand(1:60,…\n",
       "  26 => \"#log preciso (1 + x) para x próximo de zero\\n\\nlog1p(100)\"\n",
       "  29 => \"# calculo anterior\\n\\nans\"\n",
       "  19 => \"# Converte x de radianos para graus\\n\\nrad2deg(1.0471975511965976)\"\n",
       "  17 => \"# Para o angulo em grau (º), acrescenta-se o \\\"d\\\"\\n\\nsind(90), cosd(9…\n",
       "  8  => \"# número aleatório entre 0 e 1\\n\\nrand()\"\n",
       "  22 => \"#logaritmo natural de x\\n\\nlog(100)\"\n",
       "  6  => \"(2+5)^2/(3+1)^3\"\n",
       "  24 => \"#logaritmo de base 2 x\\n\\nlog2(100)\"\n",
       "  4  => \"# e^3\\n\\nexp(3)\"\n",
       "  3  => \"10e-2\"\n",
       "  28 => \"4+log(125)/sqrt(5)\"\n",
       "  5  => \"2^6\"\n",
       "  20 => \"# Função exponencial natural em x\\n\\nexp(2)\"\n",
       "  23 => \"#base b logaritmo de x\\n\\nlog(10,100)\"\n",
       "  ⋮  => ⋮"
      ]
     },
     "execution_count": 32,
     "metadata": {},
     "output_type": "execute_result"
    }
   ],
   "source": [
    "# mostra todos os comandos de entrada\n",
    "\n",
    "In"
   ]
  },
  {
   "cell_type": "code",
   "execution_count": 33,
   "metadata": {
    "collapsed": false
   },
   "outputs": [
    {
     "data": {
      "text/plain": [
       "Dict{Int64,Any} with 31 entries:\n",
       "  30 => 0.1\n",
       "  32 => Dict{Int64,ByteString}(18=>\"# Converte x de graus to radianos\\n\\ndeg2ra…\n",
       "  2  => 7\n",
       "  16 => (1.5248686188220641,1.4142135623730951,1.414213562373095)\n",
       "  11 => 7\n",
       "  21 => 147.4131591025766\n",
       "  7  => 1.0\n",
       "  9  => [8,1,1,3,5,1]\n",
       "  25 => 3.0\n",
       "  10 => ([53,59,15,35,3,48],[18,21,23,27,6,14],[32,26,19,39,54,59])\n",
       "  26 => 4.61512051684126\n",
       "  29 => 6.159287546660801\n",
       "  19 => 59.99999999999999\n",
       "  17 => (1.0,0.0)\n",
       "  8  => 0.14980614207722853\n",
       "  22 => 4.605170185988092\n",
       "  6  => 0.765625\n",
       "  24 => 6.643856189774724\n",
       "  4  => 20.085536923187668\n",
       "  3  => 0.1\n",
       "  28 => 6.159287546660801\n",
       "  5  => 64\n",
       "  20 => 7.38905609893065\n",
       "  23 => 2.0\n",
       "  13 => (1.4142135623730951,0.2222222222222222)\n",
       "  ⋮  => ⋮"
      ]
     },
     "execution_count": 33,
     "metadata": {},
     "output_type": "execute_result"
    }
   ],
   "source": [
    "# mostra todos os comandos de saída\n",
    "\n",
    "Out"
   ]
  },
  {
   "cell_type": "raw",
   "metadata": {
    "raw_mimetype": "text/restructuredtext"
   },
   "source": [
    "CALCULAR O TEMPO E PROCESSAMENTO\n",
    "--------------------------------"
   ]
  },
  {
   "cell_type": "raw",
   "metadata": {
    "raw_mimetype": "text/restructuredtext"
   },
   "source": [
    "@time\n",
    "\"\"\"\"\"\n",
    "\n",
    "Uma macro para executar uma expressão, imprimindo o tempo que levou para executar, o número de alocações, e o número total de bytes sua execução."
   ]
  },
  {
   "cell_type": "code",
   "execution_count": 34,
   "metadata": {
    "collapsed": false,
    "scrolled": true
   },
   "outputs": [
    {
     "name": "stdout",
     "output_type": "stream",
     "text": [
      "  0.008057 seconds (5.71 k allocations: 262.385 KB)\n"
     ]
    },
    {
     "data": {
      "text/plain": [
       "4.543647706547242"
      ]
     },
     "execution_count": 34,
     "metadata": {},
     "output_type": "execute_result"
    }
   ],
   "source": [
    "@time sqrt((2*pi + sqrt(log(2569854.5415263))/(sin(52)*cos(log(25948.1452))))^100)*exp(sin(0.8985424))"
   ]
  },
  {
   "cell_type": "raw",
   "metadata": {
    "raw_mimetype": "text/restructuredtext"
   },
   "source": [
    "@timev\n",
    "\"\"\"\"\"\"\n",
    "\n",
    "Semelhante ao @time só que mais completa"
   ]
  },
  {
   "cell_type": "code",
   "execution_count": 35,
   "metadata": {
    "collapsed": false,
    "scrolled": true
   },
   "outputs": [
    {
     "name": "stdout",
     "output_type": "stream",
     "text": [
      "  0.000012 seconds (18 allocations: 384 bytes)\n",
      "elapsed time (ns): 12158\n",
      "bytes allocated:   384\n",
      "pool allocs:       18\n"
     ]
    },
    {
     "data": {
      "text/plain": [
       "4.543647706547242"
      ]
     },
     "execution_count": 35,
     "metadata": {},
     "output_type": "execute_result"
    }
   ],
   "source": [
    "@timev sqrt((2*pi + sqrt(log(2569854.5415263))/(sin(52)*cos(log(25948.1452))))^100)*exp(sin(0.8985424))"
   ]
  },
  {
   "cell_type": "raw",
   "metadata": {
    "raw_mimetype": "text/restructuredtext"
   },
   "source": [
    "@elapsed\n",
    "\"\"\"\"\"\"\"\"\n",
    "\n",
    "A macro para avaliar o tempo de execuçã em segundos, descartando o valor resultante."
   ]
  },
  {
   "cell_type": "code",
   "execution_count": 36,
   "metadata": {
    "collapsed": false
   },
   "outputs": [
    {
     "data": {
      "text/plain": [
       "1.3308e-5"
      ]
     },
     "execution_count": 36,
     "metadata": {},
     "output_type": "execute_result"
    }
   ],
   "source": [
    "@elapsed sqrt((2*pi + sqrt(log(2569854.5415263))/(sin(52)*cos(log(25948.1452))))^100)*exp(sin(0.8985424))"
   ]
  },
  {
   "cell_type": "raw",
   "metadata": {
    "raw_mimetype": "text/restructuredtext"
   },
   "source": [
    "PRECISÃO DE NUMEROS SIGNIFICATIVOS\n",
    "----------------------------------"
   ]
  },
  {
   "cell_type": "code",
   "execution_count": 37,
   "metadata": {
    "collapsed": false,
    "scrolled": true
   },
   "outputs": [
    {
     "data": {
      "text/plain": [
       "3.14159265"
      ]
     },
     "execution_count": 37,
     "metadata": {},
     "output_type": "execute_result"
    }
   ],
   "source": [
    "# numero PI com oito numeros significativos\n",
    "\n",
    "round(pi,8)"
   ]
  },
  {
   "cell_type": "code",
   "execution_count": 38,
   "metadata": {
    "collapsed": false
   },
   "outputs": [
    {
     "data": {
      "text/plain": [
       "3.0"
      ]
     },
     "execution_count": 38,
     "metadata": {},
     "output_type": "execute_result"
    }
   ],
   "source": [
    "floor(3.14159265)"
   ]
  },
  {
   "cell_type": "code",
   "execution_count": 39,
   "metadata": {
    "collapsed": false
   },
   "outputs": [
    {
     "data": {
      "text/plain": [
       "4.0"
      ]
     },
     "execution_count": 39,
     "metadata": {},
     "output_type": "execute_result"
    }
   ],
   "source": [
    "ceil(3.14159265)"
   ]
  },
  {
   "cell_type": "code",
   "execution_count": 40,
   "metadata": {
    "collapsed": false
   },
   "outputs": [
    {
     "data": {
      "text/plain": [
       "3.0"
      ]
     },
     "execution_count": 40,
     "metadata": {},
     "output_type": "execute_result"
    }
   ],
   "source": [
    "trunc(3.14159265)"
   ]
  },
  {
   "cell_type": "raw",
   "metadata": {
    "collapsed": false,
    "raw_mimetype": "text/restructuredtext"
   },
   "source": [
    "COMANDOS DE IMPRESSÃO\n",
    "---------------------"
   ]
  },
  {
   "cell_type": "raw",
   "metadata": {
    "raw_mimetype": "text/restructuredtext"
   },
   "source": [
    "Comando print\n",
    "\"\"\"\"\"\"\"\"\"\"\"\"\"\n",
    "\n",
    "Escreve (para o fluxo de saída padrão) uma representação de texto ou de um valor se houver. A representação usada pelo comando inclui formatação mínima."
   ]
  },
  {
   "cell_type": "code",
   "execution_count": 41,
   "metadata": {
    "collapsed": false
   },
   "outputs": [
    {
     "name": "stdout",
     "output_type": "stream",
     "text": [
      "olá mundo"
     ]
    }
   ],
   "source": [
    "print(\"olá mundo\")"
   ]
  },
  {
   "cell_type": "raw",
   "metadata": {
    "raw_mimetype": "text/restructuredtext"
   },
   "source": [
    "Comando display\n",
    "\"\"\"\"\"\"\"\"\"\"\"\"\"\"\"\n",
    "\n",
    "Usa o nível superior de exibição aplicável na pilha de exibição, geralmente usando a mais rica produção multimedia com suporte para x"
   ]
  },
  {
   "cell_type": "code",
   "execution_count": 42,
   "metadata": {
    "collapsed": false
   },
   "outputs": [
    {
     "data": {
      "text/plain": [
       "\"olá mundo\""
      ]
     },
     "metadata": {},
     "output_type": "display_data"
    }
   ],
   "source": [
    "display(\"olá mundo\")"
   ]
  },
  {
   "cell_type": "raw",
   "metadata": {
    "raw_mimetype": "text/restructuredtext"
   },
   "source": [
    "Comando show\n",
    "\"\"\"\"\"\"\"\"\"\"\"\"\n",
    "\n",
    "Semenhante ao display"
   ]
  },
  {
   "cell_type": "code",
   "execution_count": 43,
   "metadata": {
    "collapsed": false,
    "scrolled": true
   },
   "outputs": [
    {
     "name": "stdout",
     "output_type": "stream",
     "text": [
      "\"olá mundo\""
     ]
    }
   ],
   "source": [
    "show(\"olá mundo\")"
   ]
  }
 ],
 "metadata": {
  "autoscroll": true,
  "celltoolbar": "Raw Cell Format",
  "kernelspec": {
   "display_name": "Julia 0.4.5",
   "language": "julia",
   "name": "julia-0.4"
  },
  "language_info": {
   "file_extension": ".jl",
   "mimetype": "application/julia",
   "name": "julia",
   "version": "0.4.5"
  }
 },
 "nbformat": 4,
 "nbformat_minor": 0
}
