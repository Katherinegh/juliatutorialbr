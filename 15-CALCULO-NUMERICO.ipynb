{
 "cells": [
  {
   "cell_type": "markdown",
   "metadata": {},
   "source": [
    "# CALCULO NUMÉRICO #"
   ]
  },
  {
   "cell_type": "markdown",
   "metadata": {
    "collapsed": false
   },
   "source": [
    "## ZEROS DE FUNÇÕES ##"
   ]
  },
  {
   "cell_type": "markdown",
   "metadata": {},
   "source": [
    "### ** MÉTODO DA BISSEÇÃO** ###"
   ]
  },
  {
   "cell_type": "code",
   "execution_count": 3,
   "metadata": {
    "collapsed": false,
    "scrolled": true
   },
   "outputs": [
    {
     "data": {
      "text/plain": [
       "metbissec (generic function with 2 methods)"
      ]
     },
     "execution_count": 3,
     "metadata": {},
     "output_type": "execute_result"
    }
   ],
   "source": [
    "\"\"\"\n",
    "Metodo da Bisseccao\n",
    "\n",
    "Calcula uma aproximação para uma raiz da função de f(x)\n",
    "\n",
    "Entre os intervalo [ao,bo] e a tolerencia de erro daddo por tol.\n",
    "\n",
    "ex metbissec(\"x^2 - 2*x - 8\",-5,5,0.000001)\n",
    "\n",
    "adaptado de http://goo.gl/pQNh6z \n",
    "\"\"\"\n",
    "\n",
    "function metbissec(funcao, a, b, tol = 0.00001)\n",
    "    \n",
    "    println(\"f(x) = \",funcao)\n",
    "    println()\n",
    "     \n",
    "    @eval g(x) = $(parse(funcao)) # transforma a string em uma formula manipulável\n",
    "    \n",
    "    x = a:0.1:b\n",
    "    Winston.plot(x,g(x),x,g(x).*0)\n",
    "    display(grid())\n",
    "    \n",
    "    \n",
    "    iteracao = 0\n",
    "    \n",
    "    while b - a >= tol\n",
    "        \n",
    "        x_medio = (a + b)/2.0\n",
    "        \n",
    "           println(\"interação: \", iteracao , \" : \", round(x_medio,8), \", valor função: \",round(g(x_medio),8))\n",
    "        \n",
    "            if g(x_medio)*g(a) > 0.0\n",
    "                a = x_medio            \n",
    "            else\n",
    "                b = x_medio            \n",
    "            end\n",
    "            iteracao = iteracao + 1\n",
    "    end\n",
    "        x_medio = (a + b)/2.0\n",
    "    \n",
    "        println(\"interação: \", iteracao , \" : \", round(x_medio,8), \", valor função: \",round(g(x_medio),8))    \n",
    "        \n",
    "    return x_medio \n",
    "end"
   ]
  },
  {
   "cell_type": "code",
   "execution_count": 4,
   "metadata": {
    "collapsed": false,
    "scrolled": false
   },
   "outputs": [
    {
     "data": {
      "image/png": "[encoded data removed]",
      "text/plain": [
       "Winston.FramedPlot(...)"
      ]
     },
     "metadata": {},
     "output_type": "display_data"
    },
    {
     "name": "stdout",
     "output_type": "stream",
     "text": [
      "f(x) = x.^2 - 4.*x\n",
      "\n",
      "interação: 0 : 3.5, valor função: -1.75\n",
      "interação: 1 : 4.25, valor função: 1.0625\n",
      "interação: 2 : 3.875, valor função: -0.484375\n",
      "interação: 3 : 4.0625, valor função: 0.25390625\n",
      "interação: 4 : 3.96875, valor função: -0.12402344\n",
      "interação: 5 : 4.015625, valor função: 0.06274414\n",
      "interação: 6 : 3.9921875, valor função: -0.03118896\n",
      "interação: 7 : 4.00390625, valor função: 0.01564026\n",
      "interação: 8 : 3.99804688, valor função: -0.00780869\n",
      "interação: 9 : 4.00097656, valor função: 0.0039072\n",
      "interação: 10 : 3.99951172, valor função: -0.00195289\n",
      "interação: 11 : 4.00024414, valor função: 0.00097662\n",
      "interação: 12 : 3.99987793, valor função: -0.00048827\n",
      "interação: 13 : 4.00006104, valor função: 0.00024414\n",
      "interação: 14 : 3.99996948, valor função: -0.00012207\n",
      "interação: 15 : 4.00001526, valor função: 6.104e-5\n"
     ]
    },
    {
     "data": {
      "text/plain": [
       "4.0000152587890625"
      ]
     },
     "execution_count": 4,
     "metadata": {},
     "output_type": "execute_result"
    }
   ],
   "source": [
    "using Winston\n",
    "\n",
    "metbissec(\"x.^2 - 4.*x\",2,5,0.0001)"
   ]
  },
  {
   "cell_type": "code",
   "execution_count": 5,
   "metadata": {
    "collapsed": false
   },
   "outputs": [
    {
     "name": "stdout",
     "output_type": "stream",
     "text": [
      "search: metbissec\n",
      "\n"
     ]
    },
    {
     "data": {
      "text/latex": [
       "Metodo da Bisseccao\n",
       "Calcula uma aproximação para uma raiz da função de f(x)\n",
       "Entre os intervalo [ao,bo] e a tolerencia de erro daddo por tol.\n",
       "ex metbissec(\"x\\^{}2 - 2*x - 8\",-5,5,0.000001)\n",
       "adaptado de http://goo.gl/pQNh6z \n"
      ],
      "text/markdown": [
       "Metodo da Bisseccao\n",
       "\n",
       "Calcula uma aproximação para uma raiz da função de f(x)\n",
       "\n",
       "Entre os intervalo [ao,bo] e a tolerencia de erro daddo por tol.\n",
       "\n",
       "ex metbissec(\"x^2 - 2*x - 8\",-5,5,0.000001)\n",
       "\n",
       "adaptado de http://goo.gl/pQNh6z \n"
      ],
      "text/plain": [
       "Metodo da Bisseccao\n",
       "\n",
       "Calcula uma aproximação para uma raiz da função de f(x)\n",
       "\n",
       "Entre os intervalo [ao,bo] e a tolerencia de erro daddo por tol.\n",
       "\n",
       "ex metbissec(\"x^2 - 2*x - 8\",-5,5,0.000001)\n",
       "\n",
       "adaptado de http://goo.gl/pQNh6z \n"
      ]
     },
     "execution_count": 5,
     "metadata": {},
     "output_type": "execute_result"
    }
   ],
   "source": [
    "? metbissec"
   ]
  },
  {
   "cell_type": "markdown",
   "metadata": {},
   "source": [
    "### MÉTODO DA FALSA POSIÇÃO ###"
   ]
  },
  {
   "cell_type": "markdown",
   "metadata": {},
   "source": [
    "### MÉTODO INTERATIVO LINEAR ###"
   ]
  },
  {
   "cell_type": "markdown",
   "metadata": {},
   "source": [
    "### MÉTODO DE NEWTON – RAPHSON ###"
   ]
  },
  {
   "cell_type": "markdown",
   "metadata": {},
   "source": [
    "### MÉTODO DA SECANTE###"
   ]
  },
  {
   "cell_type": "markdown",
   "metadata": {},
   "source": [
    "## MÉTODOS DE RESOLUÇÃO DE SISTEMAS LINEARES##"
   ]
  },
  {
   "cell_type": "markdown",
   "metadata": {},
   "source": [
    "* ### SISTEMA DE EQUAÇOES LINEARES ###"
   ]
  },
  {
   "cell_type": "markdown",
   "metadata": {},
   "source": [
    " ###  MÉTODOS DIRETOS ###"
   ]
  },
  {
   "cell_type": "markdown",
   "metadata": {},
   "source": [
    "#### 1. MÉTODO DE ELIMINAÇÃO DE GAUSS SEM PIVOTAMENTO#### "
   ]
  },
  {
   "cell_type": "markdown",
   "metadata": {},
   "source": [
    "#### 2.  MÉTODO DE ELIMINAÇÃO DE GAUSS COM PIVOTAMENTO TOTAL (LINHAS E COLUNAS) ####"
   ]
  },
  {
   "cell_type": "markdown",
   "metadata": {},
   "source": [
    "#### 3. FATORAÇÃO LU ####"
   ]
  },
  {
   "cell_type": "markdown",
   "metadata": {},
   "source": [
    "###  MÉTODOS INTERATIVOS ###"
   ]
  },
  {
   "cell_type": "markdown",
   "metadata": {},
   "source": [
    "#### 1.  MÉTODO ITERATIVO DE GAUSS – JACOBI ####"
   ]
  },
  {
   "cell_type": "markdown",
   "metadata": {},
   "source": [
    "#### 2.  MÉTODO ITERATIVO DE GAUSS – SEIDEL ####"
   ]
  },
  {
   "cell_type": "markdown",
   "metadata": {},
   "source": [
    "* ### SISTEMA DE EQUAÇOES NÃO LINEARES ###"
   ]
  },
  {
   "cell_type": "markdown",
   "metadata": {},
   "source": []
  },
  {
   "cell_type": "markdown",
   "metadata": {
    "collapsed": false
   },
   "source": [
    "##  INTERPOLAÇÃO ##"
   ]
  },
  {
   "cell_type": "markdown",
   "metadata": {
    "collapsed": true
   },
   "source": [
    "###  INTERPOLAÇÃO POLINOMIAL: FORMA DE LAGRANGE PARA O POLINÔMIO INTERPOLADOR ###"
   ]
  },
  {
   "cell_type": "markdown",
   "metadata": {},
   "source": [
    "###  INTERPOLAÇÃO POLINOMIAL: FORMA DE NEWTON PARA O POLINÔMIO INTERPOLADO ###"
   ]
  },
  {
   "cell_type": "markdown",
   "metadata": {},
   "source": [
    "###  INTERPOLAÇÃO POLINOMIAL: FORMA DE NEWTON-GREGORY PARA O POLINÔMIO INTERPOLADOR ###"
   ]
  },
  {
   "cell_type": "markdown",
   "metadata": {},
   "source": [
    "###  FUNÇÕES SPLINE (LINEAR) EM INTERPOLAÇÃO ###"
   ]
  },
  {
   "cell_type": "markdown",
   "metadata": {},
   "source": [
    "##  INTEGRAÇÃO NUMERICA ##"
   ]
  },
  {
   "cell_type": "markdown",
   "metadata": {},
   "source": [
    "###  REGRA DOS TRAPÉZIOS ###"
   ]
  },
  {
   "cell_type": "markdown",
   "metadata": {},
   "source": [
    "###  REGRA DE SIMPSON ###"
   ]
  },
  {
   "cell_type": "markdown",
   "metadata": {},
   "source": [
    "###  FÓRMULA DE NEWTON-COTES ###"
   ]
  },
  {
   "cell_type": "markdown",
   "metadata": {},
   "source": [
    "### MÉTODO DE ROMBERG ##"
   ]
  },
  {
   "cell_type": "markdown",
   "metadata": {},
   "source": [
    "##  SOLUÇÕES NUMÉRICAS DE EQUAÇÕES DIFERENCIAIS ORDINÁRIAS ##"
   ]
  },
  {
   "cell_type": "markdown",
   "metadata": {},
   "source": [
    "* ### MÉTODOS DE PASSO SIMPLES ###"
   ]
  },
  {
   "cell_type": "markdown",
   "metadata": {},
   "source": [
    "#### MÉTODO DE SÉRIE DE TAYLOR ####"
   ]
  },
  {
   "cell_type": "markdown",
   "metadata": {},
   "source": [
    "#### MÉTDO DE EULER ####"
   ]
  },
  {
   "cell_type": "markdown",
   "metadata": {},
   "source": [
    "#### MÉTODO DE EULER MODIFICADO ####"
   ]
  },
  {
   "cell_type": "markdown",
   "metadata": {},
   "source": [
    "#### MÉTODO DE RUNGE – KUTTA ####"
   ]
  },
  {
   "cell_type": "markdown",
   "metadata": {},
   "source": [
    "#### MÉTODOS DE PREVISÃO – CORREÇÃO ####"
   ]
  },
  {
   "cell_type": "code",
   "execution_count": null,
   "metadata": {
    "collapsed": true
   },
   "outputs": [],
   "source": []
  }
 ],
 "metadata": {
  "kernelspec": {
   "display_name": "Julia 0.4.5",
   "language": "julia",
   "name": "julia-0.4"
  },
  "language_info": {
   "file_extension": ".jl",
   "mimetype": "application/julia",
   "name": "julia",
   "version": "0.4.5"
  }
 },
 "nbformat": 4,
 "nbformat_minor": 0
}
