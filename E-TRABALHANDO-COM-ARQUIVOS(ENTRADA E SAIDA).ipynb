{
 "cells": [
  {
   "cell_type": "markdown",
   "metadata": {},
   "source": [
    "# TRABALHANDO COM ARQUIVOS(ENTRADA E SAIDA) ##"
   ]
  },
  {
   "cell_type": "markdown",
   "metadata": {
    "collapsed": false
   },
   "source": [
    "### CRIANDO E LENDO ARQUIVOS "
   ]
  },
  {
   "cell_type": "markdown",
   "metadata": {},
   "source": [
    "**Tabela de atributos** \n",
    "\n",
    "<table border=\"1\" class=\"docutils\" style=\"float: left;\">\n",
    "<colgroup>\n",
    "<col width=\"11%\" />\n",
    "<col width=\"89%\" />\n",
    "</colgroup>\n",
    "<tbody valign=\"top\">\n",
    "<tr class=\"row-odd\"><td>\"r\"</td>\n",
    "<td>ler</td>\n",
    "</tr>\n",
    "<tr class=\"row-even\"><td>\"r+\"</td>\n",
    "<td>ler, escrever</td>\n",
    "</tr>\n",
    "<tr class=\"row-odd\"><td>\"w\"</td>\n",
    "<td>escrever, criar, truncar</td>\n",
    "</tr>\n",
    "<tr class=\"row-even\"><td>\"w+\"</td>\n",
    "<td>ler, escrever, criar, truncar</td>\n",
    "</tr>\n",
    "<tr class=\"row-odd\"><td>\"a\"</td>\n",
    "<td>escrever, criar, adicionar ao final</td>\n",
    "</tr>\n",
    "<tr class=\"row-even\"><td>\"a+\"</td>\n",
    "<td>ler, escrever, criar, adicionar ao final</td>\n",
    "</tr>\n",
    "</tbody>\n",
    "</table>"
   ]
  },
  {
   "cell_type": "markdown",
   "metadata": {},
   "source": [
    "** Criando Arquivos de dados**"
   ]
  },
  {
   "cell_type": "code",
   "execution_count": 5,
   "metadata": {
    "collapsed": false,
    "scrolled": false
   },
   "outputs": [
    {
     "data": {
      "text/plain": [
       "\"arquivo.dat\""
      ]
     },
     "execution_count": 5,
     "metadata": {},
     "output_type": "execute_result"
    }
   ],
   "source": [
    "arquivo_dados = \"arquivo.dat\""
   ]
  },
  {
   "cell_type": "code",
   "execution_count": 6,
   "metadata": {
    "collapsed": false
   },
   "outputs": [
    {
     "data": {
      "text/plain": [
       "ASCIIString"
      ]
     },
     "execution_count": 6,
     "metadata": {},
     "output_type": "execute_result"
    }
   ],
   "source": [
    "typeof(arquivo_dados)"
   ]
  },
  {
   "cell_type": "markdown",
   "metadata": {},
   "source": [
    "** Gravando dados **\n",
    "\n",
    "Abrir o arquivo criado com atributo de gravação **\"w\"** e vincular a uma variável chamada *dados*. Se ja foi criado o arquivo use **open(\"arquivo.dat\",\"w\")** senão os dados serão sobreescritos. Sintaxe:\n",
    "```julia\n",
    "dados = open(objeto_dados/\"arquivo\", atributo) ou\n",
    "dados = open(\"arquivo.dat\", atributo)\n",
    "```"
   ]
  },
  {
   "cell_type": "code",
   "execution_count": 15,
   "metadata": {
    "collapsed": false
   },
   "outputs": [
    {
     "data": {
      "text/plain": [
       "IOStream(<file arquivo.dat>)"
      ]
     },
     "execution_count": 15,
     "metadata": {},
     "output_type": "execute_result"
    }
   ],
   "source": [
    "# lendo \"arquivo.dat\" a partir da variável \"arquivo_dados\"\n",
    "\n",
    "dados = open(arquivo_dados, \"w\")"
   ]
  },
  {
   "cell_type": "markdown",
   "metadata": {},
   "source": [
    "ou direto"
   ]
  },
  {
   "cell_type": "code",
   "execution_count": 16,
   "metadata": {
    "collapsed": false
   },
   "outputs": [
    {
     "data": {
      "text/plain": [
       "IOStream(<file arquivo.dat>)"
      ]
     },
     "execution_count": 16,
     "metadata": {},
     "output_type": "execute_result"
    }
   ],
   "source": [
    "# lendo arquivo direto\n",
    "\n",
    "dados = open(\"arquivo.dat\", \"w\")"
   ]
  },
  {
   "cell_type": "code",
   "execution_count": 17,
   "metadata": {
    "collapsed": false
   },
   "outputs": [
    {
     "data": {
      "text/plain": [
       "5"
      ]
     },
     "execution_count": 17,
     "metadata": {},
     "output_type": "execute_result"
    }
   ],
   "source": [
    "# gravando dados no arquivo\n",
    "\n",
    "write(dados, \"caramba!\")\n",
    "write(dados, \"Maluco,\")\n",
    "write(dados, \"Eita,\")"
   ]
  },
  {
   "cell_type": "code",
   "execution_count": 18,
   "metadata": {
    "collapsed": true
   },
   "outputs": [],
   "source": [
    "# fechando o arquivo\n",
    "\n",
    "close(dados)"
   ]
  },
  {
   "cell_type": "markdown",
   "metadata": {
    "collapsed": true
   },
   "source": [
    "** Lendo arquivo **"
   ]
  },
  {
   "cell_type": "code",
   "execution_count": 19,
   "metadata": {
    "collapsed": false,
    "scrolled": true
   },
   "outputs": [
    {
     "data": {
      "text/plain": [
       "\"caramba!Maluco,Eita,\""
      ]
     },
     "execution_count": 19,
     "metadata": {},
     "output_type": "execute_result"
    }
   ],
   "source": [
    "readall(\"arquivo.dat\")"
   ]
  },
  {
   "cell_type": "markdown",
   "metadata": {},
   "source": [
    "Atribuindo o arquivo a uma variável para fazer a leitura"
   ]
  },
  {
   "cell_type": "code",
   "execution_count": 20,
   "metadata": {
    "collapsed": false
   },
   "outputs": [
    {
     "data": {
      "text/plain": [
       "IOStream(<file arquivo.dat>)"
      ]
     },
     "execution_count": 20,
     "metadata": {},
     "output_type": "execute_result"
    }
   ],
   "source": [
    "# arquivo aberto com atributo de somente leitura\n",
    "\n",
    "dados = open(arquivo_dados,\"r\")"
   ]
  },
  {
   "cell_type": "code",
   "execution_count": 21,
   "metadata": {
    "collapsed": false
   },
   "outputs": [
    {
     "data": {
      "text/plain": [
       "\"caramba!Maluco,Eita,\""
      ]
     },
     "execution_count": 21,
     "metadata": {},
     "output_type": "execute_result"
    }
   ],
   "source": [
    "linha_dados = readall(dados)"
   ]
  },
  {
   "cell_type": "code",
   "execution_count": 22,
   "metadata": {
    "collapsed": true
   },
   "outputs": [],
   "source": [
    "close(dados)"
   ]
  },
  {
   "cell_type": "code",
   "execution_count": 23,
   "metadata": {
    "collapsed": false
   },
   "outputs": [
    {
     "data": {
      "text/plain": [
       "\"caramba!Maluco,Eita,\""
      ]
     },
     "metadata": {},
     "output_type": "display_data"
    }
   ],
   "source": [
    "# mesmo depois de fechado, os dados podem ser lidos a partir da variável vinculada\n",
    "\n",
    "display(linha_dados)"
   ]
  },
  {
   "cell_type": "markdown",
   "metadata": {},
   "source": [
    "** obs** se fizer :\n",
    "\n",
    "```julia\n",
    "    readall(dados)\n",
    "\n",
    "    close(dados)\n",
    "\n",
    "    display(linha_dados)\n",
    "\n",
    "```\n",
    "\n",
    "Não vai aparecer nada! uma vez que o conteúdo não está vinculado à uma variável. Logo, ao fechar o arquivo, não será possível ler"
   ]
  },
  {
   "cell_type": "markdown",
   "metadata": {},
   "source": [
    "** Exemplo de dados perdidos ao gravar dados em arquivo**"
   ]
  },
  {
   "cell_type": "code",
   "execution_count": 39,
   "metadata": {
    "collapsed": false
   },
   "outputs": [
    {
     "data": {
      "text/plain": [
       "\"opa ih....!\""
      ]
     },
     "execution_count": 39,
     "metadata": {},
     "output_type": "execute_result"
    }
   ],
   "source": [
    "# ler os ultimos dados gravados\n",
    "\n",
    "readall(\"arquivo.dat\")"
   ]
  },
  {
   "cell_type": "code",
   "execution_count": 40,
   "metadata": {
    "collapsed": false
   },
   "outputs": [
    {
     "data": {
      "text/plain": [
       "IOStream(<file arquivo.dat>)"
      ]
     },
     "execution_count": 40,
     "metadata": {},
     "output_type": "execute_result"
    }
   ],
   "source": [
    "# vincular o \"arquivo.dat\" à variável \"arquivo_dados\"\n",
    "\n",
    "arquivo_dados = open(\"arquivo.dat\", \"w\")"
   ]
  },
  {
   "cell_type": "code",
   "execution_count": 41,
   "metadata": {
    "collapsed": false
   },
   "outputs": [
    {
     "data": {
      "text/plain": [
       "11"
      ]
     },
     "execution_count": 41,
     "metadata": {},
     "output_type": "execute_result"
    }
   ],
   "source": [
    "# gravar dados no arquivo\n",
    "\n",
    "write(arquivo_dados, \"opa ih....!\")"
   ]
  },
  {
   "cell_type": "code",
   "execution_count": 42,
   "metadata": {
    "collapsed": false
   },
   "outputs": [
    {
     "data": {
      "text/plain": [
       "\"\""
      ]
     },
     "execution_count": 42,
     "metadata": {},
     "output_type": "execute_result"
    }
   ],
   "source": [
    "readall(\"arquivo.dat\")\n",
    "\n",
    "# não leu os dados gravados porque o atributo é somente escrita"
   ]
  },
  {
   "cell_type": "code",
   "execution_count": 45,
   "metadata": {
    "collapsed": false
   },
   "outputs": [],
   "source": [
    "# fechando o arquivo\n",
    "\n",
    "close(arquivo_dados)"
   ]
  },
  {
   "cell_type": "code",
   "execution_count": 46,
   "metadata": {
    "collapsed": false
   },
   "outputs": [
    {
     "data": {
      "text/plain": [
       "\"opa ih....!\""
      ]
     },
     "execution_count": 46,
     "metadata": {},
     "output_type": "execute_result"
    }
   ],
   "source": [
    "# ler o conteúdo do arquivo \n",
    "\n",
    "readall(\"arquivo.dat\")"
   ]
  },
  {
   "cell_type": "markdown",
   "metadata": {},
   "source": [
    "veja que apagou o conteúdo anterior."
   ]
  },
  {
   "cell_type": "markdown",
   "metadata": {},
   "source": [
    "** Agora um exemplo com dados incluídos ao final do arquivo**"
   ]
  },
  {
   "cell_type": "code",
   "execution_count": 47,
   "metadata": {
    "collapsed": false
   },
   "outputs": [
    {
     "data": {
      "text/plain": [
       "\"opa ih....!\""
      ]
     },
     "execution_count": 47,
     "metadata": {},
     "output_type": "execute_result"
    }
   ],
   "source": [
    "# ler o ultimo conteúdo gravado no arquivo\n",
    "\n",
    "readall(\"arquivo.dat\")"
   ]
  },
  {
   "cell_type": "code",
   "execution_count": 48,
   "metadata": {
    "collapsed": false
   },
   "outputs": [
    {
     "data": {
      "text/plain": [
       "IOStream(<file arquivo.dat>)"
      ]
     },
     "execution_count": 48,
     "metadata": {},
     "output_type": "execute_result"
    }
   ],
   "source": [
    "#abrindo o arquivo com atributo de ler, escrever, criar e acrescentar conteúdo ao final\n",
    "\n",
    "arquivo_dados= open(\"arquivo.dat\", \"a+\")"
   ]
  },
  {
   "cell_type": "code",
   "execution_count": 49,
   "metadata": {
    "collapsed": false
   },
   "outputs": [
    {
     "data": {
      "text/plain": [
       "7"
      ]
     },
     "execution_count": 49,
     "metadata": {},
     "output_type": "execute_result"
    }
   ],
   "source": [
    "write(arquivo_dados, \"ah...!\\n\")"
   ]
  },
  {
   "cell_type": "code",
   "execution_count": 51,
   "metadata": {
    "collapsed": false
   },
   "outputs": [
    {
     "data": {
      "text/plain": [
       "\"opa ih....!\""
      ]
     },
     "execution_count": 51,
     "metadata": {},
     "output_type": "execute_result"
    }
   ],
   "source": [
    "readall(\"arquivo.dat\")\n",
    "\n",
    "# le o arquivo sem ainda ter gravado os dados da memoria no arquivo em disco"
   ]
  },
  {
   "cell_type": "code",
   "execution_count": 54,
   "metadata": {
    "collapsed": true
   },
   "outputs": [],
   "source": [
    "# fechando o arquivo\n",
    "\n",
    "close(arquivo_dados)"
   ]
  },
  {
   "cell_type": "code",
   "execution_count": 56,
   "metadata": {
    "collapsed": false
   },
   "outputs": [
    {
     "data": {
      "text/plain": [
       "\"opa ih....!ah...!\\n\""
      ]
     },
     "execution_count": 56,
     "metadata": {},
     "output_type": "execute_result"
    }
   ],
   "source": [
    "# ler o arquivo\n",
    "\n",
    "readall(\"arquivo.dat\")"
   ]
  },
  {
   "cell_type": "markdown",
   "metadata": {},
   "source": [
    "***Agora não apagou ;)***"
   ]
  },
  {
   "cell_type": "markdown",
   "metadata": {},
   "source": [
    "### MATRIZ PARA ARQUIVO\n",
    "\n",
    "Se você tem uma matriz que deseja salvar em um arquivo de texto, ou se você quiser ler dados de um arquivo em uma matriz, você pode usar as funções **writedlm** e **readdlm**.\n",
    "\n",
    "**writedlm()** escreve o conteúdo de uma matriz (ou qualquer objeto iterável) para um arquivo de texto, e **readdlm()** lê os dados a partir de um arquivo em um array. Sintaxe:\n",
    "```julia\n",
    "writedlm(\"matriz.dat\", dados)\n",
    "var_dados = readdlm(\"matriz.dat\")\n",
    "```"
   ]
  },
  {
   "cell_type": "code",
   "execution_count": 24,
   "metadata": {
    "collapsed": false
   },
   "outputs": [
    {
     "data": {
      "text/plain": [
       "5x5 Array{Float64,2}:\n",
       " 0.0725039  0.410232   0.0206064  0.318553  0.0838218\n",
       " 0.96841    0.290194   0.439825   0.467963  0.325435 \n",
       " 0.714666   0.852339   0.423311   0.791701  0.545493 \n",
       " 0.555299   0.93653    0.0993202  0.39719   0.27849  \n",
       " 0.896912   0.0318665  0.172207   0.20401   0.753711 "
      ]
     },
     "execution_count": 24,
     "metadata": {},
     "output_type": "execute_result"
    }
   ],
   "source": [
    "# criando uma matriz aleatória de tamanho 5\n",
    "\n",
    "dados = rand(5,5)"
   ]
  },
  {
   "cell_type": "code",
   "execution_count": 25,
   "metadata": {
    "collapsed": true
   },
   "outputs": [],
   "source": [
    "# escrevendo a matriz em um arquivo chamado \"matriz.dat\"\n",
    "\n",
    "writedlm(\"matriz.dat\", dados)"
   ]
  },
  {
   "cell_type": "code",
   "execution_count": 26,
   "metadata": {
    "collapsed": false,
    "scrolled": false
   },
   "outputs": [
    {
     "data": {
      "text/plain": [
       "5x5 Array{Float64,2}:\n",
       " 0.0725039  0.410232   0.0206064  0.318553  0.0838218\n",
       " 0.96841    0.290194   0.439825   0.467963  0.325435 \n",
       " 0.714666   0.852339   0.423311   0.791701  0.545493 \n",
       " 0.555299   0.93653    0.0993202  0.39719   0.27849  \n",
       " 0.896912   0.0318665  0.172207   0.20401   0.753711 "
      ]
     },
     "execution_count": 26,
     "metadata": {},
     "output_type": "execute_result"
    }
   ],
   "source": [
    "# lendo o arquivo criado\n",
    "\n",
    "mat_dados = readdlm(\"matriz.dat\")"
   ]
  },
  {
   "cell_type": "code",
   "execution_count": 27,
   "metadata": {
    "collapsed": false
   },
   "outputs": [
    {
     "data": {
      "text/plain": [
       "0.5454926631064627"
      ]
     },
     "execution_count": 27,
     "metadata": {},
     "output_type": "execute_result"
    }
   ],
   "source": [
    "# ler o dado da linha 3 e coluna 5\n",
    "\n",
    "mat_dados[3,5]"
   ]
  },
  {
   "cell_type": "code",
   "execution_count": 28,
   "metadata": {
    "collapsed": false,
    "scrolled": true
   },
   "outputs": [
    {
     "data": {
      "text/plain": [
       "100"
      ]
     },
     "execution_count": 28,
     "metadata": {},
     "output_type": "execute_result"
    }
   ],
   "source": [
    "# alterar o dado da linha 3 e coluna 5 para 100\n",
    "\n",
    "mat_dados[3,5] = 100"
   ]
  },
  {
   "cell_type": "code",
   "execution_count": 29,
   "metadata": {
    "collapsed": false,
    "scrolled": true
   },
   "outputs": [
    {
     "data": {
      "text/plain": [
       "5x5 Array{Float64,2}:\n",
       " 0.0725039  0.410232   0.0206064  0.318553    0.0838218\n",
       " 0.96841    0.290194   0.439825   0.467963    0.325435 \n",
       " 0.714666   0.852339   0.423311   0.791701  100.0      \n",
       " 0.555299   0.93653    0.0993202  0.39719     0.27849  \n",
       " 0.896912   0.0318665  0.172207   0.20401     0.753711 "
      ]
     },
     "execution_count": 29,
     "metadata": {},
     "output_type": "execute_result"
    }
   ],
   "source": [
    "mat_dados"
   ]
  },
  {
   "cell_type": "markdown",
   "metadata": {},
   "source": [
    "Uma forma de perder os dados gravados."
   ]
  },
  {
   "cell_type": "code",
   "execution_count": 30,
   "metadata": {
    "collapsed": false
   },
   "outputs": [
    {
     "data": {
      "text/plain": [
       "\"apagou tudo\""
      ]
     },
     "execution_count": 30,
     "metadata": {},
     "output_type": "execute_result"
    }
   ],
   "source": [
    "vetor_morte = \"apagou tudo\""
   ]
  },
  {
   "cell_type": "code",
   "execution_count": 31,
   "metadata": {
    "collapsed": true
   },
   "outputs": [],
   "source": [
    "writedlm(\"matriz.dat\", vetor_morte)"
   ]
  },
  {
   "cell_type": "code",
   "execution_count": 32,
   "metadata": {
    "collapsed": false,
    "scrolled": false
   },
   "outputs": [
    {
     "data": {
      "text/plain": [
       "10x1 Array{Any,2}:\n",
       " \"a\"\n",
       " \"p\"\n",
       " \"a\"\n",
       " \"g\"\n",
       " \"o\"\n",
       " \"u\"\n",
       " \"t\"\n",
       " \"u\"\n",
       " \"d\"\n",
       " \"o\""
      ]
     },
     "execution_count": 32,
     "metadata": {},
     "output_type": "execute_result"
    }
   ],
   "source": [
    "readdlm(\"matriz.dat\")"
   ]
  },
  {
   "cell_type": "markdown",
   "metadata": {},
   "source": [
    "Os dados foram perdidos porque a matriz foi substituida por um vetor. "
   ]
  },
  {
   "cell_type": "markdown",
   "metadata": {},
   "source": [
    "### DATA FRAMES \n",
    "\n",
    "Os dataframes são objetos usados para guardar dados na forma de tabelas. Um data frame possui colunas nomeadas, sendo que todas as colunas possuem a mesma quantidade de linhas. DataFrame é a melhor forma de guardar informações pois além de manter uma boa formatação dos dados, ainda permite que seja gravado em arquivos do tipo CSV, que podem ser abertos e manipulados em softwares de planilha tipo excel ou calc."
   ]
  },
  {
   "cell_type": "markdown",
   "metadata": {},
   "source": [
    "* **CRIAR DATAFRAMES **\n",
    "\n",
    "Para criar um dataframe use a sintaxe:\n",
    "```julia\n",
    "DataFrame(nome_coluna_1 =[dado1_col_1,dado2_col_1], nome_coluna_2 = [dado1_col_2,dado2_col_2])\n",
    "\n",
    "ou\n",
    "\n",
    "nome_dataframe = DataFrame()\n",
    "nome_dataframe[:nome_coluna_1] = [dado1_col_1,dado2_col_1]\n",
    "nome_dataframe[:nome_coluna_1] = [dado1_col_1,dado2_col_1]\n",
    "\n",
    "```\n",
    "**OBS** : Nomes das colunas não podem ter espaço"
   ]
  },
  {
   "cell_type": "code",
   "execution_count": 57,
   "metadata": {
    "collapsed": true
   },
   "outputs": [],
   "source": [
    "using DataFrames"
   ]
  },
  {
   "cell_type": "code",
   "execution_count": 204,
   "metadata": {
    "collapsed": false
   },
   "outputs": [
    {
     "data": {
      "text/html": [
       "<table class=\"data-frame\"><tr><th></th><th>Nome_do_software</th><th>Ano</th></tr><tr><th>1</th><td>scilab</td><td>2005</td></tr><tr><th>2</th><td>julia</td><td>2012</td></tr></table>"
      ],
      "text/plain": [
       "2x2 DataFrames.DataFrame\n",
       "│ Row │ Nome_do_software │ Ano  │\n",
       "┝━━━━━┿━━━━━━━━━━━━━━━━━━┿━━━━━━┥\n",
       "│ 1   │ \"scilab\"         │ 2005 │\n",
       "│ 2   │ \"julia\"          │ 2012 │"
      ]
     },
     "execution_count": 204,
     "metadata": {},
     "output_type": "execute_result"
    }
   ],
   "source": [
    "# criar o dataframe.\n",
    "# Nomes das colunas não podem ter espaço\n",
    "\n",
    "dados = DataFrame(Nome_do_software =[\"scilab\",\"julia\"], Ano = [2005,2012])\n",
    "\n",
    "dados"
   ]
  },
  {
   "cell_type": "markdown",
   "metadata": {},
   "source": [
    "Ou assim:"
   ]
  },
  {
   "cell_type": "code",
   "execution_count": 135,
   "metadata": {
    "collapsed": false
   },
   "outputs": [
    {
     "data": {
      "text/html": [
       "<table class=\"data-frame\"><tr><th></th><th>Nome_do_sofware</th><th>Ano</th></tr><tr><th>1</th><td>scilab</td><td>2005</td></tr><tr><th>2</th><td>julia</td><td>2012</td></tr></table>"
      ],
      "text/plain": [
       "2x2 DataFrames.DataFrame\n",
       "│ Row │ Nome_do_sofware │ Ano  │\n",
       "┝━━━━━┿━━━━━━━━━━━━━━━━━┿━━━━━━┥\n",
       "│ 1   │ \"scilab\"        │ 2005 │\n",
       "│ 2   │ \"julia\"         │ 2012 │"
      ]
     },
     "execution_count": 135,
     "metadata": {},
     "output_type": "execute_result"
    }
   ],
   "source": [
    "# Nomes das colunas não podem ter espaço\n",
    "\n",
    "dados = DataFrame()\n",
    "\n",
    "dados[:Nome_do_sofware] = [\"scilab\",\"julia\"]\n",
    "dados[:Ano]             = [2005,2012]\n",
    "\n",
    "dados"
   ]
  },
  {
   "cell_type": "code",
   "execution_count": 7,
   "metadata": {
    "collapsed": false
   },
   "outputs": [],
   "source": [
    "# salvar no arquivo \n",
    "\n",
    "writetable(\"dataframe.dat\", dados)"
   ]
  },
  {
   "cell_type": "code",
   "execution_count": 8,
   "metadata": {
    "collapsed": false,
    "scrolled": false
   },
   "outputs": [
    {
     "data": {
      "text/html": [
       "<table class=\"data-frame\"><tr><th></th><th>Nome_do_sofware</th><th>Ano</th></tr><tr><th>1</th><td>scilab</td><td>2005</td></tr><tr><th>2</th><td>julia</td><td>2012</td></tr></table>"
      ],
      "text/plain": [
       "2x2 DataFrames.DataFrame\n",
       "│ Row │ Nome_do_sofware │ Ano  │\n",
       "┝━━━━━┿━━━━━━━━━━━━━━━━━┿━━━━━━┥\n",
       "│ 1   │ \"scilab\"        │ 2005 │\n",
       "│ 2   │ \"julia\"         │ 2012 │"
      ]
     },
     "execution_count": 8,
     "metadata": {},
     "output_type": "execute_result"
    }
   ],
   "source": [
    "# exibindo o arquivo e o conteúdo \n",
    "\n",
    "DataFrames.readtable(\"dataframe.dat\")"
   ]
  },
  {
   "cell_type": "markdown",
   "metadata": {},
   "source": [
    "Outro exemplo"
   ]
  },
  {
   "cell_type": "code",
   "execution_count": 226,
   "metadata": {
    "collapsed": false,
    "scrolled": true
   },
   "outputs": [
    {
     "data": {
      "text/html": [
       "<table class=\"data-frame\"><tr><th></th><th>Nome_do_software</th><th>Ano_de_lancamento</th><th>Site</th></tr><tr><th>1</th><td>Julia</td><td>2012</td><td>julialang.org</td></tr><tr><th>2</th><td>SageMath</td><td>2005</td><td>sagemath.org</td></tr><tr><th>3</th><td>Maxima</td><td>1980</td><td>maxima.org</td></tr><tr><th>4</th><td>Octave</td><td>2000</td><td>gnu.org/octave</td></tr><tr><th>5</th><td>Maxima</td><td>1980</td><td>maxima.org</td></tr></table>"
      ],
      "text/plain": [
       "5x3 DataFrames.DataFrame\n",
       "│ Row │ Nome_do_software │ Ano_de_lancamento │ Site             │\n",
       "┝━━━━━┿━━━━━━━━━━━━━━━━━━┿━━━━━━━━━━━━━━━━━━━┿━━━━━━━━━━━━━━━━━━┥\n",
       "│ 1   │ \"Julia\"          │ 2012              │ \"julialang.org\"  │\n",
       "│ 2   │ \"SageMath\"       │ 2005              │ \"sagemath.org\"   │\n",
       "│ 3   │ \"Maxima\"         │ 1980              │ \"maxima.org\"     │\n",
       "│ 4   │ \"Octave\"         │ 2000              │ \"gnu.org/octave\" │\n",
       "│ 5   │ \"Maxima\"         │ 1980              │ \"maxima.org\"     │"
      ]
     },
     "execution_count": 226,
     "metadata": {},
     "output_type": "execute_result"
    }
   ],
   "source": [
    "# Nomes das colunas não podem ter espaço\n",
    "\n",
    "Softwares = DataFrame()\n",
    "\n",
    "Softwares[:Nome_do_software]  = [\"Julia\", \"SageMath\", \"Maxima\", \"Octave\",\"Maxima\"]\n",
    "Softwares[:Ano_de_lancamento] = [2012, 2005, 1980, 2000, 1980]\n",
    "Softwares[:Site]              = [\"julialang.org\",\"sagemath.org\",\"maxima.org\",\"gnu.org/octave\", \"maxima.org\"]\n",
    "\n",
    "Softwares"
   ]
  },
  {
   "cell_type": "code",
   "execution_count": 227,
   "metadata": {
    "collapsed": false
   },
   "outputs": [
    {
     "data": {
      "text/plain": [
       "3-element Array{Symbol,1}:\n",
       " :Nome_do_software \n",
       " :Ano_de_lancamento\n",
       " :Site             "
      ]
     },
     "execution_count": 227,
     "metadata": {},
     "output_type": "execute_result"
    }
   ],
   "source": [
    "# Visualizar cabeçalho das colunas\n",
    "\n",
    "names(Softwares) "
   ]
  },
  {
   "cell_type": "code",
   "execution_count": 228,
   "metadata": {
    "collapsed": false,
    "scrolled": true
   },
   "outputs": [
    {
     "data": {
      "text/plain": [
       "3-element Array{Type{T},1}:\n",
       " ASCIIString\n",
       " Int64      \n",
       " ASCIIString"
      ]
     },
     "execution_count": 228,
     "metadata": {},
     "output_type": "execute_result"
    }
   ],
   "source": [
    "# saber os tipos dos elementos do dataframe. Aqui temos String (primeira coluna) e tipo Inteiro (segunda coluna)\n",
    "\n",
    "eltypes(Softwares)"
   ]
  },
  {
   "cell_type": "code",
   "execution_count": 229,
   "metadata": {
    "collapsed": true
   },
   "outputs": [],
   "source": [
    "# salvar no arquivo \n",
    "\n",
    "writetable(\"softwares_dataframe.dat\", Softwares)"
   ]
  },
  {
   "cell_type": "markdown",
   "metadata": {},
   "source": [
    "* **MANIPULAR COLUNAS, LINHAS E CONCATENAR DATAFRAMES**\n",
    "\n",
    "** Para adicionar uma nova coluna de dados ao DataFrame use:**\n",
    "```julia\n",
    "DataFrame[:nova_coluna] = [vetor_dados]\n",
    "```\n",
    "** Para deletar uma coluna use:**\n",
    "```julia\n",
    "delete!(Dataframe, :nome_coluna)\n",
    "```\n",
    "** Para alterar nome de uma coluna use:**\n",
    "```julia\n",
    "rename(Dataframe,:nome_coluna,:novo_nome_coluna) # apenas uma coluna\n",
    "names!(Dataframe, [:novo_nome_coluna_1, :novo_nome_coluna_2]) # todas as colunas\n",
    "```\n",
    "** Para concatenar Dataframes na horizontal use:**\n",
    "```julia\n",
    "[Dataframe_1  Dataframe_2] ou\n",
    "vcat(Dataframe_1 , Dataframe_2)\n",
    "```\n",
    "** Para concatenar Dataframes na vertical use:**\n",
    "```julia\n",
    "[Dataframe_1 ; Dataframe_2] ou\n",
    "hcat(Dataframe_1 , Dataframe_2)\n",
    "```\n",
    "** Para deletar linhas e linhas com dados repetidos use:**\n",
    "```julia\n",
    "deleterows!(DataFrame, [linha_1,linha_2,...]) # apaga as linhas e modifica o Dataframe(CUIDADO!)\n",
    "deleterows!(DataFrame, linha_1:linha_x)       # apaga as linhas e modifica o Dataframe(CUIDADO!)\n",
    "unique(DataFrame)  # apaga a linha repetida \n",
    "unique!(DataFrame) # apaga a linha repetida e modifica o Dataframe(CUIDADO!)\n",
    "```\n",
    "** Para ordenar os elementos de um Dataframe**\n",
    "```julia\n",
    "sort(Dataframe, cols = order(:nome_coluna))\n",
    "sort!(Dataframe, cols = order(:nome_coluna)) ordena e modifica o Dataframe(CUIDADO!)\n",
    "```\n",
    "Sendo x um número inteiro que representa a coluna ou elemento."
   ]
  },
  {
   "cell_type": "code",
   "execution_count": 1,
   "metadata": {
    "collapsed": false
   },
   "outputs": [],
   "source": [
    "using DataFrames"
   ]
  },
  {
   "cell_type": "markdown",
   "metadata": {},
   "source": [
    "**Adicionar e deletar colunas de um DataFrame**"
   ]
  },
  {
   "cell_type": "code",
   "execution_count": 243,
   "metadata": {
    "collapsed": false,
    "scrolled": true
   },
   "outputs": [
    {
     "data": {
      "text/html": [
       "<table class=\"data-frame\"><tr><th></th><th>Nome_do_sofware</th><th>Ano</th></tr><tr><th>1</th><td>scilab</td><td>2005</td></tr><tr><th>2</th><td>julia</td><td>2012</td></tr></table>"
      ],
      "text/plain": [
       "2x2 DataFrames.DataFrame\n",
       "│ Row │ Nome_do_sofware │ Ano  │\n",
       "┝━━━━━┿━━━━━━━━━━━━━━━━━┿━━━━━━┥\n",
       "│ 1   │ \"scilab\"        │ 2005 │\n",
       "│ 2   │ \"julia\"         │ 2012 │"
      ]
     },
     "execution_count": 243,
     "metadata": {},
     "output_type": "execute_result"
    }
   ],
   "source": [
    "# Copia dataframe \"dados\" gravado em arquivo\n",
    "\n",
    "dados1 = DataFrames.readtable(\"dataframe.dat\")"
   ]
  },
  {
   "cell_type": "code",
   "execution_count": 244,
   "metadata": {
    "collapsed": false,
    "scrolled": true
   },
   "outputs": [
    {
     "data": {
      "text/plain": [
       "2-element Array{ASCIIString,1}:\n",
       " \"Sim\"\n",
       " \"Sim\""
      ]
     },
     "execution_count": 244,
     "metadata": {},
     "output_type": "execute_result"
    }
   ],
   "source": [
    "# Adicionar uma nova coluna de dados\n",
    "\n",
    "dados1[:Gostei] = [\"Sim\", \"Sim\"]"
   ]
  },
  {
   "cell_type": "code",
   "execution_count": 245,
   "metadata": {
    "collapsed": false,
    "scrolled": true
   },
   "outputs": [
    {
     "data": {
      "text/html": [
       "<table class=\"data-frame\"><tr><th></th><th>Nome_do_sofware</th><th>Ano</th><th>Gostei</th></tr><tr><th>1</th><td>scilab</td><td>2005</td><td>Sim</td></tr><tr><th>2</th><td>julia</td><td>2012</td><td>Sim</td></tr></table>"
      ],
      "text/plain": [
       "2x3 DataFrames.DataFrame\n",
       "│ Row │ Nome_do_sofware │ Ano  │ Gostei │\n",
       "┝━━━━━┿━━━━━━━━━━━━━━━━━┿━━━━━━┿━━━━━━━━┥\n",
       "│ 1   │ \"scilab\"        │ 2005 │ \"Sim\"  │\n",
       "│ 2   │ \"julia\"         │ 2012 │ \"Sim\"  │"
      ]
     },
     "execution_count": 245,
     "metadata": {},
     "output_type": "execute_result"
    }
   ],
   "source": [
    "dados1"
   ]
  },
  {
   "cell_type": "code",
   "execution_count": 205,
   "metadata": {
    "collapsed": false,
    "scrolled": true
   },
   "outputs": [
    {
     "data": {
      "text/html": [
       "<table class=\"data-frame\"><tr><th></th><th>Nome_do_sofware</th><th>Ano</th></tr><tr><th>1</th><td>scilab</td><td>2005</td></tr><tr><th>2</th><td>julia</td><td>2012</td></tr></table>"
      ],
      "text/plain": [
       "2x2 DataFrames.DataFrame\n",
       "│ Row │ Nome_do_sofware │ Ano  │\n",
       "┝━━━━━┿━━━━━━━━━━━━━━━━━┿━━━━━━┥\n",
       "│ 1   │ \"scilab\"        │ 2005 │\n",
       "│ 2   │ \"julia\"         │ 2012 │"
      ]
     },
     "execution_count": 205,
     "metadata": {},
     "output_type": "execute_result"
    }
   ],
   "source": [
    "# para deletar uma coluna\n",
    "\n",
    "delete!(dados1, :Gostei)"
   ]
  },
  {
   "cell_type": "markdown",
   "metadata": {},
   "source": [
    "**Renomear uma coluna do DataFrame**"
   ]
  },
  {
   "cell_type": "code",
   "execution_count": 207,
   "metadata": {
    "collapsed": false,
    "scrolled": true
   },
   "outputs": [
    {
     "data": {
      "text/html": [
       "<table class=\"data-frame\"><tr><th></th><th>Nome_do_sofware</th><th>Ano</th></tr><tr><th>1</th><td>scilab</td><td>2005</td></tr><tr><th>2</th><td>julia</td><td>2012</td></tr></table>"
      ],
      "text/plain": [
       "2x2 DataFrames.DataFrame\n",
       "│ Row │ Nome_do_sofware │ Ano  │\n",
       "┝━━━━━┿━━━━━━━━━━━━━━━━━┿━━━━━━┥\n",
       "│ 1   │ \"scilab\"        │ 2005 │\n",
       "│ 2   │ \"julia\"         │ 2012 │"
      ]
     },
     "execution_count": 207,
     "metadata": {},
     "output_type": "execute_result"
    }
   ],
   "source": [
    "# Copia dataframe \"dados\" gravado em arquivo\n",
    "\n",
    "dados2 = DataFrames.readtable(\"dataframe.dat\")"
   ]
  },
  {
   "cell_type": "code",
   "execution_count": 208,
   "metadata": {
    "collapsed": false,
    "scrolled": false
   },
   "outputs": [
    {
     "data": {
      "text/html": [
       "<table class=\"data-frame\"><tr><th></th><th>Nome_programa</th><th>Ano</th></tr><tr><th>1</th><td>scilab</td><td>2005</td></tr><tr><th>2</th><td>julia</td><td>2012</td></tr></table>"
      ],
      "text/plain": [
       "2x2 DataFrames.DataFrame\n",
       "│ Row │ Nome_programa │ Ano  │\n",
       "┝━━━━━┿━━━━━━━━━━━━━━━┿━━━━━━┥\n",
       "│ 1   │ \"scilab\"      │ 2005 │\n",
       "│ 2   │ \"julia\"       │ 2012 │"
      ]
     },
     "execution_count": 208,
     "metadata": {},
     "output_type": "execute_result"
    }
   ],
   "source": [
    "# Alterar o nome da coluna 1 \"Nome_do_sofware\" para \"Nome_do_programa\"\n",
    "\n",
    "rename(dados2, :Nome_do_sofware,:Nome_programa)"
   ]
  },
  {
   "cell_type": "markdown",
   "metadata": {},
   "source": [
    "**Concatenar Dataframes**"
   ]
  },
  {
   "cell_type": "code",
   "execution_count": 161,
   "metadata": {
    "collapsed": false
   },
   "outputs": [
    {
     "data": {
      "text/html": [
       "<table class=\"data-frame\"><tr><th></th><th>Nome_do_sofware</th><th>Ano</th></tr><tr><th>1</th><td>scilab</td><td>2005</td></tr><tr><th>2</th><td>julia</td><td>2012</td></tr></table>"
      ],
      "text/plain": [
       "2x2 DataFrames.DataFrame\n",
       "│ Row │ Nome_do_sofware │ Ano  │\n",
       "┝━━━━━┿━━━━━━━━━━━━━━━━━┿━━━━━━┥\n",
       "│ 1   │ \"scilab\"        │ 2005 │\n",
       "│ 2   │ \"julia\"         │ 2012 │"
      ]
     },
     "execution_count": 161,
     "metadata": {},
     "output_type": "execute_result"
    }
   ],
   "source": [
    "# Copia dataframe \"dados\" gravado em arquivo\n",
    "\n",
    "dados3 = DataFrames.readtable(\"dataframe.dat\")"
   ]
  },
  {
   "cell_type": "code",
   "execution_count": 162,
   "metadata": {
    "collapsed": false
   },
   "outputs": [
    {
     "data": {
      "text/html": [
       "<table class=\"data-frame\"><tr><th></th><th>Nome_do_sofware</th><th>Ano</th></tr><tr><th>1</th><td>scilab</td><td>2005</td></tr><tr><th>2</th><td>axiom</td><td>1980</td></tr></table>"
      ],
      "text/plain": [
       "2x2 DataFrames.DataFrame\n",
       "│ Row │ Nome_do_sofware │ Ano  │\n",
       "┝━━━━━┿━━━━━━━━━━━━━━━━━┿━━━━━━┥\n",
       "│ 1   │ \"scilab\"        │ 2005 │\n",
       "│ 2   │ \"axiom\"         │ 1980 │"
      ]
     },
     "execution_count": 162,
     "metadata": {},
     "output_type": "execute_result"
    }
   ],
   "source": [
    "# Novo Dataframe \n",
    "\n",
    "dados_novos = DataFrame()\n",
    "\n",
    "dados_novos[:Nome_do_sofware] = [\"scilab\",\"axiom\"]\n",
    "dados_novos[:Ano]             = [2005,1980]\n",
    "\n",
    "dados_novos"
   ]
  },
  {
   "cell_type": "code",
   "execution_count": 163,
   "metadata": {
    "collapsed": false,
    "scrolled": true
   },
   "outputs": [
    {
     "data": {
      "text/html": [
       "<table class=\"data-frame\"><tr><th></th><th>Nome_do_sofware</th><th>Ano</th></tr><tr><th>1</th><td>scilab</td><td>2005</td></tr><tr><th>2</th><td>julia</td><td>2012</td></tr><tr><th>3</th><td>scilab</td><td>2005</td></tr><tr><th>4</th><td>axiom</td><td>1980</td></tr></table>"
      ],
      "text/plain": [
       "4x2 DataFrames.DataFrame\n",
       "│ Row │ Nome_do_sofware │ Ano  │\n",
       "┝━━━━━┿━━━━━━━━━━━━━━━━━┿━━━━━━┥\n",
       "│ 1   │ \"scilab\"        │ 2005 │\n",
       "│ 2   │ \"julia\"         │ 2012 │\n",
       "│ 3   │ \"scilab\"        │ 2005 │\n",
       "│ 4   │ \"axiom\"         │ 1980 │"
      ]
     },
     "execution_count": 163,
     "metadata": {},
     "output_type": "execute_result"
    }
   ],
   "source": [
    "# Concatenar na vertical\n",
    "\n",
    "dados4 = [dados3; dados_novos]"
   ]
  },
  {
   "cell_type": "markdown",
   "metadata": {},
   "source": [
    "Ou"
   ]
  },
  {
   "cell_type": "code",
   "execution_count": 218,
   "metadata": {
    "collapsed": false
   },
   "outputs": [
    {
     "data": {
      "text/html": [
       "<table class=\"data-frame\"><tr><th></th><th>Nome_do_sofware</th><th>Ano</th></tr><tr><th>1</th><td>scilab</td><td>2005</td></tr><tr><th>2</th><td>julia</td><td>2012</td></tr><tr><th>3</th><td>scilab</td><td>2005</td></tr><tr><th>4</th><td>axiom</td><td>1980</td></tr></table>"
      ],
      "text/plain": [
       "4x2 DataFrames.DataFrame\n",
       "│ Row │ Nome_do_sofware │ Ano  │\n",
       "┝━━━━━┿━━━━━━━━━━━━━━━━━┿━━━━━━┥\n",
       "│ 1   │ \"scilab\"        │ 2005 │\n",
       "│ 2   │ \"julia\"         │ 2012 │\n",
       "│ 3   │ \"scilab\"        │ 2005 │\n",
       "│ 4   │ \"axiom\"         │ 1980 │"
      ]
     },
     "execution_count": 218,
     "metadata": {},
     "output_type": "execute_result"
    }
   ],
   "source": [
    "dados4 =  vcat(dados3 , dados_novos)"
   ]
  },
  {
   "cell_type": "code",
   "execution_count": 219,
   "metadata": {
    "collapsed": false,
    "scrolled": false
   },
   "outputs": [
    {
     "data": {
      "text/html": [
       "<table class=\"data-frame\"><tr><th></th><th>Nome_do_sofware</th><th>Ano</th><th>Nome_do_sofware_1</th><th>Ano_1</th></tr><tr><th>1</th><td>scilab</td><td>2005</td><td>scilab</td><td>2005</td></tr><tr><th>2</th><td>julia</td><td>2012</td><td>axiom</td><td>1980</td></tr></table>"
      ],
      "text/plain": [
       "2x4 DataFrames.DataFrame\n",
       "│ Row │ Nome_do_sofware │ Ano  │ Nome_do_sofware_1 │ Ano_1 │\n",
       "┝━━━━━┿━━━━━━━━━━━━━━━━━┿━━━━━━┿━━━━━━━━━━━━━━━━━━━┿━━━━━━━┥\n",
       "│ 1   │ \"scilab\"        │ 2005 │ \"scilab\"          │ 2005  │\n",
       "│ 2   │ \"julia\"         │ 2012 │ \"axiom\"           │ 1980  │"
      ]
     },
     "execution_count": 219,
     "metadata": {},
     "output_type": "execute_result"
    }
   ],
   "source": [
    "# Concatenar na horizontal\n",
    "\n",
    "dados5 = [dados3 dados_novos]"
   ]
  },
  {
   "cell_type": "markdown",
   "metadata": {},
   "source": [
    "Ou"
   ]
  },
  {
   "cell_type": "code",
   "execution_count": 221,
   "metadata": {
    "collapsed": false,
    "scrolled": true
   },
   "outputs": [
    {
     "data": {
      "text/html": [
       "<table class=\"data-frame\"><tr><th></th><th>Nome_do_sofware</th><th>Ano</th><th>Nome_do_sofware_1</th><th>Ano_1</th></tr><tr><th>1</th><td>scilab</td><td>2005</td><td>scilab</td><td>2005</td></tr><tr><th>2</th><td>julia</td><td>2012</td><td>axiom</td><td>1980</td></tr></table>"
      ],
      "text/plain": [
       "2x4 DataFrames.DataFrame\n",
       "│ Row │ Nome_do_sofware │ Ano  │ Nome_do_sofware_1 │ Ano_1 │\n",
       "┝━━━━━┿━━━━━━━━━━━━━━━━━┿━━━━━━┿━━━━━━━━━━━━━━━━━━━┿━━━━━━━┥\n",
       "│ 1   │ \"scilab\"        │ 2005 │ \"scilab\"          │ 2005  │\n",
       "│ 2   │ \"julia\"         │ 2012 │ \"axiom\"           │ 1980  │"
      ]
     },
     "execution_count": 221,
     "metadata": {},
     "output_type": "execute_result"
    }
   ],
   "source": [
    "dados5 =  hcat(dados3 , dados_novos)"
   ]
  },
  {
   "cell_type": "markdown",
   "metadata": {},
   "source": [
    "Se os Dataframes tiverem somente uma coluna com nome em comum e mesmo tamanho pode ser usado a forma:\n",
    "```julia\n",
    "join(Dataframe_1,Dataframe_2, on = :nome_coluna_comum)\n",
    "```"
   ]
  },
  {
   "cell_type": "markdown",
   "metadata": {},
   "source": [
    "**Deletar linhas de dados e linha de dados repetidos**"
   ]
  },
  {
   "cell_type": "code",
   "execution_count": 214,
   "metadata": {
    "collapsed": false,
    "scrolled": true
   },
   "outputs": [
    {
     "data": {
      "text/html": [
       "<table class=\"data-frame\"><tr><th></th><th>Nome_do_sofware</th><th>Ano</th></tr><tr><th>1</th><td>scilab</td><td>2005</td></tr><tr><th>2</th><td>julia</td><td>2012</td></tr><tr><th>3</th><td>scilab</td><td>2005</td></tr><tr><th>4</th><td>axiom</td><td>1980</td></tr></table>"
      ],
      "text/plain": [
       "4x2 DataFrames.DataFrame\n",
       "│ Row │ Nome_do_sofware │ Ano  │\n",
       "┝━━━━━┿━━━━━━━━━━━━━━━━━┿━━━━━━┥\n",
       "│ 1   │ \"scilab\"        │ 2005 │\n",
       "│ 2   │ \"julia\"         │ 2012 │\n",
       "│ 3   │ \"scilab\"        │ 2005 │\n",
       "│ 4   │ \"axiom\"         │ 1980 │"
      ]
     },
     "execution_count": 214,
     "metadata": {},
     "output_type": "execute_result"
    }
   ],
   "source": [
    "dados4"
   ]
  },
  {
   "cell_type": "code",
   "execution_count": 216,
   "metadata": {
    "collapsed": false
   },
   "outputs": [
    {
     "data": {
      "text/html": [
       "<table class=\"data-frame\"><tr><th></th><th>Nome_do_sofware</th><th>Ano</th></tr><tr><th>1</th><td>scilab</td><td>2005</td></tr><tr><th>2</th><td>scilab</td><td>2005</td></tr><tr><th>3</th><td>axiom</td><td>1980</td></tr></table>"
      ],
      "text/plain": [
       "3x2 DataFrames.DataFrame\n",
       "│ Row │ Nome_do_sofware │ Ano  │\n",
       "┝━━━━━┿━━━━━━━━━━━━━━━━━┿━━━━━━┥\n",
       "│ 1   │ \"scilab\"        │ 2005 │\n",
       "│ 2   │ \"scilab\"        │ 2005 │\n",
       "│ 3   │ \"axiom\"         │ 1980 │"
      ]
     },
     "execution_count": 216,
     "metadata": {},
     "output_type": "execute_result"
    }
   ],
   "source": [
    "# deletar uma linha\n",
    "\n",
    "deleterows!(dados4, 2)"
   ]
  },
  {
   "cell_type": "code",
   "execution_count": 218,
   "metadata": {
    "collapsed": false,
    "scrolled": false
   },
   "outputs": [
    {
     "data": {
      "text/html": [
       "<table class=\"data-frame\"><tr><th></th><th>Nome_do_sofware</th><th>Ano</th></tr><tr><th>1</th><td>scilab</td><td>2005</td></tr><tr><th>2</th><td>axiom</td><td>1980</td></tr></table>"
      ],
      "text/plain": [
       "2x2 DataFrames.DataFrame\n",
       "│ Row │ Nome_do_sofware │ Ano  │\n",
       "┝━━━━━┿━━━━━━━━━━━━━━━━━┿━━━━━━┥\n",
       "│ 1   │ \"scilab\"        │ 2005 │\n",
       "│ 2   │ \"axiom\"         │ 1980 │"
      ]
     },
     "execution_count": 218,
     "metadata": {},
     "output_type": "execute_result"
    }
   ],
   "source": [
    "# deletar linhas de dados repetido\n",
    "\n",
    "unique!(dados4)"
   ]
  },
  {
   "cell_type": "markdown",
   "metadata": {},
   "source": [
    "** Ordenar o Dataframe**"
   ]
  },
  {
   "cell_type": "code",
   "execution_count": 221,
   "metadata": {
    "collapsed": false,
    "scrolled": true
   },
   "outputs": [
    {
     "data": {
      "text/html": [
       "<table class=\"data-frame\"><tr><th></th><th>Nome_do_sofware</th><th>Ano</th></tr><tr><th>1</th><td>scilab</td><td>2005</td></tr><tr><th>2</th><td>julia</td><td>2012</td></tr></table>"
      ],
      "text/plain": [
       "2x2 DataFrames.DataFrame\n",
       "│ Row │ Nome_do_sofware │ Ano  │\n",
       "┝━━━━━┿━━━━━━━━━━━━━━━━━┿━━━━━━┥\n",
       "│ 1   │ \"scilab\"        │ 2005 │\n",
       "│ 2   │ \"julia\"         │ 2012 │"
      ]
     },
     "execution_count": 221,
     "metadata": {},
     "output_type": "execute_result"
    }
   ],
   "source": [
    "# Copia dataframe \"dados\" gravado em arquivo\n",
    "\n",
    "dados6 = DataFrames.readtable(\"dataframe.dat\")"
   ]
  },
  {
   "cell_type": "code",
   "execution_count": 223,
   "metadata": {
    "collapsed": false
   },
   "outputs": [
    {
     "data": {
      "text/html": [
       "<table class=\"data-frame\"><tr><th></th><th>Nome_do_sofware</th><th>Ano</th></tr><tr><th>1</th><td>julia</td><td>2012</td></tr><tr><th>2</th><td>scilab</td><td>2005</td></tr></table>"
      ],
      "text/plain": [
       "2x2 DataFrames.DataFrame\n",
       "│ Row │ Nome_do_sofware │ Ano  │\n",
       "┝━━━━━┿━━━━━━━━━━━━━━━━━┿━━━━━━┥\n",
       "│ 1   │ \"julia\"         │ 2012 │\n",
       "│ 2   │ \"scilab\"        │ 2005 │"
      ]
     },
     "execution_count": 223,
     "metadata": {},
     "output_type": "execute_result"
    }
   ],
   "source": [
    "# ordena e atualiza\n",
    "\n",
    "sort!(dados6, cols = order(:Nome_do_sofware))"
   ]
  },
  {
   "cell_type": "markdown",
   "metadata": {},
   "source": [
    "* **VISUALIZAR E ALTERAR DADOS EM UM DATAFRAME**\n",
    "\n",
    "** Visualizar dados**\n",
    "\n",
    "```julia\n",
    "DataFrame[:nome_coluna_x]  -> Somente os elementos da coluna_x\n",
    "DataFrame[coluna_x]        -> Somente os elementos da coluna_x\n",
    "\n",
    "DataFrame[:nome_coluna_x][elemento_x]  -> Somente um elemento da coluna_x e linha_x\n",
    "DataFrame[coluna_x][elemento_x]        -> Somente um elemento da coluna_x e linha_x\n",
    "```\n",
    "** Alterar dados**\n",
    "\n",
    "```julia\n",
    "DataFrame[:nome_coluna_x][elemento_x] = novo_dado    -> altera o dado da coluna_x e linha_x\n",
    "DataFrame[coluna_x][elemento_x]       = novo_dado    -> altera o dado da coluna_x e linha_x\n",
    "DataFrame[[elem_x1,elem_x2,elem_x3],:coluna_x] = novo_dado* -> altera os dados dos elem x1,x2,x3 da coluna_x\n",
    "\n",
    "*novo_dado pode ser um vetor correspondente aos novos dados de elem x1,x2,x3...\n",
    "```\n",
    "** Adicionar linha de dados**\n",
    "\n",
    "```julia\n",
    "push!(Dataframe, [dado_col_x1,dado_col_x2])\n",
    "ou\n",
    "nome_Dataframe = vcat(nome_Dataframe, DataFrame(dado_col_x1 = valor,dado_col_x2 = valor))\n",
    "```\n",
    "Sendo x um número inteiro que representa a coluna ou elemento."
   ]
  },
  {
   "cell_type": "code",
   "execution_count": 277,
   "metadata": {
    "collapsed": false
   },
   "outputs": [],
   "source": [
    "using DataFrames"
   ]
  },
  {
   "cell_type": "code",
   "execution_count": 302,
   "metadata": {
    "collapsed": false
   },
   "outputs": [
    {
     "data": {
      "text/html": [
       "<table class=\"data-frame\"><tr><th></th><th>Nome_do_software</th><th>Ano_de_lancamento</th><th>Site</th></tr><tr><th>1</th><td>Julia</td><td>2012</td><td>julialang.org</td></tr><tr><th>2</th><td>SageMath</td><td>2005</td><td>sagemath.org</td></tr><tr><th>3</th><td>Maxima</td><td>1980</td><td>maxima.org</td></tr><tr><th>4</th><td>Octave</td><td>2000</td><td>gnu.org/octave</td></tr><tr><th>5</th><td>Maxima</td><td>1980</td><td>maxima.org</td></tr></table>"
      ],
      "text/plain": [
       "5x3 DataFrames.DataFrame\n",
       "│ Row │ Nome_do_software │ Ano_de_lancamento │ Site             │\n",
       "┝━━━━━┿━━━━━━━━━━━━━━━━━━┿━━━━━━━━━━━━━━━━━━━┿━━━━━━━━━━━━━━━━━━┥\n",
       "│ 1   │ \"Julia\"          │ 2012              │ \"julialang.org\"  │\n",
       "│ 2   │ \"SageMath\"       │ 2005              │ \"sagemath.org\"   │\n",
       "│ 3   │ \"Maxima\"         │ 1980              │ \"maxima.org\"     │\n",
       "│ 4   │ \"Octave\"         │ 2000              │ \"gnu.org/octave\" │\n",
       "│ 5   │ \"Maxima\"         │ 1980              │ \"maxima.org\"     │"
      ]
     },
     "execution_count": 302,
     "metadata": {},
     "output_type": "execute_result"
    }
   ],
   "source": [
    "# copiar Dataframe gravado em arquivo\n",
    "\n",
    "Softwares1 = DataFrames.readtable(\"softwares_dataframe.dat\")"
   ]
  },
  {
   "cell_type": "code",
   "execution_count": 303,
   "metadata": {
    "collapsed": false
   },
   "outputs": [
    {
     "data": {
      "text/plain": [
       "5-element DataArrays.DataArray{UTF8String,1}:\n",
       " \"Julia\"   \n",
       " \"SageMath\"\n",
       " \"Maxima\"  \n",
       " \"Octave\"  \n",
       " \"Maxima\"  "
      ]
     },
     "execution_count": 303,
     "metadata": {},
     "output_type": "execute_result"
    }
   ],
   "source": [
    "# Visualizando toda a primeira coluna\n",
    "\n",
    "Softwares1[:Nome_do_software]"
   ]
  },
  {
   "cell_type": "code",
   "execution_count": 304,
   "metadata": {
    "collapsed": false
   },
   "outputs": [
    {
     "data": {
      "text/plain": [
       "5-element DataArrays.DataArray{UTF8String,1}:\n",
       " \"Julia\"   \n",
       " \"SageMath\"\n",
       " \"Maxima\"  \n",
       " \"Octave\"  \n",
       " \"Maxima\"  "
      ]
     },
     "execution_count": 304,
     "metadata": {},
     "output_type": "execute_result"
    }
   ],
   "source": [
    "# Visualizando toda a primeira coluna\n",
    "\n",
    "Softwares1[1]"
   ]
  },
  {
   "cell_type": "code",
   "execution_count": 305,
   "metadata": {
    "collapsed": false
   },
   "outputs": [
    {
     "data": {
      "text/plain": [
       "\"Maxima\""
      ]
     },
     "execution_count": 305,
     "metadata": {},
     "output_type": "execute_result"
    }
   ],
   "source": [
    "# acessando o terceiro elemento da primeira coluna\n",
    "\n",
    "Softwares1[:Nome_do_software][3]"
   ]
  },
  {
   "cell_type": "code",
   "execution_count": 306,
   "metadata": {
    "collapsed": false
   },
   "outputs": [
    {
     "data": {
      "text/plain": [
       "\"Maxima\""
      ]
     },
     "execution_count": 306,
     "metadata": {},
     "output_type": "execute_result"
    }
   ],
   "source": [
    "# acessando o terceiro elemento da primeira coluna\n",
    "\n",
    "Softwares1[1][3]"
   ]
  },
  {
   "cell_type": "code",
   "execution_count": 307,
   "metadata": {
    "collapsed": false
   },
   "outputs": [
    {
     "data": {
      "text/plain": [
       "\"maXIma\""
      ]
     },
     "execution_count": 307,
     "metadata": {},
     "output_type": "execute_result"
    }
   ],
   "source": [
    "# alterando o valor do terceiro elemrnto da primeira coluna\n",
    "\n",
    "Softwares1[1][3] = \"maXIma\""
   ]
  },
  {
   "cell_type": "code",
   "execution_count": 308,
   "metadata": {
    "collapsed": false,
    "scrolled": true
   },
   "outputs": [
    {
     "data": {
      "text/html": [
       "<table class=\"data-frame\"><tr><th></th><th>Nome_do_software</th><th>Ano_de_lancamento</th><th>Site</th></tr><tr><th>1</th><td>Julia</td><td>2012</td><td>julialang.org</td></tr><tr><th>2</th><td>SageMath</td><td>2005</td><td>sagemath.org</td></tr><tr><th>3</th><td>maXIma</td><td>1980</td><td>maxima.org</td></tr><tr><th>4</th><td>Octave</td><td>2000</td><td>gnu.org/octave</td></tr><tr><th>5</th><td>Maxima</td><td>1980</td><td>maxima.org</td></tr></table>"
      ],
      "text/plain": [
       "5x3 DataFrames.DataFrame\n",
       "│ Row │ Nome_do_software │ Ano_de_lancamento │ Site             │\n",
       "┝━━━━━┿━━━━━━━━━━━━━━━━━━┿━━━━━━━━━━━━━━━━━━━┿━━━━━━━━━━━━━━━━━━┥\n",
       "│ 1   │ \"Julia\"          │ 2012              │ \"julialang.org\"  │\n",
       "│ 2   │ \"SageMath\"       │ 2005              │ \"sagemath.org\"   │\n",
       "│ 3   │ \"maXIma\"         │ 1980              │ \"maxima.org\"     │\n",
       "│ 4   │ \"Octave\"         │ 2000              │ \"gnu.org/octave\" │\n",
       "│ 5   │ \"Maxima\"         │ 1980              │ \"maxima.org\"     │"
      ]
     },
     "execution_count": 308,
     "metadata": {},
     "output_type": "execute_result"
    }
   ],
   "source": [
    "# veja o novo nome do software maxima\n",
    "\n",
    "Softwares1"
   ]
  },
  {
   "cell_type": "markdown",
   "metadata": {},
   "source": [
    "**Adicionar uma nova linha de dados**\n",
    "\n",
    "Para adicionar uma nova linha de dados ao final do DataFrame use:\n"
   ]
  },
  {
   "cell_type": "code",
   "execution_count": 309,
   "metadata": {
    "collapsed": false
   },
   "outputs": [],
   "source": [
    "push!(Softwares1, [\"FreeMat\",2001,\"freemat.org\"])"
   ]
  },
  {
   "cell_type": "code",
   "execution_count": 310,
   "metadata": {
    "collapsed": false,
    "scrolled": true
   },
   "outputs": [
    {
     "data": {
      "text/html": [
       "<table class=\"data-frame\"><tr><th></th><th>Nome_do_software</th><th>Ano_de_lancamento</th><th>Site</th></tr><tr><th>1</th><td>Julia</td><td>2012</td><td>julialang.org</td></tr><tr><th>2</th><td>SageMath</td><td>2005</td><td>sagemath.org</td></tr><tr><th>3</th><td>maXIma</td><td>1980</td><td>maxima.org</td></tr><tr><th>4</th><td>Octave</td><td>2000</td><td>gnu.org/octave</td></tr><tr><th>5</th><td>Maxima</td><td>1980</td><td>maxima.org</td></tr><tr><th>6</th><td>FreeMat</td><td>2001</td><td>freemat.org</td></tr></table>"
      ],
      "text/plain": [
       "6x3 DataFrames.DataFrame\n",
       "│ Row │ Nome_do_software │ Ano_de_lancamento │ Site             │\n",
       "┝━━━━━┿━━━━━━━━━━━━━━━━━━┿━━━━━━━━━━━━━━━━━━━┿━━━━━━━━━━━━━━━━━━┥\n",
       "│ 1   │ \"Julia\"          │ 2012              │ \"julialang.org\"  │\n",
       "│ 2   │ \"SageMath\"       │ 2005              │ \"sagemath.org\"   │\n",
       "│ 3   │ \"maXIma\"         │ 1980              │ \"maxima.org\"     │\n",
       "│ 4   │ \"Octave\"         │ 2000              │ \"gnu.org/octave\" │\n",
       "│ 5   │ \"Maxima\"         │ 1980              │ \"maxima.org\"     │\n",
       "│ 6   │ \"FreeMat\"        │ 2001              │ \"freemat.org\"    │"
      ]
     },
     "execution_count": 310,
     "metadata": {},
     "output_type": "execute_result"
    }
   ],
   "source": [
    "Softwares1"
   ]
  },
  {
   "cell_type": "code",
   "execution_count": 311,
   "metadata": {
    "collapsed": false
   },
   "outputs": [
    {
     "data": {
      "text/html": [
       "<table class=\"data-frame\"><tr><th></th><th>Nome_do_software</th><th>Ano_de_lancamento</th><th>Site</th></tr><tr><th>1</th><td>Julia</td><td>2012</td><td>julialang.org</td></tr><tr><th>2</th><td>SageMath</td><td>2005</td><td>sagemath.org</td></tr><tr><th>3</th><td>maXIma</td><td>1980</td><td>maxima.org</td></tr><tr><th>4</th><td>Octave</td><td>2000</td><td>gnu.org/octave</td></tr><tr><th>5</th><td>Maxima</td><td>1980</td><td>maxima.org</td></tr><tr><th>6</th><td>FreeMat</td><td>2001</td><td>freemat.org</td></tr><tr><th>7</th><td>FreeMat</td><td>2001</td><td>freemat.org</td></tr></table>"
      ],
      "text/plain": [
       "7x3 DataFrames.DataFrame\n",
       "│ Row │ Nome_do_software │ Ano_de_lancamento │ Site             │\n",
       "┝━━━━━┿━━━━━━━━━━━━━━━━━━┿━━━━━━━━━━━━━━━━━━━┿━━━━━━━━━━━━━━━━━━┥\n",
       "│ 1   │ \"Julia\"          │ 2012              │ \"julialang.org\"  │\n",
       "│ 2   │ \"SageMath\"       │ 2005              │ \"sagemath.org\"   │\n",
       "│ 3   │ \"maXIma\"         │ 1980              │ \"maxima.org\"     │\n",
       "│ 4   │ \"Octave\"         │ 2000              │ \"gnu.org/octave\" │\n",
       "│ 5   │ \"Maxima\"         │ 1980              │ \"maxima.org\"     │\n",
       "│ 6   │ \"FreeMat\"        │ 2001              │ \"freemat.org\"    │\n",
       "│ 7   │ \"FreeMat\"        │ 2001              │ \"freemat.org\"    │"
      ]
     },
     "execution_count": 311,
     "metadata": {},
     "output_type": "execute_result"
    }
   ],
   "source": [
    "# outra forma de adicionar uma linha de dados. Ficará 2 \"FreeMat\"\n",
    "\n",
    "Softwares1 = vcat(Softwares1,DataFrame(Nome_do_software=\"FreeMat\",Ano_de_lancamento=2001,Site=\"freemat.org\"))"
   ]
  },
  {
   "cell_type": "markdown",
   "metadata": {},
   "source": [
    "** Ordenando os dados ** \n",
    "\n",
    "Use somente **sort** sem o \"! \" para evitar a atualização do vetor"
   ]
  },
  {
   "cell_type": "code",
   "execution_count": 312,
   "metadata": {
    "collapsed": false,
    "scrolled": false
   },
   "outputs": [
    {
     "data": {
      "text/html": [
       "<table class=\"data-frame\"><tr><th></th><th>Nome_do_software</th><th>Ano_de_lancamento</th><th>Site</th></tr><tr><th>1</th><td>maXIma</td><td>1980</td><td>maxima.org</td></tr><tr><th>2</th><td>Maxima</td><td>1980</td><td>maxima.org</td></tr><tr><th>3</th><td>Octave</td><td>2000</td><td>gnu.org/octave</td></tr><tr><th>4</th><td>FreeMat</td><td>2001</td><td>freemat.org</td></tr><tr><th>5</th><td>FreeMat</td><td>2001</td><td>freemat.org</td></tr><tr><th>6</th><td>SageMath</td><td>2005</td><td>sagemath.org</td></tr><tr><th>7</th><td>Julia</td><td>2012</td><td>julialang.org</td></tr></table>"
      ],
      "text/plain": [
       "7x3 DataFrames.DataFrame\n",
       "│ Row │ Nome_do_software │ Ano_de_lancamento │ Site             │\n",
       "┝━━━━━┿━━━━━━━━━━━━━━━━━━┿━━━━━━━━━━━━━━━━━━━┿━━━━━━━━━━━━━━━━━━┥\n",
       "│ 1   │ \"maXIma\"         │ 1980              │ \"maxima.org\"     │\n",
       "│ 2   │ \"Maxima\"         │ 1980              │ \"maxima.org\"     │\n",
       "│ 3   │ \"Octave\"         │ 2000              │ \"gnu.org/octave\" │\n",
       "│ 4   │ \"FreeMat\"        │ 2001              │ \"freemat.org\"    │\n",
       "│ 5   │ \"FreeMat\"        │ 2001              │ \"freemat.org\"    │\n",
       "│ 6   │ \"SageMath\"       │ 2005              │ \"sagemath.org\"   │\n",
       "│ 7   │ \"Julia\"          │ 2012              │ \"julialang.org\"  │"
      ]
     },
     "execution_count": 312,
     "metadata": {},
     "output_type": "execute_result"
    }
   ],
   "source": [
    "sort!(Softwares1, cols = order(:Ano_de_lancamento))"
   ]
  },
  {
   "cell_type": "code",
   "execution_count": 313,
   "metadata": {
    "collapsed": false
   },
   "outputs": [
    {
     "data": {
      "text/html": [
       "<table class=\"data-frame\"><tr><th></th><th>Nome_do_software</th><th>Ano_de_lancamento</th><th>Site</th></tr><tr><th>1</th><td>maXIma</td><td>1980</td><td>maxima.org</td></tr><tr><th>2</th><td>Maxima</td><td>1980</td><td>maxima.org</td></tr><tr><th>3</th><td>Octave</td><td>2000</td><td>gnu.org/octave</td></tr><tr><th>4</th><td>FreeMat</td><td>2001</td><td>freemat.org</td></tr><tr><th>5</th><td>FreeMat</td><td>2001</td><td>freemat.org</td></tr><tr><th>6</th><td>SageMath</td><td>2005</td><td>sagemath.org</td></tr><tr><th>7</th><td>Julia</td><td>2012</td><td>julialang.org</td></tr></table>"
      ],
      "text/plain": [
       "7x3 DataFrames.DataFrame\n",
       "│ Row │ Nome_do_software │ Ano_de_lancamento │ Site             │\n",
       "┝━━━━━┿━━━━━━━━━━━━━━━━━━┿━━━━━━━━━━━━━━━━━━━┿━━━━━━━━━━━━━━━━━━┥\n",
       "│ 1   │ \"maXIma\"         │ 1980              │ \"maxima.org\"     │\n",
       "│ 2   │ \"Maxima\"         │ 1980              │ \"maxima.org\"     │\n",
       "│ 3   │ \"Octave\"         │ 2000              │ \"gnu.org/octave\" │\n",
       "│ 4   │ \"FreeMat\"        │ 2001              │ \"freemat.org\"    │\n",
       "│ 5   │ \"FreeMat\"        │ 2001              │ \"freemat.org\"    │\n",
       "│ 6   │ \"SageMath\"       │ 2005              │ \"sagemath.org\"   │\n",
       "│ 7   │ \"Julia\"          │ 2012              │ \"julialang.org\"  │"
      ]
     },
     "execution_count": 313,
     "metadata": {},
     "output_type": "execute_result"
    }
   ],
   "source": [
    "# veja que o dataframe Softwares foi atualizado automaticamente\n",
    "\n",
    "Softwares1"
   ]
  },
  {
   "cell_type": "markdown",
   "metadata": {},
   "source": [
    "* **Retirar elementos repetidos**\n",
    "\n",
    "Use somente **unique(dataframe)** sem o \"! \" para evitar a atualização do vetor"
   ]
  },
  {
   "cell_type": "code",
   "execution_count": 314,
   "metadata": {
    "collapsed": false
   },
   "outputs": [
    {
     "data": {
      "text/html": [
       "<table class=\"data-frame\"><tr><th></th><th>Nome_do_software</th><th>Ano_de_lancamento</th><th>Site</th></tr><tr><th>1</th><td>maXIma</td><td>1980</td><td>maxima.org</td></tr><tr><th>2</th><td>Maxima</td><td>1980</td><td>maxima.org</td></tr><tr><th>3</th><td>Octave</td><td>2000</td><td>gnu.org/octave</td></tr><tr><th>4</th><td>FreeMat</td><td>2001</td><td>freemat.org</td></tr><tr><th>5</th><td>SageMath</td><td>2005</td><td>sagemath.org</td></tr><tr><th>6</th><td>Julia</td><td>2012</td><td>julialang.org</td></tr></table>"
      ],
      "text/plain": [
       "6x3 DataFrames.DataFrame\n",
       "│ Row │ Nome_do_software │ Ano_de_lancamento │ Site             │\n",
       "┝━━━━━┿━━━━━━━━━━━━━━━━━━┿━━━━━━━━━━━━━━━━━━━┿━━━━━━━━━━━━━━━━━━┥\n",
       "│ 1   │ \"maXIma\"         │ 1980              │ \"maxima.org\"     │\n",
       "│ 2   │ \"Maxima\"         │ 1980              │ \"maxima.org\"     │\n",
       "│ 3   │ \"Octave\"         │ 2000              │ \"gnu.org/octave\" │\n",
       "│ 4   │ \"FreeMat\"        │ 2001              │ \"freemat.org\"    │\n",
       "│ 5   │ \"SageMath\"       │ 2005              │ \"sagemath.org\"   │\n",
       "│ 6   │ \"Julia\"          │ 2012              │ \"julialang.org\"  │"
      ]
     },
     "execution_count": 314,
     "metadata": {},
     "output_type": "execute_result"
    }
   ],
   "source": [
    "unique!(Softwares1)"
   ]
  },
  {
   "cell_type": "markdown",
   "metadata": {},
   "source": [
    "### ARQUIVOS CSV \n",
    "\n",
    "A melhor forma de trabalhar com arquivos é salva-los no formato \"CSV\". ***Comma-separated values*** (ou CSV) é um formato de arquivo que armazena dados tabelados, cujo grande uso data da época dos mainframes. Por serem bastante simples, arquivos .csv são comuns em todas as plataformas de computador. \n",
    "    \n",
    "O CSV é um implementação particular de arquivos de texto separados por um delimitador, que usa a vírgula e a quebra de linha para separar os valores. O formato também usa as aspas em campos no qual são usados os caracteres reservados (vírgula e quebra de linha). Essa robustez no formato torna o CSV mais amplo que outros formatos digitais do mesmo segmento.Fonte: wikipedia. \n",
    "\n",
    "Forma geral de um arquivo CSV na forma de texto:\n",
    "```julia\n",
    "   nome_coluna_1, nome_coluna_2\n",
    "   dado_col_1   , dado_col_2\n",
    "   dado_col_1   , dado_col_2\n",
    "```\n",
    "Uma forma prática de criar arquivos CSV é usando uma planilha (excel, calc-libreoffice/openoffice). Basta preencher os dados nas celulas e depois salvar como CSV."
   ]
  },
  {
   "cell_type": "markdown",
   "metadata": {},
   "source": [
    "* ** IMPORTAR UM ARQUIVO CSV**\n",
    "\n",
    "** importar os dados de um arquivo CSV, use a sintaxe:**\n",
    "\n",
    "```julia\n",
    "   var_dados = DataFrames.readtable(\"arquivo.csv\")\n",
    "```\n",
    "** Salvar dados em um arquivo CSV:**\n",
    "```julia\n",
    "   DataFrames.writetable(\"nome.csv\", nome_Dataframe, separator = ',', header = true/false)\n",
    "   \n",
    "   separator -> simbolo separador das dados entre as colunas\n",
    "   header    -> cabeçalho. destaca os nomes das culunas\n",
    "```\n",
    "   \n",
    "\n",
    "As manipulações com os dados importados do arquivo CSV seguem o mesmo padrão das manipulações de Dataframe ja trabalhado acima."
   ]
  },
  {
   "cell_type": "code",
   "execution_count": 315,
   "metadata": {
    "collapsed": false
   },
   "outputs": [],
   "source": [
    "using DataFrames"
   ]
  },
  {
   "cell_type": "code",
   "execution_count": 53,
   "metadata": {
    "collapsed": false,
    "scrolled": false
   },
   "outputs": [
    {
     "data": {
      "text/html": [
       "<table class=\"data-frame\"><tr><th></th><th>x</th><th>y</th></tr><tr><th>1</th><td>0.0</td><td>-0.183440428023042</td></tr><tr><th>2</th><td>0.2</td><td>-0.131101157495126</td></tr><tr><th>3</th><td>0.4</td><td>0.0268875670852843</td></tr><tr><th>4</th><td>0.8</td><td>0.110532679260319</td></tr><tr><th>5</th><td>1.0</td><td>0.253944632998395</td></tr><tr><th>6</th><td>1.2</td><td>0.257190123748649</td></tr><tr><th>7</th><td>1.4</td><td>0.531888837111346</td></tr><tr><th>8</th><td>1.6</td><td>0.579048247883555</td></tr><tr><th>9</th><td>2.0</td><td>0.935180993484717</td></tr><tr><th>10</th><td>2.2</td><td>0.916600344376623</td></tr><tr><th>11</th><td>2.6</td><td>1.13328608090532</td></tr><tr><th>12</th><td>2.8</td><td>1.26893326843583</td></tr><tr><th>13</th><td>3.0</td><td>1.10202945535186</td></tr><tr><th>14</th><td>3.4</td><td>1.13391615491257</td></tr></table>"
      ],
      "text/plain": [
       "14x2 DataFrames.DataFrame\n",
       "│ Row │ x   │ y         │\n",
       "┝━━━━━┿━━━━━┿━━━━━━━━━━━┥\n",
       "│ 1   │ 0.0 │ -0.18344  │\n",
       "│ 2   │ 0.2 │ -0.131101 │\n",
       "│ 3   │ 0.4 │ 0.0268876 │\n",
       "│ 4   │ 0.8 │ 0.110533  │\n",
       "│ 5   │ 1.0 │ 0.253945  │\n",
       "│ 6   │ 1.2 │ 0.25719   │\n",
       "│ 7   │ 1.4 │ 0.531889  │\n",
       "│ 8   │ 1.6 │ 0.579048  │\n",
       "│ 9   │ 2.0 │ 0.935181  │\n",
       "│ 10  │ 2.2 │ 0.9166    │\n",
       "│ 11  │ 2.6 │ 1.13329   │\n",
       "│ 12  │ 2.8 │ 1.26893   │\n",
       "│ 13  │ 3.0 │ 1.10203   │\n",
       "│ 14  │ 3.4 │ 1.13392   │"
      ]
     },
     "execution_count": 53,
     "metadata": {},
     "output_type": "execute_result"
    }
   ],
   "source": [
    "tabela_dados_reta = DataFrames.readtable(\"dados_reta.csv\")"
   ]
  },
  {
   "cell_type": "code",
   "execution_count": 54,
   "metadata": {
    "collapsed": false,
    "scrolled": true
   },
   "outputs": [
    {
     "data": {
      "text/plain": [
       "14-element DataArrays.DataArray{Float64,1}:\n",
       " 0.0\n",
       " 0.2\n",
       " 0.4\n",
       " 0.8\n",
       " 1.0\n",
       " 1.2\n",
       " 1.4\n",
       " 1.6\n",
       " 2.0\n",
       " 2.2\n",
       " 2.6\n",
       " 2.8\n",
       " 3.0\n",
       " 3.4"
      ]
     },
     "execution_count": 54,
     "metadata": {},
     "output_type": "execute_result"
    }
   ],
   "source": [
    "# visualizar toda a primeira coluna\n",
    "\n",
    "tabela_dados_reta[1]"
   ]
  },
  {
   "cell_type": "code",
   "execution_count": 55,
   "metadata": {
    "collapsed": false
   },
   "outputs": [
    {
     "data": {
      "text/plain": [
       "1.4"
      ]
     },
     "execution_count": 55,
     "metadata": {},
     "output_type": "execute_result"
    }
   ],
   "source": [
    "# Acessar o 7 elemento da primeira coluna\n",
    "\n",
    "tabela_dados_reta[1][7]"
   ]
  },
  {
   "cell_type": "code",
   "execution_count": 56,
   "metadata": {
    "collapsed": false,
    "scrolled": true
   },
   "outputs": [
    {
     "data": {
      "text/plain": [
       "14-element DataArrays.DataArray{Float64,1}:\n",
       " -0.18344  \n",
       " -0.131101 \n",
       "  0.0268876\n",
       "  0.110533 \n",
       "  0.253945 \n",
       "  0.25719  \n",
       "  0.531889 \n",
       "  0.579048 \n",
       "  0.935181 \n",
       "  0.9166   \n",
       "  1.13329  \n",
       "  1.26893  \n",
       "  1.10203  \n",
       "  1.13392  "
      ]
     },
     "execution_count": 56,
     "metadata": {},
     "output_type": "execute_result"
    }
   ],
   "source": [
    "# Visualizar toda a segunda coluna\n",
    "\n",
    "tabela_dados_reta[2]"
   ]
  },
  {
   "cell_type": "markdown",
   "metadata": {},
   "source": [
    "* ** GRÁFICO DE DADOS DE UM ARQUIVO CSV **"
   ]
  },
  {
   "cell_type": "code",
   "execution_count": 57,
   "metadata": {
    "collapsed": false
   },
   "outputs": [],
   "source": [
    "using Winston"
   ]
  },
  {
   "cell_type": "code",
   "execution_count": 58,
   "metadata": {
    "collapsed": false
   },
   "outputs": [
    {
     "data": {
      "image/png": "[encoded data removed]",
      "text/plain": [
       "Winston.FramedPlot(...)"
      ]
     },
     "execution_count": 58,
     "metadata": {},
     "output_type": "execute_result"
    }
   ],
   "source": [
    "Winston.plot(tabela_dados_reta[1],tabela_dados_reta[2])"
   ]
  },
  {
   "cell_type": "markdown",
   "metadata": {
    "collapsed": true
   },
   "source": [
    "* ** EDITAR DADOS E MANIPULAÇÕES ALGÉBRICAS **\n",
    "\n",
    "Para editar um dado em um dataframe:\n",
    "```julia\n",
    "dataframe[coluna_x][linha_dado_x] = novo_valor\n",
    "DataFrame[:nome_coluna_x][elemento_x] = novo_dado\n",
    "```"
   ]
  },
  {
   "cell_type": "code",
   "execution_count": 59,
   "metadata": {
    "collapsed": false
   },
   "outputs": [
    {
     "data": {
      "text/plain": [
       "(0.253944632998395,0.257190123748649)"
      ]
     },
     "execution_count": 59,
     "metadata": {},
     "output_type": "execute_result"
    }
   ],
   "source": [
    "# Visualizar o quinto e sexto dado da coluna 1\n",
    "\n",
    "tabela_dados_reta[2][5] , tabela_dados_reta[2][6]"
   ]
  },
  {
   "cell_type": "code",
   "execution_count": 60,
   "metadata": {
    "collapsed": false
   },
   "outputs": [],
   "source": [
    "# o valor 0 é atribuído ao quinto e sexto dado da coluna 1\n",
    "\n",
    "tabela_dados_reta[2][5] = 0 ; tabela_dados_reta[2][6] = 0;"
   ]
  },
  {
   "cell_type": "code",
   "execution_count": 61,
   "metadata": {
    "collapsed": false,
    "scrolled": true
   },
   "outputs": [
    {
     "data": {
      "text/plain": [
       "14-element DataArrays.DataArray{Float64,1}:\n",
       " -0.18344  \n",
       " -0.131101 \n",
       "  0.0268876\n",
       "  0.110533 \n",
       "  0.0      \n",
       "  0.0      \n",
       "  0.531889 \n",
       "  0.579048 \n",
       "  0.935181 \n",
       "  0.9166   \n",
       "  1.13329  \n",
       "  1.26893  \n",
       "  1.10203  \n",
       "  1.13392  "
      ]
     },
     "execution_count": 61,
     "metadata": {},
     "output_type": "execute_result"
    }
   ],
   "source": [
    "# veja o valor 0 \n",
    "\n",
    "tabela_dados_reta[2]"
   ]
  },
  {
   "cell_type": "code",
   "execution_count": 62,
   "metadata": {
    "collapsed": false
   },
   "outputs": [
    {
     "data": {
      "image/png": "[encoded data removed]",
      "text/plain": [
       "Winston.FramedPlot(...)"
      ]
     },
     "execution_count": 62,
     "metadata": {},
     "output_type": "execute_result"
    }
   ],
   "source": [
    "# Gráfico alterado \n",
    "\n",
    "Winston.plot(tabela_dados_reta[1],tabela_dados_reta[2])"
   ]
  },
  {
   "cell_type": "markdown",
   "metadata": {},
   "source": [
    "** Manipulações algebricas **"
   ]
  },
  {
   "cell_type": "markdown",
   "metadata": {},
   "source": [
    "Com uma coluna de dados pode ser feita qualquer manipulação matemática. No exemplo, os dados da coluna 1 serão multiplicados por 10."
   ]
  },
  {
   "cell_type": "code",
   "execution_count": 63,
   "metadata": {
    "collapsed": false
   },
   "outputs": [
    {
     "data": {
      "text/plain": [
       "14-element DataArrays.DataArray{Float64,1}:\n",
       "  0.0\n",
       "  2.0\n",
       "  4.0\n",
       "  8.0\n",
       " 10.0\n",
       " 12.0\n",
       " 14.0\n",
       " 16.0\n",
       " 20.0\n",
       " 22.0\n",
       " 26.0\n",
       " 28.0\n",
       " 30.0\n",
       " 34.0"
      ]
     },
     "execution_count": 63,
     "metadata": {},
     "output_type": "execute_result"
    }
   ],
   "source": [
    "tabela_dados_reta[1]*10"
   ]
  },
  {
   "cell_type": "code",
   "execution_count": 64,
   "metadata": {
    "collapsed": false
   },
   "outputs": [
    {
     "data": {
      "text/plain": [
       "22.599999999999998"
      ]
     },
     "execution_count": 64,
     "metadata": {},
     "output_type": "execute_result"
    }
   ],
   "source": [
    "# somando todo os elementos da coluna 1\n",
    "\n",
    "mapreduce(x -> tabela_dados_reta[1][x], + ,1:length(tabela_dados_reta[1]))"
   ]
  },
  {
   "cell_type": "markdown",
   "metadata": {},
   "source": [
    "ou mais facil ainda"
   ]
  },
  {
   "cell_type": "code",
   "execution_count": 65,
   "metadata": {
    "collapsed": false
   },
   "outputs": [
    {
     "data": {
      "text/plain": [
       "22.599999999999998"
      ]
     },
     "execution_count": 65,
     "metadata": {},
     "output_type": "execute_result"
    }
   ],
   "source": [
    "sum(tabela_dados_reta[1])"
   ]
  },
  {
   "cell_type": "code",
   "execution_count": 66,
   "metadata": {
    "collapsed": false
   },
   "outputs": [
    {
     "data": {
      "text/plain": [
       "0.0"
      ]
     },
     "execution_count": 66,
     "metadata": {},
     "output_type": "execute_result"
    }
   ],
   "source": [
    "# produto dos elementos da coluna 2\n",
    "\n",
    "prod(tabela_dados_reta[2])"
   ]
  },
  {
   "cell_type": "markdown",
   "metadata": {},
   "source": [
    "* ** SALVAR DATAFRAME EM UM ARQUIVO CSV **\n",
    "\n",
    "Forma geral de um arquivo CSV:\n",
    "```julia\n",
    "   DataFrames.writetable(\"nome.csv\", dataframe, separator = ',', header = false)\n",
    "```\n",
    "** separator** -> simbolo separador das dados entre as colunas\n",
    "\n",
    "** header**    -> cabeçalho. destaca os nomes das culunas"
   ]
  },
  {
   "cell_type": "code",
   "execution_count": 316,
   "metadata": {
    "collapsed": true
   },
   "outputs": [],
   "source": [
    "using DataFrames"
   ]
  },
  {
   "cell_type": "code",
   "execution_count": 67,
   "metadata": {
    "collapsed": false,
    "scrolled": false
   },
   "outputs": [
    {
     "data": {
      "text/html": [
       "<table class=\"data-frame\"><tr><th></th><th>Nome_do_software</th><th>Ano_de_lancamento</th></tr><tr><th>1</th><td>Julia</td><td>2012</td></tr><tr><th>2</th><td>SageMath</td><td>2005</td></tr><tr><th>3</th><td>Maxima</td><td>1980</td></tr><tr><th>4</th><td>Octave</td><td>2000</td></tr></table>"
      ],
      "text/plain": [
       "4x2 DataFrames.DataFrame\n",
       "│ Row │ Nome_do_software │ Ano_de_lancamento │\n",
       "┝━━━━━┿━━━━━━━━━━━━━━━━━━┿━━━━━━━━━━━━━━━━━━━┥\n",
       "│ 1   │ \"Julia\"          │ 2012              │\n",
       "│ 2   │ \"SageMath\"       │ 2005              │\n",
       "│ 3   │ \"Maxima\"         │ 1980              │\n",
       "│ 4   │ \"Octave\"         │ 2000              │"
      ]
     },
     "execution_count": 67,
     "metadata": {},
     "output_type": "execute_result"
    }
   ],
   "source": [
    "# Nomes das colunas não podem ter espaço\n",
    "\n",
    "Softwares = DataFrame()\n",
    "\n",
    "Softwares[:Nome_do_software]  = [\"Julia\", \"SageMath\", \"Maxima\", \"Octave\"]\n",
    "Softwares[:Ano_de_lancamento] = [2012, 2005, 1980, 2000]\n",
    "\n",
    "Softwares"
   ]
  },
  {
   "cell_type": "code",
   "execution_count": 68,
   "metadata": {
    "collapsed": true
   },
   "outputs": [],
   "source": [
    "DataFrames.writetable(\"Softwares1.csv\", Softwares, separator = ',', header = true)"
   ]
  },
  {
   "cell_type": "code",
   "execution_count": 69,
   "metadata": {
    "collapsed": false,
    "scrolled": true
   },
   "outputs": [
    {
     "data": {
      "text/html": [
       "<table class=\"data-frame\"><tr><th></th><th>Nome_do_software</th><th>Ano_de_lancamento</th></tr><tr><th>1</th><td>Julia</td><td>2012</td></tr><tr><th>2</th><td>SageMath</td><td>2005</td></tr><tr><th>3</th><td>Maxima</td><td>1980</td></tr><tr><th>4</th><td>Octave</td><td>2000</td></tr></table>"
      ],
      "text/plain": [
       "4x2 DataFrames.DataFrame\n",
       "│ Row │ Nome_do_software │ Ano_de_lancamento │\n",
       "┝━━━━━┿━━━━━━━━━━━━━━━━━━┿━━━━━━━━━━━━━━━━━━━┥\n",
       "│ 1   │ \"Julia\"          │ 2012              │\n",
       "│ 2   │ \"SageMath\"       │ 2005              │\n",
       "│ 3   │ \"Maxima\"         │ 1980              │\n",
       "│ 4   │ \"Octave\"         │ 2000              │"
      ]
     },
     "execution_count": 69,
     "metadata": {},
     "output_type": "execute_result"
    }
   ],
   "source": [
    "# Lendo os dados gravados no arquivo CSV gravado no disco\n",
    "\n",
    "DataFrames.readtable(\"Softwares1.csv\")"
   ]
  },
  {
   "cell_type": "code",
   "execution_count": 88,
   "metadata": {
    "collapsed": true
   },
   "outputs": [],
   "source": [
    "# Gravando os dados em disco com header (cabeçalho) = false\n",
    "\n",
    "DataFrames.writetable(\"Softwares2.csv\", Softwares, separator = ',', header = false)"
   ]
  },
  {
   "cell_type": "code",
   "execution_count": 71,
   "metadata": {
    "collapsed": false,
    "scrolled": false
   },
   "outputs": [
    {
     "data": {
      "text/html": [
       "<table class=\"data-frame\"><tr><th></th><th>Julia</th><th>x2012</th></tr><tr><th>1</th><td>SageMath</td><td>2005</td></tr><tr><th>2</th><td>Maxima</td><td>1980</td></tr><tr><th>3</th><td>Octave</td><td>2000</td></tr></table>"
      ],
      "text/plain": [
       "3x2 DataFrames.DataFrame\n",
       "│ Row │ Julia      │ x2012 │\n",
       "┝━━━━━┿━━━━━━━━━━━━┿━━━━━━━┥\n",
       "│ 1   │ \"SageMath\" │ 2005  │\n",
       "│ 2   │ \"Maxima\"   │ 1980  │\n",
       "│ 3   │ \"Octave\"   │ 2000  │"
      ]
     },
     "execution_count": 71,
     "metadata": {},
     "output_type": "execute_result"
    }
   ],
   "source": [
    "# Lendo os dados gravados no arquivo CSV gravado no disco\n",
    "\n",
    "DataFrames.readtable(\"Softwares2.csv\")"
   ]
  },
  {
   "cell_type": "markdown",
   "metadata": {},
   "source": [
    "**Outra forma de criar um DataFrame no formato CSV e salvar gravar arquivo CSV**"
   ]
  },
  {
   "cell_type": "code",
   "execution_count": 72,
   "metadata": {
    "collapsed": false
   },
   "outputs": [
    {
     "data": {
      "text/html": [
       "<table class=\"data-frame\"><tr><th></th><th>Nome_software</th><th>Ano_lançamento</th></tr><tr><th>1</th><td>Python</td><td>1991</td></tr><tr><th>2</th><td>Scilab</td><td>2000</td></tr></table>"
      ],
      "text/plain": [
       "2x2 DataFrames.DataFrame\n",
       "│ Row │ Nome_software │ Ano_lançamento │\n",
       "┝━━━━━┿━━━━━━━━━━━━━━━┿━━━━━━━━━━━━━━━━┥\n",
       "│ 1   │ \"Python\"      │ 1991           │\n",
       "│ 2   │ \"Scilab\"      │ 2000           │"
      ]
     },
     "execution_count": 72,
     "metadata": {},
     "output_type": "execute_result"
    }
   ],
   "source": [
    "Soft = csv\"\"\"\n",
    "\n",
    "Nome_software, Ano_lançamento\n",
    "Python       , 1991\n",
    "Scilab       , 2000\n",
    "\n",
    "\"\"\""
   ]
  },
  {
   "cell_type": "code",
   "execution_count": 73,
   "metadata": {
    "collapsed": false
   },
   "outputs": [
    {
     "data": {
      "text/plain": [
       "DataFrames.DataFrame"
      ]
     },
     "execution_count": 73,
     "metadata": {},
     "output_type": "execute_result"
    }
   ],
   "source": [
    "typeof(Soft)"
   ]
  },
  {
   "cell_type": "code",
   "execution_count": 74,
   "metadata": {
    "collapsed": false,
    "scrolled": true
   },
   "outputs": [
    {
     "data": {
      "text/html": [
       "<table class=\"data-frame\"><tr><th></th><th>Nome_software</th><th>Ano_lançamento</th></tr><tr><th>1</th><td>Python</td><td>1991</td></tr><tr><th>2</th><td>Scilab</td><td>2000</td></tr></table>"
      ],
      "text/plain": [
       "2x2 DataFrames.DataFrame\n",
       "│ Row │ Nome_software │ Ano_lançamento │\n",
       "┝━━━━━┿━━━━━━━━━━━━━━━┿━━━━━━━━━━━━━━━━┥\n",
       "│ 1   │ \"Python\"      │ 1991           │\n",
       "│ 2   │ \"Scilab\"      │ 2000           │"
      ]
     },
     "execution_count": 74,
     "metadata": {},
     "output_type": "execute_result"
    }
   ],
   "source": [
    "DataFrames.writetable(\"Soft.csv\", Soft, separator = ',', header = true)\n",
    "\n",
    "DataFrames.readtable(\"Soft.csv\")"
   ]
  },
  {
   "cell_type": "markdown",
   "metadata": {
    "collapsed": true
   },
   "source": [
    "* **APLICAÇÕES**"
   ]
  },
  {
   "cell_type": "markdown",
   "metadata": {},
   "source": [
    "Um pesquisador deseja investigar todas as raízes das função $~f  = x + x^2*sin(x)~$ num intervalo de 0 a 15."
   ]
  },
  {
   "cell_type": "code",
   "execution_count": 115,
   "metadata": {
    "collapsed": false,
    "scrolled": false
   },
   "outputs": [
    {
     "data": {
      "text/plain": [
       "(x,v)"
      ]
     },
     "execution_count": 115,
     "metadata": {},
     "output_type": "execute_result"
    }
   ],
   "source": [
    "using DataFrames,Winston, SymPy\n",
    "\n",
    "@syms x,v"
   ]
  },
  {
   "cell_type": "code",
   "execution_count": 116,
   "metadata": {
    "collapsed": false
   },
   "outputs": [
    {
     "data": {
      "text/latex": [
       "$$x^{2} \\sin{\\left (x \\right )} + x$$"
      ],
      "text/plain": [
       " 2           \n",
       "x ⋅sin(x) + x"
      ]
     },
     "execution_count": 116,
     "metadata": {},
     "output_type": "execute_result"
    }
   ],
   "source": [
    "# Função simbólica - quando usamos o SymPy é melhor usar função do tipo simbólica.\n",
    "# Se usar f(x) = expressão definido \"x\" como simbólico, a função será genérica\n",
    "\n",
    "f  = x + x.^2.*sin(x)"
   ]
  },
  {
   "cell_type": "code",
   "execution_count": 153,
   "metadata": {
    "collapsed": false,
    "scrolled": false
   },
   "outputs": [
    {
     "data": {
      "image/png": "[encoded data removed]",
      "text/plain": [
       "Winston.FramedPlot(...)"
      ]
     },
     "execution_count": 153,
     "metadata": {},
     "output_type": "execute_result"
    }
   ],
   "source": [
    "Winston.fplot(x -> f(x), [0,15], \"b\")\n",
    "Winston.grid()"
   ]
  },
  {
   "cell_type": "code",
   "execution_count": 93,
   "metadata": {
    "collapsed": false
   },
   "outputs": [],
   "source": [
    "# Vetor de valores iniciais (xi)\n",
    "v = [0.0, 2.0, 6.0, 9.0, 13.0]\n",
    "\n",
    "# Dataframe que vai receber as raízes calculadas de tamanho 5. \n",
    "# O tipo dos dados são Array de Float64\n",
    "\n",
    "Resultado1 = DataFrame(Valor_X = Array(Float64,5), Raiz = Array(Float64,5));"
   ]
  },
  {
   "cell_type": "code",
   "execution_count": 144,
   "metadata": {
    "collapsed": false
   },
   "outputs": [],
   "source": [
    "# laço for adiciona o valor de \"x\" na primeira coluna 1\n",
    "# e a raiz na coluna 2\n",
    "\n",
    "for i = 1:length(v)\n",
    "    Resultado1[1][i] = v[i]\n",
    "    Resultado1[2][i] = SymPy.nsolve(f, v[i])\n",
    "end"
   ]
  },
  {
   "cell_type": "code",
   "execution_count": 145,
   "metadata": {
    "collapsed": false,
    "scrolled": true
   },
   "outputs": [
    {
     "data": {
      "text/html": [
       "<table class=\"data-frame\"><tr><th></th><th>Valor_X</th><th>Raiz</th></tr><tr><th>1</th><td>0.0</td><td>0.0</td></tr><tr><th>2</th><td>2.0</td><td>0.0</td></tr><tr><th>3</th><td>6.0</td><td>6.119024225042324</td></tr><tr><th>4</th><td>9.0</td><td>9.529904336449029</td></tr><tr><th>5</th><td>13.0</td><td>12.486196308339682</td></tr></table>"
      ],
      "text/plain": [
       "5x2 DataFrames.DataFrame\n",
       "│ Row │ Valor_X │ Raiz    │\n",
       "┝━━━━━┿━━━━━━━━━┿━━━━━━━━━┥\n",
       "│ 1   │ 0.0     │ 0.0     │\n",
       "│ 2   │ 2.0     │ 0.0     │\n",
       "│ 3   │ 6.0     │ 6.11902 │\n",
       "│ 4   │ 9.0     │ 9.5299  │\n",
       "│ 5   │ 13.0    │ 12.4862 │"
      ]
     },
     "execution_count": 145,
     "metadata": {},
     "output_type": "execute_result"
    }
   ],
   "source": [
    "Resultado1"
   ]
  },
  {
   "cell_type": "markdown",
   "metadata": {},
   "source": [
    "**Outra forma**\n",
    "\n",
    "Criar um DataFrame vazio e ir adicionando ao final tal como um vetor."
   ]
  },
  {
   "cell_type": "code",
   "execution_count": 198,
   "metadata": {
    "collapsed": false,
    "scrolled": true
   },
   "outputs": [
    {
     "data": {
      "text/html": [
       "<table class=\"data-frame\"><tr><th></th><th>Valor_X</th><th>Raiz</th></tr></table>"
      ],
      "text/plain": [
       "0x2 DataFrames.DataFrame\n"
      ]
     },
     "execution_count": 198,
     "metadata": {},
     "output_type": "execute_result"
    }
   ],
   "source": [
    "# = [] siginifica vetor vazio\n",
    "\n",
    "Resultado2 = DataFrame(Valor_X = [], Raiz = [])"
   ]
  },
  {
   "cell_type": "code",
   "execution_count": 199,
   "metadata": {
    "collapsed": false
   },
   "outputs": [],
   "source": [
    "# Vetor de valores iniciais (xi)\n",
    "v = [0.0, 2.0, 6.0, 9.0, 13.0]\n",
    "\n",
    "for i in v\n",
    "    push!(Resultado2, [i, SymPy.nsolve(f, i)])\n",
    "end"
   ]
  },
  {
   "cell_type": "code",
   "execution_count": 200,
   "metadata": {
    "collapsed": false
   },
   "outputs": [
    {
     "data": {
      "text/html": [
       "<table class=\"data-frame\"><tr><th></th><th>Valor_X</th><th>Raiz</th></tr><tr><th>1</th><td>0.0</td><td>0.0</td></tr><tr><th>2</th><td>2.0</td><td>0.0</td></tr><tr><th>3</th><td>6.0</td><td>6.119024225042324</td></tr><tr><th>4</th><td>9.0</td><td>9.529904336449029</td></tr><tr><th>5</th><td>13.0</td><td>12.486196308339682</td></tr></table>"
      ],
      "text/plain": [
       "5x2 DataFrames.DataFrame\n",
       "│ Row │ Valor_X │ Raiz    │\n",
       "┝━━━━━┿━━━━━━━━━┿━━━━━━━━━┥\n",
       "│ 1   │ 0.0     │ 0.0     │\n",
       "│ 2   │ 2.0     │ 0.0     │\n",
       "│ 3   │ 6.0     │ 6.11902 │\n",
       "│ 4   │ 9.0     │ 9.5299  │\n",
       "│ 5   │ 13.0    │ 12.4862 │"
      ]
     },
     "execution_count": 200,
     "metadata": {},
     "output_type": "execute_result"
    }
   ],
   "source": [
    "Resultado2"
   ]
  },
  {
   "cell_type": "code",
   "execution_count": 329,
   "metadata": {
    "collapsed": false
   },
   "outputs": [
    {
     "name": "stdout",
     "output_type": "stream",
     "text": [
      "0.0 ; 0.0 ; 0.0 ; 0.0 ; 0.0 ; 0.0 ; 0.0 ; "
     ]
    }
   ],
   "source": [
    "# Testando os resultados \n",
    "\n",
    "for i = 1:length(v)\n",
    "    print(f(Resultado2[2][1]),\" ; \")\n",
    "end"
   ]
  },
  {
   "cell_type": "code",
   "execution_count": 149,
   "metadata": {
    "collapsed": false
   },
   "outputs": [],
   "source": [
    "# Gravando os dados em um arquivo CSV\n",
    "\n",
    "DataFrames.writetable(\"Resultado1.csv\", Resultado1, separator = ',', header = true)"
   ]
  },
  {
   "cell_type": "markdown",
   "metadata": {},
   "source": [
    "**Outa forma de adicionar dados ao final de um Dataframe**\n",
    "\n",
    "Comando vcat. Sintaxe:\n",
    "\n",
    "```julia\n",
    "vcat(nome_Dataframe, DataFrame(coluna1 = dados, coluna2 = dados))\n",
    "```"
   ]
  },
  {
   "cell_type": "code",
   "execution_count": 241,
   "metadata": {
    "collapsed": false,
    "scrolled": true
   },
   "outputs": [
    {
     "data": {
      "text/html": [
       "<table class=\"data-frame\"><tr><th></th><th>Valor_X</th><th>Raiz</th></tr><tr><th>1</th><td>0.0</td><td>0.0</td></tr><tr><th>2</th><td>2.0</td><td>0.0</td></tr><tr><th>3</th><td>6.0</td><td>6.119024225042324</td></tr><tr><th>4</th><td>9.0</td><td>9.529904336449029</td></tr><tr><th>5</th><td>13.0</td><td>12.486196308339682</td></tr><tr><th>6</th><td>60.0</td><td>59.70700965357191</td></tr><tr><th>7</th><td>60.0</td><td>59.70700965357191</td></tr></table>"
      ],
      "text/plain": [
       "7x2 DataFrames.DataFrame\n",
       "│ Row │ Valor_X │ Raiz    │\n",
       "┝━━━━━┿━━━━━━━━━┿━━━━━━━━━┥\n",
       "│ 1   │ 0.0     │ 0.0     │\n",
       "│ 2   │ 2.0     │ 0.0     │\n",
       "│ 3   │ 6.0     │ 6.11902 │\n",
       "│ 4   │ 9.0     │ 9.5299  │\n",
       "│ 5   │ 13.0    │ 12.4862 │\n",
       "│ 6   │ 60.0    │ 59.707  │\n",
       "│ 7   │ 60.0    │ 59.707  │"
      ]
     },
     "execution_count": 241,
     "metadata": {},
     "output_type": "execute_result"
    }
   ],
   "source": [
    "Resultado2 = vcat(Resultado2, DataFrame(Valor_X = 60.0, Raiz = SymPy.nsolve(f, 60.0)))"
   ]
  },
  {
   "cell_type": "code",
   "execution_count": 242,
   "metadata": {
    "collapsed": false
   },
   "outputs": [
    {
     "data": {
      "text/html": [
       "<table class=\"data-frame\"><tr><th></th><th>Valor_X</th><th>Raiz</th></tr><tr><th>1</th><td>0.0</td><td>0.0</td></tr><tr><th>2</th><td>2.0</td><td>0.0</td></tr><tr><th>3</th><td>6.0</td><td>6.119024225042324</td></tr><tr><th>4</th><td>9.0</td><td>9.529904336449029</td></tr><tr><th>5</th><td>13.0</td><td>12.486196308339682</td></tr><tr><th>6</th><td>60.0</td><td>59.70700965357191</td></tr><tr><th>7</th><td>60.0</td><td>59.70700965357191</td></tr></table>"
      ],
      "text/plain": [
       "7x2 DataFrames.DataFrame\n",
       "│ Row │ Valor_X │ Raiz    │\n",
       "┝━━━━━┿━━━━━━━━━┿━━━━━━━━━┥\n",
       "│ 1   │ 0.0     │ 0.0     │\n",
       "│ 2   │ 2.0     │ 0.0     │\n",
       "│ 3   │ 6.0     │ 6.11902 │\n",
       "│ 4   │ 9.0     │ 9.5299  │\n",
       "│ 5   │ 13.0    │ 12.4862 │\n",
       "│ 6   │ 60.0    │ 59.707  │\n",
       "│ 7   │ 60.0    │ 59.707  │"
      ]
     },
     "execution_count": 242,
     "metadata": {},
     "output_type": "execute_result"
    }
   ],
   "source": [
    "Resultado2"
   ]
  },
  {
   "cell_type": "code",
   "execution_count": null,
   "metadata": {
    "collapsed": true
   },
   "outputs": [],
   "source": []
  }
 ],
 "metadata": {
  "kernelspec": {
   "display_name": "Julia 0.4.5",
   "language": "julia",
   "name": "julia-0.4"
  },
  "language_info": {
   "file_extension": ".jl",
   "mimetype": "application/julia",
   "name": "julia",
   "version": "0.4.5"
  }
 },
 "nbformat": 4,
 "nbformat_minor": 0
}
