{
 "cells": [
  {
   "cell_type": "markdown",
   "metadata": {},
   "source": [
    "# TRABALHANDO COM ARQUIVOS(ENTRADA E SAIDA) ##"
   ]
  },
  {
   "cell_type": "markdown",
   "metadata": {
    "collapsed": false
   },
   "source": [
    "### CRIANDO E LENDO ARQUIVOS ###"
   ]
  },
  {
   "cell_type": "markdown",
   "metadata": {},
   "source": [
    "**Tabela de atributos** \n",
    "\n",
    "<table border=\"1\" class=\"docutils\" style=\"float: left;\">\n",
    "<colgroup>\n",
    "<col width=\"11%\" />\n",
    "<col width=\"89%\" />\n",
    "</colgroup>\n",
    "<tbody valign=\"top\">\n",
    "<tr class=\"row-odd\"><td>\"r\"</td>\n",
    "<td>ler</td>\n",
    "</tr>\n",
    "<tr class=\"row-even\"><td>\"r+\"</td>\n",
    "<td>ler, escrever</td>\n",
    "</tr>\n",
    "<tr class=\"row-odd\"><td>\"w\"</td>\n",
    "<td>escrever, criar, truncar</td>\n",
    "</tr>\n",
    "<tr class=\"row-even\"><td>\"w+\"</td>\n",
    "<td>ler, escrever, criar, truncar</td>\n",
    "</tr>\n",
    "<tr class=\"row-odd\"><td>\"a\"</td>\n",
    "<td>escrever, criar, adicionar ao final</td>\n",
    "</tr>\n",
    "<tr class=\"row-even\"><td>\"a+\"</td>\n",
    "<td>ler, escrever, criar, adicionar ao final</td>\n",
    "</tr>\n",
    "</tbody>\n",
    "</table>"
   ]
  },
  {
   "cell_type": "markdown",
   "metadata": {},
   "source": [
    "** Criando Arquivos de dados**"
   ]
  },
  {
   "cell_type": "code",
   "execution_count": 1,
   "metadata": {
    "collapsed": false,
    "scrolled": false
   },
   "outputs": [
    {
     "data": {
      "text/plain": [
       "\"arquivo.dat\""
      ]
     },
     "execution_count": 1,
     "metadata": {},
     "output_type": "execute_result"
    }
   ],
   "source": [
    "arquivo_dados = \"arquivo.dat\""
   ]
  },
  {
   "cell_type": "code",
   "execution_count": 2,
   "metadata": {
    "collapsed": false
   },
   "outputs": [
    {
     "data": {
      "text/plain": [
       "ASCIIString"
      ]
     },
     "execution_count": 2,
     "metadata": {},
     "output_type": "execute_result"
    }
   ],
   "source": [
    "typeof(arquivo_dados)"
   ]
  },
  {
   "cell_type": "markdown",
   "metadata": {},
   "source": [
    "** Gravando dados **\n",
    "\n",
    "Abrir o arquivo criado com atributo de gravação **\"w\"** e vincular a uma variável chamada *dados*. Se ja foi criado o arquivo use **open(\"arquivo.dat\",\"w\")** senão os dados serão sobreescritos. Sintaxe:\n",
    "```julia\n",
    "open(objeto_dados/\"arquivo\", atributo)\n",
    "```"
   ]
  },
  {
   "cell_type": "code",
   "execution_count": 3,
   "metadata": {
    "collapsed": false
   },
   "outputs": [
    {
     "data": {
      "text/plain": [
       "IOStream(<file arquivo.dat>)"
      ]
     },
     "execution_count": 3,
     "metadata": {},
     "output_type": "execute_result"
    }
   ],
   "source": [
    "dados = open(arquivo_dados, \"w\")"
   ]
  },
  {
   "cell_type": "markdown",
   "metadata": {},
   "source": [
    "ou direto"
   ]
  },
  {
   "cell_type": "code",
   "execution_count": 4,
   "metadata": {
    "collapsed": false
   },
   "outputs": [
    {
     "data": {
      "text/plain": [
       "IOStream(<file arquivo.dat>)"
      ]
     },
     "execution_count": 4,
     "metadata": {},
     "output_type": "execute_result"
    }
   ],
   "source": [
    "dados = open(\"arquivo.dat\", \"w\")"
   ]
  },
  {
   "cell_type": "code",
   "execution_count": 5,
   "metadata": {
    "collapsed": false
   },
   "outputs": [
    {
     "data": {
      "text/plain": [
       "5"
      ]
     },
     "execution_count": 5,
     "metadata": {},
     "output_type": "execute_result"
    }
   ],
   "source": [
    "write(dados, \"caramba!\")\n",
    "write(dados, \"Maluco,\")\n",
    "write(dados, \"Eita,\")"
   ]
  },
  {
   "cell_type": "code",
   "execution_count": 6,
   "metadata": {
    "collapsed": true
   },
   "outputs": [],
   "source": [
    "# fechando o arquivo\n",
    "\n",
    "close(dados)"
   ]
  },
  {
   "cell_type": "markdown",
   "metadata": {
    "collapsed": true
   },
   "source": [
    "** Lendo arquivo **"
   ]
  },
  {
   "cell_type": "code",
   "execution_count": 7,
   "metadata": {
    "collapsed": false,
    "scrolled": true
   },
   "outputs": [
    {
     "data": {
      "text/plain": [
       "\"caramba!Maluco,Eita,\""
      ]
     },
     "execution_count": 7,
     "metadata": {},
     "output_type": "execute_result"
    }
   ],
   "source": [
    "readall(\"arquivo.dat\")"
   ]
  },
  {
   "cell_type": "markdown",
   "metadata": {},
   "source": [
    "Atribuindo o arquivo a uma variável para fazer a leitura"
   ]
  },
  {
   "cell_type": "code",
   "execution_count": 8,
   "metadata": {
    "collapsed": false
   },
   "outputs": [
    {
     "data": {
      "text/plain": [
       "IOStream(<file arquivo.dat>)"
      ]
     },
     "execution_count": 8,
     "metadata": {},
     "output_type": "execute_result"
    }
   ],
   "source": [
    "# arquivo aberto com atributo de somente leitura\n",
    "\n",
    "dados = open(arquivo_dados,\"r\")"
   ]
  },
  {
   "cell_type": "code",
   "execution_count": 9,
   "metadata": {
    "collapsed": false
   },
   "outputs": [
    {
     "data": {
      "text/plain": [
       "\"caramba!Maluco,Eita,\""
      ]
     },
     "execution_count": 9,
     "metadata": {},
     "output_type": "execute_result"
    }
   ],
   "source": [
    "linha_dados = readall(dados)"
   ]
  },
  {
   "cell_type": "code",
   "execution_count": 10,
   "metadata": {
    "collapsed": true
   },
   "outputs": [],
   "source": [
    "close(dados)"
   ]
  },
  {
   "cell_type": "code",
   "execution_count": 11,
   "metadata": {
    "collapsed": false
   },
   "outputs": [
    {
     "data": {
      "text/plain": [
       "\"caramba!Maluco,Eita,\""
      ]
     },
     "metadata": {},
     "output_type": "display_data"
    }
   ],
   "source": [
    "# mesmo depois de fechado, pode ser lido a partir da variável\n",
    "\n",
    "display(linha_dados)"
   ]
  },
  {
   "cell_type": "markdown",
   "metadata": {},
   "source": [
    "** obs** se fizer :\n",
    "\n",
    "```julia\n",
    "    readall(dados)\n",
    "\n",
    "    close(dados)\n",
    "\n",
    "    display(linha_dados)\n",
    "\n",
    "```\n",
    "\n",
    "Não vai aparecer nada! uma vez que o conteúdo não está vinculado à uma variável. Logo, ao fechar o arquivo, não será possível ler"
   ]
  },
  {
   "cell_type": "markdown",
   "metadata": {},
   "source": [
    "** Exemplo de dados perdidos ao gravar dados em arquivo**"
   ]
  },
  {
   "cell_type": "code",
   "execution_count": 12,
   "metadata": {
    "collapsed": false
   },
   "outputs": [
    {
     "data": {
      "text/plain": [
       "\"caramba!Maluco,Eita,\""
      ]
     },
     "execution_count": 12,
     "metadata": {},
     "output_type": "execute_result"
    }
   ],
   "source": [
    "readall(\"arquivo.dat\")"
   ]
  },
  {
   "cell_type": "code",
   "execution_count": 13,
   "metadata": {
    "collapsed": false
   },
   "outputs": [
    {
     "data": {
      "text/plain": [
       "IOStream(<file arquivo.dat>)"
      ]
     },
     "execution_count": 13,
     "metadata": {},
     "output_type": "execute_result"
    }
   ],
   "source": [
    "arquivo_dados = open(\"arquivo.dat\", \"w\")"
   ]
  },
  {
   "cell_type": "code",
   "execution_count": 14,
   "metadata": {
    "collapsed": false
   },
   "outputs": [
    {
     "data": {
      "text/plain": [
       "11"
      ]
     },
     "execution_count": 14,
     "metadata": {},
     "output_type": "execute_result"
    }
   ],
   "source": [
    "write(arquivo_dados, \"opa ih....!\")"
   ]
  },
  {
   "cell_type": "code",
   "execution_count": 15,
   "metadata": {
    "collapsed": false
   },
   "outputs": [
    {
     "data": {
      "text/plain": [
       "\"\""
      ]
     },
     "execution_count": 15,
     "metadata": {},
     "output_type": "execute_result"
    }
   ],
   "source": [
    "readall(\"arquivo.dat\")\n",
    "\n",
    "# não leu nada porque o atributo é somente escrita"
   ]
  },
  {
   "cell_type": "code",
   "execution_count": 16,
   "metadata": {
    "collapsed": true
   },
   "outputs": [],
   "source": [
    "close(arquivo_dados)"
   ]
  },
  {
   "cell_type": "code",
   "execution_count": 17,
   "metadata": {
    "collapsed": false
   },
   "outputs": [
    {
     "data": {
      "text/plain": [
       "\"opa ih....!\""
      ]
     },
     "execution_count": 17,
     "metadata": {},
     "output_type": "execute_result"
    }
   ],
   "source": [
    "readall(\"arquivo.dat\")"
   ]
  },
  {
   "cell_type": "markdown",
   "metadata": {},
   "source": [
    "veja que apagou o conteúdo anterior."
   ]
  },
  {
   "cell_type": "markdown",
   "metadata": {},
   "source": [
    "** Agora um exemplo com dados incluídos ao final do arquivo**"
   ]
  },
  {
   "cell_type": "code",
   "execution_count": 18,
   "metadata": {
    "collapsed": false
   },
   "outputs": [
    {
     "data": {
      "text/plain": [
       "\"opa ih....!\""
      ]
     },
     "execution_count": 18,
     "metadata": {},
     "output_type": "execute_result"
    }
   ],
   "source": [
    "# ler o ultimo conteúdo gravado no arquivo\n",
    "\n",
    "readall(\"arquivo.dat\")"
   ]
  },
  {
   "cell_type": "code",
   "execution_count": 19,
   "metadata": {
    "collapsed": false
   },
   "outputs": [
    {
     "data": {
      "text/plain": [
       "IOStream(<file arquivo.dat>)"
      ]
     },
     "execution_count": 19,
     "metadata": {},
     "output_type": "execute_result"
    }
   ],
   "source": [
    "#abrindo o arquivo com atributo de ler, escrever, criar e acrescentar conteúdo ao final\n",
    "\n",
    "arquivo_dados= open(\"arquivo.dat\", \"a+\")"
   ]
  },
  {
   "cell_type": "code",
   "execution_count": 20,
   "metadata": {
    "collapsed": false
   },
   "outputs": [
    {
     "data": {
      "text/plain": [
       "7"
      ]
     },
     "execution_count": 20,
     "metadata": {},
     "output_type": "execute_result"
    }
   ],
   "source": [
    "write(arquivo_dados, \"ah...!\\n\")"
   ]
  },
  {
   "cell_type": "code",
   "execution_count": 21,
   "metadata": {
    "collapsed": false
   },
   "outputs": [
    {
     "data": {
      "text/plain": [
       "\"opa ih....!\""
      ]
     },
     "execution_count": 21,
     "metadata": {},
     "output_type": "execute_result"
    }
   ],
   "source": [
    "readall(\"arquivo.dat\")\n",
    "\n",
    "# le o arquivo sem ainda ter gravado os dados da memoria no arquivo em disco"
   ]
  },
  {
   "cell_type": "code",
   "execution_count": 22,
   "metadata": {
    "collapsed": true
   },
   "outputs": [],
   "source": [
    "close(arquivo_dados)"
   ]
  },
  {
   "cell_type": "code",
   "execution_count": 23,
   "metadata": {
    "collapsed": false
   },
   "outputs": [
    {
     "data": {
      "text/plain": [
       "\"opa ih....!ah...!\\n\""
      ]
     },
     "execution_count": 23,
     "metadata": {},
     "output_type": "execute_result"
    }
   ],
   "source": [
    "readall(\"arquivo.dat\")"
   ]
  },
  {
   "cell_type": "markdown",
   "metadata": {},
   "source": [
    "***Agora não apagou ;)***"
   ]
  },
  {
   "cell_type": "markdown",
   "metadata": {},
   "source": [
    "### MATRIZ PARA ARQUIVO ###\n",
    "\n",
    "Se você tem uma matriz que deseja salvar em um arquivo de texto, ou se você quiser ler dados de um arquivo em uma matriz, você pode usar as funções **writedlm** e **readdlm**.\n",
    "\n",
    "**writedlm()** escreve o conteúdo de uma matriz (ou qualquer objeto iterável) para um arquivo de texto, e **readdlm()** lê os dados a partir de um arquivo em um array:"
   ]
  },
  {
   "cell_type": "code",
   "execution_count": 24,
   "metadata": {
    "collapsed": false
   },
   "outputs": [
    {
     "data": {
      "text/plain": [
       "5x5 Array{Float64,2}:\n",
       " 0.0725039  0.410232   0.0206064  0.318553  0.0838218\n",
       " 0.96841    0.290194   0.439825   0.467963  0.325435 \n",
       " 0.714666   0.852339   0.423311   0.791701  0.545493 \n",
       " 0.555299   0.93653    0.0993202  0.39719   0.27849  \n",
       " 0.896912   0.0318665  0.172207   0.20401   0.753711 "
      ]
     },
     "execution_count": 24,
     "metadata": {},
     "output_type": "execute_result"
    }
   ],
   "source": [
    "# criando uma matriz aleatória de tamanho 5\n",
    "\n",
    "dados = rand(5,5)"
   ]
  },
  {
   "cell_type": "code",
   "execution_count": 25,
   "metadata": {
    "collapsed": true
   },
   "outputs": [],
   "source": [
    "# escrevendo a matriz em um arquivo chamado \"matriz.dat\"\n",
    "\n",
    "writedlm(\"matriz.dat\", dados)"
   ]
  },
  {
   "cell_type": "code",
   "execution_count": 26,
   "metadata": {
    "collapsed": false,
    "scrolled": false
   },
   "outputs": [
    {
     "data": {
      "text/plain": [
       "5x5 Array{Float64,2}:\n",
       " 0.0725039  0.410232   0.0206064  0.318553  0.0838218\n",
       " 0.96841    0.290194   0.439825   0.467963  0.325435 \n",
       " 0.714666   0.852339   0.423311   0.791701  0.545493 \n",
       " 0.555299   0.93653    0.0993202  0.39719   0.27849  \n",
       " 0.896912   0.0318665  0.172207   0.20401   0.753711 "
      ]
     },
     "execution_count": 26,
     "metadata": {},
     "output_type": "execute_result"
    }
   ],
   "source": [
    "# lendo o arquivo criado\n",
    "\n",
    "mat_dados = readdlm(\"matriz.dat\")"
   ]
  },
  {
   "cell_type": "code",
   "execution_count": 27,
   "metadata": {
    "collapsed": false
   },
   "outputs": [
    {
     "data": {
      "text/plain": [
       "0.5454926631064627"
      ]
     },
     "execution_count": 27,
     "metadata": {},
     "output_type": "execute_result"
    }
   ],
   "source": [
    "# ler o dado da linha 3 e coluna 5\n",
    "\n",
    "mat_dados[3,5]"
   ]
  },
  {
   "cell_type": "code",
   "execution_count": 28,
   "metadata": {
    "collapsed": false,
    "scrolled": true
   },
   "outputs": [
    {
     "data": {
      "text/plain": [
       "100"
      ]
     },
     "execution_count": 28,
     "metadata": {},
     "output_type": "execute_result"
    }
   ],
   "source": [
    "# alterar o dado da linha 3 e coluna 5 para 100\n",
    "\n",
    "mat_dados[3,5] = 100"
   ]
  },
  {
   "cell_type": "code",
   "execution_count": 29,
   "metadata": {
    "collapsed": false,
    "scrolled": true
   },
   "outputs": [
    {
     "data": {
      "text/plain": [
       "5x5 Array{Float64,2}:\n",
       " 0.0725039  0.410232   0.0206064  0.318553    0.0838218\n",
       " 0.96841    0.290194   0.439825   0.467963    0.325435 \n",
       " 0.714666   0.852339   0.423311   0.791701  100.0      \n",
       " 0.555299   0.93653    0.0993202  0.39719     0.27849  \n",
       " 0.896912   0.0318665  0.172207   0.20401     0.753711 "
      ]
     },
     "execution_count": 29,
     "metadata": {},
     "output_type": "execute_result"
    }
   ],
   "source": [
    "mat_dados"
   ]
  },
  {
   "cell_type": "markdown",
   "metadata": {},
   "source": [
    "Uma forma de perder os dados gravados. Os dados foram perdidos porque a matriz foi substituida por um vetor. "
   ]
  },
  {
   "cell_type": "code",
   "execution_count": 30,
   "metadata": {
    "collapsed": false
   },
   "outputs": [
    {
     "data": {
      "text/plain": [
       "\"apagou tudo\""
      ]
     },
     "execution_count": 30,
     "metadata": {},
     "output_type": "execute_result"
    }
   ],
   "source": [
    "b = \"apagou tudo\""
   ]
  },
  {
   "cell_type": "code",
   "execution_count": 31,
   "metadata": {
    "collapsed": true
   },
   "outputs": [],
   "source": [
    "writedlm(\"matriz.dat\", b)"
   ]
  },
  {
   "cell_type": "code",
   "execution_count": 32,
   "metadata": {
    "collapsed": false,
    "scrolled": true
   },
   "outputs": [
    {
     "data": {
      "text/plain": [
       "10x1 Array{Any,2}:\n",
       " \"a\"\n",
       " \"p\"\n",
       " \"a\"\n",
       " \"g\"\n",
       " \"o\"\n",
       " \"u\"\n",
       " \"t\"\n",
       " \"u\"\n",
       " \"d\"\n",
       " \"o\""
      ]
     },
     "execution_count": 32,
     "metadata": {},
     "output_type": "execute_result"
    }
   ],
   "source": [
    "readdlm(\"matriz.dat\")"
   ]
  },
  {
   "cell_type": "markdown",
   "metadata": {},
   "source": [
    "### DATA FRAMES ###\n",
    "\n",
    "Os dataframes são objetos usados para guardar dados na forma de tabelas. Um data frame possui colunas nomeadas, sendo que todas as colunas possuem a mesma quantidade de linhas. DataFrame é a melhor forma de guardar informações pois além de manter uma boa formatação dos dados, ainda permite que seja gravado em arquivos do tipo CSV, que podem ser abertos e manipulados em softwares de planilha tipo excel ou calc."
   ]
  },
  {
   "cell_type": "markdown",
   "metadata": {},
   "source": [
    "* #### CRIAR DATAFRAMES ####\n",
    "\n",
    "Para criar um dataframe use a sintaxe:\n",
    "```julia\n",
    "DataFrame(nome_coluna_1 =[dado1_col_1,dado2_col_1], nome_coluna_2 = [dado1_col_2,dado2_col_2])\n",
    "\n",
    "ou\n",
    "\n",
    "nome_dataframe = DataFrame()\n",
    "nome_dataframe[:nome_coluna_1] = [dado1_col_1,dado2_col_1]\n",
    "nome_dataframe[:nome_coluna_1] = [dado1_col_1,dado2_col_1]\n",
    "\n",
    "```\n",
    "**OBS** : Nomes das colunas não podem ter espaço"
   ]
  },
  {
   "cell_type": "code",
   "execution_count": 33,
   "metadata": {
    "collapsed": true
   },
   "outputs": [],
   "source": [
    "using DataFrames"
   ]
  },
  {
   "cell_type": "code",
   "execution_count": 34,
   "metadata": {
    "collapsed": false
   },
   "outputs": [
    {
     "data": {
      "text/html": [
       "<table class=\"data-frame\"><tr><th></th><th>Nome_do_software</th><th>Ano</th></tr><tr><th>1</th><td>scilab</td><td>2005</td></tr><tr><th>2</th><td>julia</td><td>2012</td></tr></table>"
      ],
      "text/plain": [
       "2x2 DataFrames.DataFrame\n",
       "│ Row │ Nome_do_software │ Ano  │\n",
       "┝━━━━━┿━━━━━━━━━━━━━━━━━━┿━━━━━━┥\n",
       "│ 1   │ \"scilab\"         │ 2005 │\n",
       "│ 2   │ \"julia\"          │ 2012 │"
      ]
     },
     "execution_count": 34,
     "metadata": {},
     "output_type": "execute_result"
    }
   ],
   "source": [
    "# criar o dataframe.\n",
    "# Nomes das colunas não podem ter espaço\n",
    "\n",
    "dados = DataFrame(Nome_do_software =[\"scilab\",\"julia\"], Ano = [2005,2012])\n",
    "\n",
    "dados"
   ]
  },
  {
   "cell_type": "markdown",
   "metadata": {},
   "source": [
    "Ou assim:"
   ]
  },
  {
   "cell_type": "code",
   "execution_count": 35,
   "metadata": {
    "collapsed": false
   },
   "outputs": [
    {
     "data": {
      "text/html": [
       "<table class=\"data-frame\"><tr><th></th><th>Nome_do_sofware</th><th>Ano</th></tr><tr><th>1</th><td>scilab</td><td>2005</td></tr><tr><th>2</th><td>julia</td><td>2012</td></tr></table>"
      ],
      "text/plain": [
       "2x2 DataFrames.DataFrame\n",
       "│ Row │ Nome_do_sofware │ Ano  │\n",
       "┝━━━━━┿━━━━━━━━━━━━━━━━━┿━━━━━━┥\n",
       "│ 1   │ \"scilab\"        │ 2005 │\n",
       "│ 2   │ \"julia\"         │ 2012 │"
      ]
     },
     "execution_count": 35,
     "metadata": {},
     "output_type": "execute_result"
    }
   ],
   "source": [
    "# Nomes das colunas não podem ter espaço\n",
    "\n",
    "dados = DataFrame()\n",
    "\n",
    "dados[:Nome_do_sofware] = [\"scilab\",\"julia\"]\n",
    "dados[:Ano]             = [2005,2012]\n",
    "\n",
    "dados"
   ]
  },
  {
   "cell_type": "code",
   "execution_count": 36,
   "metadata": {
    "collapsed": false
   },
   "outputs": [],
   "source": [
    "# salvar no arquivo \n",
    "\n",
    "writetable(\"dataframe.dat\", dados)"
   ]
  },
  {
   "cell_type": "code",
   "execution_count": 37,
   "metadata": {
    "collapsed": false,
    "scrolled": false
   },
   "outputs": [
    {
     "data": {
      "text/html": [
       "<table class=\"data-frame\"><tr><th></th><th>Nome_do_sofware</th><th>Ano</th></tr><tr><th>1</th><td>scilab</td><td>2005</td></tr><tr><th>2</th><td>julia</td><td>2012</td></tr></table>"
      ],
      "text/plain": [
       "2x2 DataFrames.DataFrame\n",
       "│ Row │ Nome_do_sofware │ Ano  │\n",
       "┝━━━━━┿━━━━━━━━━━━━━━━━━┿━━━━━━┥\n",
       "│ 1   │ \"scilab\"        │ 2005 │\n",
       "│ 2   │ \"julia\"         │ 2012 │"
      ]
     },
     "execution_count": 37,
     "metadata": {},
     "output_type": "execute_result"
    }
   ],
   "source": [
    "# exibindo o arquivo e o conteúdo \n",
    "\n",
    "DataFrames.readtable(\"dataframe.dat\")"
   ]
  },
  {
   "cell_type": "markdown",
   "metadata": {},
   "source": [
    "Outro exemplo"
   ]
  },
  {
   "cell_type": "code",
   "execution_count": 38,
   "metadata": {
    "collapsed": false,
    "scrolled": true
   },
   "outputs": [
    {
     "data": {
      "text/html": [
       "<table class=\"data-frame\"><tr><th></th><th>Nome_do_software</th><th>Ano_de_lancamento</th><th>Site</th></tr><tr><th>1</th><td>Julia</td><td>2012</td><td>julialang.org</td></tr><tr><th>2</th><td>SageMath</td><td>2005</td><td>sagemath.org</td></tr><tr><th>3</th><td>Maxima</td><td>1980</td><td>maxima.org</td></tr><tr><th>4</th><td>Octave</td><td>2000</td><td>gnu.org/octave</td></tr><tr><th>5</th><td>Maxima</td><td>1980</td><td>maxima.org</td></tr></table>"
      ],
      "text/plain": [
       "5x3 DataFrames.DataFrame\n",
       "│ Row │ Nome_do_software │ Ano_de_lancamento │ Site             │\n",
       "┝━━━━━┿━━━━━━━━━━━━━━━━━━┿━━━━━━━━━━━━━━━━━━━┿━━━━━━━━━━━━━━━━━━┥\n",
       "│ 1   │ \"Julia\"          │ 2012              │ \"julialang.org\"  │\n",
       "│ 2   │ \"SageMath\"       │ 2005              │ \"sagemath.org\"   │\n",
       "│ 3   │ \"Maxima\"         │ 1980              │ \"maxima.org\"     │\n",
       "│ 4   │ \"Octave\"         │ 2000              │ \"gnu.org/octave\" │\n",
       "│ 5   │ \"Maxima\"         │ 1980              │ \"maxima.org\"     │"
      ]
     },
     "execution_count": 38,
     "metadata": {},
     "output_type": "execute_result"
    }
   ],
   "source": [
    "# Nomes das colunas não podem ter espaço\n",
    "\n",
    "Softwares = DataFrame()\n",
    "\n",
    "Softwares[:Nome_do_software]  = [\"Julia\", \"SageMath\", \"Maxima\", \"Octave\",\"Maxima\"]\n",
    "Softwares[:Ano_de_lancamento] = [2012, 2005, 1980, 2000, 1980]\n",
    "Softwares[:Site]              = [\"julialang.org\",\"sagemath.org\",\"maxima.org\",\"gnu.org/octave\", \"maxima.org\"]\n",
    "\n",
    "Softwares"
   ]
  },
  {
   "cell_type": "code",
   "execution_count": 39,
   "metadata": {
    "collapsed": false
   },
   "outputs": [
    {
     "data": {
      "text/plain": [
       "3-element Array{Symbol,1}:\n",
       " :Nome_do_software \n",
       " :Ano_de_lancamento\n",
       " :Site             "
      ]
     },
     "execution_count": 39,
     "metadata": {},
     "output_type": "execute_result"
    }
   ],
   "source": [
    "# Visualizar cabeçalho das colunas\n",
    "\n",
    "names(Softwares) "
   ]
  },
  {
   "cell_type": "code",
   "execution_count": 40,
   "metadata": {
    "collapsed": false,
    "scrolled": false
   },
   "outputs": [
    {
     "data": {
      "text/plain": [
       "3-element Array{Type{T},1}:\n",
       " ASCIIString\n",
       " Int64      \n",
       " ASCIIString"
      ]
     },
     "execution_count": 40,
     "metadata": {},
     "output_type": "execute_result"
    }
   ],
   "source": [
    "# saber os tipos dos elementos do dataframe. Aqui temos String (primeira coluna) e tipo Inteiro (segunda coluna)\n",
    "\n",
    "eltypes(Softwares)"
   ]
  },
  {
   "cell_type": "markdown",
   "metadata": {},
   "source": [
    "* **VISUALIZAR E ALTERAR DADOS EM UM DATAFRAME**\n",
    "\n",
    "Sintaxe:\n",
    "```julia\n",
    "DataFrame[coluna_x]              -> Somente os elementos da coluna X\n",
    "DataFrame[coluna_x][elemento_x]  -> Somente um elemento da coluna X e linha X\n",
    "\n",
    "DataFrame[coluna_x][elemento_x] = novo_dado -> altera o dado da colunaX e linha X\n",
    "```"
   ]
  },
  {
   "cell_type": "code",
   "execution_count": 41,
   "metadata": {
    "collapsed": false
   },
   "outputs": [
    {
     "data": {
      "text/plain": [
       "5-element DataArrays.DataArray{ASCIIString,1}:\n",
       " \"Julia\"   \n",
       " \"SageMath\"\n",
       " \"Maxima\"  \n",
       " \"Octave\"  \n",
       " \"Maxima\"  "
      ]
     },
     "execution_count": 41,
     "metadata": {},
     "output_type": "execute_result"
    }
   ],
   "source": [
    "# Visualizando toda a primeira coluna\n",
    "\n",
    "Softwares[1]"
   ]
  },
  {
   "cell_type": "code",
   "execution_count": 42,
   "metadata": {
    "collapsed": false
   },
   "outputs": [
    {
     "data": {
      "text/plain": [
       "\"Maxima\""
      ]
     },
     "execution_count": 42,
     "metadata": {},
     "output_type": "execute_result"
    }
   ],
   "source": [
    "# acessando o terceiro elemento da primeira coluna\n",
    "\n",
    "Softwares[1][3]"
   ]
  },
  {
   "cell_type": "code",
   "execution_count": 43,
   "metadata": {
    "collapsed": false,
    "scrolled": false
   },
   "outputs": [
    {
     "data": {
      "text/plain": [
       "5-element DataArrays.DataArray{Int64,1}:\n",
       " 2012\n",
       " 2005\n",
       " 1980\n",
       " 2000\n",
       " 1980"
      ]
     },
     "execution_count": 43,
     "metadata": {},
     "output_type": "execute_result"
    }
   ],
   "source": [
    "Softwares[2] "
   ]
  },
  {
   "cell_type": "code",
   "execution_count": 44,
   "metadata": {
    "collapsed": false
   },
   "outputs": [
    {
     "data": {
      "text/plain": [
       "\"maXIma\""
      ]
     },
     "execution_count": 44,
     "metadata": {},
     "output_type": "execute_result"
    }
   ],
   "source": [
    "Softwares[1][3] = \"maXIma\""
   ]
  },
  {
   "cell_type": "code",
   "execution_count": 45,
   "metadata": {
    "collapsed": false
   },
   "outputs": [
    {
     "data": {
      "text/html": [
       "<table class=\"data-frame\"><tr><th></th><th>Nome_do_software</th><th>Ano_de_lancamento</th><th>Site</th></tr><tr><th>1</th><td>Julia</td><td>2012</td><td>julialang.org</td></tr><tr><th>2</th><td>SageMath</td><td>2005</td><td>sagemath.org</td></tr><tr><th>3</th><td>maXIma</td><td>1980</td><td>maxima.org</td></tr><tr><th>4</th><td>Octave</td><td>2000</td><td>gnu.org/octave</td></tr><tr><th>5</th><td>Maxima</td><td>1980</td><td>maxima.org</td></tr></table>"
      ],
      "text/plain": [
       "5x3 DataFrames.DataFrame\n",
       "│ Row │ Nome_do_software │ Ano_de_lancamento │ Site             │\n",
       "┝━━━━━┿━━━━━━━━━━━━━━━━━━┿━━━━━━━━━━━━━━━━━━━┿━━━━━━━━━━━━━━━━━━┥\n",
       "│ 1   │ \"Julia\"          │ 2012              │ \"julialang.org\"  │\n",
       "│ 2   │ \"SageMath\"       │ 2005              │ \"sagemath.org\"   │\n",
       "│ 3   │ \"maXIma\"         │ 1980              │ \"maxima.org\"     │\n",
       "│ 4   │ \"Octave\"         │ 2000              │ \"gnu.org/octave\" │\n",
       "│ 5   │ \"Maxima\"         │ 1980              │ \"maxima.org\"     │"
      ]
     },
     "execution_count": 45,
     "metadata": {},
     "output_type": "execute_result"
    }
   ],
   "source": [
    "Softwares"
   ]
  },
  {
   "cell_type": "markdown",
   "metadata": {},
   "source": [
    "**Adicionar uma nova linha de dados**\n",
    "\n",
    "Para adicionar uma nova linha de dados ao final do DataFrame use:\n",
    "```julia\n",
    "push!(dataframe, [dado_col_1,dado_col_2])\n",
    "```\n",
    "ou\n",
    "```julia\n",
    "nome_dataframe = vcat(nome_dadaframe,DataFrame(dado_col1=valor,dado_col2=valor))\n",
    "```"
   ]
  },
  {
   "cell_type": "code",
   "execution_count": 46,
   "metadata": {
    "collapsed": false
   },
   "outputs": [
    {
     "data": {
      "text/plain": [
       "(nothing,nothing)"
      ]
     },
     "execution_count": 46,
     "metadata": {},
     "output_type": "execute_result"
    }
   ],
   "source": [
    "push!(Softwares, [\"FreeMat\",2001,\"freemat.org\"]), push!(Softwares, [\"FreeMat\",2001,\"freemat.org\"])"
   ]
  },
  {
   "cell_type": "code",
   "execution_count": 47,
   "metadata": {
    "collapsed": false,
    "scrolled": true
   },
   "outputs": [
    {
     "data": {
      "text/html": [
       "<table class=\"data-frame\"><tr><th></th><th>Nome_do_software</th><th>Ano_de_lancamento</th><th>Site</th></tr><tr><th>1</th><td>Julia</td><td>2012</td><td>julialang.org</td></tr><tr><th>2</th><td>SageMath</td><td>2005</td><td>sagemath.org</td></tr><tr><th>3</th><td>maXIma</td><td>1980</td><td>maxima.org</td></tr><tr><th>4</th><td>Octave</td><td>2000</td><td>gnu.org/octave</td></tr><tr><th>5</th><td>Maxima</td><td>1980</td><td>maxima.org</td></tr><tr><th>6</th><td>FreeMat</td><td>2001</td><td>freemat.org</td></tr><tr><th>7</th><td>FreeMat</td><td>2001</td><td>freemat.org</td></tr></table>"
      ],
      "text/plain": [
       "7x3 DataFrames.DataFrame\n",
       "│ Row │ Nome_do_software │ Ano_de_lancamento │ Site             │\n",
       "┝━━━━━┿━━━━━━━━━━━━━━━━━━┿━━━━━━━━━━━━━━━━━━━┿━━━━━━━━━━━━━━━━━━┥\n",
       "│ 1   │ \"Julia\"          │ 2012              │ \"julialang.org\"  │\n",
       "│ 2   │ \"SageMath\"       │ 2005              │ \"sagemath.org\"   │\n",
       "│ 3   │ \"maXIma\"         │ 1980              │ \"maxima.org\"     │\n",
       "│ 4   │ \"Octave\"         │ 2000              │ \"gnu.org/octave\" │\n",
       "│ 5   │ \"Maxima\"         │ 1980              │ \"maxima.org\"     │\n",
       "│ 6   │ \"FreeMat\"        │ 2001              │ \"freemat.org\"    │\n",
       "│ 7   │ \"FreeMat\"        │ 2001              │ \"freemat.org\"    │"
      ]
     },
     "execution_count": 47,
     "metadata": {},
     "output_type": "execute_result"
    }
   ],
   "source": [
    "Softwares"
   ]
  },
  {
   "cell_type": "code",
   "execution_count": 48,
   "metadata": {
    "collapsed": false
   },
   "outputs": [
    {
     "data": {
      "text/html": [
       "<table class=\"data-frame\"><tr><th></th><th>Nome_do_software</th><th>Ano_de_lancamento</th><th>Site</th></tr><tr><th>1</th><td>Julia</td><td>2012</td><td>julialang.org</td></tr><tr><th>2</th><td>SageMath</td><td>2005</td><td>sagemath.org</td></tr><tr><th>3</th><td>maXIma</td><td>1980</td><td>maxima.org</td></tr><tr><th>4</th><td>Octave</td><td>2000</td><td>gnu.org/octave</td></tr><tr><th>5</th><td>Maxima</td><td>1980</td><td>maxima.org</td></tr><tr><th>6</th><td>FreeMat</td><td>2001</td><td>freemat.org</td></tr><tr><th>7</th><td>FreeMat</td><td>2001</td><td>freemat.org</td></tr><tr><th>8</th><td>asdf</td><td>10</td><td>asdf</td></tr></table>"
      ],
      "text/plain": [
       "8x3 DataFrames.DataFrame\n",
       "│ Row │ Nome_do_software │ Ano_de_lancamento │ Site             │\n",
       "┝━━━━━┿━━━━━━━━━━━━━━━━━━┿━━━━━━━━━━━━━━━━━━━┿━━━━━━━━━━━━━━━━━━┥\n",
       "│ 1   │ \"Julia\"          │ 2012              │ \"julialang.org\"  │\n",
       "│ 2   │ \"SageMath\"       │ 2005              │ \"sagemath.org\"   │\n",
       "│ 3   │ \"maXIma\"         │ 1980              │ \"maxima.org\"     │\n",
       "│ 4   │ \"Octave\"         │ 2000              │ \"gnu.org/octave\" │\n",
       "│ 5   │ \"Maxima\"         │ 1980              │ \"maxima.org\"     │\n",
       "│ 6   │ \"FreeMat\"        │ 2001              │ \"freemat.org\"    │\n",
       "│ 7   │ \"FreeMat\"        │ 2001              │ \"freemat.org\"    │\n",
       "│ 8   │ \"asdf\"           │ 10                │ \"asdf\"           │"
      ]
     },
     "execution_count": 48,
     "metadata": {},
     "output_type": "execute_result"
    }
   ],
   "source": [
    "Softwares = vcat(Softwares,DataFrame(Nome_do_software=\"asdf\",Ano_de_lancamento=10,Site=\"asdf\"))"
   ]
  },
  {
   "cell_type": "markdown",
   "metadata": {},
   "source": [
    "* **ORDENANDO OS DADOS EM UM DATAFRAME** \n",
    "\n",
    "Veja que será ordenado com base nos valores da primeira coluna e o DataFrame será automaticamente atualizado. ATENÇÃO: O COMANDO É CASE SENSITIVE! \"A\" e \"a\" são diferentes. \n",
    "Sintaxe:\n",
    "```julia\n",
    "sorte!(dataframe)\n",
    "```\n",
    "Use somente **sort(dataframe)** sem o \"! \" para evitar a atualização do vetor"
   ]
  },
  {
   "cell_type": "code",
   "execution_count": 49,
   "metadata": {
    "collapsed": false,
    "scrolled": false
   },
   "outputs": [
    {
     "data": {
      "text/html": [
       "<table class=\"data-frame\"><tr><th></th><th>Nome_do_software</th><th>Ano_de_lancamento</th><th>Site</th></tr><tr><th>1</th><td>FreeMat</td><td>2001</td><td>freemat.org</td></tr><tr><th>2</th><td>FreeMat</td><td>2001</td><td>freemat.org</td></tr><tr><th>3</th><td>Julia</td><td>2012</td><td>julialang.org</td></tr><tr><th>4</th><td>Maxima</td><td>1980</td><td>maxima.org</td></tr><tr><th>5</th><td>Octave</td><td>2000</td><td>gnu.org/octave</td></tr><tr><th>6</th><td>SageMath</td><td>2005</td><td>sagemath.org</td></tr><tr><th>7</th><td>asdf</td><td>10</td><td>asdf</td></tr><tr><th>8</th><td>maXIma</td><td>1980</td><td>maxima.org</td></tr></table>"
      ],
      "text/plain": [
       "8x3 DataFrames.DataFrame\n",
       "│ Row │ Nome_do_software │ Ano_de_lancamento │ Site             │\n",
       "┝━━━━━┿━━━━━━━━━━━━━━━━━━┿━━━━━━━━━━━━━━━━━━━┿━━━━━━━━━━━━━━━━━━┥\n",
       "│ 1   │ \"FreeMat\"        │ 2001              │ \"freemat.org\"    │\n",
       "│ 2   │ \"FreeMat\"        │ 2001              │ \"freemat.org\"    │\n",
       "│ 3   │ \"Julia\"          │ 2012              │ \"julialang.org\"  │\n",
       "│ 4   │ \"Maxima\"         │ 1980              │ \"maxima.org\"     │\n",
       "│ 5   │ \"Octave\"         │ 2000              │ \"gnu.org/octave\" │\n",
       "│ 6   │ \"SageMath\"       │ 2005              │ \"sagemath.org\"   │\n",
       "│ 7   │ \"asdf\"           │ 10                │ \"asdf\"           │\n",
       "│ 8   │ \"maXIma\"         │ 1980              │ \"maxima.org\"     │"
      ]
     },
     "execution_count": 49,
     "metadata": {},
     "output_type": "execute_result"
    }
   ],
   "source": [
    "sort!(Softwares)"
   ]
  },
  {
   "cell_type": "code",
   "execution_count": 50,
   "metadata": {
    "collapsed": false
   },
   "outputs": [
    {
     "data": {
      "text/html": [
       "<table class=\"data-frame\"><tr><th></th><th>Nome_do_software</th><th>Ano_de_lancamento</th><th>Site</th></tr><tr><th>1</th><td>FreeMat</td><td>2001</td><td>freemat.org</td></tr><tr><th>2</th><td>FreeMat</td><td>2001</td><td>freemat.org</td></tr><tr><th>3</th><td>Julia</td><td>2012</td><td>julialang.org</td></tr><tr><th>4</th><td>Maxima</td><td>1980</td><td>maxima.org</td></tr><tr><th>5</th><td>Octave</td><td>2000</td><td>gnu.org/octave</td></tr><tr><th>6</th><td>SageMath</td><td>2005</td><td>sagemath.org</td></tr><tr><th>7</th><td>asdf</td><td>10</td><td>asdf</td></tr><tr><th>8</th><td>maXIma</td><td>1980</td><td>maxima.org</td></tr></table>"
      ],
      "text/plain": [
       "8x3 DataFrames.DataFrame\n",
       "│ Row │ Nome_do_software │ Ano_de_lancamento │ Site             │\n",
       "┝━━━━━┿━━━━━━━━━━━━━━━━━━┿━━━━━━━━━━━━━━━━━━━┿━━━━━━━━━━━━━━━━━━┥\n",
       "│ 1   │ \"FreeMat\"        │ 2001              │ \"freemat.org\"    │\n",
       "│ 2   │ \"FreeMat\"        │ 2001              │ \"freemat.org\"    │\n",
       "│ 3   │ \"Julia\"          │ 2012              │ \"julialang.org\"  │\n",
       "│ 4   │ \"Maxima\"         │ 1980              │ \"maxima.org\"     │\n",
       "│ 5   │ \"Octave\"         │ 2000              │ \"gnu.org/octave\" │\n",
       "│ 6   │ \"SageMath\"       │ 2005              │ \"sagemath.org\"   │\n",
       "│ 7   │ \"asdf\"           │ 10                │ \"asdf\"           │\n",
       "│ 8   │ \"maXIma\"         │ 1980              │ \"maxima.org\"     │"
      ]
     },
     "execution_count": 50,
     "metadata": {},
     "output_type": "execute_result"
    }
   ],
   "source": [
    "# veja que o dataframe Softwares será atualizado automaticamente\n",
    "\n",
    "Softwares"
   ]
  },
  {
   "cell_type": "markdown",
   "metadata": {},
   "source": [
    "* **RETIRAR ELEMENTOS REPETIDOS DE UM DATAFRAME**\n",
    "\n",
    "O comando **unique!** retira os elementos e atualiza o DataFrame. Para não atualizar e manter os dados do DataFrame. ATENÇÃO: O COMANDO É CASE SENSITIVE! \"A\" e \"a\" são diferentes. \n",
    "Sintaxe:\n",
    "```julia\n",
    "unique!(dataframe)\n",
    "```\n",
    "Use somente **unique(dataframe)** sem o \"! \" para evitar a atualização do vetor"
   ]
  },
  {
   "cell_type": "code",
   "execution_count": 51,
   "metadata": {
    "collapsed": false
   },
   "outputs": [
    {
     "data": {
      "text/html": [
       "<table class=\"data-frame\"><tr><th></th><th>Nome_do_software</th><th>Ano_de_lancamento</th><th>Site</th></tr><tr><th>1</th><td>FreeMat</td><td>2001</td><td>freemat.org</td></tr><tr><th>2</th><td>Julia</td><td>2012</td><td>julialang.org</td></tr><tr><th>3</th><td>Maxima</td><td>1980</td><td>maxima.org</td></tr><tr><th>4</th><td>Octave</td><td>2000</td><td>gnu.org/octave</td></tr><tr><th>5</th><td>SageMath</td><td>2005</td><td>sagemath.org</td></tr><tr><th>6</th><td>asdf</td><td>10</td><td>asdf</td></tr><tr><th>7</th><td>maXIma</td><td>1980</td><td>maxima.org</td></tr></table>"
      ],
      "text/plain": [
       "7x3 DataFrames.DataFrame\n",
       "│ Row │ Nome_do_software │ Ano_de_lancamento │ Site             │\n",
       "┝━━━━━┿━━━━━━━━━━━━━━━━━━┿━━━━━━━━━━━━━━━━━━━┿━━━━━━━━━━━━━━━━━━┥\n",
       "│ 1   │ \"FreeMat\"        │ 2001              │ \"freemat.org\"    │\n",
       "│ 2   │ \"Julia\"          │ 2012              │ \"julialang.org\"  │\n",
       "│ 3   │ \"Maxima\"         │ 1980              │ \"maxima.org\"     │\n",
       "│ 4   │ \"Octave\"         │ 2000              │ \"gnu.org/octave\" │\n",
       "│ 5   │ \"SageMath\"       │ 2005              │ \"sagemath.org\"   │\n",
       "│ 6   │ \"asdf\"           │ 10                │ \"asdf\"           │\n",
       "│ 7   │ \"maXIma\"         │ 1980              │ \"maxima.org\"     │"
      ]
     },
     "execution_count": 51,
     "metadata": {},
     "output_type": "execute_result"
    }
   ],
   "source": [
    "unique!(Softwares)"
   ]
  },
  {
   "cell_type": "markdown",
   "metadata": {},
   "source": [
    "### ARQUIVOS CSV \n",
    "\n",
    "A melhor forma de trabalhar com arquivos é salva-los no formato \"CSV\". ***Comma-separated values*** (ou CSV) é um formato de arquivo que armazena dados tabelados, cujo grande uso data da época dos mainframes. Por serem bastante simples, arquivos .csv são comuns em todas as plataformas de computador. \n",
    "    \n",
    "O CSV é um implementação particular de arquivos de texto separados por um delimitador, que usa a vírgula e a quebra de linha para separar os valores. O formato também usa as aspas em campos no qual são usados os caracteres reservados (vírgula e quebra de linha). Essa robustez no formato torna o CSV mais amplo que outros formatos digitais do mesmo segmento.Fonte:  http://pt.wikipedia.org/wiki/Comma-separated_values. \n",
    "\n",
    "Forma geral de um arquivo CSV na forma de texto:\n",
    "```julia\n",
    "   nome_coluna_1, nome_coluna_2\n",
    "   dado_col_1, dado_col_2\n",
    "```\n",
    "Uma forma prática de criar arquivos CSV é usando uma planilha (excel, calc-libreoffice/openoffice). Basta preencher os dados nas celulas e depois salvar como CSV."
   ]
  },
  {
   "cell_type": "markdown",
   "metadata": {},
   "source": [
    "* ** IMPORTAR UM ARQUIVO CSV**\n",
    "\n",
    "Para importar os dados de um arquivo CSV, use a sintaxe:\n",
    "\n",
    "```julia\n",
    "   DataFrames.readtable(\"arquivo.csv\")\n",
    "```"
   ]
  },
  {
   "cell_type": "code",
   "execution_count": 87,
   "metadata": {
    "collapsed": false
   },
   "outputs": [],
   "source": [
    "using DataFrames, Winston"
   ]
  },
  {
   "cell_type": "code",
   "execution_count": 53,
   "metadata": {
    "collapsed": false,
    "scrolled": false
   },
   "outputs": [
    {
     "data": {
      "text/html": [
       "<table class=\"data-frame\"><tr><th></th><th>x</th><th>y</th></tr><tr><th>1</th><td>0.0</td><td>-0.183440428023042</td></tr><tr><th>2</th><td>0.2</td><td>-0.131101157495126</td></tr><tr><th>3</th><td>0.4</td><td>0.0268875670852843</td></tr><tr><th>4</th><td>0.8</td><td>0.110532679260319</td></tr><tr><th>5</th><td>1.0</td><td>0.253944632998395</td></tr><tr><th>6</th><td>1.2</td><td>0.257190123748649</td></tr><tr><th>7</th><td>1.4</td><td>0.531888837111346</td></tr><tr><th>8</th><td>1.6</td><td>0.579048247883555</td></tr><tr><th>9</th><td>2.0</td><td>0.935180993484717</td></tr><tr><th>10</th><td>2.2</td><td>0.916600344376623</td></tr><tr><th>11</th><td>2.6</td><td>1.13328608090532</td></tr><tr><th>12</th><td>2.8</td><td>1.26893326843583</td></tr><tr><th>13</th><td>3.0</td><td>1.10202945535186</td></tr><tr><th>14</th><td>3.4</td><td>1.13391615491257</td></tr></table>"
      ],
      "text/plain": [
       "14x2 DataFrames.DataFrame\n",
       "│ Row │ x   │ y         │\n",
       "┝━━━━━┿━━━━━┿━━━━━━━━━━━┥\n",
       "│ 1   │ 0.0 │ -0.18344  │\n",
       "│ 2   │ 0.2 │ -0.131101 │\n",
       "│ 3   │ 0.4 │ 0.0268876 │\n",
       "│ 4   │ 0.8 │ 0.110533  │\n",
       "│ 5   │ 1.0 │ 0.253945  │\n",
       "│ 6   │ 1.2 │ 0.25719   │\n",
       "│ 7   │ 1.4 │ 0.531889  │\n",
       "│ 8   │ 1.6 │ 0.579048  │\n",
       "│ 9   │ 2.0 │ 0.935181  │\n",
       "│ 10  │ 2.2 │ 0.9166    │\n",
       "│ 11  │ 2.6 │ 1.13329   │\n",
       "│ 12  │ 2.8 │ 1.26893   │\n",
       "│ 13  │ 3.0 │ 1.10203   │\n",
       "│ 14  │ 3.4 │ 1.13392   │"
      ]
     },
     "execution_count": 53,
     "metadata": {},
     "output_type": "execute_result"
    }
   ],
   "source": [
    "tabela_dados_reta = DataFrames.readtable(\"dados_reta.csv\")"
   ]
  },
  {
   "cell_type": "code",
   "execution_count": 54,
   "metadata": {
    "collapsed": false,
    "scrolled": true
   },
   "outputs": [
    {
     "data": {
      "text/plain": [
       "14-element DataArrays.DataArray{Float64,1}:\n",
       " 0.0\n",
       " 0.2\n",
       " 0.4\n",
       " 0.8\n",
       " 1.0\n",
       " 1.2\n",
       " 1.4\n",
       " 1.6\n",
       " 2.0\n",
       " 2.2\n",
       " 2.6\n",
       " 2.8\n",
       " 3.0\n",
       " 3.4"
      ]
     },
     "execution_count": 54,
     "metadata": {},
     "output_type": "execute_result"
    }
   ],
   "source": [
    "# visualizar toda a primeira coluna\n",
    "\n",
    "tabela_dados_reta[1]"
   ]
  },
  {
   "cell_type": "code",
   "execution_count": 55,
   "metadata": {
    "collapsed": false
   },
   "outputs": [
    {
     "data": {
      "text/plain": [
       "1.4"
      ]
     },
     "execution_count": 55,
     "metadata": {},
     "output_type": "execute_result"
    }
   ],
   "source": [
    "# Acessar o 7 elemento da primeira coluna\n",
    "\n",
    "tabela_dados_reta[1][7]"
   ]
  },
  {
   "cell_type": "code",
   "execution_count": 56,
   "metadata": {
    "collapsed": false,
    "scrolled": true
   },
   "outputs": [
    {
     "data": {
      "text/plain": [
       "14-element DataArrays.DataArray{Float64,1}:\n",
       " -0.18344  \n",
       " -0.131101 \n",
       "  0.0268876\n",
       "  0.110533 \n",
       "  0.253945 \n",
       "  0.25719  \n",
       "  0.531889 \n",
       "  0.579048 \n",
       "  0.935181 \n",
       "  0.9166   \n",
       "  1.13329  \n",
       "  1.26893  \n",
       "  1.10203  \n",
       "  1.13392  "
      ]
     },
     "execution_count": 56,
     "metadata": {},
     "output_type": "execute_result"
    }
   ],
   "source": [
    "# Visualizar toda a segunda coluna\n",
    "\n",
    "tabela_dados_reta[2]"
   ]
  },
  {
   "cell_type": "markdown",
   "metadata": {},
   "source": [
    "* ** GRÁFICO DE DADOS DE UM ARQUIVO CSV **"
   ]
  },
  {
   "cell_type": "code",
   "execution_count": 57,
   "metadata": {
    "collapsed": false
   },
   "outputs": [],
   "source": [
    "using Winston"
   ]
  },
  {
   "cell_type": "code",
   "execution_count": 58,
   "metadata": {
    "collapsed": false
   },
   "outputs": [
    {
     "data": {
      "image/png": "[encoded data removed]",
      "text/plain": [
       "Winston.FramedPlot(...)"
      ]
     },
     "execution_count": 58,
     "metadata": {},
     "output_type": "execute_result"
    }
   ],
   "source": [
    "Winston.plot(tabela_dados_reta[1],tabela_dados_reta[2])"
   ]
  },
  {
   "cell_type": "markdown",
   "metadata": {
    "collapsed": true
   },
   "source": [
    "* ** EDITAR DADOS E MANIPULAÇÕES ALGÉBRICAS **\n",
    "\n",
    "Para editar um dado em um dataframe, a sintaxe é:\n",
    "```julia\n",
    "dataframe[coluna_x][linha_dado_x] = novo_valor\n",
    "```"
   ]
  },
  {
   "cell_type": "code",
   "execution_count": 59,
   "metadata": {
    "collapsed": false
   },
   "outputs": [
    {
     "data": {
      "text/plain": [
       "(0.253944632998395,0.257190123748649)"
      ]
     },
     "execution_count": 59,
     "metadata": {},
     "output_type": "execute_result"
    }
   ],
   "source": [
    "# Visualizar o quinto e sexto dado da coluna 1\n",
    "\n",
    "tabela_dados_reta[2][5] , tabela_dados_reta[2][6]"
   ]
  },
  {
   "cell_type": "code",
   "execution_count": 60,
   "metadata": {
    "collapsed": false
   },
   "outputs": [],
   "source": [
    "# o valor 0 é atribuído ao quinto e sexto dado da coluna 1\n",
    "\n",
    "tabela_dados_reta[2][5] = 0 ; tabela_dados_reta[2][6] = 0;"
   ]
  },
  {
   "cell_type": "code",
   "execution_count": 61,
   "metadata": {
    "collapsed": false,
    "scrolled": true
   },
   "outputs": [
    {
     "data": {
      "text/plain": [
       "14-element DataArrays.DataArray{Float64,1}:\n",
       " -0.18344  \n",
       " -0.131101 \n",
       "  0.0268876\n",
       "  0.110533 \n",
       "  0.0      \n",
       "  0.0      \n",
       "  0.531889 \n",
       "  0.579048 \n",
       "  0.935181 \n",
       "  0.9166   \n",
       "  1.13329  \n",
       "  1.26893  \n",
       "  1.10203  \n",
       "  1.13392  "
      ]
     },
     "execution_count": 61,
     "metadata": {},
     "output_type": "execute_result"
    }
   ],
   "source": [
    "# veja o valor 0 \n",
    "\n",
    "tabela_dados_reta[2]"
   ]
  },
  {
   "cell_type": "code",
   "execution_count": 62,
   "metadata": {
    "collapsed": false
   },
   "outputs": [
    {
     "data": {
      "image/png": "[encoded data removed]",
      "text/plain": [
       "Winston.FramedPlot(...)"
      ]
     },
     "execution_count": 62,
     "metadata": {},
     "output_type": "execute_result"
    }
   ],
   "source": [
    "# Gráfico alterado \n",
    "\n",
    "Winston.plot(tabela_dados_reta[1],tabela_dados_reta[2])"
   ]
  },
  {
   "cell_type": "markdown",
   "metadata": {},
   "source": [
    "** Manipulações algebricas **"
   ]
  },
  {
   "cell_type": "markdown",
   "metadata": {},
   "source": [
    "Com uma coluna de dados pode ser feita qualquer manipulação matemática. No exemplo, os dados da coluna 1 serão multiplicados por 10."
   ]
  },
  {
   "cell_type": "code",
   "execution_count": 63,
   "metadata": {
    "collapsed": false
   },
   "outputs": [
    {
     "data": {
      "text/plain": [
       "14-element DataArrays.DataArray{Float64,1}:\n",
       "  0.0\n",
       "  2.0\n",
       "  4.0\n",
       "  8.0\n",
       " 10.0\n",
       " 12.0\n",
       " 14.0\n",
       " 16.0\n",
       " 20.0\n",
       " 22.0\n",
       " 26.0\n",
       " 28.0\n",
       " 30.0\n",
       " 34.0"
      ]
     },
     "execution_count": 63,
     "metadata": {},
     "output_type": "execute_result"
    }
   ],
   "source": [
    "tabela_dados_reta[1]*10"
   ]
  },
  {
   "cell_type": "code",
   "execution_count": 64,
   "metadata": {
    "collapsed": false
   },
   "outputs": [
    {
     "data": {
      "text/plain": [
       "22.599999999999998"
      ]
     },
     "execution_count": 64,
     "metadata": {},
     "output_type": "execute_result"
    }
   ],
   "source": [
    "# somando todo os elementos da coluna 1\n",
    "\n",
    "mapreduce(x -> tabela_dados_reta[1][x], + ,1:length(tabela_dados_reta[1]))"
   ]
  },
  {
   "cell_type": "markdown",
   "metadata": {},
   "source": [
    "ou mais facil ainda"
   ]
  },
  {
   "cell_type": "code",
   "execution_count": 65,
   "metadata": {
    "collapsed": false
   },
   "outputs": [
    {
     "data": {
      "text/plain": [
       "22.599999999999998"
      ]
     },
     "execution_count": 65,
     "metadata": {},
     "output_type": "execute_result"
    }
   ],
   "source": [
    "sum(tabela_dados_reta[1])"
   ]
  },
  {
   "cell_type": "code",
   "execution_count": 66,
   "metadata": {
    "collapsed": false
   },
   "outputs": [
    {
     "data": {
      "text/plain": [
       "0.0"
      ]
     },
     "execution_count": 66,
     "metadata": {},
     "output_type": "execute_result"
    }
   ],
   "source": [
    "# produto dos elementos da coluna 2\n",
    "\n",
    "prod(tabela_dados_reta[2])"
   ]
  },
  {
   "cell_type": "markdown",
   "metadata": {},
   "source": [
    "* ** SALVAR DADOS EM UM ARQUIVO CSV **\n",
    "\n",
    "Forma geral de um arquivo CSV:\n",
    "```julia\n",
    "   writetable(\"nome.csv\", dataframe, separator = ',', header = false)\n",
    "```\n",
    "** separator** -> simbolo separador das dados entre as colunas\n",
    "\n",
    "** header**    -> cabeçalho. destaca os nomes das culunas"
   ]
  },
  {
   "cell_type": "code",
   "execution_count": 67,
   "metadata": {
    "collapsed": false,
    "scrolled": false
   },
   "outputs": [
    {
     "data": {
      "text/html": [
       "<table class=\"data-frame\"><tr><th></th><th>Nome_do_software</th><th>Ano_de_lancamento</th></tr><tr><th>1</th><td>Julia</td><td>2012</td></tr><tr><th>2</th><td>SageMath</td><td>2005</td></tr><tr><th>3</th><td>Maxima</td><td>1980</td></tr><tr><th>4</th><td>Octave</td><td>2000</td></tr></table>"
      ],
      "text/plain": [
       "4x2 DataFrames.DataFrame\n",
       "│ Row │ Nome_do_software │ Ano_de_lancamento │\n",
       "┝━━━━━┿━━━━━━━━━━━━━━━━━━┿━━━━━━━━━━━━━━━━━━━┥\n",
       "│ 1   │ \"Julia\"          │ 2012              │\n",
       "│ 2   │ \"SageMath\"       │ 2005              │\n",
       "│ 3   │ \"Maxima\"         │ 1980              │\n",
       "│ 4   │ \"Octave\"         │ 2000              │"
      ]
     },
     "execution_count": 67,
     "metadata": {},
     "output_type": "execute_result"
    }
   ],
   "source": [
    "# Nomes das colunas não podem ter espaço\n",
    "\n",
    "Softwares = DataFrame()\n",
    "\n",
    "Softwares[:Nome_do_software]  = [\"Julia\", \"SageMath\", \"Maxima\", \"Octave\"]\n",
    "Softwares[:Ano_de_lancamento] = [2012, 2005, 1980, 2000]\n",
    "\n",
    "Softwares"
   ]
  },
  {
   "cell_type": "code",
   "execution_count": 68,
   "metadata": {
    "collapsed": true
   },
   "outputs": [],
   "source": [
    "writetable(\"Softwares1.csv\", Softwares, separator = ',', header = true)"
   ]
  },
  {
   "cell_type": "code",
   "execution_count": 69,
   "metadata": {
    "collapsed": false,
    "scrolled": true
   },
   "outputs": [
    {
     "data": {
      "text/html": [
       "<table class=\"data-frame\"><tr><th></th><th>Nome_do_software</th><th>Ano_de_lancamento</th></tr><tr><th>1</th><td>Julia</td><td>2012</td></tr><tr><th>2</th><td>SageMath</td><td>2005</td></tr><tr><th>3</th><td>Maxima</td><td>1980</td></tr><tr><th>4</th><td>Octave</td><td>2000</td></tr></table>"
      ],
      "text/plain": [
       "4x2 DataFrames.DataFrame\n",
       "│ Row │ Nome_do_software │ Ano_de_lancamento │\n",
       "┝━━━━━┿━━━━━━━━━━━━━━━━━━┿━━━━━━━━━━━━━━━━━━━┥\n",
       "│ 1   │ \"Julia\"          │ 2012              │\n",
       "│ 2   │ \"SageMath\"       │ 2005              │\n",
       "│ 3   │ \"Maxima\"         │ 1980              │\n",
       "│ 4   │ \"Octave\"         │ 2000              │"
      ]
     },
     "execution_count": 69,
     "metadata": {},
     "output_type": "execute_result"
    }
   ],
   "source": [
    "# Lendo os dados gravados no arquivo CSV gravado no disco\n",
    "\n",
    "DataFrames.readtable(\"Softwares1.csv\")"
   ]
  },
  {
   "cell_type": "code",
   "execution_count": 88,
   "metadata": {
    "collapsed": true
   },
   "outputs": [],
   "source": [
    "# Gravando os dados em disco com header (cabeçalho) = false\n",
    "\n",
    "writetable(\"Softwares2.csv\", Softwares, separator = ',', header = false)"
   ]
  },
  {
   "cell_type": "code",
   "execution_count": 71,
   "metadata": {
    "collapsed": false,
    "scrolled": false
   },
   "outputs": [
    {
     "data": {
      "text/html": [
       "<table class=\"data-frame\"><tr><th></th><th>Julia</th><th>x2012</th></tr><tr><th>1</th><td>SageMath</td><td>2005</td></tr><tr><th>2</th><td>Maxima</td><td>1980</td></tr><tr><th>3</th><td>Octave</td><td>2000</td></tr></table>"
      ],
      "text/plain": [
       "3x2 DataFrames.DataFrame\n",
       "│ Row │ Julia      │ x2012 │\n",
       "┝━━━━━┿━━━━━━━━━━━━┿━━━━━━━┥\n",
       "│ 1   │ \"SageMath\" │ 2005  │\n",
       "│ 2   │ \"Maxima\"   │ 1980  │\n",
       "│ 3   │ \"Octave\"   │ 2000  │"
      ]
     },
     "execution_count": 71,
     "metadata": {},
     "output_type": "execute_result"
    }
   ],
   "source": [
    "# Lendo os dados gravados no arquivo CSV gravado no disco\n",
    "\n",
    "DataFrames.readtable(\"Softwares2.csv\")"
   ]
  },
  {
   "cell_type": "markdown",
   "metadata": {},
   "source": [
    "**Outra forma de criar um data frame no formato CSV e salvar gravar arquivo CSV**"
   ]
  },
  {
   "cell_type": "code",
   "execution_count": 72,
   "metadata": {
    "collapsed": false
   },
   "outputs": [
    {
     "data": {
      "text/html": [
       "<table class=\"data-frame\"><tr><th></th><th>Nome_software</th><th>Ano_lançamento</th></tr><tr><th>1</th><td>Python</td><td>1991</td></tr><tr><th>2</th><td>Scilab</td><td>2000</td></tr></table>"
      ],
      "text/plain": [
       "2x2 DataFrames.DataFrame\n",
       "│ Row │ Nome_software │ Ano_lançamento │\n",
       "┝━━━━━┿━━━━━━━━━━━━━━━┿━━━━━━━━━━━━━━━━┥\n",
       "│ 1   │ \"Python\"      │ 1991           │\n",
       "│ 2   │ \"Scilab\"      │ 2000           │"
      ]
     },
     "execution_count": 72,
     "metadata": {},
     "output_type": "execute_result"
    }
   ],
   "source": [
    "Soft = csv\"\"\"\n",
    "\n",
    "Nome_software, Ano_lançamento\n",
    "Python       , 1991\n",
    "Scilab       , 2000\n",
    "\n",
    "\"\"\""
   ]
  },
  {
   "cell_type": "code",
   "execution_count": 73,
   "metadata": {
    "collapsed": false
   },
   "outputs": [
    {
     "data": {
      "text/plain": [
       "DataFrames.DataFrame"
      ]
     },
     "execution_count": 73,
     "metadata": {},
     "output_type": "execute_result"
    }
   ],
   "source": [
    "typeof(Soft)"
   ]
  },
  {
   "cell_type": "code",
   "execution_count": 74,
   "metadata": {
    "collapsed": false,
    "scrolled": true
   },
   "outputs": [
    {
     "data": {
      "text/html": [
       "<table class=\"data-frame\"><tr><th></th><th>Nome_software</th><th>Ano_lançamento</th></tr><tr><th>1</th><td>Python</td><td>1991</td></tr><tr><th>2</th><td>Scilab</td><td>2000</td></tr></table>"
      ],
      "text/plain": [
       "2x2 DataFrames.DataFrame\n",
       "│ Row │ Nome_software │ Ano_lançamento │\n",
       "┝━━━━━┿━━━━━━━━━━━━━━━┿━━━━━━━━━━━━━━━━┥\n",
       "│ 1   │ \"Python\"      │ 1991           │\n",
       "│ 2   │ \"Scilab\"      │ 2000           │"
      ]
     },
     "execution_count": 74,
     "metadata": {},
     "output_type": "execute_result"
    }
   ],
   "source": [
    "writetable(\"Soft.csv\", Soft, separator = ',', header = true)\n",
    "\n",
    "DataFrames.readtable(\"Soft.csv\")"
   ]
  },
  {
   "cell_type": "markdown",
   "metadata": {
    "collapsed": true
   },
   "source": [
    "* **APLICAÇÕES**\n",
    "\n",
    "**Calculando as raízes de uma função e gravando as raízes em um arquivo CSV**"
   ]
  },
  {
   "cell_type": "code",
   "execution_count": 118,
   "metadata": {
    "collapsed": false
   },
   "outputs": [
    {
     "data": {
      "text/plain": [
       "(x,)"
      ]
     },
     "execution_count": 118,
     "metadata": {},
     "output_type": "execute_result"
    }
   ],
   "source": [
    "using SymPy, DataFrames\n",
    "\n",
    "@syms x"
   ]
  },
  {
   "cell_type": "code",
   "execution_count": 119,
   "metadata": {
    "collapsed": false
   },
   "outputs": [],
   "source": [
    "# Função simbólica - usando o SymPy é melhor usar função do tipo simbólica.\n",
    "# Se usar f(x) = expressão definido \"x\" como simbólico, a função será genérica\n",
    "f  = x - x*cos(x)*exp(x)\n",
    "\n",
    "# Vetor de valores iniciais (xi)\n",
    "v = [0 10 15 20 25 30 35 40 50 55]\n",
    "\n",
    "# Dataframe que vai receber as raízes calculadas de tamanho 10. \n",
    "# O tipo dos dados são Array de Float64\n",
    "Resultado1 = DataFrame(Valor_X = Array(Float64,10), Raiz = Array(Float64,10));"
   ]
  },
  {
   "cell_type": "code",
   "execution_count": 120,
   "metadata": {
    "collapsed": false
   },
   "outputs": [],
   "source": [
    "# laço for adiciona o valor de \"x\" na primeira coluna 1\n",
    "# e a raiz na coluna 2\n",
    "\n",
    "for i = 1:length(v)\n",
    "    Resultado1[1][i] = v[i]\n",
    "    Resultado1[2][i] = SymPy.nsolve(f, v[i])\n",
    "end"
   ]
  },
  {
   "cell_type": "code",
   "execution_count": 121,
   "metadata": {
    "collapsed": false,
    "scrolled": true
   },
   "outputs": [
    {
     "data": {
      "text/html": [
       "<table class=\"data-frame\"><tr><th></th><th>Valor_X</th><th>Raiz</th></tr><tr><th>1</th><td>0.0</td><td>0.0</td></tr><tr><th>2</th><td>10.0</td><td>4.721292758847686</td></tr><tr><th>3</th><td>15.0</td><td>14.137166216206293</td></tr><tr><th>4</th><td>20.0</td><td>20.42035224697986</td></tr><tr><th>5</th><td>25.0</td><td>23.561944901981953</td></tr><tr><th>6</th><td>30.0</td><td>29.845130209103147</td></tr><tr><th>7</th><td>35.0</td><td>32.98672286269282</td></tr><tr><th>8</th><td>40.0</td><td>39.269908169872416</td></tr><tr><th>9</th><td>50.0</td><td>48.6946861306418</td></tr><tr><th>10</th><td>55.0</td><td>54.977871437821385</td></tr></table>"
      ],
      "text/plain": [
       "10x2 DataFrames.DataFrame\n",
       "│ Row │ Valor_X │ Raiz    │\n",
       "┝━━━━━┿━━━━━━━━━┿━━━━━━━━━┥\n",
       "│ 1   │ 0.0     │ 0.0     │\n",
       "│ 2   │ 10.0    │ 4.72129 │\n",
       "│ 3   │ 15.0    │ 14.1372 │\n",
       "│ 4   │ 20.0    │ 20.4204 │\n",
       "│ 5   │ 25.0    │ 23.5619 │\n",
       "│ 6   │ 30.0    │ 29.8451 │\n",
       "│ 7   │ 35.0    │ 32.9867 │\n",
       "│ 8   │ 40.0    │ 39.2699 │\n",
       "│ 9   │ 50.0    │ 48.6947 │\n",
       "│ 10  │ 55.0    │ 54.9779 │"
      ]
     },
     "execution_count": 121,
     "metadata": {},
     "output_type": "execute_result"
    }
   ],
   "source": [
    "Resultado1"
   ]
  },
  {
   "cell_type": "markdown",
   "metadata": {},
   "source": [
    "**Outra forma**\n",
    "\n",
    "Criar um DataFrame vazio e ir adicionando ao final tal como um vetor."
   ]
  },
  {
   "cell_type": "code",
   "execution_count": 122,
   "metadata": {
    "collapsed": false
   },
   "outputs": [
    {
     "data": {
      "text/html": [
       "<table class=\"data-frame\"><tr><th></th><th>Valor_X</th><th>Raiz</th></tr></table>"
      ],
      "text/plain": [
       "0x2 DataFrames.DataFrame\n"
      ]
     },
     "execution_count": 122,
     "metadata": {},
     "output_type": "execute_result"
    }
   ],
   "source": [
    "# = [] siginifica vetor vazio\n",
    "\n",
    "Resultado2 = DataFrame(Valor_X = [], Raiz = [])"
   ]
  },
  {
   "cell_type": "code",
   "execution_count": 123,
   "metadata": {
    "collapsed": true
   },
   "outputs": [],
   "source": [
    "for i = 1:length(v)\n",
    "    push!(Resultado2, [v[i],SymPy.nsolve(f, v[i])])\n",
    "end"
   ]
  },
  {
   "cell_type": "code",
   "execution_count": 124,
   "metadata": {
    "collapsed": false
   },
   "outputs": [
    {
     "data": {
      "text/html": [
       "<table class=\"data-frame\"><tr><th></th><th>Valor_X</th><th>Raiz</th></tr><tr><th>1</th><td>0.0</td><td>0.0</td></tr><tr><th>2</th><td>10.0</td><td>4.721292758847686</td></tr><tr><th>3</th><td>15.0</td><td>14.137166216206293</td></tr><tr><th>4</th><td>20.0</td><td>20.42035224697986</td></tr><tr><th>5</th><td>25.0</td><td>23.561944901981953</td></tr><tr><th>6</th><td>30.0</td><td>29.845130209103147</td></tr><tr><th>7</th><td>35.0</td><td>32.98672286269282</td></tr><tr><th>8</th><td>40.0</td><td>39.269908169872416</td></tr><tr><th>9</th><td>50.0</td><td>48.6946861306418</td></tr><tr><th>10</th><td>55.0</td><td>54.977871437821385</td></tr></table>"
      ],
      "text/plain": [
       "10x2 DataFrames.DataFrame\n",
       "│ Row │ Valor_X │ Raiz    │\n",
       "┝━━━━━┿━━━━━━━━━┿━━━━━━━━━┥\n",
       "│ 1   │ 0.0     │ 0.0     │\n",
       "│ 2   │ 10.0    │ 4.72129 │\n",
       "│ 3   │ 15.0    │ 14.1372 │\n",
       "│ 4   │ 20.0    │ 20.4204 │\n",
       "│ 5   │ 25.0    │ 23.5619 │\n",
       "│ 6   │ 30.0    │ 29.8451 │\n",
       "│ 7   │ 35.0    │ 32.9867 │\n",
       "│ 8   │ 40.0    │ 39.2699 │\n",
       "│ 9   │ 50.0    │ 48.6947 │\n",
       "│ 10  │ 55.0    │ 54.9779 │"
      ]
     },
     "execution_count": 124,
     "metadata": {},
     "output_type": "execute_result"
    }
   ],
   "source": [
    "Resultado2"
   ]
  },
  {
   "cell_type": "code",
   "execution_count": 125,
   "metadata": {
    "collapsed": false
   },
   "outputs": [
    {
     "name": "stdout",
     "output_type": "stream",
     "text": [
      "0.0 ; 0.0 ; 0.0 ; 0.0 ; 0.0 ; 0.0 ; 0.0 ; 0.0 ; 0.0 ; 0.0 ; "
     ]
    }
   ],
   "source": [
    "# Testando os resultados \n",
    "\n",
    "for i = 1:length(v)\n",
    "    print(f(Resultado2[2][1]),\" ; \")\n",
    "end"
   ]
  },
  {
   "cell_type": "code",
   "execution_count": 126,
   "metadata": {
    "collapsed": false
   },
   "outputs": [],
   "source": [
    "# Gravando os dados em um arquivo CSV\n",
    "\n",
    "writetable(\"Resultado1.csv\", Resultado1, separator = ',', header = true)"
   ]
  },
  {
   "cell_type": "markdown",
   "metadata": {},
   "source": [
    "**Outa forma de adicionar dados ao final de um Dataframe**\n",
    "\n",
    "Comando vcat. Sintaxe:\n",
    "\n",
    "```julia\n",
    "vcat(dataframe_dados, DataFrame(coluna1 = dados, coluna2 = dados))\n",
    "```"
   ]
  },
  {
   "cell_type": "code",
   "execution_count": 127,
   "metadata": {
    "collapsed": false
   },
   "outputs": [
    {
     "data": {
      "text/html": [
       "<table class=\"data-frame\"><tr><th></th><th>Valor_X</th><th>Raiz</th></tr><tr><th>1</th><td>0.0</td><td>0.0</td></tr><tr><th>2</th><td>10.0</td><td>4.721292758847686</td></tr><tr><th>3</th><td>15.0</td><td>14.137166216206293</td></tr><tr><th>4</th><td>20.0</td><td>20.42035224697986</td></tr><tr><th>5</th><td>25.0</td><td>23.561944901981953</td></tr><tr><th>6</th><td>30.0</td><td>29.845130209103147</td></tr><tr><th>7</th><td>35.0</td><td>32.98672286269282</td></tr><tr><th>8</th><td>40.0</td><td>39.269908169872416</td></tr><tr><th>9</th><td>50.0</td><td>48.6946861306418</td></tr><tr><th>10</th><td>55.0</td><td>54.977871437821385</td></tr><tr><th>11</th><td>60.0</td><td>58.119464091411174</td></tr></table>"
      ],
      "text/plain": [
       "11x2 DataFrames.DataFrame\n",
       "│ Row │ Valor_X │ Raiz    │\n",
       "┝━━━━━┿━━━━━━━━━┿━━━━━━━━━┥\n",
       "│ 1   │ 0.0     │ 0.0     │\n",
       "│ 2   │ 10.0    │ 4.72129 │\n",
       "│ 3   │ 15.0    │ 14.1372 │\n",
       "│ 4   │ 20.0    │ 20.4204 │\n",
       "│ 5   │ 25.0    │ 23.5619 │\n",
       "│ 6   │ 30.0    │ 29.8451 │\n",
       "│ 7   │ 35.0    │ 32.9867 │\n",
       "│ 8   │ 40.0    │ 39.2699 │\n",
       "│ 9   │ 50.0    │ 48.6947 │\n",
       "│ 10  │ 55.0    │ 54.9779 │\n",
       "│ 11  │ 60.0    │ 58.1195 │"
      ]
     },
     "execution_count": 127,
     "metadata": {},
     "output_type": "execute_result"
    }
   ],
   "source": [
    "Resultado2 = vcat(Resultado2,DataFrame(Valor_X=60.0,Raiz = SymPy.nsolve(f, 60.0)))"
   ]
  },
  {
   "cell_type": "code",
   "execution_count": 128,
   "metadata": {
    "collapsed": false
   },
   "outputs": [
    {
     "data": {
      "text/html": [
       "<table class=\"data-frame\"><tr><th></th><th>Valor_X</th><th>Raiz</th></tr><tr><th>1</th><td>0.0</td><td>0.0</td></tr><tr><th>2</th><td>10.0</td><td>4.721292758847686</td></tr><tr><th>3</th><td>15.0</td><td>14.137166216206293</td></tr><tr><th>4</th><td>20.0</td><td>20.42035224697986</td></tr><tr><th>5</th><td>25.0</td><td>23.561944901981953</td></tr><tr><th>6</th><td>30.0</td><td>29.845130209103147</td></tr><tr><th>7</th><td>35.0</td><td>32.98672286269282</td></tr><tr><th>8</th><td>40.0</td><td>39.269908169872416</td></tr><tr><th>9</th><td>50.0</td><td>48.6946861306418</td></tr><tr><th>10</th><td>55.0</td><td>54.977871437821385</td></tr><tr><th>11</th><td>60.0</td><td>58.119464091411174</td></tr></table>"
      ],
      "text/plain": [
       "11x2 DataFrames.DataFrame\n",
       "│ Row │ Valor_X │ Raiz    │\n",
       "┝━━━━━┿━━━━━━━━━┿━━━━━━━━━┥\n",
       "│ 1   │ 0.0     │ 0.0     │\n",
       "│ 2   │ 10.0    │ 4.72129 │\n",
       "│ 3   │ 15.0    │ 14.1372 │\n",
       "│ 4   │ 20.0    │ 20.4204 │\n",
       "│ 5   │ 25.0    │ 23.5619 │\n",
       "│ 6   │ 30.0    │ 29.8451 │\n",
       "│ 7   │ 35.0    │ 32.9867 │\n",
       "│ 8   │ 40.0    │ 39.2699 │\n",
       "│ 9   │ 50.0    │ 48.6947 │\n",
       "│ 10  │ 55.0    │ 54.9779 │\n",
       "│ 11  │ 60.0    │ 58.1195 │"
      ]
     },
     "execution_count": 128,
     "metadata": {},
     "output_type": "execute_result"
    }
   ],
   "source": [
    "Resultado2"
   ]
  },
  {
   "cell_type": "code",
   "execution_count": null,
   "metadata": {
    "collapsed": true
   },
   "outputs": [],
   "source": []
  }
 ],
 "metadata": {
  "kernelspec": {
   "display_name": "Julia 0.4.5",
   "language": "julia",
   "name": "julia-0.4"
  },
  "language_info": {
   "file_extension": ".jl",
   "mimetype": "application/julia",
   "name": "julia",
   "version": "0.4.5"
  }
 },
 "nbformat": 4,
 "nbformat_minor": 0
}
